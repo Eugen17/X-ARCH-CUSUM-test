{
  "cells": [
    {
      "cell_type": "markdown",
      "metadata": {
        "id": "_Ij_hOlwsEiI"
      },
      "source": [
        "### Importing and critical values"
      ]
    },
    {
      "cell_type": "code",
      "execution_count": null,
      "metadata": {
        "colab": {
          "base_uri": "https://localhost:8080/"
        },
        "id": "YM7dSgfBfDOb",
        "outputId": "b3de94b2-acb7-4a25-cb9f-3d4034f27f00"
      },
      "outputs": [
        {
          "output_type": "stream",
          "name": "stdout",
          "text": [
            "Requirement already satisfied: arch in /usr/local/lib/python3.10/dist-packages (6.1.0)\n",
            "Requirement already satisfied: numpy>=1.19 in /usr/local/lib/python3.10/dist-packages (from arch) (1.23.5)\n",
            "Requirement already satisfied: scipy>=1.5 in /usr/local/lib/python3.10/dist-packages (from arch) (1.10.1)\n",
            "Requirement already satisfied: pandas>=1.1 in /usr/local/lib/python3.10/dist-packages (from arch) (1.5.3)\n",
            "Requirement already satisfied: statsmodels>=0.12 in /usr/local/lib/python3.10/dist-packages (from arch) (0.14.0)\n",
            "Requirement already satisfied: python-dateutil>=2.8.1 in /usr/local/lib/python3.10/dist-packages (from pandas>=1.1->arch) (2.8.2)\n",
            "Requirement already satisfied: pytz>=2020.1 in /usr/local/lib/python3.10/dist-packages (from pandas>=1.1->arch) (2023.3)\n",
            "Requirement already satisfied: patsy>=0.5.2 in /usr/local/lib/python3.10/dist-packages (from statsmodels>=0.12->arch) (0.5.3)\n",
            "Requirement already satisfied: packaging>=21.3 in /usr/local/lib/python3.10/dist-packages (from statsmodels>=0.12->arch) (23.1)\n",
            "Requirement already satisfied: six in /usr/local/lib/python3.10/dist-packages (from patsy>=0.5.2->statsmodels>=0.12->arch) (1.16.0)\n"
          ]
        }
      ],
      "source": [
        "!pip install arch\n",
        "import matplotlib.pyplot as plt\n",
        "from arch.univariate import ARCH, ARX, LS\n",
        "import numpy as np\n",
        "import math\n",
        "import random\n",
        "from scipy import stats\n",
        "from tqdm import tqdm\n",
        "from arch import arch_model\n",
        "import pandas as pd\n",
        "from sklearn.linear_model import LinearRegression\n",
        "import statsmodels.api as sm\n",
        "\n",
        "\n",
        "\n",
        "p_critical_values = {0.1: [(10, 1.8535), (5, 2.122), (1, 2.6515)],\n",
        "                     0.3: [(10, 1.6491), (5, 1.8827), (1, 2.3526)],\n",
        "                     0.5: [(10, 1.4601), (5, 1.6502), (1, 2.0346)],\n",
        "                     0.7: [(10, 1.3075), (5, 1.4593), (1, 1.7685)],\n",
        "                     0.9: [(10, 1.2186), (5, 1.349), (1, 1.6307)]}\n",
        "\n",
        "\n",
        "updated_p_crit_values = {\n",
        "    500: {0.9: [(1, 1.625109815486939), (5, 1.3401116521489924), (10, 1.1945078188700238)],\n",
        "          0.7: [(1, 1.4922734138267977), (5, 1.215407324159195), (10, 1.0937257518196801)],\n",
        "          0.5: [(1, 1.3426923442033325), (5, 1.1202655062608775), (10, 1.0225876541091923)],\n",
        "          0.3: [(1, 1.4253017532539052), (5, 1.2006542947603238), (10, 1.0792737980471916)],\n",
        "          0.1: [(1, 1.5995925087784877), (5, 1.3308875724148999), (10, 1.1941473886603153)]},\n",
        "    1000: {0.9: [(1, 1.5883189297803526), (5, 1.3330970842801169), (10, 1.1940806892683957)],\n",
        "           0.7: [(1, 1.4774201528681428), (5, 1.21603336820033), (10, 1.0994101490390502)],\n",
        "           0.5: [(1, 1.354789075853397), (5, 1.1401604581793128), (10, 1.032353064740397)],\n",
        "           0.3: [(1, 1.423167720401685), (5, 1.204593019822328), (10, 1.0859884573589795)],\n",
        "           0.1: [(1, 1.6157943523133418), (5, 1.3377668365663855), (10, 1.2055743974590507)]},\n",
        "    1500: {0.9: [(1, 1.5973479410813223), (5, 1.3397837532485901), (10, 1.2054661174812038)],\n",
        "           0.7: [(1, 1.4467163283689346), (5, 1.2128300202796474), (10, 1.0957658171196099)],\n",
        "           0.5: [(1, 1.3306530028161798), (5, 1.1415245488662251), (10, 1.0363349253079779)],\n",
        "           0.3: [(1, 1.4233977802442384), (5, 1.2037246364545509), (10, 1.0899667510296)],\n",
        "           0.1: [(1, 1.6148843276076996), (5, 1.3600057229119604), (10, 1.2206013945996625)]}}\n"
      ]
    },
    {
      "cell_type": "markdown",
      "metadata": {
        "id": "YTquvc02tbSY"
      },
      "source": [
        "# Simulation"
      ]
    },
    {
      "cell_type": "markdown",
      "metadata": {
        "id": "swalQHYT0Y0A"
      },
      "source": [
        "###Base library for CUSUM statistics"
      ]
    },
    {
      "cell_type": "markdown",
      "metadata": {
        "id": "UnuQJ8mxrhed"
      },
      "source": [
        "#### Mean break"
      ]
    },
    {
      "cell_type": "code",
      "execution_count": null,
      "metadata": {
        "id": "Inv24kUm9NJG"
      },
      "outputs": [],
      "source": [
        "def add_constant(ser, constant, fraction=0.5):\n",
        "    \"\"\"\n",
        "    Add constant to a portion of the time-series.\n",
        "\n",
        "    Parameters:\n",
        "    - ser (dict): The time-series data, where ser['data'] is a list of values.\n",
        "    - constant (float): The value to be added to the time-series.\n",
        "    - start_fraction (float): Fraction indicating where to start adding the constant.\n",
        "                              Value between 0 and 1. Default is 0.5.\n",
        "\n",
        "    Returns:\n",
        "    - new_ser (list): Time-series after adding the constant.\n",
        "    \"\"\"\n",
        "\n",
        "    if not 0 <= fraction <= 1:\n",
        "        raise ValueError(\"start_fraction should be between 0 and 1.\")\n",
        "\n",
        "    n = len(ser['data'])\n",
        "    start_idx = math.ceil(n * fraction)\n",
        "\n",
        "    arr = np.concatenate([np.full(start_idx, constant), np.zeros(n-start_idx)])\n",
        "    new_ser = [i+j for i, j in zip(ser['data'], arr)]\n",
        "\n",
        "    return new_ser\n",
        "\n",
        "def add_structural_break(ser, params, fraction=0.5):\n",
        "    \"\"\"\n",
        "    Simulate a time series with a structural break at a specified fraction.\n",
        "\n",
        "    Parameters:\n",
        "    - ser (pd.DataFrame): The original time series with columns 'data' and 'errors'.\n",
        "    - params (list): Parameters for the new data generation process.\n",
        "                     params[0] is the mean, params[1] is the constant variance component,\n",
        "                     and params[2] is the lagged variance component.\n",
        "    - fraction (float): The fraction of the series length where the structural break occurs.\n",
        "                        Default is 0.5, i.e., at the halfway point.\n",
        "\n",
        "    Returns:\n",
        "    - pd.Series: The time series with the structural break.\n",
        "    \"\"\"\n",
        "\n",
        "    # Calculate the point of structural break\n",
        "    break_point = math.ceil(len(ser.index) * fraction)\n",
        "\n",
        "    # Iterate from the break point till the end of the series\n",
        "    for t in range(break_point, len(ser)):\n",
        "        sigma2 = params[1] + params[2] * ser['errors'][t-1] ** 2\n",
        "        ser['data'][t] = params[0] + np.random.normal(0,1) * np.sqrt(sigma2)\n",
        "\n",
        "    return ser['data']\n",
        "\n",
        "\n"
      ]
    },
    {
      "cell_type": "markdown",
      "metadata": {
        "id": "KpQfHQw6rrg8"
      },
      "source": [
        "#### Vanilla ARCH CUSUM"
      ]
    },
    {
      "cell_type": "code",
      "execution_count": null,
      "metadata": {
        "id": "EZI9uXr6rlp8"
      },
      "outputs": [],
      "source": [
        "def compute_cusum_statistic_average_corrected(params, params_x,T=3000,fraction=0.5):\n",
        "    sim_mod = arch_model(None, p=1, o=0, q=0, dist=\"normal\")\n",
        "    sim_data = sim_mod.simulate(params, nobs=T)\n",
        "    if params[0]!= params_x[0] and (params[1:]==params_x[1:]).all():\n",
        "        sim_data['data'] = add_constant(sim_data, params_x[0]-params[0],fraction)\n",
        "    elif (params!=params_x).any():\n",
        "        sim_data['data'] = add_structural_break(sim_data, params_x, fraction)\n",
        "    res = arch_model(sim_data['data'], p=1, o=0, q=0, dist=\"normal\").fit(disp=\"off\")\n",
        "    residuals = np.array(res.resid)\n",
        "    mean_residual = np.mean(residuals)\n",
        "\n",
        "#calculate the average-crrected residuals\n",
        "    average_corrected_residuals = residuals - mean_residual\n",
        "    process = average_corrected_residuals.cumsum() / np.std(residuals) / math.sqrt(T)\n",
        "    sup_b = np.abs(process).max()\n",
        "    return sup_b\n",
        "\n",
        "\n",
        "def compute_cusum_statistic_squared(params, params_x,T=3000,fraction=0.5):\n",
        "    sim_mod = arch_model(None, p=1, o=0, q=0, dist=\"normal\")\n",
        "    sim_data = sim_mod.simulate(params, nobs=T)\n",
        "\n",
        "    res = arch_model(sim_data['data'], p=1, o=0, q=0, dist=\"normal\").fit(disp=\"off\")\n",
        "    residuals = np.array(res.resid)\n",
        "    residuals_squared = residuals**2 / np.array(res.conditional_volatility)**2\n",
        "    mean_residuals_squared = np.mean(residuals_squared)\n",
        "\n",
        "    average_corrected_residuals_squared = residuals_squared - mean_residuals_squared\n",
        "    process = average_corrected_residuals_squared.cumsum() / np.std(residuals_squared) / math.sqrt(T)\n",
        "    sup_b = np.abs(process).max()\n",
        "    return sup_b\n",
        "\n",
        "def monte_carlo_simulation(params, params_x, method = compute_cusum_statistic_average_corrected, n_simulations=1000, T=1500, fraction = 0.5):\n",
        "    crit =[(1, 1.63), (5, 1.36), (10, 1.22)]\n",
        "    exceed_counts = {level: 0 for  level,_ in crit}\n",
        "\n",
        "    for _ in tqdm(range(n_simulations)):\n",
        "        cusum_stat = method(params, params_x,  T, fraction)\n",
        "        for level, value in crit:\n",
        "            if cusum_stat > value:\n",
        "                exceed_counts[level] += 1\n",
        "    results = []\n",
        "    for level, count in exceed_counts.items():\n",
        "        results.append(count / n_simulations)\n",
        "        print(f\"Fraction of times CUSUM statistic for {params} before T/2 and {params_x} after T/2 exceeds {level}% critical value: {count / n_simulations:.4f}\")\n",
        "    return results\n",
        "\n",
        "\n",
        "#monte_carlo_simulation( np.array([1, 0.1, 0.1]),  np.array([2, 0.1, 0.1]), method = compute_cusum_statistic_squared)\n",
        "#monte_carlo_simulation( np.array([1, 0.1, 0.1]),  np.array([1.1, 0.1, 0.1]), method = compute_cusum_statistic_squared)\n",
        "#monte_carlo_simulation( np.array([1, 0.1, 0.1]),  np.array([0.95, 0.1, 0.1]), method = compute_cusum_statistic_squared)\n",
        "#monte_carlo_simulation( np.array([0, 0.2, 0.2]),  np.array([0, 0.2, 0.5]), method = compute_cusum_statistic_squared)\n",
        "\n",
        "#monte_carlo_simulation( np.array([1, 0.1, 0.5]),  np.array([1.1,  0.1, 0.5]), method = compute_cusum_statistic_average_corrected)\n",
        "#monte_carlo_simulation( np.array([1, 0.1, 0.5]),  np.array([0.95, 0.1, 0.5]), method = compute_cusum_statistic_average_corrected)\n",
        "#monte_carlo_simulation( np.array([1, 0.1, 0.5]),  np.array([2,    0.1, 0.5]), method = compute_cusum_statistic_average_corrected)\n",
        "#monte_carlo_simulation( np.array([0, 0.2, 0.2]),  np.array([0, 0.2, 0.5]), method = compute_cusum_statistic_average_corrected)\n"
      ]
    },
    {
      "cell_type": "markdown",
      "metadata": {
        "id": "rSfGHSerrz2-"
      },
      "source": [
        "#### P-regressor ARCH-CUSUM (mean)"
      ]
    },
    {
      "cell_type": "code",
      "execution_count": null,
      "metadata": {
        "colab": {
          "base_uri": "https://localhost:8080/"
        },
        "id": "7Q3KEKcCrzXk",
        "outputId": "6c513238-e4ff-446c-c23a-1cb109cc0719"
      },
      "outputs": [
        {
          "name": "stderr",
          "output_type": "stream",
          "text": [
            "100%|██████████| 1/1 [00:00<00:00, 26.03it/s]\n"
          ]
        },
        {
          "name": "stdout",
          "output_type": "stream",
          "text": [
            "Const       0.011746\n",
            "I           4.999416\n",
            "omega       0.220554\n",
            "alpha[1]    0.246101\n",
            "Name: params, dtype: float64\n",
            "Fraction of times CUSUM statistic with p = 0.5 for [0.  0.2 0.2] before T/2 and [0.  0.2 0.2] after T/2 exceeds 10% critical value: 0.0000\n",
            "Fraction of times CUSUM statistic with p = 0.5 for [0.  0.2 0.2] before T/2 and [0.  0.2 0.2] after T/2 exceeds 5% critical value: 0.0000\n",
            "Fraction of times CUSUM statistic with p = 0.5 for [0.  0.2 0.2] before T/2 and [0.  0.2 0.2] after T/2 exceeds 1% critical value: 0.0000\n"
          ]
        },
        {
          "name": "stderr",
          "output_type": "stream",
          "text": [
            "100%|██████████| 1/1 [00:00<00:00, 24.10it/s]"
          ]
        },
        {
          "name": "stdout",
          "output_type": "stream",
          "text": [
            "Const      -0.000439\n",
            "I           4.999192\n",
            "omega       0.192865\n",
            "alpha[1]    0.201467\n",
            "Name: params, dtype: float64\n",
            "Fraction of times CUSUM statistic with p = 0.5 for [0.  0.2 0.2] before T/2 and [0.  0.2 0.2] after T/2 exceeds 10% critical value: 0.0000\n",
            "Fraction of times CUSUM statistic with p = 0.5 for [0.  0.2 0.2] before T/2 and [0.  0.2 0.2] after T/2 exceeds 5% critical value: 0.0000\n",
            "Fraction of times CUSUM statistic with p = 0.5 for [0.  0.2 0.2] before T/2 and [0.  0.2 0.2] after T/2 exceeds 1% critical value: 0.0000\n"
          ]
        },
        {
          "name": "stderr",
          "output_type": "stream",
          "text": [
            "\n"
          ]
        },
        {
          "data": {
            "text/plain": [
              "[0.0, 0.0, 0.0]"
            ]
          },
          "execution_count": 54,
          "metadata": {},
          "output_type": "execute_result"
        }
      ],
      "source": [
        "def compute_cusum_statistic_p_regressor1(p_coef,lmbd, params, params_x,T=1500,fraction=0.5):\n",
        "\n",
        "    I = (np.arange(T) <= round(p_coef * T)).astype(int)\n",
        "    exog = pd.DataFrame({\"I\": I})\n",
        "    sim_mod = arch_model(None, p=1, o=0, q=0, dist=\"normal\")\n",
        "    sim_data = sim_mod.simulate(params, nobs=T)\n",
        "    if params[0]!= params_x[0] and (params[1:]==params_x[1:]).all():\n",
        "        #sim_data['data'] = add_constant(sim_data, params_x[0]-params[0],fraction)\n",
        "        mean_change = np.array([0 if t <= T//2 else params_x[0]-params[0] for t in range(T)])\n",
        "        sim_data['data'] = sim_data['data']+mean_change\n",
        "    elif (params!=params_x).any():\n",
        "        sim_data['data'] = add_structural_break(sim_data, params_x, fraction)\n",
        "    sim_data['data'] = exog['I'] * lmbd + sim_data['data']\n",
        "\n",
        "    # Model using arch\n",
        "    model = arch_model(sim_data['data'], x=exog, mean='ARX', lags=0, vol='ARCH', p=1)\n",
        "    res = model.fit(disp=\"off\")\n",
        "    # print(res.params)\n",
        "    s = np.arange(1/T, 1 + 1/T, 1/T)\n",
        "    residuals = np.array(res.resid) - res.params[0]\n",
        "    residuals_cusum = residuals.cumsum()\n",
        "    process = (residuals_cusum - (np.minimum(s, p_coef)/ p_coef) * residuals_cusum[-1] ) / np.std(residuals) / math.sqrt(T)\n",
        "    sup_b = np.abs(process).max()\n",
        "    return sup_b\n",
        "\n",
        "\n",
        "\n",
        "def monte_carlo_simulation_p_regressor1(p_coef,lmbd, params, params_x, n_simulations=1000, T=1500, fraction = 0.5):\n",
        "    p_crit = p_critical_values[p_coef]\n",
        "    exceed_counts = {level: 0 for  level,_ in p_crit}\n",
        "\n",
        "\n",
        "    for _ in tqdm(range(n_simulations)):\n",
        "        cusum_stat = compute_cusum_statistic_p_regressor1(p_coef,lmbd, params, params_x,  T, fraction)\n",
        "        for level, value in p_crit:\n",
        "            if cusum_stat > value:\n",
        "                exceed_counts[level] += 1\n",
        "    results = []\n",
        "\n",
        "    for level, count in exceed_counts.items():\n",
        "        results.append(count / n_simulations)\n",
        "        print(f\"Fraction of times CUSUM statistic with p = {p_coef} for {params} before T/2 and {params_x} after T/2 exceeds {level}% critical value: {count / n_simulations:.4f}\")\n",
        "    return results\n",
        "\n",
        "\n",
        "monte_carlo_simulation_p_regressor1(0.5, 5, np.array([0, 0.2, 0.2]),  np.array([0, 0.2, 0.2]))\n",
        "monte_carlo_simulation_p_regressor1(0.5, 5, np.array([0, 0.2, 0.2]),  np.array([0, 0.2, 0.2]))\n",
        "# monte_carlo_simulation_p_regressor(0.7, 5, np.array([0, 0.2, 0.2]),  np.array([1, 0.2, 0.2]))\n",
        "# monte_carlo_simulation_p_regressor(0.5, 5, np.array([0, 0.2, 0.2]),  np.array([1, 0.2, 0.2]))\n",
        "# monte_carlo_simulation_p_regressor(0.3, 5, np.array([0, 0.2, 0.2]),  np.array([1, 0.2, 0.2]))\n",
        "# monte_carlo_simulation_p_regressor(0.1, 5, np.array([0, 0.2, 0.2]),  np.array([1, 0.2, 0.2]))\n",
        "\n",
        "\n",
        "# monte_carlo_simulation_p_regressor(0.9, 5, np.array([0, 0.2, 0.2]),  np.array([10, 0.2, 0.2]))\n",
        "# monte_carlo_simulation_p_regressor(0.7, 5, np.array([0, 0.2, 0.2]),  np.array([10, 0.2, 0.2]))\n",
        "# monte_carlo_simulation_p_regressor(0.5, 5, np.array([0, 0.2, 0.2]),  np.array([10, 0.2, 0.2]))\n",
        "# monte_carlo_simulation_p_regressor(0.3, 5, np.array([0, 0.2, 0.2]),  np.array([10, 0.2, 0.2]))\n",
        "# monte_carlo_simulation_p_regressor(0.1, 5, np.array([0, 0.2, 0.2]),  np.array([10, 0.2, 0.2]))\n"
      ]
    },
    {
      "cell_type": "markdown",
      "metadata": {
        "id": "Up0yCZDjLBjI"
      },
      "source": [
        "#### P-regressor ARCH-CUSUM (lambda)"
      ]
    },
    {
      "cell_type": "markdown",
      "metadata": {
        "id": "vg6Wfeers0-E"
      },
      "source": [
        "#### P-regressor iid"
      ]
    },
    {
      "cell_type": "code",
      "execution_count": null,
      "metadata": {
        "colab": {
          "base_uri": "https://localhost:8080/"
        },
        "id": "_HN6r_XMs4sZ",
        "outputId": "d80c2173-8837-4aff-a1b3-7b1f5e8f1cb1"
      },
      "outputs": [
        {
          "name": "stderr",
          "output_type": "stream",
          "text": [
            "100%|██████████| 1000/1000 [00:04<00:00, 242.75it/s]"
          ]
        },
        {
          "name": "stdout",
          "output_type": "stream",
          "text": [
            "Fraction of times CUSUM statistic with p = 0.1 for mean change exceeds 10% critical value: 0.4170\n",
            "Fraction of times CUSUM statistic with p = 0.1 for mean change exceeds 5% critical value: 0.3110\n",
            "Fraction of times CUSUM statistic with p = 0.1 for mean change exceeds 1% critical value: 0.1640\n"
          ]
        },
        {
          "name": "stderr",
          "output_type": "stream",
          "text": [
            "\n"
          ]
        },
        {
          "data": {
            "text/plain": [
              "[0.417, 0.311, 0.164]"
            ]
          },
          "execution_count": 19,
          "metadata": {},
          "output_type": "execute_result"
        }
      ],
      "source": [
        "\n",
        "# Simulating the time series based on the type of change\n",
        "def simulate_time_series(mean, p_coef, lmbd, change_type, change_power, T):\n",
        "    u = np.random.randn(T)\n",
        "    #print(round(T/2-5),round(T/2+5))\n",
        "    #print(\"error\", u[round(T/2-5):round(T/2+5)])\n",
        "    if change_power != 0:\n",
        "        if change_type == \"mean\":\n",
        "            mean_change = np.array([0 if t <= T//2 else change_power for t in range(T)])\n",
        "            y = mean + lmbd * (np.array([1 if t <= round(p_coef*T) else 0 for t in range(T)])) + u + mean_change\n",
        "        elif change_type == \"lambda\":\n",
        "            lmbd_change = np.array([change_power if t <= p_coef/2*T else lmbd + change_power for t in range(T)])\n",
        "            y = mean + lmbd * (np.array([1 if t <= round(p_coef*T) else 0 for t in range(T)])) + u + lmbd_change\n",
        "    else:\n",
        "        # print(np.array([1 if t <= p_coef*T else 0 for t in range(T)]))\n",
        "        y = mean + lmbd * np.array([1 if t <= round(p_coef*T) else 0 for t in range(T)]) + u\n",
        "    # print(y)\n",
        "    return y\n",
        "\n",
        "# Computing the CUSUM statistic\n",
        "def compute_cusum_statistic_iid(y, p_coef, T):\n",
        "    I = np.array([1 if t <= round(p_coef*T) else 0 for t in range(T)])\n",
        "\n",
        "    X = sm.add_constant(I)  # Adding a constant for intercept\n",
        "\n",
        "    # Using GLM with a Gaussian family (equivalent to OLS)\n",
        "    # model = sm.GLM(y, X, family=sm.families.Gaussian())\n",
        "    # result = model.fit()\n",
        "    # #print(result.summary())\n",
        "    # residuals = result.resid_response - result.params[0]\n",
        "    #print(residuals[round(T/2-5):round(T/2+5)])\n",
        "\n",
        "    model = LinearRegression(fit_intercept=True)\n",
        "    # #model = LS(y, x=I, distribution = \"Normal\")\n",
        "    res = model.fit(I.reshape(-1, 1), y)\n",
        "    prediction = res.predict(I.reshape(-1, 1))\n",
        "    # print(prediction)\n",
        "    residuals = (y - prediction)- res.intercept_\n",
        "    s = np.arange(0, 1 , 1/T)\n",
        "    residuals_cusum = residuals.cumsum()\n",
        "    stat = np.abs((residuals_cusum - (np.minimum(s, p_coef) / p_coef) * residuals_cusum[-1] )).max() / np.std(residuals) / math.sqrt(T)\n",
        "\n",
        "    return stat\n",
        "\n",
        "# Monte Carlo simulation\n",
        "def iid_monte_carlo_simulation(mean, p_coef, lmbd, change_type, change_power, T, n_simulations=1000):\n",
        "    exceed_counts = {level: 0 for level, _ in p_critical_values[p_coef]}\n",
        "    #cusum_stats = []\n",
        "    for _ in tqdm(range(n_simulations)):\n",
        "        y = simulate_time_series(mean, p_coef, lmbd, change_type, change_power, T)\n",
        "        cusum_stat = compute_cusum_statistic_iid(y, p_coef, T)\n",
        "        #cusum_stats.append(cusum_stat)\n",
        "        for level, value in p_critical_values[p_coef]:\n",
        "            if cusum_stat > value:\n",
        "                exceed_counts[level] += 1\n",
        "\n",
        "    results = []\n",
        "\n",
        "    for level, count in exceed_counts.items():\n",
        "        results.append(count / n_simulations)\n",
        "        print(f\"Fraction of times CUSUM statistic with p = {p_coef} for {change_type} change exceeds {level}% critical value: {count / n_simulations:.4f}\")\n",
        "\n",
        "    return results\n",
        "\n",
        "# Running the simulation for mean change\n",
        "iid_monte_carlo_simulation(0, 0.1, 5, \"mean\", 0.1, n_simulations=1000, T=1000)\n",
        "\n",
        "\n",
        "\n"
      ]
    },
    {
      "cell_type": "markdown",
      "metadata": {
        "id": "uVfKvPwcMwUI"
      },
      "source": [
        "#### Seasonal dummies"
      ]
    },
    {
      "cell_type": "code",
      "execution_count": null,
      "metadata": {
        "id": "BbHCa1pmM1iF"
      },
      "outputs": [],
      "source": [
        "def compute_cusum_statistic_seasonal(params, params_x,T=3000,fraction=0.5):\n",
        "    sim_mod = arch_model(None, p=1, o=0, q=0, dist=\"normal\")\n",
        "    x1 = (np.arange(T)%4==0).astype(int)\n",
        "    x2 = (np.arange(T)%4==1).astype(int)\n",
        "    x3 = (np.arange(T)%4==2).astype(int)\n",
        "    #x4 = (np.arange(T)%4==3).astype(int)\n",
        "    lambda_1, lambda_2,lambda_3 =  params[1:]\n",
        "    exog = pd.DataFrame({\"x1\": x1,\"x2\": x2,\"x3\": x3})\n",
        "    sim_data = sim_mod.simulate(np.array([0, 0.2, 0.2]), nobs=T)\n",
        "    sim_data['data'] = sim_data['data']  + exog['x1']*lambda_1 +exog['x2']*lambda_2+ exog['x3']*lambda_3\n",
        "\n",
        "    if params[0]!= params_x[0] and (params[1:]==params_x[1:]).all():\n",
        "        sim_data['data'] = add_constant(sim_data, params_x[0]-params[0],fraction)\n",
        "    elif (params!=params_x).any():\n",
        "        lambda_part = exog['x1']*(params_x[1]-params[1]) +exog['x2']*(params_x[2]-params[2]) + exog['x3']*(params_x[3]-params[3])\n",
        "        shift = np.concatenate([np.zeros(round(T*fraction)), lambda_part[round(T*fraction):]])\n",
        "        sim_data['data'] = sim_data['data'] + shift\n",
        "    res = arch_model(y = sim_data['data'], x = exog, mean='ARX', lags=0, vol='ARCH', p=1).fit(disp=\"off\")\n",
        "    residuals = np.array(res.resid)\n",
        "    mean_residual = np.mean(residuals)\n",
        "\n",
        "#calculate the average-crrected residuals\n",
        "    average_corrected_residuals = residuals - mean_residual\n",
        "    process = average_corrected_residuals.cumsum() / np.std(residuals) / math.sqrt(T)\n",
        "    sup_b = np.abs(process).max()\n",
        "    return sup_b\n",
        "\n",
        "\n",
        "\n",
        "def monte_carlo_simulation_seasonal(params, params_x, n_simulations=1000, T=1500, fraction = 0.5):\n",
        "    crit =[(1, 1.63), (5, 1.36), (10, 1.22)]\n",
        "    exceed_counts = {level: 0 for  level,_ in crit}\n",
        "\n",
        "    for _ in tqdm(range(n_simulations)):\n",
        "        cusum_stat = compute_cusum_statistic_seasonal(params, params_x,  T, fraction)\n",
        "        for level, value in crit:\n",
        "            if cusum_stat > value:\n",
        "                exceed_counts[level] += 1\n",
        "    results = []\n",
        "    print(\"Old params mean and lambdas:\", [\"{0:0.2f}\".format(i) for i in params], \"New:\", [\"{0:0.2f}\".format(i) for i in params_x])\n",
        "    for level, count in exceed_counts.items():\n",
        "        results.append(count / n_simulations)\n",
        "        #print(\"Old params mean and lambdas:\", [\"{0:0.2f}\".format(i) for i in params], \"New:\", [\"{0:0.2f}\".format(i) for i in params_x])\n",
        "        print(f\"Fraction of times CUSUM statistic for break before {fraction} and with T={T} exceeds {level}% critical value: {count / n_simulations:.4f}\")\n",
        "    return results\n",
        "\n",
        "\n",
        "#monte_carlo_simulation_seasonal( np.array([0, 2, 3, 4]),  np.array([0.1, 2, 3, 4]), fraction = 0.5)\n",
        "#monte_carlo_simulation( np.array([1, 0.1, 0.1]),  np.array([1.1, 0.1, 0.1]), method = compute_cusum_statistic_squared)\n",
        "#monte_carlo_simulation( np.array([1, 0.1, 0.1]),  np.array([0.95, 0.1, 0.1]), method = compute_cusum_statistic_squared)\n",
        "#monte_carlo_simulation( np.array([0, 0.2, 0.2]),  np.array([0, 0.2, 0.5]), method = compute_cusum_statistic_squared)\n",
        "\n",
        "#monte_carlo_simulation( np.array([1, 0.1, 0.5]),  np.array([1.1,  0.1, 0.5]), method = compute_cusum_statistic_average_corrected)\n",
        "#monte_carlo_simulation( np.array([1, 0.1, 0.5]),  np.array([0.95, 0.1, 0.5]), method = compute_cusum_statistic_average_corrected)\n",
        "#monte_carlo_simulation( np.array([1, 0.1, 0.5]),  np.array([2,    0.1, 0.5]), method = compute_cusum_statistic_average_corrected)\n",
        "#monte_carlo_simulation( np.array([0, 0.2, 0.2]),  np.array([0, 0.2, 0.5]), method = compute_cusum_statistic_average_corrected)\n"
      ]
    },
    {
      "cell_type": "markdown",
      "metadata": {
        "id": "azUXOLCt0SOO"
      },
      "source": [
        "### Running simulations for base ARCH"
      ]
    },
    {
      "cell_type": "code",
      "execution_count": null,
      "metadata": {
        "id": "cmiRkuf7uO-X"
      },
      "outputs": [],
      "source": [
        "import os\n",
        "import pandas as pd\n",
        "\n",
        "def run_simulations():\n",
        "    # Define the parameters\n",
        "    fractions = [0.1, 0.3, 0.5, 0.7, 0.9]\n",
        "    T_values = [500, 1000, 1500]\n",
        "    means = [0.1, 0.05, 0.5, 1, 0]\n",
        "    base_params = [np.array([0, 0.2, 0.2]), np.array([0, 0.4, 0.4]), np.array([0, 0.2, 0.4]), np.array([0, 0.4, 0.2])]\n",
        "\n",
        "    # Filename for saving and loading results\n",
        "    filename = \"simulation_results_1000_900param.csv\"\n",
        "\n",
        "    # Load existing results if the CSV file exists\n",
        "    if os.path.exists(filename):\n",
        "        df_existing = pd.read_csv(filename)\n",
        "        last_row = df_existing.iloc[-1]\n",
        "\n",
        "        start_fraction_index = fractions.index(last_row['fraction'])\n",
        "        start_T_index = T_values.index(last_row['T'])\n",
        "        start_mean_index = means.index(last_row['mean_change'])\n",
        "        #start_base_params_index = base_params.index(np.array(eval(last_row['base_parameters'])))\n",
        "    else:\n",
        "        df_existing = pd.DataFrame()\n",
        "        start_fraction_index, start_T_index, start_mean_index = 0, 0, 0\n",
        "\n",
        "    # Iterate through parameters, starting from the saved positions\n",
        "    for fraction_index in range(start_fraction_index, len(fractions)):\n",
        "        fraction = fractions[fraction_index]\n",
        "\n",
        "        for T_index in range(start_T_index, len(T_values)):\n",
        "            T = T_values[T_index]\n",
        "\n",
        "            for mean_index in range(start_mean_index, len(means)):\n",
        "                mean = means[mean_index]\n",
        "\n",
        "                for base_param_index in range(len(base_params)):\n",
        "                    base_param = base_params[base_param_index]\n",
        "\n",
        "                    params_x = base_param.copy()\n",
        "                    params_x[0] = mean\n",
        "\n",
        "                    sim_result = monte_carlo_simulation(base_param, params_x, method=compute_cusum_statistic_average_corrected, n_simulations=1000, T=T, fraction=fraction)\n",
        "\n",
        "                    row = {'fraction': fraction, 'T': T, 'mean_change': mean, 'base_parameters': str(base_param), 'result': sim_result}\n",
        "\n",
        "                    # Save the result of this iteration to the CSV file\n",
        "                    df = pd.DataFrame([row])\n",
        "                    df.to_csv(filename, mode='a', header=not os.path.exists(filename), index=False)\n",
        "\n",
        "                    # Reset indices for inner loops\n",
        "                    if base_param_index == len(base_params) - 1:\n",
        "                        start_base_params_index = 0\n",
        "                    if mean_index == len(means) - 1:\n",
        "                        start_mean_index = 0\n",
        "                    if T_index == len(T_values) - 1:\n",
        "                        start_T_index = 0\n",
        "\n",
        "run_simulations()\n",
        "\n",
        "import pandas as pd\n",
        "\n",
        "# Load the data\n",
        "data = pd.read_csv('simulation_results_1000_900params.csv')\n",
        "\n",
        "data['result'] = data['result'].str.strip('[]').str.split(',').apply(lambda x: [float(item.strip()) for item in x])\n",
        "\n",
        "# Create new columns based on the significance levels\n",
        "data['1%_significance'] = data['result'].apply(lambda x: x[0])\n",
        "data['5%_significance'] = data['result'].apply(lambda x: x[1])\n",
        "data['10%_significance'] = data['result'].apply(lambda x: x[2])\n",
        "\n",
        "# Drop the original 'result' column\n",
        "data = data.drop(columns='result')\n",
        "\n",
        "# Save the updated dataset to a new CSV file\n",
        "file_path = \"updated_simulation_results_1000_900params.csv\"\n",
        "data.to_csv(file_path, index=False)\n",
        "\n"
      ]
    },
    {
      "cell_type": "markdown",
      "metadata": {
        "id": "M6ytNogL1G5J"
      },
      "source": [
        "### Running simulations for P-regressor ARCH (mean)"
      ]
    },
    {
      "cell_type": "code",
      "execution_count": null,
      "metadata": {
        "colab": {
          "background_save": true,
          "base_uri": "https://localhost:8080/"
        },
        "id": "flGysa0o1D4j",
        "outputId": "d8ad9582-c240-43dc-c0c4-9fe35d60657d"
      },
      "outputs": [
        {
          "ename": "NameError",
          "evalue": "ignored",
          "output_type": "error",
          "traceback": [
            "\u001b[0;31m---------------------------------------------------------------------------\u001b[0m",
            "\u001b[0;31mNameError\u001b[0m                                 Traceback (most recent call last)",
            "\u001b[0;32m<ipython-input-18-ce0c8103a426>\u001b[0m in \u001b[0;36m<cell line: 60>\u001b[0;34m()\u001b[0m\n\u001b[1;32m     58\u001b[0m                         \u001b[0mstart_T_index\u001b[0m \u001b[0;34m=\u001b[0m \u001b[0;36m0\u001b[0m\u001b[0;34m\u001b[0m\u001b[0;34m\u001b[0m\u001b[0m\n\u001b[1;32m     59\u001b[0m \u001b[0;34m\u001b[0m\u001b[0m\n\u001b[0;32m---> 60\u001b[0;31m \u001b[0mmean_change_p_run_simulations\u001b[0m\u001b[0;34m(\u001b[0m\u001b[0;34m)\u001b[0m\u001b[0;34m\u001b[0m\u001b[0;34m\u001b[0m\u001b[0m\n\u001b[0m\u001b[1;32m     61\u001b[0m \u001b[0;34m\u001b[0m\u001b[0m\n\u001b[1;32m     62\u001b[0m \u001b[0;31m# Load the data\u001b[0m\u001b[0;34m\u001b[0m\u001b[0;34m\u001b[0m\u001b[0m\n",
            "\u001b[0;32m<ipython-input-18-ce0c8103a426>\u001b[0m in \u001b[0;36mmean_change_p_run_simulations\u001b[0;34m()\u001b[0m\n\u001b[1;32m     37\u001b[0m \u001b[0;34m\u001b[0m\u001b[0m\n\u001b[1;32m     38\u001b[0m                 \u001b[0;32mfor\u001b[0m \u001b[0mparam\u001b[0m \u001b[0;32min\u001b[0m \u001b[0mrange\u001b[0m\u001b[0;34m(\u001b[0m\u001b[0mlen\u001b[0m\u001b[0;34m(\u001b[0m\u001b[0mparams\u001b[0m\u001b[0;34m)\u001b[0m\u001b[0;34m)\u001b[0m\u001b[0;34m:\u001b[0m\u001b[0;34m\u001b[0m\u001b[0;34m\u001b[0m\u001b[0m\n\u001b[0;32m---> 39\u001b[0;31m                     \u001b[0mbase_param\u001b[0m \u001b[0;34m=\u001b[0m \u001b[0mlmbd\u001b[0m\u001b[0;34m[\u001b[0m\u001b[0mparam\u001b[0m\u001b[0;34m]\u001b[0m\u001b[0;34m\u001b[0m\u001b[0;34m\u001b[0m\u001b[0m\n\u001b[0m\u001b[1;32m     40\u001b[0m \u001b[0;34m\u001b[0m\u001b[0m\n\u001b[1;32m     41\u001b[0m                     \u001b[0mparams_x\u001b[0m \u001b[0;34m=\u001b[0m \u001b[0mbase_param\u001b[0m\u001b[0;34m.\u001b[0m\u001b[0mcopy\u001b[0m\u001b[0;34m(\u001b[0m\u001b[0;34m)\u001b[0m\u001b[0;34m\u001b[0m\u001b[0;34m\u001b[0m\u001b[0m\n",
            "\u001b[0;31mNameError\u001b[0m: name 'lmbd' is not defined"
          ]
        }
      ],
      "source": [
        "import os\n",
        "import pandas as pd\n",
        "\n",
        "def mean_change_p_run_simulations():\n",
        "    # Define the parameters\n",
        "    p_fractions = [0.1, 0.3, 0.5, 0.7, 0.9]\n",
        "    T_values = [500, 1000, 1500]\n",
        "    means = [0.1, 0.05, 0.5, 1, 0]\n",
        "    base_params = [np.array([0, 0.2, 0.2])]\n",
        "    lmbd = 2\n",
        "\n",
        "    # Filename for saving and loading results\n",
        "    filename = \"mean_change_simulation_results_p_1000.csv\"\n",
        "\n",
        "    # Load existing results if the CSV file exists\n",
        "    if os.path.exists(filename):\n",
        "        df_existing = pd.read_csv(filename)\n",
        "        last_row = df_existing.iloc[-1]\n",
        "\n",
        "        start_fraction_index = p_fractions.index(last_row['fraction'])\n",
        "        start_T_index = T_values.index(last_row['T'])\n",
        "        start_mean_index = means.index(last_row['mean_change'])\n",
        "        #start_base_params_index = base_params.index(np.array(eval(last_row['base_parameters'])))\n",
        "    else:\n",
        "        df_existing = pd.DataFrame()\n",
        "        start_fraction_index, start_T_index, start_mean_index = 0, 0, 0\n",
        "\n",
        "    # Iterate through parameters, starting from the saved positions\n",
        "    for p_fraction_index in range(start_fraction_index, len(p_fractions)):\n",
        "        p_fraction = p_fractions[p_fraction_index]\n",
        "\n",
        "        for T_index in range(start_T_index, len(T_values)):\n",
        "            T = T_values[T_index]\n",
        "\n",
        "            for mean_index in range(start_mean_index, len(means)):\n",
        "                mean = means[mean_index]\n",
        "\n",
        "                for base_param_index in range(len(base_params)):\n",
        "                    base_param = base_params[base_param_index]\n",
        "\n",
        "                    params_x = base_param.copy()\n",
        "                    params_x[0] = mean\n",
        "\n",
        "                    sim_result = monte_carlo_simulation_p_regressor1(p_fraction, lmbd, base_param,params_x, n_simulations=1000, T=T)\n",
        "\n",
        "                    row = {'p_fraction': p_fraction, 'T': T, 'mean_change': mean, 'base_parameters': str(base_param), 'result': sim_result}\n",
        "\n",
        "                    # Save the result of this iteration to the CSV file\n",
        "                    df = pd.DataFrame([row])\n",
        "                    df.to_csv(filename, mode='a', header=not os.path.exists(filename), index=False)\n",
        "\n",
        "                    # Reset indices for inner loops\n",
        "                    if base_param_index == len(base_params) - 1:\n",
        "                        start_base_params_index = 0\n",
        "                    if mean_index == len(means) - 1:\n",
        "                        start_mean_index = 0\n",
        "                    if T_index == len(T_values) - 1:\n",
        "                        start_T_index = 0\n",
        "\n",
        "mean_change_p_run_simulations()\n",
        "\n",
        "# Load the data\n",
        "data = pd.read_csv('mean_change_simulation_results_p_1000.csv')\n",
        "\n",
        "data['result'] = data['result'].str.strip('[]').str.split(',').apply(lambda x: [float(item.strip()) for item in x])\n",
        "\n",
        "# Create new columns based on the significance levels\n",
        "data['1%_significance'] = data['result'].apply(lambda x: x[0])\n",
        "data['5%_significance'] = data['result'].apply(lambda x: x[1])\n",
        "data['10%_significance'] = data['result'].apply(lambda x: x[2])\n",
        "\n",
        "# Drop the original 'result' column\n",
        "data = data.drop(columns='result')\n",
        "\n",
        "# Save the updated dataset to a new CSV file\n",
        "file_path = \"mean_change_simulation_results_p_1000.csv\"\n",
        "data.to_csv(file_path, index=False)"
      ]
    },
    {
      "cell_type": "markdown",
      "metadata": {
        "id": "3JfJKit0pcJK"
      },
      "source": [
        "### Running simulation for P-regressor ARCH (lambda)"
      ]
    },
    {
      "cell_type": "code",
      "execution_count": null,
      "metadata": {
        "colab": {
          "base_uri": "https://localhost:8080/"
        },
        "id": "g-8gB-e5pVYc",
        "outputId": "a8f50d7f-7134-4de9-a1be-e6e5bb94b598"
      },
      "outputs": [
        {
          "name": "stderr",
          "output_type": "stream",
          "text": [
            "100%|██████████| 1000/1000 [00:26<00:00, 37.43it/s]\n"
          ]
        },
        {
          "name": "stdout",
          "output_type": "stream",
          "text": [
            "Fraction of times CUSUM statistic with lambda_change = 0.1 and p = 0.1  exceeds 10% critical value: 0.0970\n",
            "Fraction of times CUSUM statistic with lambda_change = 0.1 and p = 0.1  exceeds 5% critical value: 0.0460\n",
            "Fraction of times CUSUM statistic with lambda_change = 0.1 and p = 0.1  exceeds 1% critical value: 0.0050\n"
          ]
        },
        {
          "name": "stderr",
          "output_type": "stream",
          "text": [
            "100%|██████████| 1000/1000 [00:26<00:00, 37.71it/s]\n"
          ]
        },
        {
          "name": "stdout",
          "output_type": "stream",
          "text": [
            "Fraction of times CUSUM statistic with lambda_change = 0.05 and p = 0.1  exceeds 10% critical value: 0.0920\n",
            "Fraction of times CUSUM statistic with lambda_change = 0.05 and p = 0.1  exceeds 5% critical value: 0.0440\n",
            "Fraction of times CUSUM statistic with lambda_change = 0.05 and p = 0.1  exceeds 1% critical value: 0.0150\n"
          ]
        },
        {
          "name": "stderr",
          "output_type": "stream",
          "text": [
            "100%|██████████| 1000/1000 [00:27<00:00, 36.10it/s]\n"
          ]
        },
        {
          "name": "stdout",
          "output_type": "stream",
          "text": [
            "Fraction of times CUSUM statistic with lambda_change = 0.5 and p = 0.1  exceeds 10% critical value: 0.0890\n",
            "Fraction of times CUSUM statistic with lambda_change = 0.5 and p = 0.1  exceeds 5% critical value: 0.0460\n",
            "Fraction of times CUSUM statistic with lambda_change = 0.5 and p = 0.1  exceeds 1% critical value: 0.0140\n"
          ]
        },
        {
          "name": "stderr",
          "output_type": "stream",
          "text": [
            "100%|██████████| 1000/1000 [00:25<00:00, 38.91it/s]\n"
          ]
        },
        {
          "name": "stdout",
          "output_type": "stream",
          "text": [
            "Fraction of times CUSUM statistic with lambda_change = 1 and p = 0.1  exceeds 10% critical value: 0.0900\n",
            "Fraction of times CUSUM statistic with lambda_change = 1 and p = 0.1  exceeds 5% critical value: 0.0440\n",
            "Fraction of times CUSUM statistic with lambda_change = 1 and p = 0.1  exceeds 1% critical value: 0.0080\n"
          ]
        },
        {
          "name": "stderr",
          "output_type": "stream",
          "text": [
            "100%|██████████| 1000/1000 [00:25<00:00, 39.83it/s]\n"
          ]
        },
        {
          "name": "stdout",
          "output_type": "stream",
          "text": [
            "Fraction of times CUSUM statistic with lambda_change = 0 and p = 0.1  exceeds 10% critical value: 0.0910\n",
            "Fraction of times CUSUM statistic with lambda_change = 0 and p = 0.1  exceeds 5% critical value: 0.0440\n",
            "Fraction of times CUSUM statistic with lambda_change = 0 and p = 0.1  exceeds 1% critical value: 0.0120\n"
          ]
        },
        {
          "name": "stderr",
          "output_type": "stream",
          "text": [
            "100%|██████████| 1000/1000 [00:29<00:00, 34.05it/s]\n"
          ]
        },
        {
          "name": "stdout",
          "output_type": "stream",
          "text": [
            "Fraction of times CUSUM statistic with lambda_change = 0.1 and p = 0.1  exceeds 10% critical value: 0.0900\n",
            "Fraction of times CUSUM statistic with lambda_change = 0.1 and p = 0.1  exceeds 5% critical value: 0.0460\n",
            "Fraction of times CUSUM statistic with lambda_change = 0.1 and p = 0.1  exceeds 1% critical value: 0.0100\n"
          ]
        },
        {
          "name": "stderr",
          "output_type": "stream",
          "text": [
            "100%|██████████| 1000/1000 [00:28<00:00, 35.32it/s]\n"
          ]
        },
        {
          "name": "stdout",
          "output_type": "stream",
          "text": [
            "Fraction of times CUSUM statistic with lambda_change = 0.05 and p = 0.1  exceeds 10% critical value: 0.1090\n",
            "Fraction of times CUSUM statistic with lambda_change = 0.05 and p = 0.1  exceeds 5% critical value: 0.0500\n",
            "Fraction of times CUSUM statistic with lambda_change = 0.05 and p = 0.1  exceeds 1% critical value: 0.0070\n"
          ]
        },
        {
          "name": "stderr",
          "output_type": "stream",
          "text": [
            "100%|██████████| 1000/1000 [00:28<00:00, 34.98it/s]\n"
          ]
        },
        {
          "name": "stdout",
          "output_type": "stream",
          "text": [
            "Fraction of times CUSUM statistic with lambda_change = 0.5 and p = 0.1  exceeds 10% critical value: 0.0910\n",
            "Fraction of times CUSUM statistic with lambda_change = 0.5 and p = 0.1  exceeds 5% critical value: 0.0430\n",
            "Fraction of times CUSUM statistic with lambda_change = 0.5 and p = 0.1  exceeds 1% critical value: 0.0040\n"
          ]
        },
        {
          "name": "stderr",
          "output_type": "stream",
          "text": [
            "100%|██████████| 1000/1000 [00:30<00:00, 33.10it/s]\n"
          ]
        },
        {
          "name": "stdout",
          "output_type": "stream",
          "text": [
            "Fraction of times CUSUM statistic with lambda_change = 1 and p = 0.1  exceeds 10% critical value: 0.2890\n",
            "Fraction of times CUSUM statistic with lambda_change = 1 and p = 0.1  exceeds 5% critical value: 0.1340\n",
            "Fraction of times CUSUM statistic with lambda_change = 1 and p = 0.1  exceeds 1% critical value: 0.0170\n"
          ]
        },
        {
          "name": "stderr",
          "output_type": "stream",
          "text": [
            "100%|██████████| 1000/1000 [00:29<00:00, 34.11it/s]\n"
          ]
        },
        {
          "name": "stdout",
          "output_type": "stream",
          "text": [
            "Fraction of times CUSUM statistic with lambda_change = 0 and p = 0.1  exceeds 10% critical value: 0.0930\n",
            "Fraction of times CUSUM statistic with lambda_change = 0 and p = 0.1  exceeds 5% critical value: 0.0450\n",
            "Fraction of times CUSUM statistic with lambda_change = 0 and p = 0.1  exceeds 1% critical value: 0.0110\n"
          ]
        },
        {
          "name": "stderr",
          "output_type": "stream",
          "text": [
            "100%|██████████| 1000/1000 [00:31<00:00, 31.54it/s]\n"
          ]
        },
        {
          "name": "stdout",
          "output_type": "stream",
          "text": [
            "Fraction of times CUSUM statistic with lambda_change = 0.1 and p = 0.1  exceeds 10% critical value: 0.1050\n",
            "Fraction of times CUSUM statistic with lambda_change = 0.1 and p = 0.1  exceeds 5% critical value: 0.0510\n",
            "Fraction of times CUSUM statistic with lambda_change = 0.1 and p = 0.1  exceeds 1% critical value: 0.0100\n"
          ]
        },
        {
          "name": "stderr",
          "output_type": "stream",
          "text": [
            "100%|██████████| 1000/1000 [00:32<00:00, 30.82it/s]\n"
          ]
        },
        {
          "name": "stdout",
          "output_type": "stream",
          "text": [
            "Fraction of times CUSUM statistic with lambda_change = 0.05 and p = 0.1  exceeds 10% critical value: 0.1050\n",
            "Fraction of times CUSUM statistic with lambda_change = 0.05 and p = 0.1  exceeds 5% critical value: 0.0610\n",
            "Fraction of times CUSUM statistic with lambda_change = 0.05 and p = 0.1  exceeds 1% critical value: 0.0170\n"
          ]
        },
        {
          "name": "stderr",
          "output_type": "stream",
          "text": [
            "100%|██████████| 1000/1000 [00:32<00:00, 30.83it/s]\n"
          ]
        },
        {
          "name": "stdout",
          "output_type": "stream",
          "text": [
            "Fraction of times CUSUM statistic with lambda_change = 0.5 and p = 0.1  exceeds 10% critical value: 0.1080\n",
            "Fraction of times CUSUM statistic with lambda_change = 0.5 and p = 0.1  exceeds 5% critical value: 0.0500\n",
            "Fraction of times CUSUM statistic with lambda_change = 0.5 and p = 0.1  exceeds 1% critical value: 0.0110\n"
          ]
        },
        {
          "name": "stderr",
          "output_type": "stream",
          "text": [
            "100%|██████████| 1000/1000 [00:33<00:00, 29.92it/s]\n"
          ]
        },
        {
          "name": "stdout",
          "output_type": "stream",
          "text": [
            "Fraction of times CUSUM statistic with lambda_change = 1 and p = 0.1  exceeds 10% critical value: 0.5090\n",
            "Fraction of times CUSUM statistic with lambda_change = 1 and p = 0.1  exceeds 5% critical value: 0.2890\n",
            "Fraction of times CUSUM statistic with lambda_change = 1 and p = 0.1  exceeds 1% critical value: 0.0550\n"
          ]
        },
        {
          "name": "stderr",
          "output_type": "stream",
          "text": [
            "100%|██████████| 1000/1000 [00:33<00:00, 29.89it/s]\n"
          ]
        },
        {
          "name": "stdout",
          "output_type": "stream",
          "text": [
            "Fraction of times CUSUM statistic with lambda_change = 0 and p = 0.1  exceeds 10% critical value: 0.0960\n",
            "Fraction of times CUSUM statistic with lambda_change = 0 and p = 0.1  exceeds 5% critical value: 0.0550\n",
            "Fraction of times CUSUM statistic with lambda_change = 0 and p = 0.1  exceeds 1% critical value: 0.0100\n"
          ]
        },
        {
          "name": "stderr",
          "output_type": "stream",
          "text": [
            "100%|██████████| 1000/1000 [00:25<00:00, 39.44it/s]\n"
          ]
        },
        {
          "name": "stdout",
          "output_type": "stream",
          "text": [
            "Fraction of times CUSUM statistic with lambda_change = 0.1 and p = 0.3  exceeds 10% critical value: 0.1180\n",
            "Fraction of times CUSUM statistic with lambda_change = 0.1 and p = 0.3  exceeds 5% critical value: 0.0580\n",
            "Fraction of times CUSUM statistic with lambda_change = 0.1 and p = 0.3  exceeds 1% critical value: 0.0060\n"
          ]
        },
        {
          "name": "stderr",
          "output_type": "stream",
          "text": [
            "100%|██████████| 1000/1000 [00:25<00:00, 39.63it/s]\n"
          ]
        },
        {
          "name": "stdout",
          "output_type": "stream",
          "text": [
            "Fraction of times CUSUM statistic with lambda_change = 0.05 and p = 0.3  exceeds 10% critical value: 0.0940\n",
            "Fraction of times CUSUM statistic with lambda_change = 0.05 and p = 0.3  exceeds 5% critical value: 0.0490\n",
            "Fraction of times CUSUM statistic with lambda_change = 0.05 and p = 0.3  exceeds 1% critical value: 0.0080\n"
          ]
        },
        {
          "name": "stderr",
          "output_type": "stream",
          "text": [
            "100%|██████████| 1000/1000 [00:25<00:00, 39.48it/s]\n"
          ]
        },
        {
          "name": "stdout",
          "output_type": "stream",
          "text": [
            "Fraction of times CUSUM statistic with lambda_change = 0.5 and p = 0.3  exceeds 10% critical value: 0.5580\n",
            "Fraction of times CUSUM statistic with lambda_change = 0.5 and p = 0.3  exceeds 5% critical value: 0.3400\n",
            "Fraction of times CUSUM statistic with lambda_change = 0.5 and p = 0.3  exceeds 1% critical value: 0.0760\n"
          ]
        },
        {
          "name": "stderr",
          "output_type": "stream",
          "text": [
            "100%|██████████| 1000/1000 [00:25<00:00, 38.94it/s]\n"
          ]
        },
        {
          "name": "stdout",
          "output_type": "stream",
          "text": [
            "Fraction of times CUSUM statistic with lambda_change = 1 and p = 0.3  exceeds 10% critical value: 1.0000\n",
            "Fraction of times CUSUM statistic with lambda_change = 1 and p = 0.3  exceeds 5% critical value: 0.9950\n",
            "Fraction of times CUSUM statistic with lambda_change = 1 and p = 0.3  exceeds 1% critical value: 0.9410\n"
          ]
        },
        {
          "name": "stderr",
          "output_type": "stream",
          "text": [
            "100%|██████████| 1000/1000 [00:25<00:00, 39.63it/s]\n"
          ]
        },
        {
          "name": "stdout",
          "output_type": "stream",
          "text": [
            "Fraction of times CUSUM statistic with lambda_change = 0 and p = 0.3  exceeds 10% critical value: 0.1220\n",
            "Fraction of times CUSUM statistic with lambda_change = 0 and p = 0.3  exceeds 5% critical value: 0.0600\n",
            "Fraction of times CUSUM statistic with lambda_change = 0 and p = 0.3  exceeds 1% critical value: 0.0140\n"
          ]
        },
        {
          "name": "stderr",
          "output_type": "stream",
          "text": [
            "100%|██████████| 1000/1000 [00:28<00:00, 34.98it/s]\n"
          ]
        },
        {
          "name": "stdout",
          "output_type": "stream",
          "text": [
            "Fraction of times CUSUM statistic with lambda_change = 0.1 and p = 0.3  exceeds 10% critical value: 0.0990\n",
            "Fraction of times CUSUM statistic with lambda_change = 0.1 and p = 0.3  exceeds 5% critical value: 0.0490\n",
            "Fraction of times CUSUM statistic with lambda_change = 0.1 and p = 0.3  exceeds 1% critical value: 0.0140\n"
          ]
        },
        {
          "name": "stderr",
          "output_type": "stream",
          "text": [
            "100%|██████████| 1000/1000 [00:28<00:00, 34.57it/s]\n"
          ]
        },
        {
          "name": "stdout",
          "output_type": "stream",
          "text": [
            "Fraction of times CUSUM statistic with lambda_change = 0.05 and p = 0.3  exceeds 10% critical value: 0.1110\n",
            "Fraction of times CUSUM statistic with lambda_change = 0.05 and p = 0.3  exceeds 5% critical value: 0.0570\n",
            "Fraction of times CUSUM statistic with lambda_change = 0.05 and p = 0.3  exceeds 1% critical value: 0.0130\n"
          ]
        },
        {
          "name": "stderr",
          "output_type": "stream",
          "text": [
            "100%|██████████| 1000/1000 [00:29<00:00, 33.56it/s]\n"
          ]
        },
        {
          "name": "stdout",
          "output_type": "stream",
          "text": [
            "Fraction of times CUSUM statistic with lambda_change = 0.5 and p = 0.3  exceeds 10% critical value: 0.9580\n",
            "Fraction of times CUSUM statistic with lambda_change = 0.5 and p = 0.3  exceeds 5% critical value: 0.8420\n",
            "Fraction of times CUSUM statistic with lambda_change = 0.5 and p = 0.3  exceeds 1% critical value: 0.4900\n"
          ]
        },
        {
          "name": "stderr",
          "output_type": "stream",
          "text": [
            "100%|██████████| 1000/1000 [00:30<00:00, 33.10it/s]\n"
          ]
        },
        {
          "name": "stdout",
          "output_type": "stream",
          "text": [
            "Fraction of times CUSUM statistic with lambda_change = 1 and p = 0.3  exceeds 10% critical value: 1.0000\n",
            "Fraction of times CUSUM statistic with lambda_change = 1 and p = 0.3  exceeds 5% critical value: 1.0000\n",
            "Fraction of times CUSUM statistic with lambda_change = 1 and p = 0.3  exceeds 1% critical value: 1.0000\n"
          ]
        },
        {
          "name": "stderr",
          "output_type": "stream",
          "text": [
            "100%|██████████| 1000/1000 [00:28<00:00, 34.78it/s]\n"
          ]
        },
        {
          "name": "stdout",
          "output_type": "stream",
          "text": [
            "Fraction of times CUSUM statistic with lambda_change = 0 and p = 0.3  exceeds 10% critical value: 0.0940\n",
            "Fraction of times CUSUM statistic with lambda_change = 0 and p = 0.3  exceeds 5% critical value: 0.0550\n",
            "Fraction of times CUSUM statistic with lambda_change = 0 and p = 0.3  exceeds 1% critical value: 0.0130\n"
          ]
        },
        {
          "name": "stderr",
          "output_type": "stream",
          "text": [
            "100%|██████████| 1000/1000 [00:33<00:00, 29.81it/s]\n"
          ]
        },
        {
          "name": "stdout",
          "output_type": "stream",
          "text": [
            "Fraction of times CUSUM statistic with lambda_change = 0.1 and p = 0.3  exceeds 10% critical value: 0.1130\n",
            "Fraction of times CUSUM statistic with lambda_change = 0.1 and p = 0.3  exceeds 5% critical value: 0.0440\n",
            "Fraction of times CUSUM statistic with lambda_change = 0.1 and p = 0.3  exceeds 1% critical value: 0.0100\n"
          ]
        },
        {
          "name": "stderr",
          "output_type": "stream",
          "text": [
            "100%|██████████| 1000/1000 [00:31<00:00, 31.53it/s]\n"
          ]
        },
        {
          "name": "stdout",
          "output_type": "stream",
          "text": [
            "Fraction of times CUSUM statistic with lambda_change = 0.05 and p = 0.3  exceeds 10% critical value: 0.1030\n",
            "Fraction of times CUSUM statistic with lambda_change = 0.05 and p = 0.3  exceeds 5% critical value: 0.0490\n",
            "Fraction of times CUSUM statistic with lambda_change = 0.05 and p = 0.3  exceeds 1% critical value: 0.0110\n"
          ]
        },
        {
          "name": "stderr",
          "output_type": "stream",
          "text": [
            "100%|██████████| 1000/1000 [00:33<00:00, 29.97it/s]\n"
          ]
        },
        {
          "name": "stdout",
          "output_type": "stream",
          "text": [
            "Fraction of times CUSUM statistic with lambda_change = 0.5 and p = 0.3  exceeds 10% critical value: 1.0000\n",
            "Fraction of times CUSUM statistic with lambda_change = 0.5 and p = 0.3  exceeds 5% critical value: 0.9840\n",
            "Fraction of times CUSUM statistic with lambda_change = 0.5 and p = 0.3  exceeds 1% critical value: 0.8540\n"
          ]
        },
        {
          "name": "stderr",
          "output_type": "stream",
          "text": [
            "100%|██████████| 1000/1000 [00:31<00:00, 31.62it/s]\n"
          ]
        },
        {
          "name": "stdout",
          "output_type": "stream",
          "text": [
            "Fraction of times CUSUM statistic with lambda_change = 1 and p = 0.3  exceeds 10% critical value: 1.0000\n",
            "Fraction of times CUSUM statistic with lambda_change = 1 and p = 0.3  exceeds 5% critical value: 1.0000\n",
            "Fraction of times CUSUM statistic with lambda_change = 1 and p = 0.3  exceeds 1% critical value: 1.0000\n"
          ]
        },
        {
          "name": "stderr",
          "output_type": "stream",
          "text": [
            "100%|██████████| 1000/1000 [00:34<00:00, 29.05it/s]\n"
          ]
        },
        {
          "name": "stdout",
          "output_type": "stream",
          "text": [
            "Fraction of times CUSUM statistic with lambda_change = 0 and p = 0.3  exceeds 10% critical value: 0.1020\n",
            "Fraction of times CUSUM statistic with lambda_change = 0 and p = 0.3  exceeds 5% critical value: 0.0440\n",
            "Fraction of times CUSUM statistic with lambda_change = 0 and p = 0.3  exceeds 1% critical value: 0.0090\n"
          ]
        },
        {
          "name": "stderr",
          "output_type": "stream",
          "text": [
            "100%|██████████| 1000/1000 [00:24<00:00, 40.01it/s]\n"
          ]
        },
        {
          "name": "stdout",
          "output_type": "stream",
          "text": [
            "Fraction of times CUSUM statistic with lambda_change = 0.1 and p = 0.5  exceeds 10% critical value: 0.1330\n",
            "Fraction of times CUSUM statistic with lambda_change = 0.1 and p = 0.5  exceeds 5% critical value: 0.0610\n",
            "Fraction of times CUSUM statistic with lambda_change = 0.1 and p = 0.5  exceeds 1% critical value: 0.0110\n"
          ]
        },
        {
          "name": "stderr",
          "output_type": "stream",
          "text": [
            "100%|██████████| 1000/1000 [00:25<00:00, 39.75it/s]\n"
          ]
        },
        {
          "name": "stdout",
          "output_type": "stream",
          "text": [
            "Fraction of times CUSUM statistic with lambda_change = 0.05 and p = 0.5  exceeds 10% critical value: 0.1210\n",
            "Fraction of times CUSUM statistic with lambda_change = 0.05 and p = 0.5  exceeds 5% critical value: 0.0580\n",
            "Fraction of times CUSUM statistic with lambda_change = 0.05 and p = 0.5  exceeds 1% critical value: 0.0120\n"
          ]
        },
        {
          "name": "stderr",
          "output_type": "stream",
          "text": [
            "100%|██████████| 1000/1000 [00:24<00:00, 40.14it/s]\n"
          ]
        },
        {
          "name": "stdout",
          "output_type": "stream",
          "text": [
            "Fraction of times CUSUM statistic with lambda_change = 0.5 and p = 0.5  exceeds 10% critical value: 0.9980\n",
            "Fraction of times CUSUM statistic with lambda_change = 0.5 and p = 0.5  exceeds 5% critical value: 0.9930\n",
            "Fraction of times CUSUM statistic with lambda_change = 0.5 and p = 0.5  exceeds 1% critical value: 0.9300\n"
          ]
        },
        {
          "name": "stderr",
          "output_type": "stream",
          "text": [
            "100%|██████████| 1000/1000 [00:25<00:00, 39.66it/s]\n"
          ]
        },
        {
          "name": "stdout",
          "output_type": "stream",
          "text": [
            "Fraction of times CUSUM statistic with lambda_change = 1 and p = 0.5  exceeds 10% critical value: 1.0000\n",
            "Fraction of times CUSUM statistic with lambda_change = 1 and p = 0.5  exceeds 5% critical value: 1.0000\n",
            "Fraction of times CUSUM statistic with lambda_change = 1 and p = 0.5  exceeds 1% critical value: 1.0000\n"
          ]
        },
        {
          "name": "stderr",
          "output_type": "stream",
          "text": [
            "100%|██████████| 1000/1000 [00:24<00:00, 40.03it/s]\n"
          ]
        },
        {
          "name": "stdout",
          "output_type": "stream",
          "text": [
            "Fraction of times CUSUM statistic with lambda_change = 0 and p = 0.5  exceeds 10% critical value: 0.1050\n",
            "Fraction of times CUSUM statistic with lambda_change = 0 and p = 0.5  exceeds 5% critical value: 0.0570\n",
            "Fraction of times CUSUM statistic with lambda_change = 0 and p = 0.5  exceeds 1% critical value: 0.0160\n"
          ]
        },
        {
          "name": "stderr",
          "output_type": "stream",
          "text": [
            "100%|██████████| 1000/1000 [00:29<00:00, 33.72it/s]\n"
          ]
        },
        {
          "name": "stdout",
          "output_type": "stream",
          "text": [
            "Fraction of times CUSUM statistic with lambda_change = 0.1 and p = 0.5  exceeds 10% critical value: 0.2090\n",
            "Fraction of times CUSUM statistic with lambda_change = 0.1 and p = 0.5  exceeds 5% critical value: 0.1090\n",
            "Fraction of times CUSUM statistic with lambda_change = 0.1 and p = 0.5  exceeds 1% critical value: 0.0210\n"
          ]
        },
        {
          "name": "stderr",
          "output_type": "stream",
          "text": [
            "100%|██████████| 1000/1000 [00:28<00:00, 34.66it/s]\n"
          ]
        },
        {
          "name": "stdout",
          "output_type": "stream",
          "text": [
            "Fraction of times CUSUM statistic with lambda_change = 0.05 and p = 0.5  exceeds 10% critical value: 0.1210\n",
            "Fraction of times CUSUM statistic with lambda_change = 0.05 and p = 0.5  exceeds 5% critical value: 0.0610\n",
            "Fraction of times CUSUM statistic with lambda_change = 0.05 and p = 0.5  exceeds 1% critical value: 0.0130\n"
          ]
        },
        {
          "name": "stderr",
          "output_type": "stream",
          "text": [
            "100%|██████████| 1000/1000 [00:29<00:00, 33.44it/s]\n"
          ]
        },
        {
          "name": "stdout",
          "output_type": "stream",
          "text": [
            "Fraction of times CUSUM statistic with lambda_change = 0.5 and p = 0.5  exceeds 10% critical value: 1.0000\n",
            "Fraction of times CUSUM statistic with lambda_change = 0.5 and p = 0.5  exceeds 5% critical value: 1.0000\n",
            "Fraction of times CUSUM statistic with lambda_change = 0.5 and p = 0.5  exceeds 1% critical value: 1.0000\n"
          ]
        },
        {
          "name": "stderr",
          "output_type": "stream",
          "text": [
            "100%|██████████| 1000/1000 [00:29<00:00, 33.67it/s]\n"
          ]
        },
        {
          "name": "stdout",
          "output_type": "stream",
          "text": [
            "Fraction of times CUSUM statistic with lambda_change = 1 and p = 0.5  exceeds 10% critical value: 1.0000\n",
            "Fraction of times CUSUM statistic with lambda_change = 1 and p = 0.5  exceeds 5% critical value: 1.0000\n",
            "Fraction of times CUSUM statistic with lambda_change = 1 and p = 0.5  exceeds 1% critical value: 1.0000\n"
          ]
        },
        {
          "name": "stderr",
          "output_type": "stream",
          "text": [
            "100%|██████████| 1000/1000 [00:29<00:00, 34.11it/s]\n"
          ]
        },
        {
          "name": "stdout",
          "output_type": "stream",
          "text": [
            "Fraction of times CUSUM statistic with lambda_change = 0 and p = 0.5  exceeds 10% critical value: 0.0870\n",
            "Fraction of times CUSUM statistic with lambda_change = 0 and p = 0.5  exceeds 5% critical value: 0.0370\n",
            "Fraction of times CUSUM statistic with lambda_change = 0 and p = 0.5  exceeds 1% critical value: 0.0070\n"
          ]
        },
        {
          "name": "stderr",
          "output_type": "stream",
          "text": [
            "100%|██████████| 1000/1000 [00:32<00:00, 31.11it/s]\n"
          ]
        },
        {
          "name": "stdout",
          "output_type": "stream",
          "text": [
            "Fraction of times CUSUM statistic with lambda_change = 0.1 and p = 0.5  exceeds 10% critical value: 0.2870\n",
            "Fraction of times CUSUM statistic with lambda_change = 0.1 and p = 0.5  exceeds 5% critical value: 0.1770\n",
            "Fraction of times CUSUM statistic with lambda_change = 0.1 and p = 0.5  exceeds 1% critical value: 0.0360\n"
          ]
        },
        {
          "name": "stderr",
          "output_type": "stream",
          "text": [
            "100%|██████████| 1000/1000 [00:33<00:00, 29.91it/s]\n"
          ]
        },
        {
          "name": "stdout",
          "output_type": "stream",
          "text": [
            "Fraction of times CUSUM statistic with lambda_change = 0.05 and p = 0.5  exceeds 10% critical value: 0.1300\n",
            "Fraction of times CUSUM statistic with lambda_change = 0.05 and p = 0.5  exceeds 5% critical value: 0.0650\n",
            "Fraction of times CUSUM statistic with lambda_change = 0.05 and p = 0.5  exceeds 1% critical value: 0.0130\n"
          ]
        },
        {
          "name": "stderr",
          "output_type": "stream",
          "text": [
            "100%|██████████| 1000/1000 [00:31<00:00, 31.27it/s]\n"
          ]
        },
        {
          "name": "stdout",
          "output_type": "stream",
          "text": [
            "Fraction of times CUSUM statistic with lambda_change = 0.5 and p = 0.5  exceeds 10% critical value: 1.0000\n",
            "Fraction of times CUSUM statistic with lambda_change = 0.5 and p = 0.5  exceeds 5% critical value: 1.0000\n",
            "Fraction of times CUSUM statistic with lambda_change = 0.5 and p = 0.5  exceeds 1% critical value: 1.0000\n"
          ]
        },
        {
          "name": "stderr",
          "output_type": "stream",
          "text": [
            "100%|██████████| 1000/1000 [00:33<00:00, 30.20it/s]\n"
          ]
        },
        {
          "name": "stdout",
          "output_type": "stream",
          "text": [
            "Fraction of times CUSUM statistic with lambda_change = 1 and p = 0.5  exceeds 10% critical value: 1.0000\n",
            "Fraction of times CUSUM statistic with lambda_change = 1 and p = 0.5  exceeds 5% critical value: 1.0000\n",
            "Fraction of times CUSUM statistic with lambda_change = 1 and p = 0.5  exceeds 1% critical value: 1.0000\n"
          ]
        },
        {
          "name": "stderr",
          "output_type": "stream",
          "text": [
            "100%|██████████| 1000/1000 [00:33<00:00, 29.49it/s]\n"
          ]
        },
        {
          "name": "stdout",
          "output_type": "stream",
          "text": [
            "Fraction of times CUSUM statistic with lambda_change = 0 and p = 0.5  exceeds 10% critical value: 0.0890\n",
            "Fraction of times CUSUM statistic with lambda_change = 0 and p = 0.5  exceeds 5% critical value: 0.0520\n",
            "Fraction of times CUSUM statistic with lambda_change = 0 and p = 0.5  exceeds 1% critical value: 0.0060\n"
          ]
        },
        {
          "name": "stderr",
          "output_type": "stream",
          "text": [
            "100%|██████████| 1000/1000 [00:24<00:00, 40.18it/s]\n"
          ]
        },
        {
          "name": "stdout",
          "output_type": "stream",
          "text": [
            "Fraction of times CUSUM statistic with lambda_change = 0.1 and p = 0.7  exceeds 10% critical value: 0.2620\n",
            "Fraction of times CUSUM statistic with lambda_change = 0.1 and p = 0.7  exceeds 5% critical value: 0.1660\n",
            "Fraction of times CUSUM statistic with lambda_change = 0.1 and p = 0.7  exceeds 1% critical value: 0.0450\n"
          ]
        },
        {
          "name": "stderr",
          "output_type": "stream",
          "text": [
            "100%|██████████| 1000/1000 [00:25<00:00, 39.31it/s]\n"
          ]
        },
        {
          "name": "stdout",
          "output_type": "stream",
          "text": [
            "Fraction of times CUSUM statistic with lambda_change = 0.05 and p = 0.7  exceeds 10% critical value: 0.1500\n",
            "Fraction of times CUSUM statistic with lambda_change = 0.05 and p = 0.7  exceeds 5% critical value: 0.0820\n",
            "Fraction of times CUSUM statistic with lambda_change = 0.05 and p = 0.7  exceeds 1% critical value: 0.0200\n"
          ]
        },
        {
          "name": "stderr",
          "output_type": "stream",
          "text": [
            "100%|██████████| 1000/1000 [00:25<00:00, 38.92it/s]\n"
          ]
        },
        {
          "name": "stdout",
          "output_type": "stream",
          "text": [
            "Fraction of times CUSUM statistic with lambda_change = 0.5 and p = 0.7  exceeds 10% critical value: 1.0000\n",
            "Fraction of times CUSUM statistic with lambda_change = 0.5 and p = 0.7  exceeds 5% critical value: 1.0000\n",
            "Fraction of times CUSUM statistic with lambda_change = 0.5 and p = 0.7  exceeds 1% critical value: 1.0000\n"
          ]
        },
        {
          "name": "stderr",
          "output_type": "stream",
          "text": [
            "100%|██████████| 1000/1000 [00:26<00:00, 37.98it/s]\n"
          ]
        },
        {
          "name": "stdout",
          "output_type": "stream",
          "text": [
            "Fraction of times CUSUM statistic with lambda_change = 1 and p = 0.7  exceeds 10% critical value: 1.0000\n",
            "Fraction of times CUSUM statistic with lambda_change = 1 and p = 0.7  exceeds 5% critical value: 1.0000\n",
            "Fraction of times CUSUM statistic with lambda_change = 1 and p = 0.7  exceeds 1% critical value: 1.0000\n"
          ]
        },
        {
          "name": "stderr",
          "output_type": "stream",
          "text": [
            "100%|██████████| 1000/1000 [00:25<00:00, 39.20it/s]\n"
          ]
        },
        {
          "name": "stdout",
          "output_type": "stream",
          "text": [
            "Fraction of times CUSUM statistic with lambda_change = 0 and p = 0.7  exceeds 10% critical value: 0.0710\n",
            "Fraction of times CUSUM statistic with lambda_change = 0 and p = 0.7  exceeds 5% critical value: 0.0360\n",
            "Fraction of times CUSUM statistic with lambda_change = 0 and p = 0.7  exceeds 1% critical value: 0.0100\n"
          ]
        },
        {
          "name": "stderr",
          "output_type": "stream",
          "text": [
            "100%|██████████| 1000/1000 [00:30<00:00, 33.28it/s]\n"
          ]
        },
        {
          "name": "stdout",
          "output_type": "stream",
          "text": [
            "Fraction of times CUSUM statistic with lambda_change = 0.1 and p = 0.7  exceeds 10% critical value: 0.4860\n",
            "Fraction of times CUSUM statistic with lambda_change = 0.1 and p = 0.7  exceeds 5% critical value: 0.3600\n",
            "Fraction of times CUSUM statistic with lambda_change = 0.1 and p = 0.7  exceeds 1% critical value: 0.1560\n"
          ]
        },
        {
          "name": "stderr",
          "output_type": "stream",
          "text": [
            "100%|██████████| 1000/1000 [00:29<00:00, 34.42it/s]\n"
          ]
        },
        {
          "name": "stdout",
          "output_type": "stream",
          "text": [
            "Fraction of times CUSUM statistic with lambda_change = 0.05 and p = 0.7  exceeds 10% critical value: 0.2020\n",
            "Fraction of times CUSUM statistic with lambda_change = 0.05 and p = 0.7  exceeds 5% critical value: 0.1180\n",
            "Fraction of times CUSUM statistic with lambda_change = 0.05 and p = 0.7  exceeds 1% critical value: 0.0320\n"
          ]
        },
        {
          "name": "stderr",
          "output_type": "stream",
          "text": [
            "100%|██████████| 1000/1000 [00:30<00:00, 33.15it/s]\n"
          ]
        },
        {
          "name": "stdout",
          "output_type": "stream",
          "text": [
            "Fraction of times CUSUM statistic with lambda_change = 0.5 and p = 0.7  exceeds 10% critical value: 1.0000\n",
            "Fraction of times CUSUM statistic with lambda_change = 0.5 and p = 0.7  exceeds 5% critical value: 1.0000\n",
            "Fraction of times CUSUM statistic with lambda_change = 0.5 and p = 0.7  exceeds 1% critical value: 1.0000\n"
          ]
        },
        {
          "name": "stderr",
          "output_type": "stream",
          "text": [
            "100%|██████████| 1000/1000 [00:28<00:00, 34.56it/s]\n"
          ]
        },
        {
          "name": "stdout",
          "output_type": "stream",
          "text": [
            "Fraction of times CUSUM statistic with lambda_change = 1 and p = 0.7  exceeds 10% critical value: 1.0000\n",
            "Fraction of times CUSUM statistic with lambda_change = 1 and p = 0.7  exceeds 5% critical value: 1.0000\n",
            "Fraction of times CUSUM statistic with lambda_change = 1 and p = 0.7  exceeds 1% critical value: 1.0000\n"
          ]
        },
        {
          "name": "stderr",
          "output_type": "stream",
          "text": [
            "100%|██████████| 1000/1000 [00:29<00:00, 33.51it/s]\n"
          ]
        },
        {
          "name": "stdout",
          "output_type": "stream",
          "text": [
            "Fraction of times CUSUM statistic with lambda_change = 0 and p = 0.7  exceeds 10% critical value: 0.0870\n",
            "Fraction of times CUSUM statistic with lambda_change = 0 and p = 0.7  exceeds 5% critical value: 0.0440\n",
            "Fraction of times CUSUM statistic with lambda_change = 0 and p = 0.7  exceeds 1% critical value: 0.0110\n"
          ]
        },
        {
          "name": "stderr",
          "output_type": "stream",
          "text": [
            "100%|██████████| 1000/1000 [00:32<00:00, 30.79it/s]\n"
          ]
        },
        {
          "name": "stdout",
          "output_type": "stream",
          "text": [
            "Fraction of times CUSUM statistic with lambda_change = 0.1 and p = 0.7  exceeds 10% critical value: 0.6750\n",
            "Fraction of times CUSUM statistic with lambda_change = 0.1 and p = 0.7  exceeds 5% critical value: 0.5580\n",
            "Fraction of times CUSUM statistic with lambda_change = 0.1 and p = 0.7  exceeds 1% critical value: 0.2950\n"
          ]
        },
        {
          "name": "stderr",
          "output_type": "stream",
          "text": [
            "100%|██████████| 1000/1000 [00:33<00:00, 29.92it/s]\n"
          ]
        },
        {
          "name": "stdout",
          "output_type": "stream",
          "text": [
            "Fraction of times CUSUM statistic with lambda_change = 0.05 and p = 0.7  exceeds 10% critical value: 0.2540\n",
            "Fraction of times CUSUM statistic with lambda_change = 0.05 and p = 0.7  exceeds 5% critical value: 0.1670\n",
            "Fraction of times CUSUM statistic with lambda_change = 0.05 and p = 0.7  exceeds 1% critical value: 0.0440\n"
          ]
        },
        {
          "name": "stderr",
          "output_type": "stream",
          "text": [
            "100%|██████████| 1000/1000 [00:32<00:00, 30.88it/s]\n"
          ]
        },
        {
          "name": "stdout",
          "output_type": "stream",
          "text": [
            "Fraction of times CUSUM statistic with lambda_change = 0.5 and p = 0.7  exceeds 10% critical value: 1.0000\n",
            "Fraction of times CUSUM statistic with lambda_change = 0.5 and p = 0.7  exceeds 5% critical value: 1.0000\n",
            "Fraction of times CUSUM statistic with lambda_change = 0.5 and p = 0.7  exceeds 1% critical value: 1.0000\n"
          ]
        },
        {
          "name": "stderr",
          "output_type": "stream",
          "text": [
            "100%|██████████| 1000/1000 [00:33<00:00, 29.79it/s]\n"
          ]
        },
        {
          "name": "stdout",
          "output_type": "stream",
          "text": [
            "Fraction of times CUSUM statistic with lambda_change = 1 and p = 0.7  exceeds 10% critical value: 1.0000\n",
            "Fraction of times CUSUM statistic with lambda_change = 1 and p = 0.7  exceeds 5% critical value: 1.0000\n",
            "Fraction of times CUSUM statistic with lambda_change = 1 and p = 0.7  exceeds 1% critical value: 1.0000\n"
          ]
        },
        {
          "name": "stderr",
          "output_type": "stream",
          "text": [
            "100%|██████████| 1000/1000 [00:33<00:00, 29.93it/s]\n"
          ]
        },
        {
          "name": "stdout",
          "output_type": "stream",
          "text": [
            "Fraction of times CUSUM statistic with lambda_change = 0 and p = 0.7  exceeds 10% critical value: 0.0900\n",
            "Fraction of times CUSUM statistic with lambda_change = 0 and p = 0.7  exceeds 5% critical value: 0.0430\n",
            "Fraction of times CUSUM statistic with lambda_change = 0 and p = 0.7  exceeds 1% critical value: 0.0050\n"
          ]
        },
        {
          "name": "stderr",
          "output_type": "stream",
          "text": [
            "100%|██████████| 1000/1000 [00:25<00:00, 39.01it/s]\n"
          ]
        },
        {
          "name": "stdout",
          "output_type": "stream",
          "text": [
            "Fraction of times CUSUM statistic with lambda_change = 0.1 and p = 0.9  exceeds 10% critical value: 0.5560\n",
            "Fraction of times CUSUM statistic with lambda_change = 0.1 and p = 0.9  exceeds 5% critical value: 0.4340\n",
            "Fraction of times CUSUM statistic with lambda_change = 0.1 and p = 0.9  exceeds 1% critical value: 0.2090\n"
          ]
        },
        {
          "name": "stderr",
          "output_type": "stream",
          "text": [
            "100%|██████████| 1000/1000 [00:25<00:00, 38.93it/s]\n"
          ]
        },
        {
          "name": "stdout",
          "output_type": "stream",
          "text": [
            "Fraction of times CUSUM statistic with lambda_change = 0.05 and p = 0.9  exceeds 10% critical value: 0.2220\n",
            "Fraction of times CUSUM statistic with lambda_change = 0.05 and p = 0.9  exceeds 5% critical value: 0.1330\n",
            "Fraction of times CUSUM statistic with lambda_change = 0.05 and p = 0.9  exceeds 1% critical value: 0.0360\n"
          ]
        },
        {
          "name": "stderr",
          "output_type": "stream",
          "text": [
            "100%|██████████| 1000/1000 [00:25<00:00, 38.90it/s]\n"
          ]
        },
        {
          "name": "stdout",
          "output_type": "stream",
          "text": [
            "Fraction of times CUSUM statistic with lambda_change = 0.5 and p = 0.9  exceeds 10% critical value: 1.0000\n",
            "Fraction of times CUSUM statistic with lambda_change = 0.5 and p = 0.9  exceeds 5% critical value: 1.0000\n",
            "Fraction of times CUSUM statistic with lambda_change = 0.5 and p = 0.9  exceeds 1% critical value: 1.0000\n"
          ]
        },
        {
          "name": "stderr",
          "output_type": "stream",
          "text": [
            "100%|██████████| 1000/1000 [00:26<00:00, 37.50it/s]\n"
          ]
        },
        {
          "name": "stdout",
          "output_type": "stream",
          "text": [
            "Fraction of times CUSUM statistic with lambda_change = 1 and p = 0.9  exceeds 10% critical value: 1.0000\n",
            "Fraction of times CUSUM statistic with lambda_change = 1 and p = 0.9  exceeds 5% critical value: 1.0000\n",
            "Fraction of times CUSUM statistic with lambda_change = 1 and p = 0.9  exceeds 1% critical value: 1.0000\n"
          ]
        },
        {
          "name": "stderr",
          "output_type": "stream",
          "text": [
            "100%|██████████| 1000/1000 [00:25<00:00, 38.99it/s]\n"
          ]
        },
        {
          "name": "stdout",
          "output_type": "stream",
          "text": [
            "Fraction of times CUSUM statistic with lambda_change = 0 and p = 0.9  exceeds 10% critical value: 0.0860\n",
            "Fraction of times CUSUM statistic with lambda_change = 0 and p = 0.9  exceeds 5% critical value: 0.0450\n",
            "Fraction of times CUSUM statistic with lambda_change = 0 and p = 0.9  exceeds 1% critical value: 0.0070\n"
          ]
        },
        {
          "name": "stderr",
          "output_type": "stream",
          "text": [
            "100%|██████████| 1000/1000 [00:30<00:00, 32.49it/s]\n"
          ]
        },
        {
          "name": "stdout",
          "output_type": "stream",
          "text": [
            "Fraction of times CUSUM statistic with lambda_change = 0.1 and p = 0.9  exceeds 10% critical value: 0.7640\n",
            "Fraction of times CUSUM statistic with lambda_change = 0.1 and p = 0.9  exceeds 5% critical value: 0.6710\n",
            "Fraction of times CUSUM statistic with lambda_change = 0.1 and p = 0.9  exceeds 1% critical value: 0.4490\n"
          ]
        },
        {
          "name": "stderr",
          "output_type": "stream",
          "text": [
            "100%|██████████| 1000/1000 [00:28<00:00, 34.63it/s]\n"
          ]
        },
        {
          "name": "stdout",
          "output_type": "stream",
          "text": [
            "Fraction of times CUSUM statistic with lambda_change = 0.05 and p = 0.9  exceeds 10% critical value: 0.3350\n",
            "Fraction of times CUSUM statistic with lambda_change = 0.05 and p = 0.9  exceeds 5% critical value: 0.2360\n",
            "Fraction of times CUSUM statistic with lambda_change = 0.05 and p = 0.9  exceeds 1% critical value: 0.0990\n"
          ]
        },
        {
          "name": "stderr",
          "output_type": "stream",
          "text": [
            "100%|██████████| 1000/1000 [00:30<00:00, 32.67it/s]\n"
          ]
        },
        {
          "name": "stdout",
          "output_type": "stream",
          "text": [
            "Fraction of times CUSUM statistic with lambda_change = 0.5 and p = 0.9  exceeds 10% critical value: 1.0000\n",
            "Fraction of times CUSUM statistic with lambda_change = 0.5 and p = 0.9  exceeds 5% critical value: 1.0000\n",
            "Fraction of times CUSUM statistic with lambda_change = 0.5 and p = 0.9  exceeds 1% critical value: 1.0000\n"
          ]
        },
        {
          "name": "stderr",
          "output_type": "stream",
          "text": [
            "100%|██████████| 1000/1000 [00:29<00:00, 33.64it/s]\n"
          ]
        },
        {
          "name": "stdout",
          "output_type": "stream",
          "text": [
            "Fraction of times CUSUM statistic with lambda_change = 1 and p = 0.9  exceeds 10% critical value: 1.0000\n",
            "Fraction of times CUSUM statistic with lambda_change = 1 and p = 0.9  exceeds 5% critical value: 1.0000\n",
            "Fraction of times CUSUM statistic with lambda_change = 1 and p = 0.9  exceeds 1% critical value: 1.0000\n"
          ]
        },
        {
          "name": "stderr",
          "output_type": "stream",
          "text": [
            "100%|██████████| 1000/1000 [00:30<00:00, 33.13it/s]\n"
          ]
        },
        {
          "name": "stdout",
          "output_type": "stream",
          "text": [
            "Fraction of times CUSUM statistic with lambda_change = 0 and p = 0.9  exceeds 10% critical value: 0.0920\n",
            "Fraction of times CUSUM statistic with lambda_change = 0 and p = 0.9  exceeds 5% critical value: 0.0480\n",
            "Fraction of times CUSUM statistic with lambda_change = 0 and p = 0.9  exceeds 1% critical value: 0.0100\n"
          ]
        },
        {
          "name": "stderr",
          "output_type": "stream",
          "text": [
            "100%|██████████| 1000/1000 [00:32<00:00, 30.98it/s]\n"
          ]
        },
        {
          "name": "stdout",
          "output_type": "stream",
          "text": [
            "Fraction of times CUSUM statistic with lambda_change = 0.1 and p = 0.9  exceeds 10% critical value: 0.9240\n",
            "Fraction of times CUSUM statistic with lambda_change = 0.1 and p = 0.9  exceeds 5% critical value: 0.8810\n",
            "Fraction of times CUSUM statistic with lambda_change = 0.1 and p = 0.9  exceeds 1% critical value: 0.7210\n"
          ]
        },
        {
          "name": "stderr",
          "output_type": "stream",
          "text": [
            "100%|██████████| 1000/1000 [00:33<00:00, 29.64it/s]\n"
          ]
        },
        {
          "name": "stdout",
          "output_type": "stream",
          "text": [
            "Fraction of times CUSUM statistic with lambda_change = 0.05 and p = 0.9  exceeds 10% critical value: 0.4230\n",
            "Fraction of times CUSUM statistic with lambda_change = 0.05 and p = 0.9  exceeds 5% critical value: 0.3170\n",
            "Fraction of times CUSUM statistic with lambda_change = 0.05 and p = 0.9  exceeds 1% critical value: 0.1400\n"
          ]
        },
        {
          "name": "stderr",
          "output_type": "stream",
          "text": [
            "100%|██████████| 1000/1000 [00:31<00:00, 31.68it/s]\n"
          ]
        },
        {
          "name": "stdout",
          "output_type": "stream",
          "text": [
            "Fraction of times CUSUM statistic with lambda_change = 0.5 and p = 0.9  exceeds 10% critical value: 1.0000\n",
            "Fraction of times CUSUM statistic with lambda_change = 0.5 and p = 0.9  exceeds 5% critical value: 1.0000\n",
            "Fraction of times CUSUM statistic with lambda_change = 0.5 and p = 0.9  exceeds 1% critical value: 1.0000\n"
          ]
        },
        {
          "name": "stderr",
          "output_type": "stream",
          "text": [
            "100%|██████████| 1000/1000 [00:33<00:00, 30.06it/s]\n"
          ]
        },
        {
          "name": "stdout",
          "output_type": "stream",
          "text": [
            "Fraction of times CUSUM statistic with lambda_change = 1 and p = 0.9  exceeds 10% critical value: 1.0000\n",
            "Fraction of times CUSUM statistic with lambda_change = 1 and p = 0.9  exceeds 5% critical value: 1.0000\n",
            "Fraction of times CUSUM statistic with lambda_change = 1 and p = 0.9  exceeds 1% critical value: 1.0000\n"
          ]
        },
        {
          "name": "stderr",
          "output_type": "stream",
          "text": [
            "100%|██████████| 1000/1000 [00:32<00:00, 30.49it/s]"
          ]
        },
        {
          "name": "stdout",
          "output_type": "stream",
          "text": [
            "Fraction of times CUSUM statistic with lambda_change = 0 and p = 0.9  exceeds 10% critical value: 0.0930\n",
            "Fraction of times CUSUM statistic with lambda_change = 0 and p = 0.9  exceeds 5% critical value: 0.0550\n",
            "Fraction of times CUSUM statistic with lambda_change = 0 and p = 0.9  exceeds 1% critical value: 0.0170\n"
          ]
        },
        {
          "name": "stderr",
          "output_type": "stream",
          "text": [
            "\n"
          ]
        }
      ],
      "source": [
        "def compute_cusum_statistic_p_regressor_lambda(p_coef,lmbd, lambda_change,  params,T=3000):\n",
        "\n",
        "    I = (np.arange(T) <= p_coef * T).astype(int)\n",
        "    exog = pd.DataFrame({\"I\": I})\n",
        "    sim_mod = arch_model(None, p=1, o=0, q=0, dist=\"normal\")\n",
        "    sim_data = sim_mod.simulate(params, nobs=T)\n",
        "    sim_data['data'] = exog['I'] * lmbd + sim_data['data']\n",
        "    sim_data['data'] = add_constant(sim_data, lambda_change,p_coef/2)\n",
        "\n",
        "\n",
        "    # Model using arch\n",
        "    model = arch_model(sim_data['data'], x=exog, mean='ARX', lags=0, vol='ARCH', p=1)\n",
        "    res = model.fit(disp=\"off\")\n",
        "    s = np.arange(1/T, 1 + 1/T, 1/T)\n",
        "    residuals = np.array(res.resid)-res.params[0]\n",
        "    residuals_cusum = residuals.cumsum()\n",
        "    process = (residuals_cusum - (np.minimum(s, p_coef)/ p_coef) * residuals_cusum[-1] ) / np.std(residuals) / math.sqrt(T)\n",
        "    sup_b = np.abs(process).max()\n",
        "    return sup_b\n",
        "\n",
        "\n",
        "\n",
        "def monte_carlo_simulation_p_regressor_lambda(p_coef,lmbd, lambda_change, params, n_simulations=1000, T=1500, fraction = 0.5):\n",
        "    p_crit = p_critical_values[p_coef]\n",
        "    exceed_counts = {level: 0 for  level,_ in p_crit}\n",
        "\n",
        "\n",
        "    for _ in tqdm(range(n_simulations)):\n",
        "        cusum_stat = compute_cusum_statistic_p_regressor_lambda(p_coef,lmbd, lambda_change, params,  T)\n",
        "        for level, value in p_crit:\n",
        "            if cusum_stat > value:\n",
        "                exceed_counts[level] += 1\n",
        "    results = []\n",
        "\n",
        "    for level, count in exceed_counts.items():\n",
        "        results.append(count / n_simulations)\n",
        "        print(f\"Fraction of times CUSUM statistic with lambda_change = {lambda_change} and p = {p_coef}  exceeds {level}% critical value: {count / n_simulations:.4f}\")\n",
        "    return results\n",
        "\n",
        "\n",
        "\n",
        "import os\n",
        "import pandas as pd\n",
        "\n",
        "def mean_change_p_run_simulations():\n",
        "    # Define the parameters\n",
        "    p_fractions = [0.1, 0.3, 0.5, 0.7, 0.9]\n",
        "    T_values = [500, 1000, 1500]\n",
        "    lambda_change = [0.1, 0.05, 0.5, 1, 0]\n",
        "    base_params = [np.array([0, 0.2, 0.2])]\n",
        "    lmbd = 1\n",
        "\n",
        "    # Filename for saving and loading results\n",
        "    filename = \"lambda_change_simulation_results_p_1000.csv\"\n",
        "\n",
        "    # Load existing results if the CSV file exists\n",
        "    if os.path.exists(filename):\n",
        "        df_existing = pd.read_csv(filename)\n",
        "        last_row = df_existing.iloc[-1]\n",
        "\n",
        "        start_fraction_index = p_fractions.index(last_row['p_fraction'])\n",
        "        start_T_index = T_values.index(last_row['T'])\n",
        "        start_lambda_change_index = lambda_change.index(last_row['lambda_change'])\n",
        "        #start_base_params_index = base_params.index(np.array(eval(last_row['base_parameters'])))\n",
        "    else:\n",
        "        df_existing = pd.DataFrame()\n",
        "        start_fraction_index, start_T_index, start_lambda_change_index = 0, 0, 0\n",
        "\n",
        "    # Iterate through parameters, starting from the saved positions\n",
        "    for p_fraction_index in range(start_fraction_index, len(p_fractions)):\n",
        "        p_fraction = p_fractions[p_fraction_index]\n",
        "\n",
        "        for T_index in range(start_T_index, len(T_values)):\n",
        "            T = T_values[T_index]\n",
        "\n",
        "            for lambda_change_index in range(start_lambda_change_index, len(lambda_change)):\n",
        "                new_lambda_change = lambda_change[lambda_change_index]\n",
        "\n",
        "                for base_param_index in range(len(base_params)):\n",
        "                    base_param = base_params[base_param_index]\n",
        "\n",
        "                    sim_result = monte_carlo_simulation_p_regressor_lambda(p_fraction, lmbd, new_lambda_change, base_param, n_simulations=1000, T=T)\n",
        "\n",
        "                    row = {'p_fraction': p_fraction, 'T': T, 'lambda_change': new_lambda_change, 'base_parameters': str(base_param), 'result': sim_result}\n",
        "\n",
        "                    # Save the result of this iteration to the CSV file\n",
        "                    df = pd.DataFrame([row])\n",
        "                    df.to_csv(filename, mode='a', header=not os.path.exists(filename), index=False)\n",
        "\n",
        "                    # Reset indices for inner loops\n",
        "                    if base_param_index == len(base_params) - 1:\n",
        "                        start_base_params_index = 0\n",
        "                    if lambda_change_index == len(lambda_change) - 1:\n",
        "                        start_lambda_change_index = 0\n",
        "                    if T_index == len(T_values) - 1:\n",
        "                        start_T_index = 0\n",
        "\n",
        "mean_change_p_run_simulations()\n",
        "\n",
        "# Load the data\n",
        "data = pd.read_csv('lambda_change_simulation_results_p_1000.csv')\n",
        "\n",
        "data['result'] = data['result'].str.strip('[]').str.split(',').apply(lambda x: [float(item.strip()) for item in x])\n",
        "\n",
        "# Create new columns based on the significance levels\n",
        "data['1%_significance'] = data['result'].apply(lambda x: x[0])\n",
        "data['5%_significance'] = data['result'].apply(lambda x: x[1])\n",
        "data['10%_significance'] = data['result'].apply(lambda x: x[2])\n",
        "\n",
        "# Drop the original 'result' column\n",
        "data = data.drop(columns='result')\n",
        "\n",
        "# Save the updated dataset to a new CSV file\n",
        "file_path = \"lambda_change_simulation_results_p_1000.csv\"\n",
        "data.to_csv(file_path, index=False)\n"
      ]
    },
    {
      "cell_type": "markdown",
      "metadata": {
        "id": "KpCB_1w7L7QA"
      },
      "source": [
        "### Running simulation for P-regressor iid (mean)"
      ]
    },
    {
      "cell_type": "code",
      "execution_count": null,
      "metadata": {
        "colab": {
          "base_uri": "https://localhost:8080/"
        },
        "id": "yeOzfpsXMFN6",
        "outputId": "d48d05bb-63e1-477e-ae70-1a6990de9da2"
      },
      "outputs": [
        {
          "name": "stderr",
          "output_type": "stream",
          "text": [
            "100%|██████████| 1000/1000 [00:04<00:00, 203.64it/s]\n"
          ]
        },
        {
          "name": "stdout",
          "output_type": "stream",
          "text": [
            "Fraction of times CUSUM statistic with p = 0.1 for mean change exceeds 10% critical value: 1.0000\n",
            "Fraction of times CUSUM statistic with p = 0.1 for mean change exceeds 5% critical value: 1.0000\n",
            "Fraction of times CUSUM statistic with p = 0.1 for mean change exceeds 1% critical value: 1.0000\n"
          ]
        },
        {
          "name": "stderr",
          "output_type": "stream",
          "text": [
            "100%|██████████| 1000/1000 [00:01<00:00, 512.95it/s]\n"
          ]
        },
        {
          "name": "stdout",
          "output_type": "stream",
          "text": [
            "Fraction of times CUSUM statistic with p = 0.1 for mean change exceeds 10% critical value: 0.0840\n",
            "Fraction of times CUSUM statistic with p = 0.1 for mean change exceeds 5% critical value: 0.0450\n",
            "Fraction of times CUSUM statistic with p = 0.1 for mean change exceeds 1% critical value: 0.0090\n"
          ]
        },
        {
          "name": "stderr",
          "output_type": "stream",
          "text": [
            "100%|██████████| 1000/1000 [00:02<00:00, 396.52it/s]\n"
          ]
        },
        {
          "name": "stdout",
          "output_type": "stream",
          "text": [
            "Fraction of times CUSUM statistic with p = 0.1 for mean change exceeds 10% critical value: 0.5600\n",
            "Fraction of times CUSUM statistic with p = 0.1 for mean change exceeds 5% critical value: 0.4320\n",
            "Fraction of times CUSUM statistic with p = 0.1 for mean change exceeds 1% critical value: 0.2360\n"
          ]
        },
        {
          "name": "stderr",
          "output_type": "stream",
          "text": [
            "100%|██████████| 1000/1000 [00:02<00:00, 394.19it/s]\n"
          ]
        },
        {
          "name": "stdout",
          "output_type": "stream",
          "text": [
            "Fraction of times CUSUM statistic with p = 0.1 for mean change exceeds 10% critical value: 0.2200\n",
            "Fraction of times CUSUM statistic with p = 0.1 for mean change exceeds 5% critical value: 0.1420\n",
            "Fraction of times CUSUM statistic with p = 0.1 for mean change exceeds 1% critical value: 0.0510\n"
          ]
        },
        {
          "name": "stderr",
          "output_type": "stream",
          "text": [
            "100%|██████████| 1000/1000 [00:02<00:00, 397.06it/s]\n"
          ]
        },
        {
          "name": "stdout",
          "output_type": "stream",
          "text": [
            "Fraction of times CUSUM statistic with p = 0.1 for mean change exceeds 10% critical value: 1.0000\n",
            "Fraction of times CUSUM statistic with p = 0.1 for mean change exceeds 5% critical value: 1.0000\n",
            "Fraction of times CUSUM statistic with p = 0.1 for mean change exceeds 1% critical value: 1.0000\n"
          ]
        },
        {
          "name": "stderr",
          "output_type": "stream",
          "text": [
            "100%|██████████| 1000/1000 [00:03<00:00, 264.17it/s]\n"
          ]
        },
        {
          "name": "stdout",
          "output_type": "stream",
          "text": [
            "Fraction of times CUSUM statistic with p = 0.1 for mean change exceeds 10% critical value: 1.0000\n",
            "Fraction of times CUSUM statistic with p = 0.1 for mean change exceeds 5% critical value: 1.0000\n",
            "Fraction of times CUSUM statistic with p = 0.1 for mean change exceeds 1% critical value: 1.0000\n"
          ]
        },
        {
          "name": "stderr",
          "output_type": "stream",
          "text": [
            "100%|██████████| 1000/1000 [00:02<00:00, 439.39it/s]\n"
          ]
        },
        {
          "name": "stdout",
          "output_type": "stream",
          "text": [
            "Fraction of times CUSUM statistic with p = 0.1 for mean change exceeds 10% critical value: 0.1030\n",
            "Fraction of times CUSUM statistic with p = 0.1 for mean change exceeds 5% critical value: 0.0500\n",
            "Fraction of times CUSUM statistic with p = 0.1 for mean change exceeds 1% critical value: 0.0110\n"
          ]
        },
        {
          "name": "stderr",
          "output_type": "stream",
          "text": [
            "100%|██████████| 1000/1000 [00:01<00:00, 641.90it/s]\n"
          ]
        },
        {
          "name": "stdout",
          "output_type": "stream",
          "text": [
            "Fraction of times CUSUM statistic with p = 0.3 for mean change exceeds 10% critical value: 0.3260\n",
            "Fraction of times CUSUM statistic with p = 0.3 for mean change exceeds 5% critical value: 0.2380\n",
            "Fraction of times CUSUM statistic with p = 0.3 for mean change exceeds 1% critical value: 0.1020\n"
          ]
        },
        {
          "name": "stderr",
          "output_type": "stream",
          "text": [
            "100%|██████████| 1000/1000 [00:01<00:00, 627.41it/s]\n"
          ]
        },
        {
          "name": "stdout",
          "output_type": "stream",
          "text": [
            "Fraction of times CUSUM statistic with p = 0.3 for mean change exceeds 10% critical value: 0.1630\n",
            "Fraction of times CUSUM statistic with p = 0.3 for mean change exceeds 5% critical value: 0.1000\n",
            "Fraction of times CUSUM statistic with p = 0.3 for mean change exceeds 1% critical value: 0.0220\n"
          ]
        },
        {
          "name": "stderr",
          "output_type": "stream",
          "text": [
            "100%|██████████| 1000/1000 [00:01<00:00, 644.66it/s]\n"
          ]
        },
        {
          "name": "stdout",
          "output_type": "stream",
          "text": [
            "Fraction of times CUSUM statistic with p = 0.3 for mean change exceeds 10% critical value: 1.0000\n",
            "Fraction of times CUSUM statistic with p = 0.3 for mean change exceeds 5% critical value: 1.0000\n",
            "Fraction of times CUSUM statistic with p = 0.3 for mean change exceeds 1% critical value: 1.0000\n"
          ]
        },
        {
          "name": "stderr",
          "output_type": "stream",
          "text": [
            "100%|██████████| 1000/1000 [00:01<00:00, 648.43it/s]\n"
          ]
        },
        {
          "name": "stdout",
          "output_type": "stream",
          "text": [
            "Fraction of times CUSUM statistic with p = 0.3 for mean change exceeds 10% critical value: 1.0000\n",
            "Fraction of times CUSUM statistic with p = 0.3 for mean change exceeds 5% critical value: 1.0000\n",
            "Fraction of times CUSUM statistic with p = 0.3 for mean change exceeds 1% critical value: 1.0000\n"
          ]
        },
        {
          "name": "stderr",
          "output_type": "stream",
          "text": [
            "100%|██████████| 1000/1000 [00:01<00:00, 687.92it/s]\n"
          ]
        },
        {
          "name": "stdout",
          "output_type": "stream",
          "text": [
            "Fraction of times CUSUM statistic with p = 0.3 for mean change exceeds 10% critical value: 0.0930\n",
            "Fraction of times CUSUM statistic with p = 0.3 for mean change exceeds 5% critical value: 0.0450\n",
            "Fraction of times CUSUM statistic with p = 0.3 for mean change exceeds 1% critical value: 0.0050\n"
          ]
        },
        {
          "name": "stderr",
          "output_type": "stream",
          "text": [
            "100%|██████████| 1000/1000 [00:03<00:00, 301.12it/s]\n"
          ]
        },
        {
          "name": "stdout",
          "output_type": "stream",
          "text": [
            "Fraction of times CUSUM statistic with p = 0.3 for mean change exceeds 10% critical value: 0.5130\n",
            "Fraction of times CUSUM statistic with p = 0.3 for mean change exceeds 5% critical value: 0.3960\n",
            "Fraction of times CUSUM statistic with p = 0.3 for mean change exceeds 1% critical value: 0.1980\n"
          ]
        },
        {
          "name": "stderr",
          "output_type": "stream",
          "text": [
            "100%|██████████| 1000/1000 [00:02<00:00, 482.12it/s]\n"
          ]
        },
        {
          "name": "stdout",
          "output_type": "stream",
          "text": [
            "Fraction of times CUSUM statistic with p = 0.3 for mean change exceeds 10% critical value: 0.2080\n",
            "Fraction of times CUSUM statistic with p = 0.3 for mean change exceeds 5% critical value: 0.1300\n",
            "Fraction of times CUSUM statistic with p = 0.3 for mean change exceeds 1% critical value: 0.0480\n"
          ]
        },
        {
          "name": "stderr",
          "output_type": "stream",
          "text": [
            "100%|██████████| 1000/1000 [00:02<00:00, 477.46it/s]\n"
          ]
        },
        {
          "name": "stdout",
          "output_type": "stream",
          "text": [
            "Fraction of times CUSUM statistic with p = 0.3 for mean change exceeds 10% critical value: 1.0000\n",
            "Fraction of times CUSUM statistic with p = 0.3 for mean change exceeds 5% critical value: 1.0000\n",
            "Fraction of times CUSUM statistic with p = 0.3 for mean change exceeds 1% critical value: 1.0000\n"
          ]
        },
        {
          "name": "stderr",
          "output_type": "stream",
          "text": [
            "100%|██████████| 1000/1000 [00:02<00:00, 481.42it/s]\n"
          ]
        },
        {
          "name": "stdout",
          "output_type": "stream",
          "text": [
            "Fraction of times CUSUM statistic with p = 0.3 for mean change exceeds 10% critical value: 1.0000\n",
            "Fraction of times CUSUM statistic with p = 0.3 for mean change exceeds 5% critical value: 1.0000\n",
            "Fraction of times CUSUM statistic with p = 0.3 for mean change exceeds 1% critical value: 1.0000\n"
          ]
        },
        {
          "name": "stderr",
          "output_type": "stream",
          "text": [
            "100%|██████████| 1000/1000 [00:01<00:00, 548.17it/s]\n"
          ]
        },
        {
          "name": "stdout",
          "output_type": "stream",
          "text": [
            "Fraction of times CUSUM statistic with p = 0.3 for mean change exceeds 10% critical value: 0.0930\n",
            "Fraction of times CUSUM statistic with p = 0.3 for mean change exceeds 5% critical value: 0.0530\n",
            "Fraction of times CUSUM statistic with p = 0.3 for mean change exceeds 1% critical value: 0.0130\n"
          ]
        },
        {
          "name": "stderr",
          "output_type": "stream",
          "text": [
            "100%|██████████| 1000/1000 [00:03<00:00, 332.22it/s]\n"
          ]
        },
        {
          "name": "stdout",
          "output_type": "stream",
          "text": [
            "Fraction of times CUSUM statistic with p = 0.3 for mean change exceeds 10% critical value: 0.7000\n",
            "Fraction of times CUSUM statistic with p = 0.3 for mean change exceeds 5% critical value: 0.6050\n",
            "Fraction of times CUSUM statistic with p = 0.3 for mean change exceeds 1% critical value: 0.3880\n"
          ]
        },
        {
          "name": "stderr",
          "output_type": "stream",
          "text": [
            "100%|██████████| 1000/1000 [00:03<00:00, 298.34it/s]\n"
          ]
        },
        {
          "name": "stdout",
          "output_type": "stream",
          "text": [
            "Fraction of times CUSUM statistic with p = 0.3 for mean change exceeds 10% critical value: 0.2770\n",
            "Fraction of times CUSUM statistic with p = 0.3 for mean change exceeds 5% critical value: 0.1920\n",
            "Fraction of times CUSUM statistic with p = 0.3 for mean change exceeds 1% critical value: 0.0760\n"
          ]
        },
        {
          "name": "stderr",
          "output_type": "stream",
          "text": [
            "100%|██████████| 1000/1000 [00:02<00:00, 388.87it/s]\n"
          ]
        },
        {
          "name": "stdout",
          "output_type": "stream",
          "text": [
            "Fraction of times CUSUM statistic with p = 0.3 for mean change exceeds 10% critical value: 1.0000\n",
            "Fraction of times CUSUM statistic with p = 0.3 for mean change exceeds 5% critical value: 1.0000\n",
            "Fraction of times CUSUM statistic with p = 0.3 for mean change exceeds 1% critical value: 1.0000\n"
          ]
        },
        {
          "name": "stderr",
          "output_type": "stream",
          "text": [
            "100%|██████████| 1000/1000 [00:02<00:00, 394.83it/s]\n"
          ]
        },
        {
          "name": "stdout",
          "output_type": "stream",
          "text": [
            "Fraction of times CUSUM statistic with p = 0.3 for mean change exceeds 10% critical value: 1.0000\n",
            "Fraction of times CUSUM statistic with p = 0.3 for mean change exceeds 5% critical value: 1.0000\n",
            "Fraction of times CUSUM statistic with p = 0.3 for mean change exceeds 1% critical value: 1.0000\n"
          ]
        },
        {
          "name": "stderr",
          "output_type": "stream",
          "text": [
            "100%|██████████| 1000/1000 [00:02<00:00, 448.72it/s]\n"
          ]
        },
        {
          "name": "stdout",
          "output_type": "stream",
          "text": [
            "Fraction of times CUSUM statistic with p = 0.3 for mean change exceeds 10% critical value: 0.1160\n",
            "Fraction of times CUSUM statistic with p = 0.3 for mean change exceeds 5% critical value: 0.0540\n",
            "Fraction of times CUSUM statistic with p = 0.3 for mean change exceeds 1% critical value: 0.0140\n"
          ]
        },
        {
          "name": "stderr",
          "output_type": "stream",
          "text": [
            "100%|██████████| 1000/1000 [00:01<00:00, 566.76it/s]\n"
          ]
        },
        {
          "name": "stdout",
          "output_type": "stream",
          "text": [
            "Fraction of times CUSUM statistic with p = 0.5 for mean change exceeds 10% critical value: 0.4330\n",
            "Fraction of times CUSUM statistic with p = 0.5 for mean change exceeds 5% critical value: 0.3170\n",
            "Fraction of times CUSUM statistic with p = 0.5 for mean change exceeds 1% critical value: 0.1320\n"
          ]
        },
        {
          "name": "stderr",
          "output_type": "stream",
          "text": [
            "100%|██████████| 1000/1000 [00:02<00:00, 406.25it/s]\n"
          ]
        },
        {
          "name": "stdout",
          "output_type": "stream",
          "text": [
            "Fraction of times CUSUM statistic with p = 0.5 for mean change exceeds 10% critical value: 0.1820\n",
            "Fraction of times CUSUM statistic with p = 0.5 for mean change exceeds 5% critical value: 0.1180\n",
            "Fraction of times CUSUM statistic with p = 0.5 for mean change exceeds 1% critical value: 0.0380\n"
          ]
        },
        {
          "name": "stderr",
          "output_type": "stream",
          "text": [
            "100%|██████████| 1000/1000 [00:01<00:00, 615.89it/s]\n"
          ]
        },
        {
          "name": "stdout",
          "output_type": "stream",
          "text": [
            "Fraction of times CUSUM statistic with p = 0.5 for mean change exceeds 10% critical value: 1.0000\n",
            "Fraction of times CUSUM statistic with p = 0.5 for mean change exceeds 5% critical value: 1.0000\n",
            "Fraction of times CUSUM statistic with p = 0.5 for mean change exceeds 1% critical value: 1.0000\n"
          ]
        },
        {
          "name": "stderr",
          "output_type": "stream",
          "text": [
            "100%|██████████| 1000/1000 [00:01<00:00, 633.59it/s]\n"
          ]
        },
        {
          "name": "stdout",
          "output_type": "stream",
          "text": [
            "Fraction of times CUSUM statistic with p = 0.5 for mean change exceeds 10% critical value: 1.0000\n",
            "Fraction of times CUSUM statistic with p = 0.5 for mean change exceeds 5% critical value: 1.0000\n",
            "Fraction of times CUSUM statistic with p = 0.5 for mean change exceeds 1% critical value: 1.0000\n"
          ]
        },
        {
          "name": "stderr",
          "output_type": "stream",
          "text": [
            "100%|██████████| 1000/1000 [00:01<00:00, 688.22it/s]\n"
          ]
        },
        {
          "name": "stdout",
          "output_type": "stream",
          "text": [
            "Fraction of times CUSUM statistic with p = 0.5 for mean change exceeds 10% critical value: 0.0990\n",
            "Fraction of times CUSUM statistic with p = 0.5 for mean change exceeds 5% critical value: 0.0450\n",
            "Fraction of times CUSUM statistic with p = 0.5 for mean change exceeds 1% critical value: 0.0080\n"
          ]
        },
        {
          "name": "stderr",
          "output_type": "stream",
          "text": [
            "100%|██████████| 1000/1000 [00:02<00:00, 482.17it/s]\n"
          ]
        },
        {
          "name": "stdout",
          "output_type": "stream",
          "text": [
            "Fraction of times CUSUM statistic with p = 0.5 for mean change exceeds 10% critical value: 0.6730\n",
            "Fraction of times CUSUM statistic with p = 0.5 for mean change exceeds 5% critical value: 0.5720\n",
            "Fraction of times CUSUM statistic with p = 0.5 for mean change exceeds 1% critical value: 0.3380\n"
          ]
        },
        {
          "name": "stderr",
          "output_type": "stream",
          "text": [
            "100%|██████████| 1000/1000 [00:02<00:00, 480.90it/s]\n"
          ]
        },
        {
          "name": "stdout",
          "output_type": "stream",
          "text": [
            "Fraction of times CUSUM statistic with p = 0.5 for mean change exceeds 10% critical value: 0.2580\n",
            "Fraction of times CUSUM statistic with p = 0.5 for mean change exceeds 5% critical value: 0.1760\n",
            "Fraction of times CUSUM statistic with p = 0.5 for mean change exceeds 1% critical value: 0.0590\n"
          ]
        },
        {
          "name": "stderr",
          "output_type": "stream",
          "text": [
            "100%|██████████| 1000/1000 [00:02<00:00, 387.04it/s]\n"
          ]
        },
        {
          "name": "stdout",
          "output_type": "stream",
          "text": [
            "Fraction of times CUSUM statistic with p = 0.5 for mean change exceeds 10% critical value: 1.0000\n",
            "Fraction of times CUSUM statistic with p = 0.5 for mean change exceeds 5% critical value: 1.0000\n",
            "Fraction of times CUSUM statistic with p = 0.5 for mean change exceeds 1% critical value: 1.0000\n"
          ]
        },
        {
          "name": "stderr",
          "output_type": "stream",
          "text": [
            "100%|██████████| 1000/1000 [00:02<00:00, 353.93it/s]\n"
          ]
        },
        {
          "name": "stdout",
          "output_type": "stream",
          "text": [
            "Fraction of times CUSUM statistic with p = 0.5 for mean change exceeds 10% critical value: 1.0000\n",
            "Fraction of times CUSUM statistic with p = 0.5 for mean change exceeds 5% critical value: 1.0000\n",
            "Fraction of times CUSUM statistic with p = 0.5 for mean change exceeds 1% critical value: 1.0000\n"
          ]
        },
        {
          "name": "stderr",
          "output_type": "stream",
          "text": [
            "100%|██████████| 1000/1000 [00:01<00:00, 541.00it/s]\n"
          ]
        },
        {
          "name": "stdout",
          "output_type": "stream",
          "text": [
            "Fraction of times CUSUM statistic with p = 0.5 for mean change exceeds 10% critical value: 0.0940\n",
            "Fraction of times CUSUM statistic with p = 0.5 for mean change exceeds 5% critical value: 0.0450\n",
            "Fraction of times CUSUM statistic with p = 0.5 for mean change exceeds 1% critical value: 0.0050\n"
          ]
        },
        {
          "name": "stderr",
          "output_type": "stream",
          "text": [
            "100%|██████████| 1000/1000 [00:02<00:00, 387.33it/s]\n"
          ]
        },
        {
          "name": "stdout",
          "output_type": "stream",
          "text": [
            "Fraction of times CUSUM statistic with p = 0.5 for mean change exceeds 10% critical value: 0.8260\n",
            "Fraction of times CUSUM statistic with p = 0.5 for mean change exceeds 5% critical value: 0.7310\n",
            "Fraction of times CUSUM statistic with p = 0.5 for mean change exceeds 1% critical value: 0.5190\n"
          ]
        },
        {
          "name": "stderr",
          "output_type": "stream",
          "text": [
            "100%|██████████| 1000/1000 [00:02<00:00, 341.29it/s]\n"
          ]
        },
        {
          "name": "stdout",
          "output_type": "stream",
          "text": [
            "Fraction of times CUSUM statistic with p = 0.5 for mean change exceeds 10% critical value: 0.3460\n",
            "Fraction of times CUSUM statistic with p = 0.5 for mean change exceeds 5% critical value: 0.2390\n",
            "Fraction of times CUSUM statistic with p = 0.5 for mean change exceeds 1% critical value: 0.0980\n"
          ]
        },
        {
          "name": "stderr",
          "output_type": "stream",
          "text": [
            "100%|██████████| 1000/1000 [00:04<00:00, 216.90it/s]\n"
          ]
        },
        {
          "name": "stdout",
          "output_type": "stream",
          "text": [
            "Fraction of times CUSUM statistic with p = 0.5 for mean change exceeds 10% critical value: 1.0000\n",
            "Fraction of times CUSUM statistic with p = 0.5 for mean change exceeds 5% critical value: 1.0000\n",
            "Fraction of times CUSUM statistic with p = 0.5 for mean change exceeds 1% critical value: 1.0000\n"
          ]
        },
        {
          "name": "stderr",
          "output_type": "stream",
          "text": [
            "100%|██████████| 1000/1000 [00:02<00:00, 351.73it/s]\n"
          ]
        },
        {
          "name": "stdout",
          "output_type": "stream",
          "text": [
            "Fraction of times CUSUM statistic with p = 0.5 for mean change exceeds 10% critical value: 1.0000\n",
            "Fraction of times CUSUM statistic with p = 0.5 for mean change exceeds 5% critical value: 1.0000\n",
            "Fraction of times CUSUM statistic with p = 0.5 for mean change exceeds 1% critical value: 1.0000\n"
          ]
        },
        {
          "name": "stderr",
          "output_type": "stream",
          "text": [
            "100%|██████████| 1000/1000 [00:02<00:00, 443.47it/s]\n"
          ]
        },
        {
          "name": "stdout",
          "output_type": "stream",
          "text": [
            "Fraction of times CUSUM statistic with p = 0.5 for mean change exceeds 10% critical value: 0.1080\n",
            "Fraction of times CUSUM statistic with p = 0.5 for mean change exceeds 5% critical value: 0.0630\n",
            "Fraction of times CUSUM statistic with p = 0.5 for mean change exceeds 1% critical value: 0.0180\n"
          ]
        },
        {
          "name": "stderr",
          "output_type": "stream",
          "text": [
            "100%|██████████| 1000/1000 [00:01<00:00, 639.85it/s]\n"
          ]
        },
        {
          "name": "stdout",
          "output_type": "stream",
          "text": [
            "Fraction of times CUSUM statistic with p = 0.7 for mean change exceeds 10% critical value: 0.2180\n",
            "Fraction of times CUSUM statistic with p = 0.7 for mean change exceeds 5% critical value: 0.1330\n",
            "Fraction of times CUSUM statistic with p = 0.7 for mean change exceeds 1% critical value: 0.0470\n"
          ]
        },
        {
          "name": "stderr",
          "output_type": "stream",
          "text": [
            "100%|██████████| 1000/1000 [00:01<00:00, 630.29it/s]\n"
          ]
        },
        {
          "name": "stdout",
          "output_type": "stream",
          "text": [
            "Fraction of times CUSUM statistic with p = 0.7 for mean change exceeds 10% critical value: 0.1340\n",
            "Fraction of times CUSUM statistic with p = 0.7 for mean change exceeds 5% critical value: 0.0730\n",
            "Fraction of times CUSUM statistic with p = 0.7 for mean change exceeds 1% critical value: 0.0230\n"
          ]
        },
        {
          "name": "stderr",
          "output_type": "stream",
          "text": [
            "100%|██████████| 1000/1000 [00:01<00:00, 622.13it/s]\n"
          ]
        },
        {
          "name": "stdout",
          "output_type": "stream",
          "text": [
            "Fraction of times CUSUM statistic with p = 0.7 for mean change exceeds 10% critical value: 1.0000\n",
            "Fraction of times CUSUM statistic with p = 0.7 for mean change exceeds 5% critical value: 1.0000\n",
            "Fraction of times CUSUM statistic with p = 0.7 for mean change exceeds 1% critical value: 0.9980\n"
          ]
        },
        {
          "name": "stderr",
          "output_type": "stream",
          "text": [
            "100%|██████████| 1000/1000 [00:02<00:00, 477.16it/s]\n"
          ]
        },
        {
          "name": "stdout",
          "output_type": "stream",
          "text": [
            "Fraction of times CUSUM statistic with p = 0.7 for mean change exceeds 10% critical value: 1.0000\n",
            "Fraction of times CUSUM statistic with p = 0.7 for mean change exceeds 5% critical value: 1.0000\n",
            "Fraction of times CUSUM statistic with p = 0.7 for mean change exceeds 1% critical value: 1.0000\n"
          ]
        },
        {
          "name": "stderr",
          "output_type": "stream",
          "text": [
            "100%|██████████| 1000/1000 [00:02<00:00, 477.63it/s]\n"
          ]
        },
        {
          "name": "stdout",
          "output_type": "stream",
          "text": [
            "Fraction of times CUSUM statistic with p = 0.7 for mean change exceeds 10% critical value: 0.0820\n",
            "Fraction of times CUSUM statistic with p = 0.7 for mean change exceeds 5% critical value: 0.0410\n",
            "Fraction of times CUSUM statistic with p = 0.7 for mean change exceeds 1% critical value: 0.0060\n"
          ]
        },
        {
          "name": "stderr",
          "output_type": "stream",
          "text": [
            "100%|██████████| 1000/1000 [00:02<00:00, 478.99it/s]\n"
          ]
        },
        {
          "name": "stdout",
          "output_type": "stream",
          "text": [
            "Fraction of times CUSUM statistic with p = 0.7 for mean change exceeds 10% critical value: 0.3620\n",
            "Fraction of times CUSUM statistic with p = 0.7 for mean change exceeds 5% critical value: 0.2510\n",
            "Fraction of times CUSUM statistic with p = 0.7 for mean change exceeds 1% critical value: 0.0950\n"
          ]
        },
        {
          "name": "stderr",
          "output_type": "stream",
          "text": [
            "100%|██████████| 1000/1000 [00:02<00:00, 477.34it/s]\n"
          ]
        },
        {
          "name": "stdout",
          "output_type": "stream",
          "text": [
            "Fraction of times CUSUM statistic with p = 0.7 for mean change exceeds 10% critical value: 0.1610\n",
            "Fraction of times CUSUM statistic with p = 0.7 for mean change exceeds 5% critical value: 0.0900\n",
            "Fraction of times CUSUM statistic with p = 0.7 for mean change exceeds 1% critical value: 0.0280\n"
          ]
        },
        {
          "name": "stderr",
          "output_type": "stream",
          "text": [
            "100%|██████████| 1000/1000 [00:02<00:00, 480.15it/s]\n"
          ]
        },
        {
          "name": "stdout",
          "output_type": "stream",
          "text": [
            "Fraction of times CUSUM statistic with p = 0.7 for mean change exceeds 10% critical value: 1.0000\n",
            "Fraction of times CUSUM statistic with p = 0.7 for mean change exceeds 5% critical value: 1.0000\n",
            "Fraction of times CUSUM statistic with p = 0.7 for mean change exceeds 1% critical value: 1.0000\n"
          ]
        },
        {
          "name": "stderr",
          "output_type": "stream",
          "text": [
            "100%|██████████| 1000/1000 [00:02<00:00, 479.91it/s]\n"
          ]
        },
        {
          "name": "stdout",
          "output_type": "stream",
          "text": [
            "Fraction of times CUSUM statistic with p = 0.7 for mean change exceeds 10% critical value: 1.0000\n",
            "Fraction of times CUSUM statistic with p = 0.7 for mean change exceeds 5% critical value: 1.0000\n",
            "Fraction of times CUSUM statistic with p = 0.7 for mean change exceeds 1% critical value: 1.0000\n"
          ]
        },
        {
          "name": "stderr",
          "output_type": "stream",
          "text": [
            "100%|██████████| 1000/1000 [00:02<00:00, 457.33it/s]\n"
          ]
        },
        {
          "name": "stdout",
          "output_type": "stream",
          "text": [
            "Fraction of times CUSUM statistic with p = 0.7 for mean change exceeds 10% critical value: 0.0880\n",
            "Fraction of times CUSUM statistic with p = 0.7 for mean change exceeds 5% critical value: 0.0410\n",
            "Fraction of times CUSUM statistic with p = 0.7 for mean change exceeds 1% critical value: 0.0030\n"
          ]
        },
        {
          "name": "stderr",
          "output_type": "stream",
          "text": [
            "100%|██████████| 1000/1000 [00:03<00:00, 286.16it/s]\n"
          ]
        },
        {
          "name": "stdout",
          "output_type": "stream",
          "text": [
            "Fraction of times CUSUM statistic with p = 0.7 for mean change exceeds 10% critical value: 0.4710\n",
            "Fraction of times CUSUM statistic with p = 0.7 for mean change exceeds 5% critical value: 0.3560\n",
            "Fraction of times CUSUM statistic with p = 0.7 for mean change exceeds 1% critical value: 0.1600\n"
          ]
        },
        {
          "name": "stderr",
          "output_type": "stream",
          "text": [
            "100%|██████████| 1000/1000 [00:02<00:00, 388.22it/s]\n"
          ]
        },
        {
          "name": "stdout",
          "output_type": "stream",
          "text": [
            "Fraction of times CUSUM statistic with p = 0.7 for mean change exceeds 10% critical value: 0.2080\n",
            "Fraction of times CUSUM statistic with p = 0.7 for mean change exceeds 5% critical value: 0.1260\n",
            "Fraction of times CUSUM statistic with p = 0.7 for mean change exceeds 1% critical value: 0.0350\n"
          ]
        },
        {
          "name": "stderr",
          "output_type": "stream",
          "text": [
            "100%|██████████| 1000/1000 [00:02<00:00, 388.94it/s]\n"
          ]
        },
        {
          "name": "stdout",
          "output_type": "stream",
          "text": [
            "Fraction of times CUSUM statistic with p = 0.7 for mean change exceeds 10% critical value: 1.0000\n",
            "Fraction of times CUSUM statistic with p = 0.7 for mean change exceeds 5% critical value: 1.0000\n",
            "Fraction of times CUSUM statistic with p = 0.7 for mean change exceeds 1% critical value: 1.0000\n"
          ]
        },
        {
          "name": "stderr",
          "output_type": "stream",
          "text": [
            "100%|██████████| 1000/1000 [00:02<00:00, 382.93it/s]\n"
          ]
        },
        {
          "name": "stdout",
          "output_type": "stream",
          "text": [
            "Fraction of times CUSUM statistic with p = 0.7 for mean change exceeds 10% critical value: 1.0000\n",
            "Fraction of times CUSUM statistic with p = 0.7 for mean change exceeds 5% critical value: 1.0000\n",
            "Fraction of times CUSUM statistic with p = 0.7 for mean change exceeds 1% critical value: 1.0000\n"
          ]
        },
        {
          "name": "stderr",
          "output_type": "stream",
          "text": [
            "100%|██████████| 1000/1000 [00:03<00:00, 327.83it/s]\n"
          ]
        },
        {
          "name": "stdout",
          "output_type": "stream",
          "text": [
            "Fraction of times CUSUM statistic with p = 0.7 for mean change exceeds 10% critical value: 0.0910\n",
            "Fraction of times CUSUM statistic with p = 0.7 for mean change exceeds 5% critical value: 0.0460\n",
            "Fraction of times CUSUM statistic with p = 0.7 for mean change exceeds 1% critical value: 0.0090\n"
          ]
        },
        {
          "name": "stderr",
          "output_type": "stream",
          "text": [
            "100%|██████████| 1000/1000 [00:02<00:00, 488.83it/s]\n"
          ]
        },
        {
          "name": "stdout",
          "output_type": "stream",
          "text": [
            "Fraction of times CUSUM statistic with p = 0.9 for mean change exceeds 10% critical value: 0.1520\n",
            "Fraction of times CUSUM statistic with p = 0.9 for mean change exceeds 5% critical value: 0.0900\n",
            "Fraction of times CUSUM statistic with p = 0.9 for mean change exceeds 1% critical value: 0.0220\n"
          ]
        },
        {
          "name": "stderr",
          "output_type": "stream",
          "text": [
            "100%|██████████| 1000/1000 [00:01<00:00, 623.48it/s]\n"
          ]
        },
        {
          "name": "stdout",
          "output_type": "stream",
          "text": [
            "Fraction of times CUSUM statistic with p = 0.9 for mean change exceeds 10% critical value: 0.1030\n",
            "Fraction of times CUSUM statistic with p = 0.9 for mean change exceeds 5% critical value: 0.0540\n",
            "Fraction of times CUSUM statistic with p = 0.9 for mean change exceeds 1% critical value: 0.0100\n"
          ]
        },
        {
          "name": "stderr",
          "output_type": "stream",
          "text": [
            "100%|██████████| 1000/1000 [00:01<00:00, 620.04it/s]\n"
          ]
        },
        {
          "name": "stdout",
          "output_type": "stream",
          "text": [
            "Fraction of times CUSUM statistic with p = 0.9 for mean change exceeds 10% critical value: 0.9820\n",
            "Fraction of times CUSUM statistic with p = 0.9 for mean change exceeds 5% critical value: 0.9440\n",
            "Fraction of times CUSUM statistic with p = 0.9 for mean change exceeds 1% critical value: 0.7820\n"
          ]
        },
        {
          "name": "stderr",
          "output_type": "stream",
          "text": [
            "100%|██████████| 1000/1000 [00:01<00:00, 630.40it/s]\n"
          ]
        },
        {
          "name": "stdout",
          "output_type": "stream",
          "text": [
            "Fraction of times CUSUM statistic with p = 0.9 for mean change exceeds 10% critical value: 1.0000\n",
            "Fraction of times CUSUM statistic with p = 0.9 for mean change exceeds 5% critical value: 1.0000\n",
            "Fraction of times CUSUM statistic with p = 0.9 for mean change exceeds 1% critical value: 1.0000\n"
          ]
        },
        {
          "name": "stderr",
          "output_type": "stream",
          "text": [
            "100%|██████████| 1000/1000 [00:01<00:00, 679.07it/s]\n"
          ]
        },
        {
          "name": "stdout",
          "output_type": "stream",
          "text": [
            "Fraction of times CUSUM statistic with p = 0.9 for mean change exceeds 10% critical value: 0.1080\n",
            "Fraction of times CUSUM statistic with p = 0.9 for mean change exceeds 5% critical value: 0.0510\n",
            "Fraction of times CUSUM statistic with p = 0.9 for mean change exceeds 1% critical value: 0.0120\n"
          ]
        },
        {
          "name": "stderr",
          "output_type": "stream",
          "text": [
            "100%|██████████| 1000/1000 [00:02<00:00, 456.84it/s]\n"
          ]
        },
        {
          "name": "stdout",
          "output_type": "stream",
          "text": [
            "Fraction of times CUSUM statistic with p = 0.9 for mean change exceeds 10% critical value: 0.2190\n",
            "Fraction of times CUSUM statistic with p = 0.9 for mean change exceeds 5% critical value: 0.1310\n",
            "Fraction of times CUSUM statistic with p = 0.9 for mean change exceeds 1% critical value: 0.0350\n"
          ]
        },
        {
          "name": "stderr",
          "output_type": "stream",
          "text": [
            "100%|██████████| 1000/1000 [00:03<00:00, 307.13it/s]\n"
          ]
        },
        {
          "name": "stdout",
          "output_type": "stream",
          "text": [
            "Fraction of times CUSUM statistic with p = 0.9 for mean change exceeds 10% critical value: 0.1180\n",
            "Fraction of times CUSUM statistic with p = 0.9 for mean change exceeds 5% critical value: 0.0700\n",
            "Fraction of times CUSUM statistic with p = 0.9 for mean change exceeds 1% critical value: 0.0150\n"
          ]
        },
        {
          "name": "stderr",
          "output_type": "stream",
          "text": [
            "100%|██████████| 1000/1000 [00:02<00:00, 387.10it/s]\n"
          ]
        },
        {
          "name": "stdout",
          "output_type": "stream",
          "text": [
            "Fraction of times CUSUM statistic with p = 0.9 for mean change exceeds 10% critical value: 1.0000\n",
            "Fraction of times CUSUM statistic with p = 0.9 for mean change exceeds 5% critical value: 1.0000\n",
            "Fraction of times CUSUM statistic with p = 0.9 for mean change exceeds 1% critical value: 0.9980\n"
          ]
        },
        {
          "name": "stderr",
          "output_type": "stream",
          "text": [
            "100%|██████████| 1000/1000 [00:02<00:00, 475.07it/s]\n"
          ]
        },
        {
          "name": "stdout",
          "output_type": "stream",
          "text": [
            "Fraction of times CUSUM statistic with p = 0.9 for mean change exceeds 10% critical value: 1.0000\n",
            "Fraction of times CUSUM statistic with p = 0.9 for mean change exceeds 5% critical value: 1.0000\n",
            "Fraction of times CUSUM statistic with p = 0.9 for mean change exceeds 1% critical value: 1.0000\n"
          ]
        },
        {
          "name": "stderr",
          "output_type": "stream",
          "text": [
            "100%|██████████| 1000/1000 [00:01<00:00, 526.15it/s]\n"
          ]
        },
        {
          "name": "stdout",
          "output_type": "stream",
          "text": [
            "Fraction of times CUSUM statistic with p = 0.9 for mean change exceeds 10% critical value: 0.1010\n",
            "Fraction of times CUSUM statistic with p = 0.9 for mean change exceeds 5% critical value: 0.0590\n",
            "Fraction of times CUSUM statistic with p = 0.9 for mean change exceeds 1% critical value: 0.0130\n"
          ]
        },
        {
          "name": "stderr",
          "output_type": "stream",
          "text": [
            "100%|██████████| 1000/1000 [00:03<00:00, 253.23it/s]\n"
          ]
        },
        {
          "name": "stdout",
          "output_type": "stream",
          "text": [
            "Fraction of times CUSUM statistic with p = 0.9 for mean change exceeds 10% critical value: 0.2850\n",
            "Fraction of times CUSUM statistic with p = 0.9 for mean change exceeds 5% critical value: 0.1770\n",
            "Fraction of times CUSUM statistic with p = 0.9 for mean change exceeds 1% critical value: 0.0460\n"
          ]
        },
        {
          "name": "stderr",
          "output_type": "stream",
          "text": [
            "100%|██████████| 1000/1000 [00:06<00:00, 153.56it/s]\n"
          ]
        },
        {
          "name": "stdout",
          "output_type": "stream",
          "text": [
            "Fraction of times CUSUM statistic with p = 0.9 for mean change exceeds 10% critical value: 0.1450\n",
            "Fraction of times CUSUM statistic with p = 0.9 for mean change exceeds 5% critical value: 0.0810\n",
            "Fraction of times CUSUM statistic with p = 0.9 for mean change exceeds 1% critical value: 0.0150\n"
          ]
        },
        {
          "name": "stderr",
          "output_type": "stream",
          "text": [
            "100%|██████████| 1000/1000 [00:03<00:00, 285.15it/s]\n"
          ]
        },
        {
          "name": "stdout",
          "output_type": "stream",
          "text": [
            "Fraction of times CUSUM statistic with p = 0.9 for mean change exceeds 10% critical value: 1.0000\n",
            "Fraction of times CUSUM statistic with p = 0.9 for mean change exceeds 5% critical value: 1.0000\n",
            "Fraction of times CUSUM statistic with p = 0.9 for mean change exceeds 1% critical value: 1.0000\n"
          ]
        },
        {
          "name": "stderr",
          "output_type": "stream",
          "text": [
            "100%|██████████| 1000/1000 [00:05<00:00, 169.71it/s]\n"
          ]
        },
        {
          "name": "stdout",
          "output_type": "stream",
          "text": [
            "Fraction of times CUSUM statistic with p = 0.9 for mean change exceeds 10% critical value: 1.0000\n",
            "Fraction of times CUSUM statistic with p = 0.9 for mean change exceeds 5% critical value: 1.0000\n",
            "Fraction of times CUSUM statistic with p = 0.9 for mean change exceeds 1% critical value: 1.0000\n"
          ]
        },
        {
          "name": "stderr",
          "output_type": "stream",
          "text": [
            "100%|██████████| 1000/1000 [00:04<00:00, 214.02it/s]"
          ]
        },
        {
          "name": "stdout",
          "output_type": "stream",
          "text": [
            "Fraction of times CUSUM statistic with p = 0.9 for mean change exceeds 10% critical value: 0.1100\n",
            "Fraction of times CUSUM statistic with p = 0.9 for mean change exceeds 5% critical value: 0.0530\n",
            "Fraction of times CUSUM statistic with p = 0.9 for mean change exceeds 1% critical value: 0.0120\n"
          ]
        },
        {
          "name": "stderr",
          "output_type": "stream",
          "text": [
            "\n"
          ]
        }
      ],
      "source": [
        "import os\n",
        "import pandas as pd\n",
        "\n",
        "def mean_change_p_run_simulations():\n",
        "    # Define the parameters\n",
        "    p_fractions = [0.1, 0.3, 0.5, 0.7, 0.9]\n",
        "    T_values = [500, 1000, 1500]\n",
        "    means = [0.1, 0.05, 0.5, 1, 0]\n",
        "    base_params = [np.array([0, 0.2, 0.2])]\n",
        "    lmbd = 2\n",
        "\n",
        "    # Filename for saving and loading results\n",
        "    filename = \"iid_mean_change_simulation_results_p_1000.csv\"\n",
        "\n",
        "    # Load existing results if the CSV file exists\n",
        "    if os.path.exists(filename):\n",
        "        df_existing = pd.read_csv(filename)\n",
        "        last_row = df_existing.iloc[-1]\n",
        "\n",
        "        start_fraction_index = p_fractions.index(last_row['p_fraction'])\n",
        "        start_T_index = T_values.index(last_row['T'])\n",
        "        start_mean_index = means.index(last_row['mean_change'])\n",
        "        #start_base_params_index = base_params.index(np.array(eval(last_row['base_parameters'])))\n",
        "    else:\n",
        "        df_existing = pd.DataFrame()\n",
        "        start_fraction_index, start_T_index, start_mean_index = 0, 0, 0\n",
        "\n",
        "    # Iterate through parameters, starting from the saved positions\n",
        "    for p_fraction_index in range(start_fraction_index, len(p_fractions)):\n",
        "        p_fraction = p_fractions[p_fraction_index]\n",
        "\n",
        "        for T_index in range(start_T_index, len(T_values)):\n",
        "            T = T_values[T_index]\n",
        "\n",
        "            for mean_index in range(start_mean_index, len(means)):\n",
        "                mean = means[mean_index]\n",
        "\n",
        "                for base_param_index in range(len(base_params)):\n",
        "                    base_param = base_params[base_param_index]\n",
        "\n",
        "                    params_x = base_param.copy()\n",
        "                    params_x[0] = mean\n",
        "\n",
        "                    sim_result = iid_monte_carlo_simulation(0, p_fraction, lmbd, \"mean\", mean, n_simulations=1000, T=T)\n",
        "\n",
        "                    row = {'p_fraction': p_fraction, 'T': T, 'mean_change': mean, 'base_parameters': str(base_param), 'result': sim_result}\n",
        "\n",
        "                    # Save the result of this iteration to the CSV file\n",
        "                    df = pd.DataFrame([row])\n",
        "                    df.to_csv(filename, mode='a', header=not os.path.exists(filename), index=False)\n",
        "\n",
        "                    # Reset indices for inner loops\n",
        "                    if base_param_index == len(base_params) - 1:\n",
        "                        start_base_params_index = 0\n",
        "                    if mean_index == len(means) - 1:\n",
        "                        start_mean_index = 0\n",
        "                    if T_index == len(T_values) - 1:\n",
        "                        start_T_index = 0\n",
        "\n",
        "mean_change_p_run_simulations()\n",
        "\n",
        "# Load the data\n",
        "data = pd.read_csv('iid_mean_change_simulation_results_p_1000.csv')\n",
        "\n",
        "data['result'] = data['result'].str.strip('[]').str.split(',').apply(lambda x: [float(item.strip()) for item in x])\n",
        "\n",
        "# Create new columns based on the significance levels\n",
        "data['1%_significance'] = data['result'].apply(lambda x: x[0])\n",
        "data['5%_significance'] = data['result'].apply(lambda x: x[1])\n",
        "data['10%_significance'] = data['result'].apply(lambda x: x[2])\n",
        "\n",
        "# Drop the original 'result' column\n",
        "data = data.drop(columns='result')\n",
        "\n",
        "# Save the updated dataset to a new CSV file\n",
        "file_path = \"iid_mean_change_simulation_results_p_1000.csv\"\n",
        "data.to_csv(file_path, index=False)\n",
        "\n"
      ]
    },
    {
      "cell_type": "markdown",
      "metadata": {
        "id": "3eD8skvM9h81"
      },
      "source": [
        "### Running simulation for seasonality"
      ]
    },
    {
      "cell_type": "code",
      "execution_count": null,
      "metadata": {
        "id": "6KU1jWui9qsX",
        "colab": {
          "base_uri": "https://localhost:8080/"
        },
        "outputId": "e3ec2e3d-0b80-45a7-f2dc-06ea238b22d0"
      },
      "outputs": [
        {
          "output_type": "stream",
          "name": "stderr",
          "text": [
            "100%|██████████| 1000/1000 [00:29<00:00, 33.91it/s]\n"
          ]
        },
        {
          "output_type": "stream",
          "name": "stdout",
          "text": [
            "Old params mean and lambdas: ['0.00', '1.00', '-1.00', '2.00'] New: ['0.10', '1.00', '-1.00', '2.00']\n",
            "Fraction of times CUSUM statistic for break before 0.1 and with T=500 exceeds 1% critical value: 0.0200\n",
            "Fraction of times CUSUM statistic for break before 0.1 and with T=500 exceeds 5% critical value: 0.0770\n",
            "Fraction of times CUSUM statistic for break before 0.1 and with T=500 exceeds 10% critical value: 0.1440\n"
          ]
        },
        {
          "output_type": "stream",
          "name": "stderr",
          "text": [
            "100%|██████████| 1000/1000 [00:30<00:00, 32.81it/s]\n"
          ]
        },
        {
          "output_type": "stream",
          "name": "stdout",
          "text": [
            "Old params mean and lambdas: ['0.00', '1.00', '-1.00', '2.00'] New: ['0.05', '1.00', '-1.00', '2.00']\n",
            "Fraction of times CUSUM statistic for break before 0.1 and with T=500 exceeds 1% critical value: 0.0130\n",
            "Fraction of times CUSUM statistic for break before 0.1 and with T=500 exceeds 5% critical value: 0.0610\n",
            "Fraction of times CUSUM statistic for break before 0.1 and with T=500 exceeds 10% critical value: 0.1200\n"
          ]
        },
        {
          "output_type": "stream",
          "name": "stderr",
          "text": [
            "100%|██████████| 1000/1000 [00:29<00:00, 34.27it/s]\n"
          ]
        },
        {
          "output_type": "stream",
          "name": "stdout",
          "text": [
            "Old params mean and lambdas: ['0.00', '1.00', '-1.00', '2.00'] New: ['0.50', '1.00', '-1.00', '2.00']\n",
            "Fraction of times CUSUM statistic for break before 0.1 and with T=500 exceeds 1% critical value: 0.9510\n",
            "Fraction of times CUSUM statistic for break before 0.1 and with T=500 exceeds 5% critical value: 0.9960\n",
            "Fraction of times CUSUM statistic for break before 0.1 and with T=500 exceeds 10% critical value: 0.9980\n"
          ]
        },
        {
          "output_type": "stream",
          "name": "stderr",
          "text": [
            "100%|██████████| 1000/1000 [00:31<00:00, 32.26it/s]\n"
          ]
        },
        {
          "output_type": "stream",
          "name": "stdout",
          "text": [
            "Old params mean and lambdas: ['0.00', '1.00', '-1.00', '2.00'] New: ['1.00', '1.00', '-1.00', '2.00']\n",
            "Fraction of times CUSUM statistic for break before 0.1 and with T=500 exceeds 1% critical value: 1.0000\n",
            "Fraction of times CUSUM statistic for break before 0.1 and with T=500 exceeds 5% critical value: 1.0000\n",
            "Fraction of times CUSUM statistic for break before 0.1 and with T=500 exceeds 10% critical value: 1.0000\n"
          ]
        },
        {
          "output_type": "stream",
          "name": "stderr",
          "text": [
            "100%|██████████| 1000/1000 [00:29<00:00, 33.59it/s]\n"
          ]
        },
        {
          "output_type": "stream",
          "name": "stdout",
          "text": [
            "Old params mean and lambdas: ['0.00', '1.00', '-1.00', '2.00'] New: ['0.00', '1.00', '-1.00', '2.00']\n",
            "Fraction of times CUSUM statistic for break before 0.1 and with T=500 exceeds 1% critical value: 0.0110\n",
            "Fraction of times CUSUM statistic for break before 0.1 and with T=500 exceeds 5% critical value: 0.0410\n",
            "Fraction of times CUSUM statistic for break before 0.1 and with T=500 exceeds 10% critical value: 0.0850\n"
          ]
        },
        {
          "output_type": "stream",
          "name": "stderr",
          "text": [
            "100%|██████████| 1000/1000 [00:34<00:00, 28.60it/s]\n"
          ]
        },
        {
          "output_type": "stream",
          "name": "stdout",
          "text": [
            "Old params mean and lambdas: ['0.00', '1.00', '-1.00', '2.00'] New: ['0.10', '1.00', '-1.00', '2.00']\n",
            "Fraction of times CUSUM statistic for break before 0.1 and with T=1000 exceeds 1% critical value: 0.0290\n",
            "Fraction of times CUSUM statistic for break before 0.1 and with T=1000 exceeds 5% critical value: 0.1200\n",
            "Fraction of times CUSUM statistic for break before 0.1 and with T=1000 exceeds 10% critical value: 0.2260\n"
          ]
        },
        {
          "output_type": "stream",
          "name": "stderr",
          "text": [
            "100%|██████████| 1000/1000 [00:34<00:00, 28.69it/s]\n"
          ]
        },
        {
          "output_type": "stream",
          "name": "stdout",
          "text": [
            "Old params mean and lambdas: ['0.00', '1.00', '-1.00', '2.00'] New: ['0.05', '1.00', '-1.00', '2.00']\n",
            "Fraction of times CUSUM statistic for break before 0.1 and with T=1000 exceeds 1% critical value: 0.0120\n",
            "Fraction of times CUSUM statistic for break before 0.1 and with T=1000 exceeds 5% critical value: 0.0620\n",
            "Fraction of times CUSUM statistic for break before 0.1 and with T=1000 exceeds 10% critical value: 0.1220\n"
          ]
        },
        {
          "output_type": "stream",
          "name": "stderr",
          "text": [
            "100%|██████████| 1000/1000 [00:34<00:00, 28.78it/s]\n"
          ]
        },
        {
          "output_type": "stream",
          "name": "stdout",
          "text": [
            "Old params mean and lambdas: ['0.00', '1.00', '-1.00', '2.00'] New: ['0.50', '1.00', '-1.00', '2.00']\n",
            "Fraction of times CUSUM statistic for break before 0.1 and with T=1000 exceeds 1% critical value: 1.0000\n",
            "Fraction of times CUSUM statistic for break before 0.1 and with T=1000 exceeds 5% critical value: 1.0000\n",
            "Fraction of times CUSUM statistic for break before 0.1 and with T=1000 exceeds 10% critical value: 1.0000\n"
          ]
        },
        {
          "output_type": "stream",
          "name": "stderr",
          "text": [
            "100%|██████████| 1000/1000 [00:35<00:00, 27.88it/s]\n"
          ]
        },
        {
          "output_type": "stream",
          "name": "stdout",
          "text": [
            "Old params mean and lambdas: ['0.00', '1.00', '-1.00', '2.00'] New: ['1.00', '1.00', '-1.00', '2.00']\n",
            "Fraction of times CUSUM statistic for break before 0.1 and with T=1000 exceeds 1% critical value: 1.0000\n",
            "Fraction of times CUSUM statistic for break before 0.1 and with T=1000 exceeds 5% critical value: 1.0000\n",
            "Fraction of times CUSUM statistic for break before 0.1 and with T=1000 exceeds 10% critical value: 1.0000\n"
          ]
        },
        {
          "output_type": "stream",
          "name": "stderr",
          "text": [
            "100%|██████████| 1000/1000 [00:33<00:00, 29.54it/s]\n"
          ]
        },
        {
          "output_type": "stream",
          "name": "stdout",
          "text": [
            "Old params mean and lambdas: ['0.00', '1.00', '-1.00', '2.00'] New: ['0.00', '1.00', '-1.00', '2.00']\n",
            "Fraction of times CUSUM statistic for break before 0.1 and with T=1000 exceeds 1% critical value: 0.0120\n",
            "Fraction of times CUSUM statistic for break before 0.1 and with T=1000 exceeds 5% critical value: 0.0470\n",
            "Fraction of times CUSUM statistic for break before 0.1 and with T=1000 exceeds 10% critical value: 0.0900\n"
          ]
        },
        {
          "output_type": "stream",
          "name": "stderr",
          "text": [
            "100%|██████████| 1000/1000 [00:40<00:00, 24.64it/s]\n"
          ]
        },
        {
          "output_type": "stream",
          "name": "stdout",
          "text": [
            "Old params mean and lambdas: ['0.00', '1.00', '-1.00', '2.00'] New: ['0.10', '1.00', '-1.00', '2.00']\n",
            "Fraction of times CUSUM statistic for break before 0.1 and with T=1500 exceeds 1% critical value: 0.0540\n",
            "Fraction of times CUSUM statistic for break before 0.1 and with T=1500 exceeds 5% critical value: 0.2010\n",
            "Fraction of times CUSUM statistic for break before 0.1 and with T=1500 exceeds 10% critical value: 0.3210\n"
          ]
        },
        {
          "output_type": "stream",
          "name": "stderr",
          "text": [
            "100%|██████████| 1000/1000 [00:38<00:00, 25.76it/s]\n"
          ]
        },
        {
          "output_type": "stream",
          "name": "stdout",
          "text": [
            "Old params mean and lambdas: ['0.00', '1.00', '-1.00', '2.00'] New: ['0.05', '1.00', '-1.00', '2.00']\n",
            "Fraction of times CUSUM statistic for break before 0.1 and with T=1500 exceeds 1% critical value: 0.0220\n",
            "Fraction of times CUSUM statistic for break before 0.1 and with T=1500 exceeds 5% critical value: 0.0700\n",
            "Fraction of times CUSUM statistic for break before 0.1 and with T=1500 exceeds 10% critical value: 0.1440\n"
          ]
        },
        {
          "output_type": "stream",
          "name": "stderr",
          "text": [
            "100%|██████████| 1000/1000 [00:39<00:00, 25.50it/s]\n"
          ]
        },
        {
          "output_type": "stream",
          "name": "stdout",
          "text": [
            "Old params mean and lambdas: ['0.00', '1.00', '-1.00', '2.00'] New: ['0.50', '1.00', '-1.00', '2.00']\n",
            "Fraction of times CUSUM statistic for break before 0.1 and with T=1500 exceeds 1% critical value: 1.0000\n",
            "Fraction of times CUSUM statistic for break before 0.1 and with T=1500 exceeds 5% critical value: 1.0000\n",
            "Fraction of times CUSUM statistic for break before 0.1 and with T=1500 exceeds 10% critical value: 1.0000\n"
          ]
        },
        {
          "output_type": "stream",
          "name": "stderr",
          "text": [
            "100%|██████████| 1000/1000 [00:41<00:00, 24.14it/s]\n"
          ]
        },
        {
          "output_type": "stream",
          "name": "stdout",
          "text": [
            "Old params mean and lambdas: ['0.00', '1.00', '-1.00', '2.00'] New: ['1.00', '1.00', '-1.00', '2.00']\n",
            "Fraction of times CUSUM statistic for break before 0.1 and with T=1500 exceeds 1% critical value: 1.0000\n",
            "Fraction of times CUSUM statistic for break before 0.1 and with T=1500 exceeds 5% critical value: 1.0000\n",
            "Fraction of times CUSUM statistic for break before 0.1 and with T=1500 exceeds 10% critical value: 1.0000\n"
          ]
        },
        {
          "output_type": "stream",
          "name": "stderr",
          "text": [
            "100%|██████████| 1000/1000 [00:39<00:00, 25.64it/s]\n"
          ]
        },
        {
          "output_type": "stream",
          "name": "stdout",
          "text": [
            "Old params mean and lambdas: ['0.00', '1.00', '-1.00', '2.00'] New: ['0.00', '1.00', '-1.00', '2.00']\n",
            "Fraction of times CUSUM statistic for break before 0.1 and with T=1500 exceeds 1% critical value: 0.0130\n",
            "Fraction of times CUSUM statistic for break before 0.1 and with T=1500 exceeds 5% critical value: 0.0570\n",
            "Fraction of times CUSUM statistic for break before 0.1 and with T=1500 exceeds 10% critical value: 0.1040\n"
          ]
        },
        {
          "output_type": "stream",
          "name": "stderr",
          "text": [
            "100%|██████████| 1000/1000 [00:30<00:00, 33.27it/s]\n"
          ]
        },
        {
          "output_type": "stream",
          "name": "stdout",
          "text": [
            "Old params mean and lambdas: ['0.00', '1.00', '-1.00', '2.00'] New: ['0.10', '1.00', '-1.00', '2.00']\n",
            "Fraction of times CUSUM statistic for break before 0.3 and with T=500 exceeds 1% critical value: 0.1830\n",
            "Fraction of times CUSUM statistic for break before 0.3 and with T=500 exceeds 5% critical value: 0.3750\n",
            "Fraction of times CUSUM statistic for break before 0.3 and with T=500 exceeds 10% critical value: 0.4960\n"
          ]
        },
        {
          "output_type": "stream",
          "name": "stderr",
          "text": [
            "100%|██████████| 1000/1000 [00:29<00:00, 33.50it/s]\n"
          ]
        },
        {
          "output_type": "stream",
          "name": "stdout",
          "text": [
            "Old params mean and lambdas: ['0.00', '1.00', '-1.00', '2.00'] New: ['0.05', '1.00', '-1.00', '2.00']\n",
            "Fraction of times CUSUM statistic for break before 0.3 and with T=500 exceeds 1% critical value: 0.0290\n",
            "Fraction of times CUSUM statistic for break before 0.3 and with T=500 exceeds 5% critical value: 0.0990\n",
            "Fraction of times CUSUM statistic for break before 0.3 and with T=500 exceeds 10% critical value: 0.1640\n"
          ]
        },
        {
          "output_type": "stream",
          "name": "stderr",
          "text": [
            "100%|██████████| 1000/1000 [00:30<00:00, 32.64it/s]\n"
          ]
        },
        {
          "output_type": "stream",
          "name": "stdout",
          "text": [
            "Old params mean and lambdas: ['0.00', '1.00', '-1.00', '2.00'] New: ['0.50', '1.00', '-1.00', '2.00']\n",
            "Fraction of times CUSUM statistic for break before 0.3 and with T=500 exceeds 1% critical value: 1.0000\n",
            "Fraction of times CUSUM statistic for break before 0.3 and with T=500 exceeds 5% critical value: 1.0000\n",
            "Fraction of times CUSUM statistic for break before 0.3 and with T=500 exceeds 10% critical value: 1.0000\n"
          ]
        },
        {
          "output_type": "stream",
          "name": "stderr",
          "text": [
            "100%|██████████| 1000/1000 [00:31<00:00, 31.97it/s]\n"
          ]
        },
        {
          "output_type": "stream",
          "name": "stdout",
          "text": [
            "Old params mean and lambdas: ['0.00', '1.00', '-1.00', '2.00'] New: ['1.00', '1.00', '-1.00', '2.00']\n",
            "Fraction of times CUSUM statistic for break before 0.3 and with T=500 exceeds 1% critical value: 1.0000\n",
            "Fraction of times CUSUM statistic for break before 0.3 and with T=500 exceeds 5% critical value: 1.0000\n",
            "Fraction of times CUSUM statistic for break before 0.3 and with T=500 exceeds 10% critical value: 1.0000\n"
          ]
        },
        {
          "output_type": "stream",
          "name": "stderr",
          "text": [
            "100%|██████████| 1000/1000 [00:29<00:00, 34.11it/s]\n"
          ]
        },
        {
          "output_type": "stream",
          "name": "stdout",
          "text": [
            "Old params mean and lambdas: ['0.00', '1.00', '-1.00', '2.00'] New: ['0.00', '1.00', '-1.00', '2.00']\n",
            "Fraction of times CUSUM statistic for break before 0.3 and with T=500 exceeds 1% critical value: 0.0080\n",
            "Fraction of times CUSUM statistic for break before 0.3 and with T=500 exceeds 5% critical value: 0.0290\n",
            "Fraction of times CUSUM statistic for break before 0.3 and with T=500 exceeds 10% critical value: 0.0740\n"
          ]
        },
        {
          "output_type": "stream",
          "name": "stderr",
          "text": [
            "100%|██████████| 1000/1000 [00:35<00:00, 27.98it/s]\n"
          ]
        },
        {
          "output_type": "stream",
          "name": "stdout",
          "text": [
            "Old params mean and lambdas: ['0.00', '1.00', '-1.00', '2.00'] New: ['0.10', '1.00', '-1.00', '2.00']\n",
            "Fraction of times CUSUM statistic for break before 0.3 and with T=1000 exceeds 1% critical value: 0.4340\n",
            "Fraction of times CUSUM statistic for break before 0.3 and with T=1000 exceeds 5% critical value: 0.6890\n",
            "Fraction of times CUSUM statistic for break before 0.3 and with T=1000 exceeds 10% critical value: 0.8040\n"
          ]
        },
        {
          "output_type": "stream",
          "name": "stderr",
          "text": [
            "100%|██████████| 1000/1000 [00:33<00:00, 29.52it/s]\n"
          ]
        },
        {
          "output_type": "stream",
          "name": "stdout",
          "text": [
            "Old params mean and lambdas: ['0.00', '1.00', '-1.00', '2.00'] New: ['0.05', '1.00', '-1.00', '2.00']\n",
            "Fraction of times CUSUM statistic for break before 0.3 and with T=1000 exceeds 1% critical value: 0.0730\n",
            "Fraction of times CUSUM statistic for break before 0.3 and with T=1000 exceeds 5% critical value: 0.1930\n",
            "Fraction of times CUSUM statistic for break before 0.3 and with T=1000 exceeds 10% critical value: 0.3010\n"
          ]
        },
        {
          "output_type": "stream",
          "name": "stderr",
          "text": [
            "100%|██████████| 1000/1000 [00:32<00:00, 30.85it/s]\n"
          ]
        },
        {
          "output_type": "stream",
          "name": "stdout",
          "text": [
            "Old params mean and lambdas: ['0.00', '1.00', '-1.00', '2.00'] New: ['0.50', '1.00', '-1.00', '2.00']\n",
            "Fraction of times CUSUM statistic for break before 0.3 and with T=1000 exceeds 1% critical value: 1.0000\n",
            "Fraction of times CUSUM statistic for break before 0.3 and with T=1000 exceeds 5% critical value: 1.0000\n",
            "Fraction of times CUSUM statistic for break before 0.3 and with T=1000 exceeds 10% critical value: 1.0000\n"
          ]
        },
        {
          "output_type": "stream",
          "name": "stderr",
          "text": [
            "100%|██████████| 1000/1000 [00:35<00:00, 28.47it/s]\n"
          ]
        },
        {
          "output_type": "stream",
          "name": "stdout",
          "text": [
            "Old params mean and lambdas: ['0.00', '1.00', '-1.00', '2.00'] New: ['1.00', '1.00', '-1.00', '2.00']\n",
            "Fraction of times CUSUM statistic for break before 0.3 and with T=1000 exceeds 1% critical value: 1.0000\n",
            "Fraction of times CUSUM statistic for break before 0.3 and with T=1000 exceeds 5% critical value: 1.0000\n",
            "Fraction of times CUSUM statistic for break before 0.3 and with T=1000 exceeds 10% critical value: 1.0000\n"
          ]
        },
        {
          "output_type": "stream",
          "name": "stderr",
          "text": [
            "100%|██████████| 1000/1000 [00:31<00:00, 31.64it/s]\n"
          ]
        },
        {
          "output_type": "stream",
          "name": "stdout",
          "text": [
            "Old params mean and lambdas: ['0.00', '1.00', '-1.00', '2.00'] New: ['0.00', '1.00', '-1.00', '2.00']\n",
            "Fraction of times CUSUM statistic for break before 0.3 and with T=1000 exceeds 1% critical value: 0.0080\n",
            "Fraction of times CUSUM statistic for break before 0.3 and with T=1000 exceeds 5% critical value: 0.0480\n",
            "Fraction of times CUSUM statistic for break before 0.3 and with T=1000 exceeds 10% critical value: 0.1190\n"
          ]
        },
        {
          "output_type": "stream",
          "name": "stderr",
          "text": [
            "100%|██████████| 1000/1000 [00:38<00:00, 26.16it/s]\n"
          ]
        },
        {
          "output_type": "stream",
          "name": "stdout",
          "text": [
            "Old params mean and lambdas: ['0.00', '1.00', '-1.00', '2.00'] New: ['0.10', '1.00', '-1.00', '2.00']\n",
            "Fraction of times CUSUM statistic for break before 0.3 and with T=1500 exceeds 1% critical value: 0.6840\n",
            "Fraction of times CUSUM statistic for break before 0.3 and with T=1500 exceeds 5% critical value: 0.8540\n",
            "Fraction of times CUSUM statistic for break before 0.3 and with T=1500 exceeds 10% critical value: 0.9200\n"
          ]
        },
        {
          "output_type": "stream",
          "name": "stderr",
          "text": [
            "100%|██████████| 1000/1000 [00:37<00:00, 26.87it/s]\n"
          ]
        },
        {
          "output_type": "stream",
          "name": "stdout",
          "text": [
            "Old params mean and lambdas: ['0.00', '1.00', '-1.00', '2.00'] New: ['0.05', '1.00', '-1.00', '2.00']\n",
            "Fraction of times CUSUM statistic for break before 0.3 and with T=1500 exceeds 1% critical value: 0.1020\n",
            "Fraction of times CUSUM statistic for break before 0.3 and with T=1500 exceeds 5% critical value: 0.2770\n",
            "Fraction of times CUSUM statistic for break before 0.3 and with T=1500 exceeds 10% critical value: 0.3980\n"
          ]
        },
        {
          "output_type": "stream",
          "name": "stderr",
          "text": [
            "100%|██████████| 1000/1000 [00:37<00:00, 26.80it/s]\n"
          ]
        },
        {
          "output_type": "stream",
          "name": "stdout",
          "text": [
            "Old params mean and lambdas: ['0.00', '1.00', '-1.00', '2.00'] New: ['0.50', '1.00', '-1.00', '2.00']\n",
            "Fraction of times CUSUM statistic for break before 0.3 and with T=1500 exceeds 1% critical value: 1.0000\n",
            "Fraction of times CUSUM statistic for break before 0.3 and with T=1500 exceeds 5% critical value: 1.0000\n",
            "Fraction of times CUSUM statistic for break before 0.3 and with T=1500 exceeds 10% critical value: 1.0000\n"
          ]
        },
        {
          "output_type": "stream",
          "name": "stderr",
          "text": [
            "100%|██████████| 1000/1000 [00:39<00:00, 25.27it/s]\n"
          ]
        },
        {
          "output_type": "stream",
          "name": "stdout",
          "text": [
            "Old params mean and lambdas: ['0.00', '1.00', '-1.00', '2.00'] New: ['1.00', '1.00', '-1.00', '2.00']\n",
            "Fraction of times CUSUM statistic for break before 0.3 and with T=1500 exceeds 1% critical value: 1.0000\n",
            "Fraction of times CUSUM statistic for break before 0.3 and with T=1500 exceeds 5% critical value: 1.0000\n",
            "Fraction of times CUSUM statistic for break before 0.3 and with T=1500 exceeds 10% critical value: 1.0000\n"
          ]
        },
        {
          "output_type": "stream",
          "name": "stderr",
          "text": [
            "100%|██████████| 1000/1000 [00:36<00:00, 27.58it/s]\n"
          ]
        },
        {
          "output_type": "stream",
          "name": "stdout",
          "text": [
            "Old params mean and lambdas: ['0.00', '1.00', '-1.00', '2.00'] New: ['0.00', '1.00', '-1.00', '2.00']\n",
            "Fraction of times CUSUM statistic for break before 0.3 and with T=1500 exceeds 1% critical value: 0.0090\n",
            "Fraction of times CUSUM statistic for break before 0.3 and with T=1500 exceeds 5% critical value: 0.0560\n",
            "Fraction of times CUSUM statistic for break before 0.3 and with T=1500 exceeds 10% critical value: 0.1020\n"
          ]
        },
        {
          "output_type": "stream",
          "name": "stderr",
          "text": [
            "100%|██████████| 1000/1000 [00:29<00:00, 33.72it/s]\n"
          ]
        },
        {
          "output_type": "stream",
          "name": "stdout",
          "text": [
            "Old params mean and lambdas: ['0.00', '1.00', '-1.00', '2.00'] New: ['0.10', '1.00', '-1.00', '2.00']\n",
            "Fraction of times CUSUM statistic for break before 0.5 and with T=500 exceeds 1% critical value: 0.2760\n",
            "Fraction of times CUSUM statistic for break before 0.5 and with T=500 exceeds 5% critical value: 0.4870\n",
            "Fraction of times CUSUM statistic for break before 0.5 and with T=500 exceeds 10% critical value: 0.5980\n"
          ]
        },
        {
          "output_type": "stream",
          "name": "stderr",
          "text": [
            "100%|██████████| 1000/1000 [00:28<00:00, 35.48it/s]\n"
          ]
        },
        {
          "output_type": "stream",
          "name": "stdout",
          "text": [
            "Old params mean and lambdas: ['0.00', '1.00', '-1.00', '2.00'] New: ['0.05', '1.00', '-1.00', '2.00']\n",
            "Fraction of times CUSUM statistic for break before 0.5 and with T=500 exceeds 1% critical value: 0.0470\n",
            "Fraction of times CUSUM statistic for break before 0.5 and with T=500 exceeds 5% critical value: 0.1520\n",
            "Fraction of times CUSUM statistic for break before 0.5 and with T=500 exceeds 10% critical value: 0.2660\n"
          ]
        },
        {
          "output_type": "stream",
          "name": "stderr",
          "text": [
            "100%|██████████| 1000/1000 [00:30<00:00, 33.32it/s]\n"
          ]
        },
        {
          "output_type": "stream",
          "name": "stdout",
          "text": [
            "Old params mean and lambdas: ['0.00', '1.00', '-1.00', '2.00'] New: ['0.50', '1.00', '-1.00', '2.00']\n",
            "Fraction of times CUSUM statistic for break before 0.5 and with T=500 exceeds 1% critical value: 1.0000\n",
            "Fraction of times CUSUM statistic for break before 0.5 and with T=500 exceeds 5% critical value: 1.0000\n",
            "Fraction of times CUSUM statistic for break before 0.5 and with T=500 exceeds 10% critical value: 1.0000\n"
          ]
        },
        {
          "output_type": "stream",
          "name": "stderr",
          "text": [
            "100%|██████████| 1000/1000 [00:29<00:00, 33.68it/s]\n"
          ]
        },
        {
          "output_type": "stream",
          "name": "stdout",
          "text": [
            "Old params mean and lambdas: ['0.00', '1.00', '-1.00', '2.00'] New: ['1.00', '1.00', '-1.00', '2.00']\n",
            "Fraction of times CUSUM statistic for break before 0.5 and with T=500 exceeds 1% critical value: 1.0000\n",
            "Fraction of times CUSUM statistic for break before 0.5 and with T=500 exceeds 5% critical value: 1.0000\n",
            "Fraction of times CUSUM statistic for break before 0.5 and with T=500 exceeds 10% critical value: 1.0000\n"
          ]
        },
        {
          "output_type": "stream",
          "name": "stderr",
          "text": [
            "100%|██████████| 1000/1000 [00:27<00:00, 36.00it/s]\n"
          ]
        },
        {
          "output_type": "stream",
          "name": "stdout",
          "text": [
            "Old params mean and lambdas: ['0.00', '1.00', '-1.00', '2.00'] New: ['0.00', '1.00', '-1.00', '2.00']\n",
            "Fraction of times CUSUM statistic for break before 0.5 and with T=500 exceeds 1% critical value: 0.0100\n",
            "Fraction of times CUSUM statistic for break before 0.5 and with T=500 exceeds 5% critical value: 0.0410\n",
            "Fraction of times CUSUM statistic for break before 0.5 and with T=500 exceeds 10% critical value: 0.0980\n"
          ]
        },
        {
          "output_type": "stream",
          "name": "stderr",
          "text": [
            "100%|██████████| 1000/1000 [00:35<00:00, 28.55it/s]\n"
          ]
        },
        {
          "output_type": "stream",
          "name": "stdout",
          "text": [
            "Old params mean and lambdas: ['0.00', '1.00', '-1.00', '2.00'] New: ['0.10', '1.00', '-1.00', '2.00']\n",
            "Fraction of times CUSUM statistic for break before 0.5 and with T=1000 exceeds 1% critical value: 0.5990\n",
            "Fraction of times CUSUM statistic for break before 0.5 and with T=1000 exceeds 5% critical value: 0.8090\n",
            "Fraction of times CUSUM statistic for break before 0.5 and with T=1000 exceeds 10% critical value: 0.8770\n"
          ]
        },
        {
          "output_type": "stream",
          "name": "stderr",
          "text": [
            "100%|██████████| 1000/1000 [00:32<00:00, 30.54it/s]\n"
          ]
        },
        {
          "output_type": "stream",
          "name": "stdout",
          "text": [
            "Old params mean and lambdas: ['0.00', '1.00', '-1.00', '2.00'] New: ['0.05', '1.00', '-1.00', '2.00']\n",
            "Fraction of times CUSUM statistic for break before 0.5 and with T=1000 exceeds 1% critical value: 0.1150\n",
            "Fraction of times CUSUM statistic for break before 0.5 and with T=1000 exceeds 5% critical value: 0.2870\n",
            "Fraction of times CUSUM statistic for break before 0.5 and with T=1000 exceeds 10% critical value: 0.3970\n"
          ]
        },
        {
          "output_type": "stream",
          "name": "stderr",
          "text": [
            "100%|██████████| 1000/1000 [00:39<00:00, 25.02it/s]\n"
          ]
        },
        {
          "output_type": "stream",
          "name": "stdout",
          "text": [
            "Old params mean and lambdas: ['0.00', '1.00', '-1.00', '2.00'] New: ['0.50', '1.00', '-1.00', '2.00']\n",
            "Fraction of times CUSUM statistic for break before 0.5 and with T=1000 exceeds 1% critical value: 1.0000\n",
            "Fraction of times CUSUM statistic for break before 0.5 and with T=1000 exceeds 5% critical value: 1.0000\n",
            "Fraction of times CUSUM statistic for break before 0.5 and with T=1000 exceeds 10% critical value: 1.0000\n"
          ]
        },
        {
          "output_type": "stream",
          "name": "stderr",
          "text": [
            "100%|██████████| 1000/1000 [00:51<00:00, 19.48it/s]\n"
          ]
        },
        {
          "output_type": "stream",
          "name": "stdout",
          "text": [
            "Old params mean and lambdas: ['0.00', '1.00', '-1.00', '2.00'] New: ['1.00', '1.00', '-1.00', '2.00']\n",
            "Fraction of times CUSUM statistic for break before 0.5 and with T=1000 exceeds 1% critical value: 1.0000\n",
            "Fraction of times CUSUM statistic for break before 0.5 and with T=1000 exceeds 5% critical value: 1.0000\n",
            "Fraction of times CUSUM statistic for break before 0.5 and with T=1000 exceeds 10% critical value: 1.0000\n"
          ]
        },
        {
          "output_type": "stream",
          "name": "stderr",
          "text": [
            "100%|██████████| 1000/1000 [00:35<00:00, 27.90it/s]\n"
          ]
        },
        {
          "output_type": "stream",
          "name": "stdout",
          "text": [
            "Old params mean and lambdas: ['0.00', '1.00', '-1.00', '2.00'] New: ['0.00', '1.00', '-1.00', '2.00']\n",
            "Fraction of times CUSUM statistic for break before 0.5 and with T=1000 exceeds 1% critical value: 0.0090\n",
            "Fraction of times CUSUM statistic for break before 0.5 and with T=1000 exceeds 5% critical value: 0.0470\n",
            "Fraction of times CUSUM statistic for break before 0.5 and with T=1000 exceeds 10% critical value: 0.1080\n"
          ]
        },
        {
          "output_type": "stream",
          "name": "stderr",
          "text": [
            "100%|██████████| 1000/1000 [00:39<00:00, 25.57it/s]\n"
          ]
        },
        {
          "output_type": "stream",
          "name": "stdout",
          "text": [
            "Old params mean and lambdas: ['0.00', '1.00', '-1.00', '2.00'] New: ['0.10', '1.00', '-1.00', '2.00']\n",
            "Fraction of times CUSUM statistic for break before 0.5 and with T=1500 exceeds 1% critical value: 0.8480\n",
            "Fraction of times CUSUM statistic for break before 0.5 and with T=1500 exceeds 5% critical value: 0.9440\n",
            "Fraction of times CUSUM statistic for break before 0.5 and with T=1500 exceeds 10% critical value: 0.9790\n"
          ]
        },
        {
          "output_type": "stream",
          "name": "stderr",
          "text": [
            "100%|██████████| 1000/1000 [00:37<00:00, 26.60it/s]\n"
          ]
        },
        {
          "output_type": "stream",
          "name": "stdout",
          "text": [
            "Old params mean and lambdas: ['0.00', '1.00', '-1.00', '2.00'] New: ['0.05', '1.00', '-1.00', '2.00']\n",
            "Fraction of times CUSUM statistic for break before 0.5 and with T=1500 exceeds 1% critical value: 0.1870\n",
            "Fraction of times CUSUM statistic for break before 0.5 and with T=1500 exceeds 5% critical value: 0.3850\n",
            "Fraction of times CUSUM statistic for break before 0.5 and with T=1500 exceeds 10% critical value: 0.5330\n"
          ]
        },
        {
          "output_type": "stream",
          "name": "stderr",
          "text": [
            "100%|██████████| 1000/1000 [00:37<00:00, 26.66it/s]\n"
          ]
        },
        {
          "output_type": "stream",
          "name": "stdout",
          "text": [
            "Old params mean and lambdas: ['0.00', '1.00', '-1.00', '2.00'] New: ['0.50', '1.00', '-1.00', '2.00']\n",
            "Fraction of times CUSUM statistic for break before 0.5 and with T=1500 exceeds 1% critical value: 1.0000\n",
            "Fraction of times CUSUM statistic for break before 0.5 and with T=1500 exceeds 5% critical value: 1.0000\n",
            "Fraction of times CUSUM statistic for break before 0.5 and with T=1500 exceeds 10% critical value: 1.0000\n"
          ]
        },
        {
          "output_type": "stream",
          "name": "stderr",
          "text": [
            "100%|██████████| 1000/1000 [00:39<00:00, 25.09it/s]\n"
          ]
        },
        {
          "output_type": "stream",
          "name": "stdout",
          "text": [
            "Old params mean and lambdas: ['0.00', '1.00', '-1.00', '2.00'] New: ['1.00', '1.00', '-1.00', '2.00']\n",
            "Fraction of times CUSUM statistic for break before 0.5 and with T=1500 exceeds 1% critical value: 1.0000\n",
            "Fraction of times CUSUM statistic for break before 0.5 and with T=1500 exceeds 5% critical value: 1.0000\n",
            "Fraction of times CUSUM statistic for break before 0.5 and with T=1500 exceeds 10% critical value: 1.0000\n"
          ]
        },
        {
          "output_type": "stream",
          "name": "stderr",
          "text": [
            "100%|██████████| 1000/1000 [00:38<00:00, 26.19it/s]\n"
          ]
        },
        {
          "output_type": "stream",
          "name": "stdout",
          "text": [
            "Old params mean and lambdas: ['0.00', '1.00', '-1.00', '2.00'] New: ['0.00', '1.00', '-1.00', '2.00']\n",
            "Fraction of times CUSUM statistic for break before 0.5 and with T=1500 exceeds 1% critical value: 0.0130\n",
            "Fraction of times CUSUM statistic for break before 0.5 and with T=1500 exceeds 5% critical value: 0.0510\n",
            "Fraction of times CUSUM statistic for break before 0.5 and with T=1500 exceeds 10% critical value: 0.0980\n"
          ]
        },
        {
          "output_type": "stream",
          "name": "stderr",
          "text": [
            "100%|██████████| 1000/1000 [00:29<00:00, 34.37it/s]\n"
          ]
        },
        {
          "output_type": "stream",
          "name": "stdout",
          "text": [
            "Old params mean and lambdas: ['0.00', '1.00', '-1.00', '2.00'] New: ['0.10', '1.00', '-1.00', '2.00']\n",
            "Fraction of times CUSUM statistic for break before 0.7 and with T=500 exceeds 1% critical value: 0.1780\n",
            "Fraction of times CUSUM statistic for break before 0.7 and with T=500 exceeds 5% critical value: 0.3840\n",
            "Fraction of times CUSUM statistic for break before 0.7 and with T=500 exceeds 10% critical value: 0.5180\n"
          ]
        },
        {
          "output_type": "stream",
          "name": "stderr",
          "text": [
            "100%|██████████| 1000/1000 [00:29<00:00, 34.46it/s]\n"
          ]
        },
        {
          "output_type": "stream",
          "name": "stdout",
          "text": [
            "Old params mean and lambdas: ['0.00', '1.00', '-1.00', '2.00'] New: ['0.05', '1.00', '-1.00', '2.00']\n",
            "Fraction of times CUSUM statistic for break before 0.7 and with T=500 exceeds 1% critical value: 0.0330\n",
            "Fraction of times CUSUM statistic for break before 0.7 and with T=500 exceeds 5% critical value: 0.1210\n",
            "Fraction of times CUSUM statistic for break before 0.7 and with T=500 exceeds 10% critical value: 0.2080\n"
          ]
        },
        {
          "output_type": "stream",
          "name": "stderr",
          "text": [
            "100%|██████████| 1000/1000 [00:29<00:00, 33.94it/s]\n"
          ]
        },
        {
          "output_type": "stream",
          "name": "stdout",
          "text": [
            "Old params mean and lambdas: ['0.00', '1.00', '-1.00', '2.00'] New: ['0.50', '1.00', '-1.00', '2.00']\n",
            "Fraction of times CUSUM statistic for break before 0.7 and with T=500 exceeds 1% critical value: 1.0000\n",
            "Fraction of times CUSUM statistic for break before 0.7 and with T=500 exceeds 5% critical value: 1.0000\n",
            "Fraction of times CUSUM statistic for break before 0.7 and with T=500 exceeds 10% critical value: 1.0000\n"
          ]
        },
        {
          "output_type": "stream",
          "name": "stderr",
          "text": [
            "100%|██████████| 1000/1000 [00:32<00:00, 30.97it/s]\n"
          ]
        },
        {
          "output_type": "stream",
          "name": "stdout",
          "text": [
            "Old params mean and lambdas: ['0.00', '1.00', '-1.00', '2.00'] New: ['1.00', '1.00', '-1.00', '2.00']\n",
            "Fraction of times CUSUM statistic for break before 0.7 and with T=500 exceeds 1% critical value: 1.0000\n",
            "Fraction of times CUSUM statistic for break before 0.7 and with T=500 exceeds 5% critical value: 1.0000\n",
            "Fraction of times CUSUM statistic for break before 0.7 and with T=500 exceeds 10% critical value: 1.0000\n"
          ]
        },
        {
          "output_type": "stream",
          "name": "stderr",
          "text": [
            "100%|██████████| 1000/1000 [00:29<00:00, 33.72it/s]\n"
          ]
        },
        {
          "output_type": "stream",
          "name": "stdout",
          "text": [
            "Old params mean and lambdas: ['0.00', '1.00', '-1.00', '2.00'] New: ['0.00', '1.00', '-1.00', '2.00']\n",
            "Fraction of times CUSUM statistic for break before 0.7 and with T=500 exceeds 1% critical value: 0.0100\n",
            "Fraction of times CUSUM statistic for break before 0.7 and with T=500 exceeds 5% critical value: 0.0570\n",
            "Fraction of times CUSUM statistic for break before 0.7 and with T=500 exceeds 10% critical value: 0.0980\n"
          ]
        },
        {
          "output_type": "stream",
          "name": "stderr",
          "text": [
            "100%|██████████| 1000/1000 [00:33<00:00, 29.59it/s]\n"
          ]
        },
        {
          "output_type": "stream",
          "name": "stdout",
          "text": [
            "Old params mean and lambdas: ['0.00', '1.00', '-1.00', '2.00'] New: ['0.10', '1.00', '-1.00', '2.00']\n",
            "Fraction of times CUSUM statistic for break before 0.7 and with T=1000 exceeds 1% critical value: 0.4280\n",
            "Fraction of times CUSUM statistic for break before 0.7 and with T=1000 exceeds 5% critical value: 0.6760\n",
            "Fraction of times CUSUM statistic for break before 0.7 and with T=1000 exceeds 10% critical value: 0.7760\n"
          ]
        },
        {
          "output_type": "stream",
          "name": "stderr",
          "text": [
            "100%|██████████| 1000/1000 [00:32<00:00, 30.31it/s]\n"
          ]
        },
        {
          "output_type": "stream",
          "name": "stdout",
          "text": [
            "Old params mean and lambdas: ['0.00', '1.00', '-1.00', '2.00'] New: ['0.05', '1.00', '-1.00', '2.00']\n",
            "Fraction of times CUSUM statistic for break before 0.7 and with T=1000 exceeds 1% critical value: 0.0650\n",
            "Fraction of times CUSUM statistic for break before 0.7 and with T=1000 exceeds 5% critical value: 0.2010\n",
            "Fraction of times CUSUM statistic for break before 0.7 and with T=1000 exceeds 10% critical value: 0.2820\n"
          ]
        },
        {
          "output_type": "stream",
          "name": "stderr",
          "text": [
            "100%|██████████| 1000/1000 [00:34<00:00, 29.33it/s]\n"
          ]
        },
        {
          "output_type": "stream",
          "name": "stdout",
          "text": [
            "Old params mean and lambdas: ['0.00', '1.00', '-1.00', '2.00'] New: ['0.50', '1.00', '-1.00', '2.00']\n",
            "Fraction of times CUSUM statistic for break before 0.7 and with T=1000 exceeds 1% critical value: 1.0000\n",
            "Fraction of times CUSUM statistic for break before 0.7 and with T=1000 exceeds 5% critical value: 1.0000\n",
            "Fraction of times CUSUM statistic for break before 0.7 and with T=1000 exceeds 10% critical value: 1.0000\n"
          ]
        },
        {
          "output_type": "stream",
          "name": "stderr",
          "text": [
            "100%|██████████| 1000/1000 [00:35<00:00, 28.02it/s]\n"
          ]
        },
        {
          "output_type": "stream",
          "name": "stdout",
          "text": [
            "Old params mean and lambdas: ['0.00', '1.00', '-1.00', '2.00'] New: ['1.00', '1.00', '-1.00', '2.00']\n",
            "Fraction of times CUSUM statistic for break before 0.7 and with T=1000 exceeds 1% critical value: 1.0000\n",
            "Fraction of times CUSUM statistic for break before 0.7 and with T=1000 exceeds 5% critical value: 1.0000\n",
            "Fraction of times CUSUM statistic for break before 0.7 and with T=1000 exceeds 10% critical value: 1.0000\n"
          ]
        },
        {
          "output_type": "stream",
          "name": "stderr",
          "text": [
            "100%|██████████| 1000/1000 [00:32<00:00, 31.10it/s]\n"
          ]
        },
        {
          "output_type": "stream",
          "name": "stdout",
          "text": [
            "Old params mean and lambdas: ['0.00', '1.00', '-1.00', '2.00'] New: ['0.00', '1.00', '-1.00', '2.00']\n",
            "Fraction of times CUSUM statistic for break before 0.7 and with T=1000 exceeds 1% critical value: 0.0100\n",
            "Fraction of times CUSUM statistic for break before 0.7 and with T=1000 exceeds 5% critical value: 0.0560\n",
            "Fraction of times CUSUM statistic for break before 0.7 and with T=1000 exceeds 10% critical value: 0.1030\n"
          ]
        },
        {
          "output_type": "stream",
          "name": "stderr",
          "text": [
            "100%|██████████| 1000/1000 [00:39<00:00, 25.53it/s]\n"
          ]
        },
        {
          "output_type": "stream",
          "name": "stdout",
          "text": [
            "Old params mean and lambdas: ['0.00', '1.00', '-1.00', '2.00'] New: ['0.10', '1.00', '-1.00', '2.00']\n",
            "Fraction of times CUSUM statistic for break before 0.7 and with T=1500 exceeds 1% critical value: 0.6560\n",
            "Fraction of times CUSUM statistic for break before 0.7 and with T=1500 exceeds 5% critical value: 0.8600\n",
            "Fraction of times CUSUM statistic for break before 0.7 and with T=1500 exceeds 10% critical value: 0.9180\n"
          ]
        },
        {
          "output_type": "stream",
          "name": "stderr",
          "text": [
            "100%|██████████| 1000/1000 [00:37<00:00, 26.44it/s]\n"
          ]
        },
        {
          "output_type": "stream",
          "name": "stdout",
          "text": [
            "Old params mean and lambdas: ['0.00', '1.00', '-1.00', '2.00'] New: ['0.05', '1.00', '-1.00', '2.00']\n",
            "Fraction of times CUSUM statistic for break before 0.7 and with T=1500 exceeds 1% critical value: 0.1310\n",
            "Fraction of times CUSUM statistic for break before 0.7 and with T=1500 exceeds 5% critical value: 0.2860\n",
            "Fraction of times CUSUM statistic for break before 0.7 and with T=1500 exceeds 10% critical value: 0.3980\n"
          ]
        },
        {
          "output_type": "stream",
          "name": "stderr",
          "text": [
            "100%|██████████| 1000/1000 [00:37<00:00, 26.49it/s]\n"
          ]
        },
        {
          "output_type": "stream",
          "name": "stdout",
          "text": [
            "Old params mean and lambdas: ['0.00', '1.00', '-1.00', '2.00'] New: ['0.50', '1.00', '-1.00', '2.00']\n",
            "Fraction of times CUSUM statistic for break before 0.7 and with T=1500 exceeds 1% critical value: 1.0000\n",
            "Fraction of times CUSUM statistic for break before 0.7 and with T=1500 exceeds 5% critical value: 1.0000\n",
            "Fraction of times CUSUM statistic for break before 0.7 and with T=1500 exceeds 10% critical value: 1.0000\n"
          ]
        },
        {
          "output_type": "stream",
          "name": "stderr",
          "text": [
            "100%|██████████| 1000/1000 [00:39<00:00, 25.16it/s]\n"
          ]
        },
        {
          "output_type": "stream",
          "name": "stdout",
          "text": [
            "Old params mean and lambdas: ['0.00', '1.00', '-1.00', '2.00'] New: ['1.00', '1.00', '-1.00', '2.00']\n",
            "Fraction of times CUSUM statistic for break before 0.7 and with T=1500 exceeds 1% critical value: 1.0000\n",
            "Fraction of times CUSUM statistic for break before 0.7 and with T=1500 exceeds 5% critical value: 1.0000\n",
            "Fraction of times CUSUM statistic for break before 0.7 and with T=1500 exceeds 10% critical value: 1.0000\n"
          ]
        },
        {
          "output_type": "stream",
          "name": "stderr",
          "text": [
            "100%|██████████| 1000/1000 [00:37<00:00, 26.56it/s]\n"
          ]
        },
        {
          "output_type": "stream",
          "name": "stdout",
          "text": [
            "Old params mean and lambdas: ['0.00', '1.00', '-1.00', '2.00'] New: ['0.00', '1.00', '-1.00', '2.00']\n",
            "Fraction of times CUSUM statistic for break before 0.7 and with T=1500 exceeds 1% critical value: 0.0090\n",
            "Fraction of times CUSUM statistic for break before 0.7 and with T=1500 exceeds 5% critical value: 0.0430\n",
            "Fraction of times CUSUM statistic for break before 0.7 and with T=1500 exceeds 10% critical value: 0.0880\n"
          ]
        },
        {
          "output_type": "stream",
          "name": "stderr",
          "text": [
            "100%|██████████| 1000/1000 [00:28<00:00, 35.01it/s]\n"
          ]
        },
        {
          "output_type": "stream",
          "name": "stdout",
          "text": [
            "Old params mean and lambdas: ['0.00', '1.00', '-1.00', '2.00'] New: ['0.10', '1.00', '-1.00', '2.00']\n",
            "Fraction of times CUSUM statistic for break before 0.9 and with T=500 exceeds 1% critical value: 0.0110\n",
            "Fraction of times CUSUM statistic for break before 0.9 and with T=500 exceeds 5% critical value: 0.0650\n",
            "Fraction of times CUSUM statistic for break before 0.9 and with T=500 exceeds 10% critical value: 0.1300\n"
          ]
        },
        {
          "output_type": "stream",
          "name": "stderr",
          "text": [
            "100%|██████████| 1000/1000 [00:28<00:00, 35.20it/s]\n"
          ]
        },
        {
          "output_type": "stream",
          "name": "stdout",
          "text": [
            "Old params mean and lambdas: ['0.00', '1.00', '-1.00', '2.00'] New: ['0.05', '1.00', '-1.00', '2.00']\n",
            "Fraction of times CUSUM statistic for break before 0.9 and with T=500 exceeds 1% critical value: 0.0070\n",
            "Fraction of times CUSUM statistic for break before 0.9 and with T=500 exceeds 5% critical value: 0.0480\n",
            "Fraction of times CUSUM statistic for break before 0.9 and with T=500 exceeds 10% critical value: 0.0960\n"
          ]
        },
        {
          "output_type": "stream",
          "name": "stderr",
          "text": [
            "100%|██████████| 1000/1000 [00:28<00:00, 35.04it/s]\n"
          ]
        },
        {
          "output_type": "stream",
          "name": "stdout",
          "text": [
            "Old params mean and lambdas: ['0.00', '1.00', '-1.00', '2.00'] New: ['0.50', '1.00', '-1.00', '2.00']\n",
            "Fraction of times CUSUM statistic for break before 0.9 and with T=500 exceeds 1% critical value: 0.9510\n",
            "Fraction of times CUSUM statistic for break before 0.9 and with T=500 exceeds 5% critical value: 0.9930\n",
            "Fraction of times CUSUM statistic for break before 0.9 and with T=500 exceeds 10% critical value: 0.9960\n"
          ]
        },
        {
          "output_type": "stream",
          "name": "stderr",
          "text": [
            "100%|██████████| 1000/1000 [00:30<00:00, 32.58it/s]\n"
          ]
        },
        {
          "output_type": "stream",
          "name": "stdout",
          "text": [
            "Old params mean and lambdas: ['0.00', '1.00', '-1.00', '2.00'] New: ['1.00', '1.00', '-1.00', '2.00']\n",
            "Fraction of times CUSUM statistic for break before 0.9 and with T=500 exceeds 1% critical value: 1.0000\n",
            "Fraction of times CUSUM statistic for break before 0.9 and with T=500 exceeds 5% critical value: 1.0000\n",
            "Fraction of times CUSUM statistic for break before 0.9 and with T=500 exceeds 10% critical value: 1.0000\n"
          ]
        },
        {
          "output_type": "stream",
          "name": "stderr",
          "text": [
            "100%|██████████| 1000/1000 [00:28<00:00, 35.21it/s]\n"
          ]
        },
        {
          "output_type": "stream",
          "name": "stdout",
          "text": [
            "Old params mean and lambdas: ['0.00', '1.00', '-1.00', '2.00'] New: ['0.00', '1.00', '-1.00', '2.00']\n",
            "Fraction of times CUSUM statistic for break before 0.9 and with T=500 exceeds 1% critical value: 0.0060\n",
            "Fraction of times CUSUM statistic for break before 0.9 and with T=500 exceeds 5% critical value: 0.0470\n",
            "Fraction of times CUSUM statistic for break before 0.9 and with T=500 exceeds 10% critical value: 0.0930\n"
          ]
        },
        {
          "output_type": "stream",
          "name": "stderr",
          "text": [
            "100%|██████████| 1000/1000 [00:33<00:00, 30.03it/s]\n"
          ]
        },
        {
          "output_type": "stream",
          "name": "stdout",
          "text": [
            "Old params mean and lambdas: ['0.00', '1.00', '-1.00', '2.00'] New: ['0.10', '1.00', '-1.00', '2.00']\n",
            "Fraction of times CUSUM statistic for break before 0.9 and with T=1000 exceeds 1% critical value: 0.0460\n",
            "Fraction of times CUSUM statistic for break before 0.9 and with T=1000 exceeds 5% critical value: 0.1360\n",
            "Fraction of times CUSUM statistic for break before 0.9 and with T=1000 exceeds 10% critical value: 0.2350\n"
          ]
        },
        {
          "output_type": "stream",
          "name": "stderr",
          "text": [
            "100%|██████████| 1000/1000 [00:34<00:00, 28.93it/s]\n"
          ]
        },
        {
          "output_type": "stream",
          "name": "stdout",
          "text": [
            "Old params mean and lambdas: ['0.00', '1.00', '-1.00', '2.00'] New: ['0.05', '1.00', '-1.00', '2.00']\n",
            "Fraction of times CUSUM statistic for break before 0.9 and with T=1000 exceeds 1% critical value: 0.0190\n",
            "Fraction of times CUSUM statistic for break before 0.9 and with T=1000 exceeds 5% critical value: 0.0760\n",
            "Fraction of times CUSUM statistic for break before 0.9 and with T=1000 exceeds 10% critical value: 0.1470\n"
          ]
        },
        {
          "output_type": "stream",
          "name": "stderr",
          "text": [
            "100%|██████████| 1000/1000 [00:35<00:00, 28.51it/s]\n"
          ]
        },
        {
          "output_type": "stream",
          "name": "stdout",
          "text": [
            "Old params mean and lambdas: ['0.00', '1.00', '-1.00', '2.00'] New: ['0.50', '1.00', '-1.00', '2.00']\n",
            "Fraction of times CUSUM statistic for break before 0.9 and with T=1000 exceeds 1% critical value: 1.0000\n",
            "Fraction of times CUSUM statistic for break before 0.9 and with T=1000 exceeds 5% critical value: 1.0000\n",
            "Fraction of times CUSUM statistic for break before 0.9 and with T=1000 exceeds 10% critical value: 1.0000\n"
          ]
        },
        {
          "output_type": "stream",
          "name": "stderr",
          "text": [
            "100%|██████████| 1000/1000 [00:36<00:00, 27.37it/s]\n"
          ]
        },
        {
          "output_type": "stream",
          "name": "stdout",
          "text": [
            "Old params mean and lambdas: ['0.00', '1.00', '-1.00', '2.00'] New: ['1.00', '1.00', '-1.00', '2.00']\n",
            "Fraction of times CUSUM statistic for break before 0.9 and with T=1000 exceeds 1% critical value: 1.0000\n",
            "Fraction of times CUSUM statistic for break before 0.9 and with T=1000 exceeds 5% critical value: 1.0000\n",
            "Fraction of times CUSUM statistic for break before 0.9 and with T=1000 exceeds 10% critical value: 1.0000\n"
          ]
        },
        {
          "output_type": "stream",
          "name": "stderr",
          "text": [
            "100%|██████████| 1000/1000 [00:35<00:00, 27.84it/s]\n"
          ]
        },
        {
          "output_type": "stream",
          "name": "stdout",
          "text": [
            "Old params mean and lambdas: ['0.00', '1.00', '-1.00', '2.00'] New: ['0.00', '1.00', '-1.00', '2.00']\n",
            "Fraction of times CUSUM statistic for break before 0.9 and with T=1000 exceeds 1% critical value: 0.0050\n",
            "Fraction of times CUSUM statistic for break before 0.9 and with T=1000 exceeds 5% critical value: 0.0350\n",
            "Fraction of times CUSUM statistic for break before 0.9 and with T=1000 exceeds 10% critical value: 0.0900\n"
          ]
        },
        {
          "output_type": "stream",
          "name": "stderr",
          "text": [
            "100%|██████████| 1000/1000 [00:39<00:00, 25.40it/s]\n"
          ]
        },
        {
          "output_type": "stream",
          "name": "stdout",
          "text": [
            "Old params mean and lambdas: ['0.00', '1.00', '-1.00', '2.00'] New: ['0.10', '1.00', '-1.00', '2.00']\n",
            "Fraction of times CUSUM statistic for break before 0.9 and with T=1500 exceeds 1% critical value: 0.0590\n",
            "Fraction of times CUSUM statistic for break before 0.9 and with T=1500 exceeds 5% critical value: 0.1970\n",
            "Fraction of times CUSUM statistic for break before 0.9 and with T=1500 exceeds 10% critical value: 0.3210\n"
          ]
        },
        {
          "output_type": "stream",
          "name": "stderr",
          "text": [
            "100%|██████████| 1000/1000 [00:39<00:00, 25.57it/s]\n"
          ]
        },
        {
          "output_type": "stream",
          "name": "stdout",
          "text": [
            "Old params mean and lambdas: ['0.00', '1.00', '-1.00', '2.00'] New: ['0.05', '1.00', '-1.00', '2.00']\n",
            "Fraction of times CUSUM statistic for break before 0.9 and with T=1500 exceeds 1% critical value: 0.0220\n",
            "Fraction of times CUSUM statistic for break before 0.9 and with T=1500 exceeds 5% critical value: 0.0870\n",
            "Fraction of times CUSUM statistic for break before 0.9 and with T=1500 exceeds 10% critical value: 0.1750\n"
          ]
        },
        {
          "output_type": "stream",
          "name": "stderr",
          "text": [
            "100%|██████████| 1000/1000 [00:39<00:00, 25.51it/s]\n"
          ]
        },
        {
          "output_type": "stream",
          "name": "stdout",
          "text": [
            "Old params mean and lambdas: ['0.00', '1.00', '-1.00', '2.00'] New: ['0.50', '1.00', '-1.00', '2.00']\n",
            "Fraction of times CUSUM statistic for break before 0.9 and with T=1500 exceeds 1% critical value: 1.0000\n",
            "Fraction of times CUSUM statistic for break before 0.9 and with T=1500 exceeds 5% critical value: 1.0000\n",
            "Fraction of times CUSUM statistic for break before 0.9 and with T=1500 exceeds 10% critical value: 1.0000\n"
          ]
        },
        {
          "output_type": "stream",
          "name": "stderr",
          "text": [
            "100%|██████████| 1000/1000 [00:42<00:00, 23.33it/s]\n"
          ]
        },
        {
          "output_type": "stream",
          "name": "stdout",
          "text": [
            "Old params mean and lambdas: ['0.00', '1.00', '-1.00', '2.00'] New: ['1.00', '1.00', '-1.00', '2.00']\n",
            "Fraction of times CUSUM statistic for break before 0.9 and with T=1500 exceeds 1% critical value: 1.0000\n",
            "Fraction of times CUSUM statistic for break before 0.9 and with T=1500 exceeds 5% critical value: 1.0000\n",
            "Fraction of times CUSUM statistic for break before 0.9 and with T=1500 exceeds 10% critical value: 1.0000\n"
          ]
        },
        {
          "output_type": "stream",
          "name": "stderr",
          "text": [
            "100%|██████████| 1000/1000 [00:37<00:00, 26.38it/s]"
          ]
        },
        {
          "output_type": "stream",
          "name": "stdout",
          "text": [
            "Old params mean and lambdas: ['0.00', '1.00', '-1.00', '2.00'] New: ['0.00', '1.00', '-1.00', '2.00']\n",
            "Fraction of times CUSUM statistic for break before 0.9 and with T=1500 exceeds 1% critical value: 0.0080\n",
            "Fraction of times CUSUM statistic for break before 0.9 and with T=1500 exceeds 5% critical value: 0.0390\n",
            "Fraction of times CUSUM statistic for break before 0.9 and with T=1500 exceeds 10% critical value: 0.0840\n"
          ]
        },
        {
          "output_type": "stream",
          "name": "stderr",
          "text": [
            "\n"
          ]
        }
      ],
      "source": [
        "import os\n",
        "import pandas as pd\n",
        "\n",
        "def mean_change_seasonality_run_simulations():\n",
        "    # Define the parameters\n",
        "    fractions = [0.1, 0.3, 0.5, 0.7, 0.9]\n",
        "    T_values = [500, 1000, 1500]\n",
        "    means = [0.1, 0.05, 0.5, 1, 0]\n",
        "    #base_params = [np.array([0, 0.2, 0.2])]\n",
        "    params = np.array([.0, 1,-1,2])\n",
        "\n",
        "    # Filename for saving and loading results\n",
        "    filename = \"mean_change_simulation_results_seasonal_1000.csv\"\n",
        "\n",
        "    # Load existing results if the CSV file exists\n",
        "    # if os.path.exists(filename):\n",
        "    #     df_existing = pd.read_csv(filename)\n",
        "    #     last_row = df_existing.iloc[-1]\n",
        "\n",
        "    #     start_fraction_index = fractions.index(last_row['fraction'])\n",
        "    #     start_T_index = T_values.index(last_row['T'])\n",
        "    #     start_mean_index = means.index(last_row['mean_change'])\n",
        "    #     #start_base_params_index = base_params.index(np.array(eval(last_row['base_parameters'])))\n",
        "    # else:\n",
        "    #     df_existing = pd.DataFrame()\n",
        "    #     start_fraction_index, start_T_index, start_mean_index = 0, 0, 0\n",
        "\n",
        "    # # Iterate through parameters, starting from the saved positions\n",
        "    for fraction in fractions:\n",
        "        for T in T_values:\n",
        "            for mean in means:\n",
        "                params_x = params.copy()\n",
        "                params_x[0] = mean\n",
        "                sim_result = monte_carlo_simulation_seasonal(params,params_x, n_simulations=1000, T=T, fraction = fraction)\n",
        "\n",
        "                row = {'fraction': fraction, 'T': T, 'mean_change': mean, 'base_parameters': str(params), 'result': sim_result}\n",
        "\n",
        "                # Save the result of this iteration to the CSV file\n",
        "                df = pd.DataFrame([row])\n",
        "                df.to_csv(filename, mode='a', header=not os.path.exists(filename), index=False)\n",
        "\n",
        "                # # Reset indices for inner loops\n",
        "                # if param == len(params) - 1:\n",
        "                #     start_base_params_index = 0\n",
        "                # if mean_index == len(means) - 1:\n",
        "                #     start_mean_index = 0\n",
        "                # if T_index == len(T_values) - 1:\n",
        "                #     start_T_index = 0\n",
        "\n",
        "mean_change_seasonality_run_simulations()\n",
        "\n",
        "# Load the data\n",
        "data = pd.read_csv('mean_change_simulation_results_seasonal_1000.csv')\n",
        "\n",
        "data['result'] = data['result'].str.strip('[]').str.split(',').apply(lambda x: [float(item.strip()) for item in x])\n",
        "\n",
        "# Create new columns based on the significance levels\n",
        "data['1%_significance'] = data['result'].apply(lambda x: x[0])\n",
        "data['5%_significance'] = data['result'].apply(lambda x: x[1])\n",
        "data['10%_significance'] = data['result'].apply(lambda x: x[2])\n",
        "\n",
        "# Drop the original 'result' column\n",
        "data = data.drop(columns='result')\n",
        "\n",
        "# Save the updated dataset to a new CSV file\n",
        "file_path = \"mean_change_simulation_results_seasonal_1000.csv\"\n",
        "data.to_csv(file_path, index=False)\n",
        "\n"
      ]
    },
    {
      "cell_type": "code",
      "source": [
        "import os\n",
        "import pandas as pd\n",
        "\n",
        "def mean_change_seasonality_run_simulations():\n",
        "    # Define the parameters\n",
        "    fractions = [0.1, 0.3, 0.5, 0.7, 0.9]\n",
        "    T_values = [500, 1000, 1500]\n",
        "    means = [0.1, 0.05, 0.5, 1, 0]\n",
        "    #base_params = [np.array([0, 0.2, 0.2])]\n",
        "    params = np.array([.0, 1,-1,2])\n",
        "\n",
        "    # Filename for saving and loading results\n",
        "    filename = \"lambda_change_simulation_results_seasonal_1000.csv\"\n",
        "\n",
        "    # Load existing results if the CSV file exists\n",
        "    # if os.path.exists(filename):\n",
        "    #     df_existing = pd.read_csv(filename)\n",
        "    #     last_row = df_existing.iloc[-1]\n",
        "\n",
        "    #     start_fraction_index = fractions.index(last_row['fraction'])\n",
        "    #     start_T_index = T_values.index(last_row['T'])\n",
        "    #     start_mean_index = means.index(last_row['mean_change'])\n",
        "    #     #start_base_params_index = base_params.index(np.array(eval(last_row['base_parameters'])))\n",
        "    # else:\n",
        "    #     df_existing = pd.DataFrame()\n",
        "    #     start_fraction_index, start_T_index, start_mean_index = 0, 0, 0\n",
        "\n",
        "    # # Iterate through parameters, starting from the saved positions\n",
        "    for fraction in fractions:\n",
        "        for T in T_values:\n",
        "            for mean in means:\n",
        "                params_x = params.copy()\n",
        "                params_x[1] = params_x[1] + mean\n",
        "                sim_result = monte_carlo_simulation_seasonal(params,params_x, n_simulations=1000, T=T, fraction = fraction)\n",
        "\n",
        "                row = {'fraction': fraction, 'T': T, 'mean_change': mean, 'base_parameters': str(params), 'result': sim_result}\n",
        "\n",
        "                # Save the result of this iteration to the CSV file\n",
        "                df = pd.DataFrame([row])\n",
        "                df.to_csv(filename, mode='a', header=not os.path.exists(filename), index=False)\n",
        "\n",
        "                # # Reset indices for inner loops\n",
        "                # if param == len(params) - 1:\n",
        "                #     start_base_params_index = 0\n",
        "                # if mean_index == len(means) - 1:\n",
        "                #     start_mean_index = 0\n",
        "                # if T_index == len(T_values) - 1:\n",
        "                #     start_T_index = 0\n",
        "\n",
        "mean_change_seasonality_run_simulations()\n",
        "\n",
        "# Load the data\n",
        "data = pd.read_csv('lambda_change_simulation_results_seasonal_1000.csv')\n",
        "\n",
        "data['result'] = data['result'].str.strip('[]').str.split(',').apply(lambda x: [float(item.strip()) for item in x])\n",
        "\n",
        "# Create new columns based on the significance levels\n",
        "data['1%_significance'] = data['result'].apply(lambda x: x[0])\n",
        "data['5%_significance'] = data['result'].apply(lambda x: x[1])\n",
        "data['10%_significance'] = data['result'].apply(lambda x: x[2])\n",
        "\n",
        "# Drop the original 'result' column\n",
        "data = data.drop(columns='result')\n",
        "\n",
        "# Save the updated dataset to a new CSV file\n",
        "file_path = \"lambda_change_simulation_results_seasonal_1000.csv\"\n",
        "data.to_csv(file_path, index=False)\n",
        "\n"
      ],
      "metadata": {
        "colab": {
          "base_uri": "https://localhost:8080/"
        },
        "id": "gI6sdPknUhu5",
        "outputId": "cf5da9a4-f0b8-490a-b2db-b79c51d766ff"
      },
      "execution_count": null,
      "outputs": [
        {
          "output_type": "stream",
          "name": "stderr",
          "text": [
            "100%|██████████| 1000/1000 [00:31<00:00, 31.92it/s]\n"
          ]
        },
        {
          "output_type": "stream",
          "name": "stdout",
          "text": [
            "Old params mean and lambdas: ['0.00', '1.00', '-1.00', '2.00'] New: ['0.00', '1.10', '-1.00', '2.00']\n",
            "Fraction of times CUSUM statistic for break before 0.1 and with T=500 exceeds 1% critical value: 0.0060\n",
            "Fraction of times CUSUM statistic for break before 0.1 and with T=500 exceeds 5% critical value: 0.0400\n",
            "Fraction of times CUSUM statistic for break before 0.1 and with T=500 exceeds 10% critical value: 0.0940\n"
          ]
        },
        {
          "output_type": "stream",
          "name": "stderr",
          "text": [
            "100%|██████████| 1000/1000 [00:30<00:00, 33.22it/s]\n"
          ]
        },
        {
          "output_type": "stream",
          "name": "stdout",
          "text": [
            "Old params mean and lambdas: ['0.00', '1.00', '-1.00', '2.00'] New: ['0.00', '1.05', '-1.00', '2.00']\n",
            "Fraction of times CUSUM statistic for break before 0.1 and with T=500 exceeds 1% critical value: 0.0080\n",
            "Fraction of times CUSUM statistic for break before 0.1 and with T=500 exceeds 5% critical value: 0.0430\n",
            "Fraction of times CUSUM statistic for break before 0.1 and with T=500 exceeds 10% critical value: 0.0890\n"
          ]
        },
        {
          "output_type": "stream",
          "name": "stderr",
          "text": [
            "100%|██████████| 1000/1000 [00:29<00:00, 33.53it/s]\n"
          ]
        },
        {
          "output_type": "stream",
          "name": "stdout",
          "text": [
            "Old params mean and lambdas: ['0.00', '1.00', '-1.00', '2.00'] New: ['0.00', '1.50', '-1.00', '2.00']\n",
            "Fraction of times CUSUM statistic for break before 0.1 and with T=500 exceeds 1% critical value: 0.0240\n",
            "Fraction of times CUSUM statistic for break before 0.1 and with T=500 exceeds 5% critical value: 0.1030\n",
            "Fraction of times CUSUM statistic for break before 0.1 and with T=500 exceeds 10% critical value: 0.1990\n"
          ]
        },
        {
          "output_type": "stream",
          "name": "stderr",
          "text": [
            "100%|██████████| 1000/1000 [00:32<00:00, 30.96it/s]\n"
          ]
        },
        {
          "output_type": "stream",
          "name": "stdout",
          "text": [
            "Old params mean and lambdas: ['0.00', '1.00', '-1.00', '2.00'] New: ['0.00', '2.00', '-1.00', '2.00']\n",
            "Fraction of times CUSUM statistic for break before 0.1 and with T=500 exceeds 1% critical value: 0.1320\n",
            "Fraction of times CUSUM statistic for break before 0.1 and with T=500 exceeds 5% critical value: 0.4080\n",
            "Fraction of times CUSUM statistic for break before 0.1 and with T=500 exceeds 10% critical value: 0.5730\n"
          ]
        },
        {
          "output_type": "stream",
          "name": "stderr",
          "text": [
            "100%|██████████| 1000/1000 [00:28<00:00, 34.63it/s]\n"
          ]
        },
        {
          "output_type": "stream",
          "name": "stdout",
          "text": [
            "Old params mean and lambdas: ['0.00', '1.00', '-1.00', '2.00'] New: ['0.00', '1.00', '-1.00', '2.00']\n",
            "Fraction of times CUSUM statistic for break before 0.1 and with T=500 exceeds 1% critical value: 0.0050\n",
            "Fraction of times CUSUM statistic for break before 0.1 and with T=500 exceeds 5% critical value: 0.0340\n",
            "Fraction of times CUSUM statistic for break before 0.1 and with T=500 exceeds 10% critical value: 0.0840\n"
          ]
        },
        {
          "output_type": "stream",
          "name": "stderr",
          "text": [
            "100%|██████████| 1000/1000 [00:34<00:00, 28.72it/s]\n"
          ]
        },
        {
          "output_type": "stream",
          "name": "stdout",
          "text": [
            "Old params mean and lambdas: ['0.00', '1.00', '-1.00', '2.00'] New: ['0.00', '1.10', '-1.00', '2.00']\n",
            "Fraction of times CUSUM statistic for break before 0.1 and with T=1000 exceeds 1% critical value: 0.0140\n",
            "Fraction of times CUSUM statistic for break before 0.1 and with T=1000 exceeds 5% critical value: 0.0470\n",
            "Fraction of times CUSUM statistic for break before 0.1 and with T=1000 exceeds 10% critical value: 0.0900\n"
          ]
        },
        {
          "output_type": "stream",
          "name": "stderr",
          "text": [
            "100%|██████████| 1000/1000 [00:33<00:00, 29.61it/s]\n"
          ]
        },
        {
          "output_type": "stream",
          "name": "stdout",
          "text": [
            "Old params mean and lambdas: ['0.00', '1.00', '-1.00', '2.00'] New: ['0.00', '1.05', '-1.00', '2.00']\n",
            "Fraction of times CUSUM statistic for break before 0.1 and with T=1000 exceeds 1% critical value: 0.0050\n",
            "Fraction of times CUSUM statistic for break before 0.1 and with T=1000 exceeds 5% critical value: 0.0340\n",
            "Fraction of times CUSUM statistic for break before 0.1 and with T=1000 exceeds 10% critical value: 0.0830\n"
          ]
        },
        {
          "output_type": "stream",
          "name": "stderr",
          "text": [
            "100%|██████████| 1000/1000 [00:34<00:00, 28.82it/s]\n"
          ]
        },
        {
          "output_type": "stream",
          "name": "stdout",
          "text": [
            "Old params mean and lambdas: ['0.00', '1.00', '-1.00', '2.00'] New: ['0.00', '1.50', '-1.00', '2.00']\n",
            "Fraction of times CUSUM statistic for break before 0.1 and with T=1000 exceeds 1% critical value: 0.0490\n",
            "Fraction of times CUSUM statistic for break before 0.1 and with T=1000 exceeds 5% critical value: 0.1860\n",
            "Fraction of times CUSUM statistic for break before 0.1 and with T=1000 exceeds 10% critical value: 0.2980\n"
          ]
        },
        {
          "output_type": "stream",
          "name": "stderr",
          "text": [
            "100%|██████████| 1000/1000 [00:35<00:00, 28.39it/s]\n"
          ]
        },
        {
          "output_type": "stream",
          "name": "stdout",
          "text": [
            "Old params mean and lambdas: ['0.00', '1.00', '-1.00', '2.00'] New: ['0.00', '2.00', '-1.00', '2.00']\n",
            "Fraction of times CUSUM statistic for break before 0.1 and with T=1000 exceeds 1% critical value: 0.4340\n",
            "Fraction of times CUSUM statistic for break before 0.1 and with T=1000 exceeds 5% critical value: 0.7690\n",
            "Fraction of times CUSUM statistic for break before 0.1 and with T=1000 exceeds 10% critical value: 0.8680\n"
          ]
        },
        {
          "output_type": "stream",
          "name": "stderr",
          "text": [
            "100%|██████████| 1000/1000 [00:33<00:00, 29.48it/s]\n"
          ]
        },
        {
          "output_type": "stream",
          "name": "stdout",
          "text": [
            "Old params mean and lambdas: ['0.00', '1.00', '-1.00', '2.00'] New: ['0.00', '1.00', '-1.00', '2.00']\n",
            "Fraction of times CUSUM statistic for break before 0.1 and with T=1000 exceeds 1% critical value: 0.0110\n",
            "Fraction of times CUSUM statistic for break before 0.1 and with T=1000 exceeds 5% critical value: 0.0440\n",
            "Fraction of times CUSUM statistic for break before 0.1 and with T=1000 exceeds 10% critical value: 0.0950\n"
          ]
        },
        {
          "output_type": "stream",
          "name": "stderr",
          "text": [
            "100%|██████████| 1000/1000 [00:38<00:00, 25.99it/s]\n"
          ]
        },
        {
          "output_type": "stream",
          "name": "stdout",
          "text": [
            "Old params mean and lambdas: ['0.00', '1.00', '-1.00', '2.00'] New: ['0.00', '1.10', '-1.00', '2.00']\n",
            "Fraction of times CUSUM statistic for break before 0.1 and with T=1500 exceeds 1% critical value: 0.0120\n",
            "Fraction of times CUSUM statistic for break before 0.1 and with T=1500 exceeds 5% critical value: 0.0490\n",
            "Fraction of times CUSUM statistic for break before 0.1 and with T=1500 exceeds 10% critical value: 0.0970\n"
          ]
        },
        {
          "output_type": "stream",
          "name": "stderr",
          "text": [
            "100%|██████████| 1000/1000 [00:38<00:00, 25.94it/s]\n"
          ]
        },
        {
          "output_type": "stream",
          "name": "stdout",
          "text": [
            "Old params mean and lambdas: ['0.00', '1.00', '-1.00', '2.00'] New: ['0.00', '1.05', '-1.00', '2.00']\n",
            "Fraction of times CUSUM statistic for break before 0.1 and with T=1500 exceeds 1% critical value: 0.0070\n",
            "Fraction of times CUSUM statistic for break before 0.1 and with T=1500 exceeds 5% critical value: 0.0490\n",
            "Fraction of times CUSUM statistic for break before 0.1 and with T=1500 exceeds 10% critical value: 0.0910\n"
          ]
        },
        {
          "output_type": "stream",
          "name": "stderr",
          "text": [
            "100%|██████████| 1000/1000 [00:39<00:00, 25.08it/s]\n"
          ]
        },
        {
          "output_type": "stream",
          "name": "stdout",
          "text": [
            "Old params mean and lambdas: ['0.00', '1.00', '-1.00', '2.00'] New: ['0.00', '1.50', '-1.00', '2.00']\n",
            "Fraction of times CUSUM statistic for break before 0.1 and with T=1500 exceeds 1% critical value: 0.0920\n",
            "Fraction of times CUSUM statistic for break before 0.1 and with T=1500 exceeds 5% critical value: 0.2900\n",
            "Fraction of times CUSUM statistic for break before 0.1 and with T=1500 exceeds 10% critical value: 0.4450\n"
          ]
        },
        {
          "output_type": "stream",
          "name": "stderr",
          "text": [
            "100%|██████████| 1000/1000 [00:38<00:00, 26.10it/s]\n"
          ]
        },
        {
          "output_type": "stream",
          "name": "stdout",
          "text": [
            "Old params mean and lambdas: ['0.00', '1.00', '-1.00', '2.00'] New: ['0.00', '2.00', '-1.00', '2.00']\n",
            "Fraction of times CUSUM statistic for break before 0.1 and with T=1500 exceeds 1% critical value: 0.7900\n",
            "Fraction of times CUSUM statistic for break before 0.1 and with T=1500 exceeds 5% critical value: 0.9640\n",
            "Fraction of times CUSUM statistic for break before 0.1 and with T=1500 exceeds 10% critical value: 0.9900\n"
          ]
        },
        {
          "output_type": "stream",
          "name": "stderr",
          "text": [
            "100%|██████████| 1000/1000 [00:37<00:00, 26.83it/s]\n"
          ]
        },
        {
          "output_type": "stream",
          "name": "stdout",
          "text": [
            "Old params mean and lambdas: ['0.00', '1.00', '-1.00', '2.00'] New: ['0.00', '1.00', '-1.00', '2.00']\n",
            "Fraction of times CUSUM statistic for break before 0.1 and with T=1500 exceeds 1% critical value: 0.0120\n",
            "Fraction of times CUSUM statistic for break before 0.1 and with T=1500 exceeds 5% critical value: 0.0390\n",
            "Fraction of times CUSUM statistic for break before 0.1 and with T=1500 exceeds 10% critical value: 0.0820\n"
          ]
        },
        {
          "output_type": "stream",
          "name": "stderr",
          "text": [
            "100%|██████████| 1000/1000 [00:29<00:00, 33.59it/s]\n"
          ]
        },
        {
          "output_type": "stream",
          "name": "stdout",
          "text": [
            "Old params mean and lambdas: ['0.00', '1.00', '-1.00', '2.00'] New: ['0.00', '1.10', '-1.00', '2.00']\n",
            "Fraction of times CUSUM statistic for break before 0.3 and with T=500 exceeds 1% critical value: 0.0160\n",
            "Fraction of times CUSUM statistic for break before 0.3 and with T=500 exceeds 5% critical value: 0.0470\n",
            "Fraction of times CUSUM statistic for break before 0.3 and with T=500 exceeds 10% critical value: 0.0990\n"
          ]
        },
        {
          "output_type": "stream",
          "name": "stderr",
          "text": [
            "100%|██████████| 1000/1000 [00:29<00:00, 33.42it/s]\n"
          ]
        },
        {
          "output_type": "stream",
          "name": "stdout",
          "text": [
            "Old params mean and lambdas: ['0.00', '1.00', '-1.00', '2.00'] New: ['0.00', '1.05', '-1.00', '2.00']\n",
            "Fraction of times CUSUM statistic for break before 0.3 and with T=500 exceeds 1% critical value: 0.0040\n",
            "Fraction of times CUSUM statistic for break before 0.3 and with T=500 exceeds 5% critical value: 0.0470\n",
            "Fraction of times CUSUM statistic for break before 0.3 and with T=500 exceeds 10% critical value: 0.0900\n"
          ]
        },
        {
          "output_type": "stream",
          "name": "stderr",
          "text": [
            "100%|██████████| 1000/1000 [00:32<00:00, 30.82it/s]\n"
          ]
        },
        {
          "output_type": "stream",
          "name": "stdout",
          "text": [
            "Old params mean and lambdas: ['0.00', '1.00', '-1.00', '2.00'] New: ['0.00', '1.50', '-1.00', '2.00']\n",
            "Fraction of times CUSUM statistic for break before 0.3 and with T=500 exceeds 1% critical value: 0.3000\n",
            "Fraction of times CUSUM statistic for break before 0.3 and with T=500 exceeds 5% critical value: 0.5230\n",
            "Fraction of times CUSUM statistic for break before 0.3 and with T=500 exceeds 10% critical value: 0.6700\n"
          ]
        },
        {
          "output_type": "stream",
          "name": "stderr",
          "text": [
            "100%|██████████| 1000/1000 [00:30<00:00, 32.85it/s]\n"
          ]
        },
        {
          "output_type": "stream",
          "name": "stdout",
          "text": [
            "Old params mean and lambdas: ['0.00', '1.00', '-1.00', '2.00'] New: ['0.00', '2.00', '-1.00', '2.00']\n",
            "Fraction of times CUSUM statistic for break before 0.3 and with T=500 exceeds 1% critical value: 0.9670\n",
            "Fraction of times CUSUM statistic for break before 0.3 and with T=500 exceeds 5% critical value: 0.9960\n",
            "Fraction of times CUSUM statistic for break before 0.3 and with T=500 exceeds 10% critical value: 1.0000\n"
          ]
        },
        {
          "output_type": "stream",
          "name": "stderr",
          "text": [
            "100%|██████████| 1000/1000 [00:29<00:00, 34.05it/s]\n"
          ]
        },
        {
          "output_type": "stream",
          "name": "stdout",
          "text": [
            "Old params mean and lambdas: ['0.00', '1.00', '-1.00', '2.00'] New: ['0.00', '1.00', '-1.00', '2.00']\n",
            "Fraction of times CUSUM statistic for break before 0.3 and with T=500 exceeds 1% critical value: 0.0060\n",
            "Fraction of times CUSUM statistic for break before 0.3 and with T=500 exceeds 5% critical value: 0.0470\n",
            "Fraction of times CUSUM statistic for break before 0.3 and with T=500 exceeds 10% critical value: 0.0960\n"
          ]
        },
        {
          "output_type": "stream",
          "name": "stderr",
          "text": [
            "100%|██████████| 1000/1000 [00:34<00:00, 28.87it/s]\n"
          ]
        },
        {
          "output_type": "stream",
          "name": "stdout",
          "text": [
            "Old params mean and lambdas: ['0.00', '1.00', '-1.00', '2.00'] New: ['0.00', '1.10', '-1.00', '2.00']\n",
            "Fraction of times CUSUM statistic for break before 0.3 and with T=1000 exceeds 1% critical value: 0.0240\n",
            "Fraction of times CUSUM statistic for break before 0.3 and with T=1000 exceeds 5% critical value: 0.0840\n",
            "Fraction of times CUSUM statistic for break before 0.3 and with T=1000 exceeds 10% critical value: 0.1560\n"
          ]
        },
        {
          "output_type": "stream",
          "name": "stderr",
          "text": [
            "100%|██████████| 1000/1000 [00:34<00:00, 28.84it/s]\n"
          ]
        },
        {
          "output_type": "stream",
          "name": "stdout",
          "text": [
            "Old params mean and lambdas: ['0.00', '1.00', '-1.00', '2.00'] New: ['0.00', '1.05', '-1.00', '2.00']\n",
            "Fraction of times CUSUM statistic for break before 0.3 and with T=1000 exceeds 1% critical value: 0.0090\n",
            "Fraction of times CUSUM statistic for break before 0.3 and with T=1000 exceeds 5% critical value: 0.0500\n",
            "Fraction of times CUSUM statistic for break before 0.3 and with T=1000 exceeds 10% critical value: 0.1050\n"
          ]
        },
        {
          "output_type": "stream",
          "name": "stderr",
          "text": [
            "100%|██████████| 1000/1000 [00:35<00:00, 28.53it/s]\n"
          ]
        },
        {
          "output_type": "stream",
          "name": "stdout",
          "text": [
            "Old params mean and lambdas: ['0.00', '1.00', '-1.00', '2.00'] New: ['0.00', '1.50', '-1.00', '2.00']\n",
            "Fraction of times CUSUM statistic for break before 0.3 and with T=1000 exceeds 1% critical value: 0.6740\n",
            "Fraction of times CUSUM statistic for break before 0.3 and with T=1000 exceeds 5% critical value: 0.8640\n",
            "Fraction of times CUSUM statistic for break before 0.3 and with T=1000 exceeds 10% critical value: 0.9230\n"
          ]
        },
        {
          "output_type": "stream",
          "name": "stderr",
          "text": [
            "100%|██████████| 1000/1000 [00:35<00:00, 28.32it/s]\n"
          ]
        },
        {
          "output_type": "stream",
          "name": "stdout",
          "text": [
            "Old params mean and lambdas: ['0.00', '1.00', '-1.00', '2.00'] New: ['0.00', '2.00', '-1.00', '2.00']\n",
            "Fraction of times CUSUM statistic for break before 0.3 and with T=1000 exceeds 1% critical value: 1.0000\n",
            "Fraction of times CUSUM statistic for break before 0.3 and with T=1000 exceeds 5% critical value: 1.0000\n",
            "Fraction of times CUSUM statistic for break before 0.3 and with T=1000 exceeds 10% critical value: 1.0000\n"
          ]
        },
        {
          "output_type": "stream",
          "name": "stderr",
          "text": [
            "100%|██████████| 1000/1000 [00:33<00:00, 29.43it/s]\n"
          ]
        },
        {
          "output_type": "stream",
          "name": "stdout",
          "text": [
            "Old params mean and lambdas: ['0.00', '1.00', '-1.00', '2.00'] New: ['0.00', '1.00', '-1.00', '2.00']\n",
            "Fraction of times CUSUM statistic for break before 0.3 and with T=1000 exceeds 1% critical value: 0.0100\n",
            "Fraction of times CUSUM statistic for break before 0.3 and with T=1000 exceeds 5% critical value: 0.0350\n",
            "Fraction of times CUSUM statistic for break before 0.3 and with T=1000 exceeds 10% critical value: 0.0870\n"
          ]
        },
        {
          "output_type": "stream",
          "name": "stderr",
          "text": [
            "100%|██████████| 1000/1000 [00:38<00:00, 25.70it/s]\n"
          ]
        },
        {
          "output_type": "stream",
          "name": "stdout",
          "text": [
            "Old params mean and lambdas: ['0.00', '1.00', '-1.00', '2.00'] New: ['0.00', '1.10', '-1.00', '2.00']\n",
            "Fraction of times CUSUM statistic for break before 0.3 and with T=1500 exceeds 1% critical value: 0.0210\n",
            "Fraction of times CUSUM statistic for break before 0.3 and with T=1500 exceeds 5% critical value: 0.0980\n",
            "Fraction of times CUSUM statistic for break before 0.3 and with T=1500 exceeds 10% critical value: 0.1580\n"
          ]
        },
        {
          "output_type": "stream",
          "name": "stderr",
          "text": [
            "100%|██████████| 1000/1000 [00:39<00:00, 25.53it/s]\n"
          ]
        },
        {
          "output_type": "stream",
          "name": "stdout",
          "text": [
            "Old params mean and lambdas: ['0.00', '1.00', '-1.00', '2.00'] New: ['0.00', '1.05', '-1.00', '2.00']\n",
            "Fraction of times CUSUM statistic for break before 0.3 and with T=1500 exceeds 1% critical value: 0.0150\n",
            "Fraction of times CUSUM statistic for break before 0.3 and with T=1500 exceeds 5% critical value: 0.0510\n",
            "Fraction of times CUSUM statistic for break before 0.3 and with T=1500 exceeds 10% critical value: 0.0820\n"
          ]
        },
        {
          "output_type": "stream",
          "name": "stderr",
          "text": [
            "100%|██████████| 1000/1000 [00:38<00:00, 25.97it/s]\n"
          ]
        },
        {
          "output_type": "stream",
          "name": "stdout",
          "text": [
            "Old params mean and lambdas: ['0.00', '1.00', '-1.00', '2.00'] New: ['0.00', '1.50', '-1.00', '2.00']\n",
            "Fraction of times CUSUM statistic for break before 0.3 and with T=1500 exceeds 1% critical value: 0.8820\n",
            "Fraction of times CUSUM statistic for break before 0.3 and with T=1500 exceeds 5% critical value: 0.9680\n",
            "Fraction of times CUSUM statistic for break before 0.3 and with T=1500 exceeds 10% critical value: 0.9880\n"
          ]
        },
        {
          "output_type": "stream",
          "name": "stderr",
          "text": [
            "100%|██████████| 1000/1000 [00:39<00:00, 25.51it/s]\n"
          ]
        },
        {
          "output_type": "stream",
          "name": "stdout",
          "text": [
            "Old params mean and lambdas: ['0.00', '1.00', '-1.00', '2.00'] New: ['0.00', '2.00', '-1.00', '2.00']\n",
            "Fraction of times CUSUM statistic for break before 0.3 and with T=1500 exceeds 1% critical value: 1.0000\n",
            "Fraction of times CUSUM statistic for break before 0.3 and with T=1500 exceeds 5% critical value: 1.0000\n",
            "Fraction of times CUSUM statistic for break before 0.3 and with T=1500 exceeds 10% critical value: 1.0000\n"
          ]
        },
        {
          "output_type": "stream",
          "name": "stderr",
          "text": [
            "100%|██████████| 1000/1000 [00:37<00:00, 26.80it/s]\n"
          ]
        },
        {
          "output_type": "stream",
          "name": "stdout",
          "text": [
            "Old params mean and lambdas: ['0.00', '1.00', '-1.00', '2.00'] New: ['0.00', '1.00', '-1.00', '2.00']\n",
            "Fraction of times CUSUM statistic for break before 0.3 and with T=1500 exceeds 1% critical value: 0.0090\n",
            "Fraction of times CUSUM statistic for break before 0.3 and with T=1500 exceeds 5% critical value: 0.0360\n",
            "Fraction of times CUSUM statistic for break before 0.3 and with T=1500 exceeds 10% critical value: 0.0840\n"
          ]
        },
        {
          "output_type": "stream",
          "name": "stderr",
          "text": [
            "100%|██████████| 1000/1000 [00:31<00:00, 31.54it/s]\n"
          ]
        },
        {
          "output_type": "stream",
          "name": "stdout",
          "text": [
            "Old params mean and lambdas: ['0.00', '1.00', '-1.00', '2.00'] New: ['0.00', '1.10', '-1.00', '2.00']\n",
            "Fraction of times CUSUM statistic for break before 0.5 and with T=500 exceeds 1% critical value: 0.0160\n",
            "Fraction of times CUSUM statistic for break before 0.5 and with T=500 exceeds 5% critical value: 0.0750\n",
            "Fraction of times CUSUM statistic for break before 0.5 and with T=500 exceeds 10% critical value: 0.1380\n"
          ]
        },
        {
          "output_type": "stream",
          "name": "stderr",
          "text": [
            "100%|██████████| 1000/1000 [00:31<00:00, 31.28it/s]\n"
          ]
        },
        {
          "output_type": "stream",
          "name": "stdout",
          "text": [
            "Old params mean and lambdas: ['0.00', '1.00', '-1.00', '2.00'] New: ['0.00', '1.05', '-1.00', '2.00']\n",
            "Fraction of times CUSUM statistic for break before 0.5 and with T=500 exceeds 1% critical value: 0.0120\n",
            "Fraction of times CUSUM statistic for break before 0.5 and with T=500 exceeds 5% critical value: 0.0540\n",
            "Fraction of times CUSUM statistic for break before 0.5 and with T=500 exceeds 10% critical value: 0.0940\n"
          ]
        },
        {
          "output_type": "stream",
          "name": "stderr",
          "text": [
            "100%|██████████| 1000/1000 [00:30<00:00, 32.74it/s]\n"
          ]
        },
        {
          "output_type": "stream",
          "name": "stdout",
          "text": [
            "Old params mean and lambdas: ['0.00', '1.00', '-1.00', '2.00'] New: ['0.00', '1.50', '-1.00', '2.00']\n",
            "Fraction of times CUSUM statistic for break before 0.5 and with T=500 exceeds 1% critical value: 0.4170\n",
            "Fraction of times CUSUM statistic for break before 0.5 and with T=500 exceeds 5% critical value: 0.6690\n",
            "Fraction of times CUSUM statistic for break before 0.5 and with T=500 exceeds 10% critical value: 0.7840\n"
          ]
        },
        {
          "output_type": "stream",
          "name": "stderr",
          "text": [
            "100%|██████████| 1000/1000 [00:31<00:00, 31.31it/s]\n"
          ]
        },
        {
          "output_type": "stream",
          "name": "stdout",
          "text": [
            "Old params mean and lambdas: ['0.00', '1.00', '-1.00', '2.00'] New: ['0.00', '2.00', '-1.00', '2.00']\n",
            "Fraction of times CUSUM statistic for break before 0.5 and with T=500 exceeds 1% critical value: 0.9860\n",
            "Fraction of times CUSUM statistic for break before 0.5 and with T=500 exceeds 5% critical value: 0.9980\n",
            "Fraction of times CUSUM statistic for break before 0.5 and with T=500 exceeds 10% critical value: 1.0000\n"
          ]
        },
        {
          "output_type": "stream",
          "name": "stderr",
          "text": [
            "100%|██████████| 1000/1000 [00:29<00:00, 33.78it/s]\n"
          ]
        },
        {
          "output_type": "stream",
          "name": "stdout",
          "text": [
            "Old params mean and lambdas: ['0.00', '1.00', '-1.00', '2.00'] New: ['0.00', '1.00', '-1.00', '2.00']\n",
            "Fraction of times CUSUM statistic for break before 0.5 and with T=500 exceeds 1% critical value: 0.0060\n",
            "Fraction of times CUSUM statistic for break before 0.5 and with T=500 exceeds 5% critical value: 0.0400\n",
            "Fraction of times CUSUM statistic for break before 0.5 and with T=500 exceeds 10% critical value: 0.0900\n"
          ]
        },
        {
          "output_type": "stream",
          "name": "stderr",
          "text": [
            "100%|██████████| 1000/1000 [00:35<00:00, 28.24it/s]\n"
          ]
        },
        {
          "output_type": "stream",
          "name": "stdout",
          "text": [
            "Old params mean and lambdas: ['0.00', '1.00', '-1.00', '2.00'] New: ['0.00', '1.10', '-1.00', '2.00']\n",
            "Fraction of times CUSUM statistic for break before 0.5 and with T=1000 exceeds 1% critical value: 0.0400\n",
            "Fraction of times CUSUM statistic for break before 0.5 and with T=1000 exceeds 5% critical value: 0.1270\n",
            "Fraction of times CUSUM statistic for break before 0.5 and with T=1000 exceeds 10% critical value: 0.1850\n"
          ]
        },
        {
          "output_type": "stream",
          "name": "stderr",
          "text": [
            "100%|██████████| 1000/1000 [00:35<00:00, 28.30it/s]\n"
          ]
        },
        {
          "output_type": "stream",
          "name": "stdout",
          "text": [
            "Old params mean and lambdas: ['0.00', '1.00', '-1.00', '2.00'] New: ['0.00', '1.05', '-1.00', '2.00']\n",
            "Fraction of times CUSUM statistic for break before 0.5 and with T=1000 exceeds 1% critical value: 0.0150\n",
            "Fraction of times CUSUM statistic for break before 0.5 and with T=1000 exceeds 5% critical value: 0.0680\n",
            "Fraction of times CUSUM statistic for break before 0.5 and with T=1000 exceeds 10% critical value: 0.1270\n"
          ]
        },
        {
          "output_type": "stream",
          "name": "stderr",
          "text": [
            "100%|██████████| 1000/1000 [00:34<00:00, 28.61it/s]\n"
          ]
        },
        {
          "output_type": "stream",
          "name": "stdout",
          "text": [
            "Old params mean and lambdas: ['0.00', '1.00', '-1.00', '2.00'] New: ['0.00', '1.50', '-1.00', '2.00']\n",
            "Fraction of times CUSUM statistic for break before 0.5 and with T=1000 exceeds 1% critical value: 0.8350\n",
            "Fraction of times CUSUM statistic for break before 0.5 and with T=1000 exceeds 5% critical value: 0.9440\n",
            "Fraction of times CUSUM statistic for break before 0.5 and with T=1000 exceeds 10% critical value: 0.9680\n"
          ]
        },
        {
          "output_type": "stream",
          "name": "stderr",
          "text": [
            "100%|██████████| 1000/1000 [00:35<00:00, 28.15it/s]\n"
          ]
        },
        {
          "output_type": "stream",
          "name": "stdout",
          "text": [
            "Old params mean and lambdas: ['0.00', '1.00', '-1.00', '2.00'] New: ['0.00', '2.00', '-1.00', '2.00']\n",
            "Fraction of times CUSUM statistic for break before 0.5 and with T=1000 exceeds 1% critical value: 1.0000\n",
            "Fraction of times CUSUM statistic for break before 0.5 and with T=1000 exceeds 5% critical value: 1.0000\n",
            "Fraction of times CUSUM statistic for break before 0.5 and with T=1000 exceeds 10% critical value: 1.0000\n"
          ]
        },
        {
          "output_type": "stream",
          "name": "stderr",
          "text": [
            "100%|██████████| 1000/1000 [00:32<00:00, 30.62it/s]\n"
          ]
        },
        {
          "output_type": "stream",
          "name": "stdout",
          "text": [
            "Old params mean and lambdas: ['0.00', '1.00', '-1.00', '2.00'] New: ['0.00', '1.00', '-1.00', '2.00']\n",
            "Fraction of times CUSUM statistic for break before 0.5 and with T=1000 exceeds 1% critical value: 0.0040\n",
            "Fraction of times CUSUM statistic for break before 0.5 and with T=1000 exceeds 5% critical value: 0.0350\n",
            "Fraction of times CUSUM statistic for break before 0.5 and with T=1000 exceeds 10% critical value: 0.0830\n"
          ]
        },
        {
          "output_type": "stream",
          "name": "stderr",
          "text": [
            "100%|██████████| 1000/1000 [00:40<00:00, 24.98it/s]\n"
          ]
        },
        {
          "output_type": "stream",
          "name": "stdout",
          "text": [
            "Old params mean and lambdas: ['0.00', '1.00', '-1.00', '2.00'] New: ['0.00', '1.10', '-1.00', '2.00']\n",
            "Fraction of times CUSUM statistic for break before 0.5 and with T=1500 exceeds 1% critical value: 0.0360\n",
            "Fraction of times CUSUM statistic for break before 0.5 and with T=1500 exceeds 5% critical value: 0.1150\n",
            "Fraction of times CUSUM statistic for break before 0.5 and with T=1500 exceeds 10% critical value: 0.2000\n"
          ]
        },
        {
          "output_type": "stream",
          "name": "stderr",
          "text": [
            "100%|██████████| 1000/1000 [00:38<00:00, 25.93it/s]\n"
          ]
        },
        {
          "output_type": "stream",
          "name": "stdout",
          "text": [
            "Old params mean and lambdas: ['0.00', '1.00', '-1.00', '2.00'] New: ['0.00', '1.05', '-1.00', '2.00']\n",
            "Fraction of times CUSUM statistic for break before 0.5 and with T=1500 exceeds 1% critical value: 0.0130\n",
            "Fraction of times CUSUM statistic for break before 0.5 and with T=1500 exceeds 5% critical value: 0.0660\n",
            "Fraction of times CUSUM statistic for break before 0.5 and with T=1500 exceeds 10% critical value: 0.1320\n"
          ]
        },
        {
          "output_type": "stream",
          "name": "stderr",
          "text": [
            "100%|██████████| 1000/1000 [00:39<00:00, 25.57it/s]\n"
          ]
        },
        {
          "output_type": "stream",
          "name": "stdout",
          "text": [
            "Old params mean and lambdas: ['0.00', '1.00', '-1.00', '2.00'] New: ['0.00', '1.50', '-1.00', '2.00']\n",
            "Fraction of times CUSUM statistic for break before 0.5 and with T=1500 exceeds 1% critical value: 0.9640\n",
            "Fraction of times CUSUM statistic for break before 0.5 and with T=1500 exceeds 5% critical value: 0.9920\n",
            "Fraction of times CUSUM statistic for break before 0.5 and with T=1500 exceeds 10% critical value: 0.9970\n"
          ]
        },
        {
          "output_type": "stream",
          "name": "stderr",
          "text": [
            "100%|██████████| 1000/1000 [00:39<00:00, 25.22it/s]\n"
          ]
        },
        {
          "output_type": "stream",
          "name": "stdout",
          "text": [
            "Old params mean and lambdas: ['0.00', '1.00', '-1.00', '2.00'] New: ['0.00', '2.00', '-1.00', '2.00']\n",
            "Fraction of times CUSUM statistic for break before 0.5 and with T=1500 exceeds 1% critical value: 1.0000\n",
            "Fraction of times CUSUM statistic for break before 0.5 and with T=1500 exceeds 5% critical value: 1.0000\n",
            "Fraction of times CUSUM statistic for break before 0.5 and with T=1500 exceeds 10% critical value: 1.0000\n"
          ]
        },
        {
          "output_type": "stream",
          "name": "stderr",
          "text": [
            "100%|██████████| 1000/1000 [00:39<00:00, 25.39it/s]\n"
          ]
        },
        {
          "output_type": "stream",
          "name": "stdout",
          "text": [
            "Old params mean and lambdas: ['0.00', '1.00', '-1.00', '2.00'] New: ['0.00', '1.00', '-1.00', '2.00']\n",
            "Fraction of times CUSUM statistic for break before 0.5 and with T=1500 exceeds 1% critical value: 0.0030\n",
            "Fraction of times CUSUM statistic for break before 0.5 and with T=1500 exceeds 5% critical value: 0.0310\n",
            "Fraction of times CUSUM statistic for break before 0.5 and with T=1500 exceeds 10% critical value: 0.0820\n"
          ]
        },
        {
          "output_type": "stream",
          "name": "stderr",
          "text": [
            "100%|██████████| 1000/1000 [00:30<00:00, 32.84it/s]\n"
          ]
        },
        {
          "output_type": "stream",
          "name": "stdout",
          "text": [
            "Old params mean and lambdas: ['0.00', '1.00', '-1.00', '2.00'] New: ['0.00', '1.10', '-1.00', '2.00']\n",
            "Fraction of times CUSUM statistic for break before 0.7 and with T=500 exceeds 1% critical value: 0.0120\n",
            "Fraction of times CUSUM statistic for break before 0.7 and with T=500 exceeds 5% critical value: 0.0550\n",
            "Fraction of times CUSUM statistic for break before 0.7 and with T=500 exceeds 10% critical value: 0.1060\n"
          ]
        },
        {
          "output_type": "stream",
          "name": "stderr",
          "text": [
            "100%|██████████| 1000/1000 [00:30<00:00, 32.38it/s]\n"
          ]
        },
        {
          "output_type": "stream",
          "name": "stdout",
          "text": [
            "Old params mean and lambdas: ['0.00', '1.00', '-1.00', '2.00'] New: ['0.00', '1.05', '-1.00', '2.00']\n",
            "Fraction of times CUSUM statistic for break before 0.7 and with T=500 exceeds 1% critical value: 0.0110\n",
            "Fraction of times CUSUM statistic for break before 0.7 and with T=500 exceeds 5% critical value: 0.0520\n",
            "Fraction of times CUSUM statistic for break before 0.7 and with T=500 exceeds 10% critical value: 0.0980\n"
          ]
        },
        {
          "output_type": "stream",
          "name": "stderr",
          "text": [
            "100%|██████████| 1000/1000 [00:30<00:00, 32.93it/s]\n"
          ]
        },
        {
          "output_type": "stream",
          "name": "stdout",
          "text": [
            "Old params mean and lambdas: ['0.00', '1.00', '-1.00', '2.00'] New: ['0.00', '1.50', '-1.00', '2.00']\n",
            "Fraction of times CUSUM statistic for break before 0.7 and with T=500 exceeds 1% critical value: 0.2820\n",
            "Fraction of times CUSUM statistic for break before 0.7 and with T=500 exceeds 5% critical value: 0.5310\n",
            "Fraction of times CUSUM statistic for break before 0.7 and with T=500 exceeds 10% critical value: 0.6630\n"
          ]
        },
        {
          "output_type": "stream",
          "name": "stderr",
          "text": [
            "100%|██████████| 1000/1000 [00:31<00:00, 31.66it/s]\n"
          ]
        },
        {
          "output_type": "stream",
          "name": "stdout",
          "text": [
            "Old params mean and lambdas: ['0.00', '1.00', '-1.00', '2.00'] New: ['0.00', '2.00', '-1.00', '2.00']\n",
            "Fraction of times CUSUM statistic for break before 0.7 and with T=500 exceeds 1% critical value: 0.9390\n",
            "Fraction of times CUSUM statistic for break before 0.7 and with T=500 exceeds 5% critical value: 0.9880\n",
            "Fraction of times CUSUM statistic for break before 0.7 and with T=500 exceeds 10% critical value: 0.9920\n"
          ]
        },
        {
          "output_type": "stream",
          "name": "stderr",
          "text": [
            "100%|██████████| 1000/1000 [00:30<00:00, 32.55it/s]\n"
          ]
        },
        {
          "output_type": "stream",
          "name": "stdout",
          "text": [
            "Old params mean and lambdas: ['0.00', '1.00', '-1.00', '2.00'] New: ['0.00', '1.00', '-1.00', '2.00']\n",
            "Fraction of times CUSUM statistic for break before 0.7 and with T=500 exceeds 1% critical value: 0.0050\n",
            "Fraction of times CUSUM statistic for break before 0.7 and with T=500 exceeds 5% critical value: 0.0430\n",
            "Fraction of times CUSUM statistic for break before 0.7 and with T=500 exceeds 10% critical value: 0.0910\n"
          ]
        },
        {
          "output_type": "stream",
          "name": "stderr",
          "text": [
            "100%|██████████| 1000/1000 [00:32<00:00, 30.37it/s]\n"
          ]
        },
        {
          "output_type": "stream",
          "name": "stdout",
          "text": [
            "Old params mean and lambdas: ['0.00', '1.00', '-1.00', '2.00'] New: ['0.00', '1.10', '-1.00', '2.00']\n",
            "Fraction of times CUSUM statistic for break before 0.7 and with T=1000 exceeds 1% critical value: 0.0160\n",
            "Fraction of times CUSUM statistic for break before 0.7 and with T=1000 exceeds 5% critical value: 0.0710\n",
            "Fraction of times CUSUM statistic for break before 0.7 and with T=1000 exceeds 10% critical value: 0.1350\n"
          ]
        },
        {
          "output_type": "stream",
          "name": "stderr",
          "text": [
            "100%|██████████| 1000/1000 [00:31<00:00, 31.29it/s]\n"
          ]
        },
        {
          "output_type": "stream",
          "name": "stdout",
          "text": [
            "Old params mean and lambdas: ['0.00', '1.00', '-1.00', '2.00'] New: ['0.00', '1.05', '-1.00', '2.00']\n",
            "Fraction of times CUSUM statistic for break before 0.7 and with T=1000 exceeds 1% critical value: 0.0130\n",
            "Fraction of times CUSUM statistic for break before 0.7 and with T=1000 exceeds 5% critical value: 0.0460\n",
            "Fraction of times CUSUM statistic for break before 0.7 and with T=1000 exceeds 10% critical value: 0.0920\n"
          ]
        },
        {
          "output_type": "stream",
          "name": "stderr",
          "text": [
            "100%|██████████| 1000/1000 [00:32<00:00, 30.57it/s]\n"
          ]
        },
        {
          "output_type": "stream",
          "name": "stdout",
          "text": [
            "Old params mean and lambdas: ['0.00', '1.00', '-1.00', '2.00'] New: ['0.00', '1.50', '-1.00', '2.00']\n",
            "Fraction of times CUSUM statistic for break before 0.7 and with T=1000 exceeds 1% critical value: 0.6660\n",
            "Fraction of times CUSUM statistic for break before 0.7 and with T=1000 exceeds 5% critical value: 0.8520\n",
            "Fraction of times CUSUM statistic for break before 0.7 and with T=1000 exceeds 10% critical value: 0.9250\n"
          ]
        },
        {
          "output_type": "stream",
          "name": "stderr",
          "text": [
            "100%|██████████| 1000/1000 [00:32<00:00, 30.43it/s]\n"
          ]
        },
        {
          "output_type": "stream",
          "name": "stdout",
          "text": [
            "Old params mean and lambdas: ['0.00', '1.00', '-1.00', '2.00'] New: ['0.00', '2.00', '-1.00', '2.00']\n",
            "Fraction of times CUSUM statistic for break before 0.7 and with T=1000 exceeds 1% critical value: 0.9990\n",
            "Fraction of times CUSUM statistic for break before 0.7 and with T=1000 exceeds 5% critical value: 1.0000\n",
            "Fraction of times CUSUM statistic for break before 0.7 and with T=1000 exceeds 10% critical value: 1.0000\n"
          ]
        },
        {
          "output_type": "stream",
          "name": "stderr",
          "text": [
            "100%|██████████| 1000/1000 [00:31<00:00, 31.39it/s]\n"
          ]
        },
        {
          "output_type": "stream",
          "name": "stdout",
          "text": [
            "Old params mean and lambdas: ['0.00', '1.00', '-1.00', '2.00'] New: ['0.00', '1.00', '-1.00', '2.00']\n",
            "Fraction of times CUSUM statistic for break before 0.7 and with T=1000 exceeds 1% critical value: 0.0030\n",
            "Fraction of times CUSUM statistic for break before 0.7 and with T=1000 exceeds 5% critical value: 0.0440\n",
            "Fraction of times CUSUM statistic for break before 0.7 and with T=1000 exceeds 10% critical value: 0.0980\n"
          ]
        },
        {
          "output_type": "stream",
          "name": "stderr",
          "text": [
            "100%|██████████| 1000/1000 [00:35<00:00, 27.86it/s]\n"
          ]
        },
        {
          "output_type": "stream",
          "name": "stdout",
          "text": [
            "Old params mean and lambdas: ['0.00', '1.00', '-1.00', '2.00'] New: ['0.00', '1.10', '-1.00', '2.00']\n",
            "Fraction of times CUSUM statistic for break before 0.7 and with T=1500 exceeds 1% critical value: 0.0270\n",
            "Fraction of times CUSUM statistic for break before 0.7 and with T=1500 exceeds 5% critical value: 0.0980\n",
            "Fraction of times CUSUM statistic for break before 0.7 and with T=1500 exceeds 10% critical value: 0.1680\n"
          ]
        },
        {
          "output_type": "stream",
          "name": "stderr",
          "text": [
            "100%|██████████| 1000/1000 [00:36<00:00, 27.54it/s]\n"
          ]
        },
        {
          "output_type": "stream",
          "name": "stdout",
          "text": [
            "Old params mean and lambdas: ['0.00', '1.00', '-1.00', '2.00'] New: ['0.00', '1.05', '-1.00', '2.00']\n",
            "Fraction of times CUSUM statistic for break before 0.7 and with T=1500 exceeds 1% critical value: 0.0210\n",
            "Fraction of times CUSUM statistic for break before 0.7 and with T=1500 exceeds 5% critical value: 0.0710\n",
            "Fraction of times CUSUM statistic for break before 0.7 and with T=1500 exceeds 10% critical value: 0.1260\n"
          ]
        },
        {
          "output_type": "stream",
          "name": "stderr",
          "text": [
            "100%|██████████| 1000/1000 [00:36<00:00, 27.71it/s]\n"
          ]
        },
        {
          "output_type": "stream",
          "name": "stdout",
          "text": [
            "Old params mean and lambdas: ['0.00', '1.00', '-1.00', '2.00'] New: ['0.00', '1.50', '-1.00', '2.00']\n",
            "Fraction of times CUSUM statistic for break before 0.7 and with T=1500 exceeds 1% critical value: 0.8670\n",
            "Fraction of times CUSUM statistic for break before 0.7 and with T=1500 exceeds 5% critical value: 0.9610\n",
            "Fraction of times CUSUM statistic for break before 0.7 and with T=1500 exceeds 10% critical value: 0.9770\n"
          ]
        },
        {
          "output_type": "stream",
          "name": "stderr",
          "text": [
            "100%|██████████| 1000/1000 [00:37<00:00, 26.69it/s]\n"
          ]
        },
        {
          "output_type": "stream",
          "name": "stdout",
          "text": [
            "Old params mean and lambdas: ['0.00', '1.00', '-1.00', '2.00'] New: ['0.00', '2.00', '-1.00', '2.00']\n",
            "Fraction of times CUSUM statistic for break before 0.7 and with T=1500 exceeds 1% critical value: 1.0000\n",
            "Fraction of times CUSUM statistic for break before 0.7 and with T=1500 exceeds 5% critical value: 1.0000\n",
            "Fraction of times CUSUM statistic for break before 0.7 and with T=1500 exceeds 10% critical value: 1.0000\n"
          ]
        },
        {
          "output_type": "stream",
          "name": "stderr",
          "text": [
            "100%|██████████| 1000/1000 [00:35<00:00, 28.40it/s]\n"
          ]
        },
        {
          "output_type": "stream",
          "name": "stdout",
          "text": [
            "Old params mean and lambdas: ['0.00', '1.00', '-1.00', '2.00'] New: ['0.00', '1.00', '-1.00', '2.00']\n",
            "Fraction of times CUSUM statistic for break before 0.7 and with T=1500 exceeds 1% critical value: 0.0060\n",
            "Fraction of times CUSUM statistic for break before 0.7 and with T=1500 exceeds 5% critical value: 0.0400\n",
            "Fraction of times CUSUM statistic for break before 0.7 and with T=1500 exceeds 10% critical value: 0.0830\n"
          ]
        },
        {
          "output_type": "stream",
          "name": "stderr",
          "text": [
            "100%|██████████| 1000/1000 [00:28<00:00, 34.69it/s]\n"
          ]
        },
        {
          "output_type": "stream",
          "name": "stdout",
          "text": [
            "Old params mean and lambdas: ['0.00', '1.00', '-1.00', '2.00'] New: ['0.00', '1.10', '-1.00', '2.00']\n",
            "Fraction of times CUSUM statistic for break before 0.9 and with T=500 exceeds 1% critical value: 0.0070\n",
            "Fraction of times CUSUM statistic for break before 0.9 and with T=500 exceeds 5% critical value: 0.0330\n",
            "Fraction of times CUSUM statistic for break before 0.9 and with T=500 exceeds 10% critical value: 0.0880\n"
          ]
        },
        {
          "output_type": "stream",
          "name": "stderr",
          "text": [
            "100%|██████████| 1000/1000 [00:28<00:00, 35.48it/s]\n"
          ]
        },
        {
          "output_type": "stream",
          "name": "stdout",
          "text": [
            "Old params mean and lambdas: ['0.00', '1.00', '-1.00', '2.00'] New: ['0.00', '1.05', '-1.00', '2.00']\n",
            "Fraction of times CUSUM statistic for break before 0.9 and with T=500 exceeds 1% critical value: 0.0060\n",
            "Fraction of times CUSUM statistic for break before 0.9 and with T=500 exceeds 5% critical value: 0.0540\n",
            "Fraction of times CUSUM statistic for break before 0.9 and with T=500 exceeds 10% critical value: 0.0970\n"
          ]
        },
        {
          "output_type": "stream",
          "name": "stderr",
          "text": [
            "100%|██████████| 1000/1000 [00:28<00:00, 35.22it/s]\n"
          ]
        },
        {
          "output_type": "stream",
          "name": "stdout",
          "text": [
            "Old params mean and lambdas: ['0.00', '1.00', '-1.00', '2.00'] New: ['0.00', '1.50', '-1.00', '2.00']\n",
            "Fraction of times CUSUM statistic for break before 0.9 and with T=500 exceeds 1% critical value: 0.0180\n",
            "Fraction of times CUSUM statistic for break before 0.9 and with T=500 exceeds 5% critical value: 0.1060\n",
            "Fraction of times CUSUM statistic for break before 0.9 and with T=500 exceeds 10% critical value: 0.1840\n"
          ]
        },
        {
          "output_type": "stream",
          "name": "stderr",
          "text": [
            "100%|██████████| 1000/1000 [00:29<00:00, 33.45it/s]\n"
          ]
        },
        {
          "output_type": "stream",
          "name": "stdout",
          "text": [
            "Old params mean and lambdas: ['0.00', '1.00', '-1.00', '2.00'] New: ['0.00', '2.00', '-1.00', '2.00']\n",
            "Fraction of times CUSUM statistic for break before 0.9 and with T=500 exceeds 1% critical value: 0.1300\n",
            "Fraction of times CUSUM statistic for break before 0.9 and with T=500 exceeds 5% critical value: 0.3340\n",
            "Fraction of times CUSUM statistic for break before 0.9 and with T=500 exceeds 10% critical value: 0.5030\n"
          ]
        },
        {
          "output_type": "stream",
          "name": "stderr",
          "text": [
            "100%|██████████| 1000/1000 [00:27<00:00, 36.34it/s]\n"
          ]
        },
        {
          "output_type": "stream",
          "name": "stdout",
          "text": [
            "Old params mean and lambdas: ['0.00', '1.00', '-1.00', '2.00'] New: ['0.00', '1.00', '-1.00', '2.00']\n",
            "Fraction of times CUSUM statistic for break before 0.9 and with T=500 exceeds 1% critical value: 0.0020\n",
            "Fraction of times CUSUM statistic for break before 0.9 and with T=500 exceeds 5% critical value: 0.0310\n",
            "Fraction of times CUSUM statistic for break before 0.9 and with T=500 exceeds 10% critical value: 0.0770\n"
          ]
        },
        {
          "output_type": "stream",
          "name": "stderr",
          "text": [
            "100%|██████████| 1000/1000 [00:32<00:00, 30.38it/s]\n"
          ]
        },
        {
          "output_type": "stream",
          "name": "stdout",
          "text": [
            "Old params mean and lambdas: ['0.00', '1.00', '-1.00', '2.00'] New: ['0.00', '1.10', '-1.00', '2.00']\n",
            "Fraction of times CUSUM statistic for break before 0.9 and with T=1000 exceeds 1% critical value: 0.0180\n",
            "Fraction of times CUSUM statistic for break before 0.9 and with T=1000 exceeds 5% critical value: 0.0570\n",
            "Fraction of times CUSUM statistic for break before 0.9 and with T=1000 exceeds 10% critical value: 0.1170\n"
          ]
        },
        {
          "output_type": "stream",
          "name": "stderr",
          "text": [
            "100%|██████████| 1000/1000 [00:32<00:00, 30.49it/s]\n"
          ]
        },
        {
          "output_type": "stream",
          "name": "stdout",
          "text": [
            "Old params mean and lambdas: ['0.00', '1.00', '-1.00', '2.00'] New: ['0.00', '1.05', '-1.00', '2.00']\n",
            "Fraction of times CUSUM statistic for break before 0.9 and with T=1000 exceeds 1% critical value: 0.0060\n",
            "Fraction of times CUSUM statistic for break before 0.9 and with T=1000 exceeds 5% critical value: 0.0400\n",
            "Fraction of times CUSUM statistic for break before 0.9 and with T=1000 exceeds 10% critical value: 0.0860\n"
          ]
        },
        {
          "output_type": "stream",
          "name": "stderr",
          "text": [
            "100%|██████████| 1000/1000 [00:32<00:00, 31.14it/s]\n"
          ]
        },
        {
          "output_type": "stream",
          "name": "stdout",
          "text": [
            "Old params mean and lambdas: ['0.00', '1.00', '-1.00', '2.00'] New: ['0.00', '1.50', '-1.00', '2.00']\n",
            "Fraction of times CUSUM statistic for break before 0.9 and with T=1000 exceeds 1% critical value: 0.0550\n",
            "Fraction of times CUSUM statistic for break before 0.9 and with T=1000 exceeds 5% critical value: 0.1880\n",
            "Fraction of times CUSUM statistic for break before 0.9 and with T=1000 exceeds 10% critical value: 0.3070\n"
          ]
        },
        {
          "output_type": "stream",
          "name": "stderr",
          "text": [
            "100%|██████████| 1000/1000 [00:34<00:00, 28.99it/s]\n"
          ]
        },
        {
          "output_type": "stream",
          "name": "stdout",
          "text": [
            "Old params mean and lambdas: ['0.00', '1.00', '-1.00', '2.00'] New: ['0.00', '2.00', '-1.00', '2.00']\n",
            "Fraction of times CUSUM statistic for break before 0.9 and with T=1000 exceeds 1% critical value: 0.4090\n",
            "Fraction of times CUSUM statistic for break before 0.9 and with T=1000 exceeds 5% critical value: 0.7550\n",
            "Fraction of times CUSUM statistic for break before 0.9 and with T=1000 exceeds 10% critical value: 0.8650\n"
          ]
        },
        {
          "output_type": "stream",
          "name": "stderr",
          "text": [
            "100%|██████████| 1000/1000 [00:33<00:00, 30.12it/s]\n"
          ]
        },
        {
          "output_type": "stream",
          "name": "stdout",
          "text": [
            "Old params mean and lambdas: ['0.00', '1.00', '-1.00', '2.00'] New: ['0.00', '1.00', '-1.00', '2.00']\n",
            "Fraction of times CUSUM statistic for break before 0.9 and with T=1000 exceeds 1% critical value: 0.0040\n",
            "Fraction of times CUSUM statistic for break before 0.9 and with T=1000 exceeds 5% critical value: 0.0340\n",
            "Fraction of times CUSUM statistic for break before 0.9 and with T=1000 exceeds 10% critical value: 0.0900\n"
          ]
        },
        {
          "output_type": "stream",
          "name": "stderr",
          "text": [
            "100%|██████████| 1000/1000 [00:37<00:00, 26.61it/s]\n"
          ]
        },
        {
          "output_type": "stream",
          "name": "stdout",
          "text": [
            "Old params mean and lambdas: ['0.00', '1.00', '-1.00', '2.00'] New: ['0.00', '1.10', '-1.00', '2.00']\n",
            "Fraction of times CUSUM statistic for break before 0.9 and with T=1500 exceeds 1% critical value: 0.0090\n",
            "Fraction of times CUSUM statistic for break before 0.9 and with T=1500 exceeds 5% critical value: 0.0440\n",
            "Fraction of times CUSUM statistic for break before 0.9 and with T=1500 exceeds 10% critical value: 0.0890\n"
          ]
        },
        {
          "output_type": "stream",
          "name": "stderr",
          "text": [
            "100%|██████████| 1000/1000 [00:37<00:00, 26.37it/s]\n"
          ]
        },
        {
          "output_type": "stream",
          "name": "stdout",
          "text": [
            "Old params mean and lambdas: ['0.00', '1.00', '-1.00', '2.00'] New: ['0.00', '1.05', '-1.00', '2.00']\n",
            "Fraction of times CUSUM statistic for break before 0.9 and with T=1500 exceeds 1% critical value: 0.0070\n",
            "Fraction of times CUSUM statistic for break before 0.9 and with T=1500 exceeds 5% critical value: 0.0360\n",
            "Fraction of times CUSUM statistic for break before 0.9 and with T=1500 exceeds 10% critical value: 0.0850\n"
          ]
        },
        {
          "output_type": "stream",
          "name": "stderr",
          "text": [
            "100%|██████████| 1000/1000 [00:38<00:00, 25.96it/s]\n"
          ]
        },
        {
          "output_type": "stream",
          "name": "stdout",
          "text": [
            "Old params mean and lambdas: ['0.00', '1.00', '-1.00', '2.00'] New: ['0.00', '1.50', '-1.00', '2.00']\n",
            "Fraction of times CUSUM statistic for break before 0.9 and with T=1500 exceeds 1% critical value: 0.0840\n",
            "Fraction of times CUSUM statistic for break before 0.9 and with T=1500 exceeds 5% critical value: 0.2810\n",
            "Fraction of times CUSUM statistic for break before 0.9 and with T=1500 exceeds 10% critical value: 0.4190\n"
          ]
        },
        {
          "output_type": "stream",
          "name": "stderr",
          "text": [
            "100%|██████████| 1000/1000 [00:38<00:00, 26.27it/s]\n"
          ]
        },
        {
          "output_type": "stream",
          "name": "stdout",
          "text": [
            "Old params mean and lambdas: ['0.00', '1.00', '-1.00', '2.00'] New: ['0.00', '2.00', '-1.00', '2.00']\n",
            "Fraction of times CUSUM statistic for break before 0.9 and with T=1500 exceeds 1% critical value: 0.7650\n",
            "Fraction of times CUSUM statistic for break before 0.9 and with T=1500 exceeds 5% critical value: 0.9580\n",
            "Fraction of times CUSUM statistic for break before 0.9 and with T=1500 exceeds 10% critical value: 0.9870\n"
          ]
        },
        {
          "output_type": "stream",
          "name": "stderr",
          "text": [
            "100%|██████████| 1000/1000 [00:36<00:00, 27.13it/s]"
          ]
        },
        {
          "output_type": "stream",
          "name": "stdout",
          "text": [
            "Old params mean and lambdas: ['0.00', '1.00', '-1.00', '2.00'] New: ['0.00', '1.00', '-1.00', '2.00']\n",
            "Fraction of times CUSUM statistic for break before 0.9 and with T=1500 exceeds 1% critical value: 0.0070\n",
            "Fraction of times CUSUM statistic for break before 0.9 and with T=1500 exceeds 5% critical value: 0.0370\n",
            "Fraction of times CUSUM statistic for break before 0.9 and with T=1500 exceeds 10% critical value: 0.0840\n"
          ]
        },
        {
          "output_type": "stream",
          "name": "stderr",
          "text": [
            "\n"
          ]
        }
      ]
    },
    {
      "cell_type": "markdown",
      "metadata": {
        "id": "TTsO80XB0ndQ"
      },
      "source": [
        "###Limiting simulation for Bridge-based CUSUM\n",
        "\n"
      ]
    },
    {
      "cell_type": "code",
      "execution_count": null,
      "metadata": {
        "id": "Hx5awQJn9tEH"
      },
      "outputs": [],
      "source": [
        "\n",
        "def monte_carlo_cusum_distribution(num_simulations=10000, num_points=1000):\n",
        "    supremums = []\n",
        "    for _ in tqdm(range(num_simulations)):\n",
        "        CUSUM_supremum = compute_cusum_statistic_squared( np.array([0, 0.5, 0.3]),  np.array([0, 0.5, 0.3]), T = num_points)\n",
        "        supremums.append(np.max(CUSUM_supremum))\n",
        "    return supremums\n",
        "\n",
        "# Perform the Monte Carlo simulation\n",
        "supremums = monte_carlo_cusum_distribution()\n",
        "\n",
        "# Plot the histogram\n",
        "plt.hist(supremums, bins=50, density=True)\n",
        "plt.title(\"Distribution of CUSUM statistics\")\n",
        "plt.xlabel(\"Supremum Value\")\n",
        "plt.ylabel(\"Density\")\n",
        "plt.show()\n",
        "sorted_supremums = np.sort(supremums)\n",
        "critical_95 = sorted_supremums[int(0.95 * len(sorted_supremums))]\n",
        "critical_99 = sorted_supremums[int(0.99 * len(sorted_supremums))]\n",
        "critical_90 = sorted_supremums[int(0.90 * len(sorted_supremums))]\n",
        "print(\"90 quantile:\", critical_90)\n",
        "print(\"95 quantile:\", critical_95)\n",
        "print(\"99 quantile:\", critical_99)"
      ]
    },
    {
      "cell_type": "markdown",
      "metadata": {
        "id": "d-0HDrFk06fl"
      },
      "source": [
        "###Limiting simulation for P-regressor CUSUM"
      ]
    },
    {
      "cell_type": "code",
      "execution_count": null,
      "metadata": {
        "colab": {
          "base_uri": "https://localhost:8080/"
        },
        "id": "3WFsVG-IjO6G",
        "outputId": "fcad4ff7-dbf4-41f0-fefe-6b9f12813e47"
      },
      "outputs": [
        {
          "name": "stderr",
          "output_type": "stream",
          "text": [
            "100%|██████████| 100000/100000 [00:15<00:00, 6574.25it/s]\n"
          ]
        },
        {
          "name": "stdout",
          "output_type": "stream",
          "text": [
            "90 quantile: 1.843877402897227\n",
            "95 quantile: 2.119394242782425\n",
            "99 quantile: 2.654016782924682\n"
          ]
        },
        {
          "name": "stderr",
          "output_type": "stream",
          "text": [
            "100%|██████████| 100000/100000 [00:16<00:00, 6222.36it/s]\n"
          ]
        },
        {
          "name": "stdout",
          "output_type": "stream",
          "text": [
            "90 quantile: 1.6446159748768805\n",
            "95 quantile: 1.8772195004642536\n",
            "99 quantile: 2.346923885335171\n"
          ]
        },
        {
          "name": "stderr",
          "output_type": "stream",
          "text": [
            "100%|██████████| 100000/100000 [00:15<00:00, 6555.04it/s]\n"
          ]
        },
        {
          "name": "stdout",
          "output_type": "stream",
          "text": [
            "90 quantile: 1.4501125982200804\n",
            "95 quantile: 1.6452044563067223\n",
            "99 quantile: 2.042476503319102\n"
          ]
        },
        {
          "name": "stderr",
          "output_type": "stream",
          "text": [
            "100%|██████████| 100000/100000 [00:15<00:00, 6610.18it/s]\n"
          ]
        },
        {
          "name": "stdout",
          "output_type": "stream",
          "text": [
            "90 quantile: 1.295888164511411\n",
            "95 quantile: 1.4485358431395958\n",
            "99 quantile: 1.7534134135481136\n"
          ]
        },
        {
          "name": "stderr",
          "output_type": "stream",
          "text": [
            "100%|██████████| 100000/100000 [00:15<00:00, 6425.59it/s]\n"
          ]
        },
        {
          "name": "stdout",
          "output_type": "stream",
          "text": [
            "90 quantile: 1.21381290989176\n",
            "95 quantile: 1.3478428636341118\n",
            "99 quantile: 1.6249933007226773\n",
            "{0.1: [(10, 1.8535), (5, 2.122), (1, 2.6515)], 0.3: [(10, 1.6491), (5, 1.8827), (1, 2.3526)], 0.5: [(10, 1.4601), (5, 1.6502), (1, 2.0346)], 0.7: [(10, 1.3075), (5, 1.4593), (1, 1.7685)], 0.9: [(10, 1.2186), (5, 1.349), (1, 1.6307)]}\n"
          ]
        }
      ],
      "source": [
        "import numpy as np\n",
        "import matplotlib.pyplot as plt\n",
        "\n",
        "def brownian_motion_p_function(p, num_points=3000):\n",
        "\n",
        "    dt = 1.0 / num_points\n",
        "\n",
        "    dB = np.sqrt(dt) * np.random.randn(num_points)\n",
        "    B = np.cumsum(dB)\n",
        "    B = np.append(B, B[-1] + np.sqrt(dt) * np.random.randn())\n",
        "\n",
        "    s_values = np.linspace(0, 1, num_points+1)\n",
        "    f_values = np.abs(B - (np.minimum(s_values, p) / min(1, p)) * B[-1])\n",
        "    return np.max(f_values)\n",
        "\n",
        "def monte_carlo_supremum_brownian_p(p, num_simulations=100000, num_points=1500):\n",
        "    \"\"\"\n",
        "    Monte Carlo simulation for the distribution of the supremum of Brownian Bridge.\n",
        "    \"\"\"\n",
        "    supremums = []\n",
        "    for _ in tqdm(range(num_simulations)):\n",
        "        BB = brownian_motion_p_function(p, num_points)\n",
        "        supremums.append(np.max(BB))\n",
        "    return supremums\n",
        "\n",
        "# Perform the Monte Carlo simulation\n",
        "for p in [0.1, 0.3, 0.5, 0.7, 0.9]:\n",
        "    supremums = monte_carlo_supremum_brownian_p(p)\n",
        "\n",
        "# Plot the histogram\n",
        "# plt.hist(supremums, bins=50, density=True)\n",
        "# plt.title(\"Distribution of Supremum of Brownian Bridge\")\n",
        "# plt.xlabel(\"Supremum Value\")\n",
        "# plt.ylabel(\"Density\")\n",
        "# plt.show()\n",
        "    sorted_supremums = np.sort(supremums)\n",
        "    critical_95 = sorted_supremums[int(0.95 * len(sorted_supremums))]\n",
        "    critical_99 = sorted_supremums[int(0.99 * len(sorted_supremums))]\n",
        "    critical_90 = sorted_supremums[int(0.90 * len(sorted_supremums))]\n",
        "    print(\"90 quantile:\", critical_90)\n",
        "    print(\"95 quantile:\", critical_95)\n",
        "    print(\"99 quantile:\", critical_99)\n",
        "\n",
        "print(p_critical_values)"
      ]
    },
    {
      "cell_type": "markdown",
      "metadata": {
        "id": "X-KMjYUpEM_r"
      },
      "source": [
        "#### additional chack of distribution of CUSUM statistics for ARCH + P"
      ]
    },
    {
      "cell_type": "code",
      "execution_count": null,
      "metadata": {
        "colab": {
          "base_uri": "https://localhost:8080/",
          "height": 1000
        },
        "id": "T7fKfdO1l3qL",
        "outputId": "1429c834-d4b5-4de3-d2a1-5d24fcec504d"
      },
      "outputs": [
        {
          "name": "stderr",
          "output_type": "stream",
          "text": [
            "100%|██████████| 1000/1000 [00:31<00:00, 31.64it/s]\n"
          ]
        },
        {
          "data": {
            "image/png": "[encoded data removed]",
            "text/plain": [
              "<Figure size 640x480 with 1 Axes>"
            ]
          },
          "metadata": {},
          "output_type": "display_data"
        },
        {
          "name": "stdout",
          "output_type": "stream",
          "text": [
            "90 quantile: 1.8509489451518497\n",
            "95 quantile: 2.127159042477907\n",
            "99 quantile: 2.5964336744993823\n"
          ]
        },
        {
          "name": "stderr",
          "output_type": "stream",
          "text": [
            "100%|██████████| 1000/1000 [00:31<00:00, 32.15it/s]\n"
          ]
        },
        {
          "data": {
            "image/png": "[encoded data removed]",
            "text/plain": [
              "<Figure size 640x480 with 1 Axes>"
            ]
          },
          "metadata": {},
          "output_type": "display_data"
        },
        {
          "name": "stdout",
          "output_type": "stream",
          "text": [
            "90 quantile: 1.6725276126929924\n",
            "95 quantile: 1.9461299624602417\n",
            "99 quantile: 2.365361051654232\n"
          ]
        },
        {
          "name": "stderr",
          "output_type": "stream",
          "text": [
            "100%|██████████| 1000/1000 [00:32<00:00, 30.56it/s]\n"
          ]
        },
        {
          "data": {
            "image/png": "[encoded data removed]",
            "text/plain": [
              "<Figure size 640x480 with 1 Axes>"
            ]
          },
          "metadata": {},
          "output_type": "display_data"
        },
        {
          "name": "stdout",
          "output_type": "stream",
          "text": [
            "90 quantile: 1.4737527921452784\n",
            "95 quantile: 1.675124977693312\n",
            "99 quantile: 2.111495111944811\n"
          ]
        },
        {
          "name": "stderr",
          "output_type": "stream",
          "text": [
            "100%|██████████| 1000/1000 [00:31<00:00, 32.07it/s]\n"
          ]
        },
        {
          "data": {
            "image/png": "[encoded data removed]",
            "text/plain": [
              "<Figure size 640x480 with 1 Axes>"
            ]
          },
          "metadata": {},
          "output_type": "display_data"
        },
        {
          "name": "stdout",
          "output_type": "stream",
          "text": [
            "90 quantile: 1.290820554899887\n",
            "95 quantile: 1.4672634394416753\n",
            "99 quantile: 1.7543704200026198\n"
          ]
        },
        {
          "name": "stderr",
          "output_type": "stream",
          "text": [
            " 32%|███▏      | 317/1000 [00:10<00:21, 31.47it/s]\n"
          ]
        },
        {
          "ename": "KeyboardInterrupt",
          "evalue": "ignored",
          "output_type": "error",
          "traceback": [
            "\u001b[0;31m---------------------------------------------------------------------------\u001b[0m",
            "\u001b[0;31mKeyboardInterrupt\u001b[0m                         Traceback (most recent call last)",
            "\u001b[0;32m<ipython-input-8-9c0cb897ab18>\u001b[0m in \u001b[0;36m<cell line: 13>\u001b[0;34m()\u001b[0m\n\u001b[1;32m     22\u001b[0m       \u001b[0mmodel\u001b[0m \u001b[0;34m=\u001b[0m \u001b[0march_model\u001b[0m\u001b[0;34m(\u001b[0m\u001b[0msim_data\u001b[0m\u001b[0;34m[\u001b[0m\u001b[0;34m'data'\u001b[0m\u001b[0;34m]\u001b[0m\u001b[0;34m,\u001b[0m \u001b[0mx\u001b[0m\u001b[0;34m=\u001b[0m\u001b[0mexog\u001b[0m\u001b[0;34m,\u001b[0m \u001b[0mmean\u001b[0m\u001b[0;34m=\u001b[0m\u001b[0;34m'ARX'\u001b[0m\u001b[0;34m,\u001b[0m \u001b[0mlags\u001b[0m\u001b[0;34m=\u001b[0m\u001b[0;36m0\u001b[0m\u001b[0;34m,\u001b[0m \u001b[0mvol\u001b[0m\u001b[0;34m=\u001b[0m\u001b[0;34m'ARCH'\u001b[0m\u001b[0;34m,\u001b[0m \u001b[0mp\u001b[0m\u001b[0;34m=\u001b[0m\u001b[0;36m1\u001b[0m\u001b[0;34m)\u001b[0m\u001b[0;34m\u001b[0m\u001b[0;34m\u001b[0m\u001b[0m\n\u001b[1;32m     23\u001b[0m       \u001b[0;31m#model = arch_model(sim_data['data'], lags=0, vol='ARCH', p=1)\u001b[0m\u001b[0;34m\u001b[0m\u001b[0;34m\u001b[0m\u001b[0m\n\u001b[0;32m---> 24\u001b[0;31m       \u001b[0mres\u001b[0m \u001b[0;34m=\u001b[0m \u001b[0mmodel\u001b[0m\u001b[0;34m.\u001b[0m\u001b[0mfit\u001b[0m\u001b[0;34m(\u001b[0m\u001b[0mdisp\u001b[0m\u001b[0;34m=\u001b[0m\u001b[0;34m\"off\"\u001b[0m\u001b[0;34m)\u001b[0m\u001b[0;34m\u001b[0m\u001b[0;34m\u001b[0m\u001b[0m\n\u001b[0m\u001b[1;32m     25\u001b[0m \u001b[0;34m\u001b[0m\u001b[0m\n\u001b[1;32m     26\u001b[0m       \u001b[0ms\u001b[0m \u001b[0;34m=\u001b[0m \u001b[0mnp\u001b[0m\u001b[0;34m.\u001b[0m\u001b[0marange\u001b[0m\u001b[0;34m(\u001b[0m\u001b[0;36m1\u001b[0m\u001b[0;34m/\u001b[0m\u001b[0mT\u001b[0m\u001b[0;34m,\u001b[0m \u001b[0;36m1\u001b[0m \u001b[0;34m+\u001b[0m \u001b[0;36m1\u001b[0m\u001b[0;34m/\u001b[0m\u001b[0mT\u001b[0m\u001b[0;34m,\u001b[0m \u001b[0;36m1\u001b[0m\u001b[0;34m/\u001b[0m\u001b[0mT\u001b[0m\u001b[0;34m)\u001b[0m\u001b[0;34m\u001b[0m\u001b[0;34m\u001b[0m\u001b[0m\n",
            "\u001b[0;32m/usr/local/lib/python3.10/dist-packages/arch/univariate/base.py\u001b[0m in \u001b[0;36mfit\u001b[0;34m(self, update_freq, disp, starting_values, cov_type, show_warning, first_obs, last_obs, tol, options, backcast)\u001b[0m\n\u001b[1;32m    746\u001b[0m                 \u001b[0mRuntimeWarning\u001b[0m\u001b[0;34m,\u001b[0m\u001b[0;34m\u001b[0m\u001b[0;34m\u001b[0m\u001b[0m\n\u001b[1;32m    747\u001b[0m             )\n\u001b[0;32m--> 748\u001b[0;31m             opt = minimize(\n\u001b[0m\u001b[1;32m    749\u001b[0m                 \u001b[0mfunc\u001b[0m\u001b[0;34m,\u001b[0m\u001b[0;34m\u001b[0m\u001b[0;34m\u001b[0m\u001b[0m\n\u001b[1;32m    750\u001b[0m                 \u001b[0msv\u001b[0m\u001b[0;34m,\u001b[0m\u001b[0;34m\u001b[0m\u001b[0;34m\u001b[0m\u001b[0m\n",
            "\u001b[0;32m/usr/local/lib/python3.10/dist-packages/scipy/optimize/_minimize.py\u001b[0m in \u001b[0;36mminimize\u001b[0;34m(fun, x0, args, method, jac, hess, hessp, bounds, constraints, tol, callback, options)\u001b[0m\n\u001b[1;32m    703\u001b[0m                                 **options)\n\u001b[1;32m    704\u001b[0m     \u001b[0;32melif\u001b[0m \u001b[0mmeth\u001b[0m \u001b[0;34m==\u001b[0m \u001b[0;34m'slsqp'\u001b[0m\u001b[0;34m:\u001b[0m\u001b[0;34m\u001b[0m\u001b[0;34m\u001b[0m\u001b[0m\n\u001b[0;32m--> 705\u001b[0;31m         res = _minimize_slsqp(fun, x0, args, jac, bounds,\n\u001b[0m\u001b[1;32m    706\u001b[0m                               constraints, callback=callback, **options)\n\u001b[1;32m    707\u001b[0m     \u001b[0;32melif\u001b[0m \u001b[0mmeth\u001b[0m \u001b[0;34m==\u001b[0m \u001b[0;34m'trust-constr'\u001b[0m\u001b[0;34m:\u001b[0m\u001b[0;34m\u001b[0m\u001b[0;34m\u001b[0m\u001b[0m\n",
            "\u001b[0;32m/usr/local/lib/python3.10/dist-packages/scipy/optimize/_slsqp_py.py\u001b[0m in \u001b[0;36m_minimize_slsqp\u001b[0;34m(func, x0, args, jac, bounds, constraints, maxiter, ftol, iprint, disp, eps, callback, finite_diff_rel_step, **unknown_options)\u001b[0m\n\u001b[1;32m    430\u001b[0m \u001b[0;34m\u001b[0m\u001b[0m\n\u001b[1;32m    431\u001b[0m         \u001b[0;32mif\u001b[0m \u001b[0mmode\u001b[0m \u001b[0;34m==\u001b[0m \u001b[0;34m-\u001b[0m\u001b[0;36m1\u001b[0m\u001b[0;34m:\u001b[0m  \u001b[0;31m# gradient evaluation required\u001b[0m\u001b[0;34m\u001b[0m\u001b[0;34m\u001b[0m\u001b[0m\n\u001b[0;32m--> 432\u001b[0;31m             \u001b[0mg\u001b[0m \u001b[0;34m=\u001b[0m \u001b[0mappend\u001b[0m\u001b[0;34m(\u001b[0m\u001b[0mwrapped_grad\u001b[0m\u001b[0;34m(\u001b[0m\u001b[0mx\u001b[0m\u001b[0;34m)\u001b[0m\u001b[0;34m,\u001b[0m \u001b[0;36m0.0\u001b[0m\u001b[0;34m)\u001b[0m\u001b[0;34m\u001b[0m\u001b[0;34m\u001b[0m\u001b[0m\n\u001b[0m\u001b[1;32m    433\u001b[0m             \u001b[0ma\u001b[0m \u001b[0;34m=\u001b[0m \u001b[0m_eval_con_normals\u001b[0m\u001b[0;34m(\u001b[0m\u001b[0mx\u001b[0m\u001b[0;34m,\u001b[0m \u001b[0mcons\u001b[0m\u001b[0;34m,\u001b[0m \u001b[0mla\u001b[0m\u001b[0;34m,\u001b[0m \u001b[0mn\u001b[0m\u001b[0;34m,\u001b[0m \u001b[0mm\u001b[0m\u001b[0;34m,\u001b[0m \u001b[0mmeq\u001b[0m\u001b[0;34m,\u001b[0m \u001b[0mmieq\u001b[0m\u001b[0;34m)\u001b[0m\u001b[0;34m\u001b[0m\u001b[0;34m\u001b[0m\u001b[0m\n\u001b[1;32m    434\u001b[0m \u001b[0;34m\u001b[0m\u001b[0m\n",
            "\u001b[0;32m/usr/local/lib/python3.10/dist-packages/scipy/optimize/_optimize.py\u001b[0m in \u001b[0;36meval\u001b[0;34m(x)\u001b[0m\n\u001b[1;32m    344\u001b[0m     \u001b[0;32mdef\u001b[0m \u001b[0meval\u001b[0m\u001b[0;34m(\u001b[0m\u001b[0mx\u001b[0m\u001b[0;34m)\u001b[0m\u001b[0;34m:\u001b[0m\u001b[0;34m\u001b[0m\u001b[0;34m\u001b[0m\u001b[0m\n\u001b[1;32m    345\u001b[0m         \u001b[0mx\u001b[0m \u001b[0;34m=\u001b[0m \u001b[0m_check_clip_x\u001b[0m\u001b[0;34m(\u001b[0m\u001b[0mx\u001b[0m\u001b[0;34m,\u001b[0m \u001b[0mbounds\u001b[0m\u001b[0;34m)\u001b[0m\u001b[0;34m\u001b[0m\u001b[0;34m\u001b[0m\u001b[0m\n\u001b[0;32m--> 346\u001b[0;31m         \u001b[0;32mreturn\u001b[0m \u001b[0mfunc\u001b[0m\u001b[0;34m(\u001b[0m\u001b[0mx\u001b[0m\u001b[0;34m)\u001b[0m\u001b[0;34m\u001b[0m\u001b[0;34m\u001b[0m\u001b[0m\n\u001b[0m\u001b[1;32m    347\u001b[0m \u001b[0;34m\u001b[0m\u001b[0m\n\u001b[1;32m    348\u001b[0m     \u001b[0;32mreturn\u001b[0m \u001b[0meval\u001b[0m\u001b[0;34m\u001b[0m\u001b[0;34m\u001b[0m\u001b[0m\n",
            "\u001b[0;32m/usr/local/lib/python3.10/dist-packages/scipy/optimize/_differentiable_functions.py\u001b[0m in \u001b[0;36mgrad\u001b[0;34m(self, x)\u001b[0m\n\u001b[1;32m    271\u001b[0m         \u001b[0;32mif\u001b[0m \u001b[0;32mnot\u001b[0m \u001b[0mnp\u001b[0m\u001b[0;34m.\u001b[0m\u001b[0marray_equal\u001b[0m\u001b[0;34m(\u001b[0m\u001b[0mx\u001b[0m\u001b[0;34m,\u001b[0m \u001b[0mself\u001b[0m\u001b[0;34m.\u001b[0m\u001b[0mx\u001b[0m\u001b[0;34m)\u001b[0m\u001b[0;34m:\u001b[0m\u001b[0;34m\u001b[0m\u001b[0;34m\u001b[0m\u001b[0m\n\u001b[1;32m    272\u001b[0m             \u001b[0mself\u001b[0m\u001b[0;34m.\u001b[0m\u001b[0m_update_x_impl\u001b[0m\u001b[0;34m(\u001b[0m\u001b[0mx\u001b[0m\u001b[0;34m)\u001b[0m\u001b[0;34m\u001b[0m\u001b[0;34m\u001b[0m\u001b[0m\n\u001b[0;32m--> 273\u001b[0;31m         \u001b[0mself\u001b[0m\u001b[0;34m.\u001b[0m\u001b[0m_update_grad\u001b[0m\u001b[0;34m(\u001b[0m\u001b[0;34m)\u001b[0m\u001b[0;34m\u001b[0m\u001b[0;34m\u001b[0m\u001b[0m\n\u001b[0m\u001b[1;32m    274\u001b[0m         \u001b[0;32mreturn\u001b[0m \u001b[0mself\u001b[0m\u001b[0;34m.\u001b[0m\u001b[0mg\u001b[0m\u001b[0;34m\u001b[0m\u001b[0;34m\u001b[0m\u001b[0m\n\u001b[1;32m    275\u001b[0m \u001b[0;34m\u001b[0m\u001b[0m\n",
            "\u001b[0;32m/usr/local/lib/python3.10/dist-packages/scipy/optimize/_differentiable_functions.py\u001b[0m in \u001b[0;36m_update_grad\u001b[0;34m(self)\u001b[0m\n\u001b[1;32m    254\u001b[0m     \u001b[0;32mdef\u001b[0m \u001b[0m_update_grad\u001b[0m\u001b[0;34m(\u001b[0m\u001b[0mself\u001b[0m\u001b[0;34m)\u001b[0m\u001b[0;34m:\u001b[0m\u001b[0;34m\u001b[0m\u001b[0;34m\u001b[0m\u001b[0m\n\u001b[1;32m    255\u001b[0m         \u001b[0;32mif\u001b[0m \u001b[0;32mnot\u001b[0m \u001b[0mself\u001b[0m\u001b[0;34m.\u001b[0m\u001b[0mg_updated\u001b[0m\u001b[0;34m:\u001b[0m\u001b[0;34m\u001b[0m\u001b[0;34m\u001b[0m\u001b[0m\n\u001b[0;32m--> 256\u001b[0;31m             \u001b[0mself\u001b[0m\u001b[0;34m.\u001b[0m\u001b[0m_update_grad_impl\u001b[0m\u001b[0;34m(\u001b[0m\u001b[0;34m)\u001b[0m\u001b[0;34m\u001b[0m\u001b[0;34m\u001b[0m\u001b[0m\n\u001b[0m\u001b[1;32m    257\u001b[0m             \u001b[0mself\u001b[0m\u001b[0;34m.\u001b[0m\u001b[0mg_updated\u001b[0m \u001b[0;34m=\u001b[0m \u001b[0;32mTrue\u001b[0m\u001b[0;34m\u001b[0m\u001b[0;34m\u001b[0m\u001b[0m\n\u001b[1;32m    258\u001b[0m \u001b[0;34m\u001b[0m\u001b[0m\n",
            "\u001b[0;32m/usr/local/lib/python3.10/dist-packages/scipy/optimize/_differentiable_functions.py\u001b[0m in \u001b[0;36mupdate_grad\u001b[0;34m()\u001b[0m\n\u001b[1;32m    171\u001b[0m                 \u001b[0mself\u001b[0m\u001b[0;34m.\u001b[0m\u001b[0m_update_fun\u001b[0m\u001b[0;34m(\u001b[0m\u001b[0;34m)\u001b[0m\u001b[0;34m\u001b[0m\u001b[0;34m\u001b[0m\u001b[0m\n\u001b[1;32m    172\u001b[0m                 \u001b[0mself\u001b[0m\u001b[0;34m.\u001b[0m\u001b[0mngev\u001b[0m \u001b[0;34m+=\u001b[0m \u001b[0;36m1\u001b[0m\u001b[0;34m\u001b[0m\u001b[0;34m\u001b[0m\u001b[0m\n\u001b[0;32m--> 173\u001b[0;31m                 self.g = approx_derivative(fun_wrapped, self.x, f0=self.f,\n\u001b[0m\u001b[1;32m    174\u001b[0m                                            **finite_diff_options)\n\u001b[1;32m    175\u001b[0m \u001b[0;34m\u001b[0m\u001b[0m\n",
            "\u001b[0;32m/usr/local/lib/python3.10/dist-packages/scipy/optimize/_numdiff.py\u001b[0m in \u001b[0;36mapprox_derivative\u001b[0;34m(fun, x0, method, rel_step, abs_step, f0, bounds, sparsity, as_linear_operator, args, kwargs)\u001b[0m\n\u001b[1;32m    494\u001b[0m \u001b[0;34m\u001b[0m\u001b[0m\n\u001b[1;32m    495\u001b[0m         \u001b[0;32mif\u001b[0m \u001b[0mmethod\u001b[0m \u001b[0;34m==\u001b[0m \u001b[0;34m'2-point'\u001b[0m\u001b[0;34m:\u001b[0m\u001b[0;34m\u001b[0m\u001b[0;34m\u001b[0m\u001b[0m\n\u001b[0;32m--> 496\u001b[0;31m             h, use_one_sided = _adjust_scheme_to_bounds(\n\u001b[0m\u001b[1;32m    497\u001b[0m                 x0, h, 1, '1-sided', lb, ub)\n\u001b[1;32m    498\u001b[0m         \u001b[0;32melif\u001b[0m \u001b[0mmethod\u001b[0m \u001b[0;34m==\u001b[0m \u001b[0;34m'3-point'\u001b[0m\u001b[0;34m:\u001b[0m\u001b[0;34m\u001b[0m\u001b[0;34m\u001b[0m\u001b[0m\n",
            "\u001b[0;32m/usr/local/lib/python3.10/dist-packages/scipy/optimize/_numdiff.py\u001b[0m in \u001b[0;36m_adjust_scheme_to_bounds\u001b[0;34m(x0, h, num_steps, scheme, lb, ub)\u001b[0m\n\u001b[1;32m     48\u001b[0m         \u001b[0;32mraise\u001b[0m \u001b[0mValueError\u001b[0m\u001b[0;34m(\u001b[0m\u001b[0;34m\"`scheme` must be '1-sided' or '2-sided'.\"\u001b[0m\u001b[0;34m)\u001b[0m\u001b[0;34m\u001b[0m\u001b[0;34m\u001b[0m\u001b[0m\n\u001b[1;32m     49\u001b[0m \u001b[0;34m\u001b[0m\u001b[0m\n\u001b[0;32m---> 50\u001b[0;31m     \u001b[0;32mif\u001b[0m \u001b[0mnp\u001b[0m\u001b[0;34m.\u001b[0m\u001b[0mall\u001b[0m\u001b[0;34m(\u001b[0m\u001b[0;34m(\u001b[0m\u001b[0mlb\u001b[0m \u001b[0;34m==\u001b[0m \u001b[0;34m-\u001b[0m\u001b[0mnp\u001b[0m\u001b[0;34m.\u001b[0m\u001b[0minf\u001b[0m\u001b[0;34m)\u001b[0m \u001b[0;34m&\u001b[0m \u001b[0;34m(\u001b[0m\u001b[0mub\u001b[0m \u001b[0;34m==\u001b[0m \u001b[0mnp\u001b[0m\u001b[0;34m.\u001b[0m\u001b[0minf\u001b[0m\u001b[0;34m)\u001b[0m\u001b[0;34m)\u001b[0m\u001b[0;34m:\u001b[0m\u001b[0;34m\u001b[0m\u001b[0;34m\u001b[0m\u001b[0m\n\u001b[0m\u001b[1;32m     51\u001b[0m         \u001b[0;32mreturn\u001b[0m \u001b[0mh\u001b[0m\u001b[0;34m,\u001b[0m \u001b[0muse_one_sided\u001b[0m\u001b[0;34m\u001b[0m\u001b[0;34m\u001b[0m\u001b[0m\n\u001b[1;32m     52\u001b[0m \u001b[0;34m\u001b[0m\u001b[0m\n",
            "\u001b[0;32m/usr/local/lib/python3.10/dist-packages/numpy/core/overrides.py\u001b[0m in \u001b[0;36mall\u001b[0;34m(*args, **kwargs)\u001b[0m\n",
            "\u001b[0;31mKeyboardInterrupt\u001b[0m: "
          ]
        }
      ],
      "source": [
        "import warnings\n",
        "warnings.filterwarnings('ignore')\n",
        "T = 1500\n",
        "p_coefs = [0.1,0.3,0.5,0.7, 0.9]\n",
        "params = np.array([0, 0.2, 0.2])\n",
        "lmbd = 1\n",
        "\n",
        "sim_mod = arch_model(None, p=1, o=0, q=0, dist=\"normal\")\n",
        "\n",
        "# Monte Carlo setup\n",
        "n_simulations = 1000  # Number of Monte Carlo simulations\n",
        "\n",
        "for p_coef in p_coefs:\n",
        "  sup_b_values = []\n",
        "  for _ in tqdm(range(n_simulations)):\n",
        "      x0 = (np.arange(T) < p_coef * T).astype(int)\n",
        "      exog = pd.DataFrame({\"x0\": x0})\n",
        "      sim_data = sim_mod.simulate(params, nobs=T)\n",
        "      #sim_data['data'] = exog['x0'] * lmbd + sim_data['data']\n",
        "\n",
        "      # Model using arch\n",
        "      model = arch_model(sim_data['data'], x=exog, mean='ARX', lags=0, vol='ARCH', p=1)\n",
        "      #model = arch_model(sim_data['data'], lags=0, vol='ARCH', p=1)\n",
        "      res = model.fit(disp=\"off\")\n",
        "\n",
        "      s = np.arange(1/T, 1 + 1/T, 1/T)\n",
        "      residuals = np.array(res.resid) -res.params[0]\n",
        "      residuals_cusum = residuals.cumsum()\n",
        "      process = (residuals_cusum - np.minimum(s, p_coef) *residuals_cusum[-1] / p_coef) / np.std(residuals) / math.sqrt(T)\n",
        "      # epsilon = residuals / np.array(res.conditional_volatility)\n",
        "      # mean_residual = np.mean(residuals)\n",
        "\n",
        "      # average_corrected_residuals = residuals - mean_residual\n",
        "      # process = epsilon.cumsum() / np.std(epsilon) / math.sqrt(T)\n",
        "      # process2 = residuals.cumsum() / np.std(residuals) / math.sqrt(T)\n",
        "      # process3 = average_corrected_residuals.cumsum() / np.std(residuals) / math.sqrt(T)\n",
        "      # process4 = average_corrected_residuals.cumsum() / np.std(epsilon) / math.sqrt(T)\n",
        "      sup_b = np.abs(process).max()\n",
        "\n",
        "      sup_b_values.append(sup_b)\n",
        "  supremums = np.array(sup_b_values)\n",
        "  plt.hist(supremums, bins=50, density=True)\n",
        "  plt.title(\"Distribution of Supremum of Brownian Bridge\")\n",
        "  plt.xlabel(\"Supremum Value\")\n",
        "  plt.ylabel(\"Density\")\n",
        "  plt.show()\n",
        "  sorted_supremums = np.sort(supremums)\n",
        "  critical_95 = sorted_supremums[int(0.95 * len(sorted_supremums))]\n",
        "  critical_99 = sorted_supremums[int(0.99 * len(sorted_supremums))]\n",
        "  critical_90 = sorted_supremums[int(0.90 * len(sorted_supremums))]\n",
        "  print(\"90 quantile:\", critical_90)\n",
        "  print(\"95 quantile:\", critical_95)\n",
        "  print(\"99 quantile:\", critical_99)\n",
        "\n",
        "\n"
      ]
    },
    {
      "cell_type": "markdown",
      "metadata": {
        "id": "-3PVMn2Ls_M8"
      },
      "source": [
        "# Real data"
      ]
    },
    {
      "cell_type": "code",
      "execution_count": null,
      "metadata": {
        "colab": {
          "base_uri": "https://localhost:8080/",
          "height": 1000
        },
        "id": "PHze_TP9t1h5",
        "outputId": "d56f5178-8181-45fa-a02b-40a2179943cf"
      },
      "outputs": [
        {
          "name": "stderr",
          "output_type": "stream",
          "text": [
            "<ipython-input-8-e26ff910ba4b>:9: SettingWithCopyWarning: \n",
            "A value is trying to be set on a copy of a slice from a DataFrame\n",
            "\n",
            "See the caveats in the documentation: https://pandas.pydata.org/pandas-docs/stable/user_guide/indexing.html#returning-a-view-versus-a-copy\n",
            "  filtered_df.rename(columns={' value': 'value'}, inplace=True)\n",
            "<ipython-input-8-e26ff910ba4b>:12: SettingWithCopyWarning: \n",
            "A value is trying to be set on a copy of a slice from a DataFrame.\n",
            "Try using .loc[row_indexer,col_indexer] = value instead\n",
            "\n",
            "See the caveats in the documentation: https://pandas.pydata.org/pandas-docs/stable/user_guide/indexing.html#returning-a-view-versus-a-copy\n",
            "  filtered_df['value'] = filtered_df['value'].astype(float)\n",
            "<ipython-input-8-e26ff910ba4b>:14: SettingWithCopyWarning: \n",
            "A value is trying to be set on a copy of a slice from a DataFrame.\n",
            "Try using .loc[row_indexer,col_indexer] = value instead\n",
            "\n",
            "See the caveats in the documentation: https://pandas.pydata.org/pandas-docs/stable/user_guide/indexing.html#returning-a-view-versus-a-copy\n",
            "  filtered_df['value'] = 1 / filtered_df['value']\n",
            "/usr/local/lib/python3.10/dist-packages/arch/univariate/base.py:311: DataScaleWarning: y is poorly scaled, which may affect convergence of the optimizer when\n",
            "estimating the model parameters. The scale of y is 4.875e-07. Parameter\n",
            "estimation work better when this value is between 1 and 1000. The recommended\n",
            "rescaling is 1000 * y.\n",
            "\n",
            "This warning can be disabled by either rescaling y before initializing the\n",
            "model or by setting rescale=False.\n",
            "\n",
            "  warnings.warn(\n",
            "/usr/local/lib/python3.10/dist-packages/arch/univariate/base.py:766: ConvergenceWarning: The optimizer returned code 4. The message is:\n",
            "Inequality constraints incompatible\n",
            "See scipy.optimize.fmin_slsqp for code meaning.\n",
            "\n",
            "  warnings.warn(\n",
            "<ipython-input-8-e26ff910ba4b>:45: SettingWithCopyWarning: \n",
            "A value is trying to be set on a copy of a slice from a DataFrame.\n",
            "Try using .loc[row_indexer,col_indexer] = value instead\n",
            "\n",
            "See the caveats in the documentation: https://pandas.pydata.org/pandas-docs/stable/user_guide/indexing.html#returning-a-view-versus-a-copy\n",
            "  filtered_df['process'] = process\n"
          ]
        },
        {
          "name": "stdout",
          "output_type": "stream",
          "text": [
            "                      Constant Mean - ARCH Model Results                      \n",
            "==============================================================================\n",
            "Dep. Variable:                  value   R-squared:                       0.000\n",
            "Mean Model:             Constant Mean   Adj. R-squared:                  0.000\n",
            "Vol Model:                       ARCH   Log-Likelihood:                7638.45\n",
            "Distribution:                  Normal   AIC:                          -15270.9\n",
            "Method:            Maximum Likelihood   BIC:                          -15255.5\n",
            "                                        No. Observations:                 1273\n",
            "Date:                Sun, Aug 20 2023   Df Residuals:                     1272\n",
            "Time:                        15:38:31   Df Model:                            1\n",
            "                                 Mean Model                                 \n",
            "============================================================================\n",
            "                 coef    std err          t      P>|t|      95.0% Conf. Int.\n",
            "----------------------------------------------------------------------------\n",
            "mu         8.4033e-03  1.888e-09  4.451e+06      0.000 [8.403e-03,8.403e-03]\n",
            "                              Volatility Model                              \n",
            "============================================================================\n",
            "                 coef    std err          t      P>|t|      95.0% Conf. Int.\n",
            "----------------------------------------------------------------------------\n",
            "omega      1.4624e-07  1.320e-12  1.108e+05      0.000 [1.462e-07,1.462e-07]\n",
            "alpha[1]       0.2000  4.984e-03     40.125      0.000     [  0.190,  0.210]\n",
            "============================================================================\n",
            "\n",
            "Covariance estimator: robust\n",
            "WARNING: The optimizer did not indicate successful convergence. The message was Inequality constraints incompatible.\n",
            "See convergence_flag.\n",
            "\n",
            "7.526970667795499\n"
          ]
        },
        {
          "data": {
            "image/png": "[encoded data removed]",
            "text/plain": [
              "<Figure size 1400x700 with 1 Axes>"
            ]
          },
          "metadata": {},
          "output_type": "display_data"
        }
      ],
      "source": [
        "df = pd.read_csv('dollar-yen-exchange-rate-historical-chart.csv')\n",
        "\n",
        "# Convert the date column to datetime format\n",
        "df['date'] = pd.to_datetime(df['date'])\n",
        "\n",
        "# Filter the data based on the given date range\n",
        "filtered_df = df[(df['date'] >= '1998-01-05') & (df['date'] <= '2003-01-27')]\n",
        "\n",
        "filtered_df.rename(columns={' value': 'value'}, inplace=True)\n",
        "\n",
        "# Ensure the 'value' column is of type float\n",
        "filtered_df['value'] = filtered_df['value'].astype(float)\n",
        "T = len(filtered_df.index)\n",
        "filtered_df['value'] = 1 / filtered_df['value']\n",
        "\n",
        "res = arch_model(filtered_df['value'], p=1, o=0, q=0, dist=\"normal\").fit(disp=\"off\")\n",
        "print(res)\n",
        "residuals = np.array(res.resid)\n",
        "#shock_residuals = residuals / np.array(res.conditional_volatility)\n",
        "#shocl_residuals_squared = residuals**2 / np.array(res.conditional_volatility)**2\n",
        "# filtered_df['shock_residuals']=residuals\n",
        "# filtered_df['shocl_residuals_squared']=residuals**2\n",
        "\n",
        "# filtered_df.to_csv('updated_residuals_filtered_yen_data_set.csv')\n",
        "\n",
        "\n",
        "# from statsmodels.stats.diagnostic import acorr_ljungbox\n",
        "\n",
        "# log_returns = np.log(filtered_df['value']).diff().dropna()\n",
        "# res = arch_model(log_returns, p=1, o=0, q=0, dist=\"normal\").fit(disp=\"off\")\n",
        "\n",
        "\n",
        "# print(len(filtered_df['value']), len(log_returns))\n",
        "# print(res)\n",
        "\n",
        "# test_value = acorr_ljungbox(log_returns,  lags = 1)\n",
        "# test_value\n",
        "\n",
        "residuals = np.array(res.resid)\n",
        "mean_residual = np.mean(residuals)\n",
        "average_corrected_residuals = residuals - mean_residual\n",
        "process = np.abs(average_corrected_residuals.cumsum() / np.std(residuals) / math.sqrt(T))\n",
        "sup_b = np.abs(process).max()\n",
        "print(sup_b)\n",
        "filtered_df['process'] = process\n",
        "filtered_df.to_csv('process_filtered_yen_data_set.csv')\n",
        "\n",
        "\n",
        "# Plotting\n",
        "plt.figure(figsize=(14, 7))\n",
        "plt.plot(filtered_df['date'], process, label='Process', color='blue')\n",
        "plt.axhline(y=sup_b, color='r', linestyle='--', label=f'Sup B: {sup_b:.4f}')\n",
        "plt.title('Process Values Over Time')\n",
        "plt.xlabel('Date')\n",
        "plt.ylabel('Process Value')\n",
        "plt.legend()\n",
        "plt.grid(True)\n",
        "plt.tight_layout()\n",
        "plt.show()\n",
        "\n",
        "\n",
        "# date_sup_b_max = filtered_df['date'][np.abs(filtered_df['process']).idxmax()]\n",
        "# date_sup_b_max\n",
        "\n"
      ]
    },
    {
      "cell_type": "code",
      "execution_count": null,
      "metadata": {
        "colab": {
          "base_uri": "https://localhost:8080/",
          "height": 473
        },
        "id": "0qN0BHr9T5MX",
        "outputId": "1099a945-a1bd-4dc0-f222-b4d844909e80"
      },
      "outputs": [
        {
          "data": {
            "image/png": "[encoded data removed]",
            "text/plain": [
              "<Figure size 1200x600 with 1 Axes>"
            ]
          },
          "metadata": {},
          "output_type": "display_data"
        },
        {
          "name": "stderr",
          "output_type": "stream",
          "text": [
            "<ipython-input-9-8027d13deba5>:24: SettingWithCopyWarning: \n",
            "A value is trying to be set on a copy of a slice from a DataFrame.\n",
            "Try using .loc[row_indexer,col_indexer] = value instead\n",
            "\n",
            "See the caveats in the documentation: https://pandas.pydata.org/pandas-docs/stable/user_guide/indexing.html#returning-a-view-versus-a-copy\n",
            "  filtered_df['year_fraction'] = filtered_df['date'].apply(date_to_year_fraction)\n"
          ]
        }
      ],
      "source": [
        "plt.figure(figsize=(12, 6))\n",
        "plt.plot(filtered_df['date'], filtered_df['value'], label='USD/JPY Exchange Rate', color='blue')\n",
        "plt.axvline(pd.Timestamp('1998-10-05'), color='red', linestyle='--', label='8 December 1998')\n",
        "plt.title('USD/JPY Exchange Rate from Jan 5, 1998 to Jan 27, 2003')\n",
        "plt.xlabel('Date')\n",
        "plt.ylabel('Exchange Rate')\n",
        "plt.legend()\n",
        "plt.grid(True)\n",
        "plt.tight_layout()\n",
        "plt.show()\n",
        "\n",
        "#filtered_df['value'] = 1/filtered_df['value']\n",
        "def date_to_year_fraction(date):\n",
        "    \"\"\"Convert a date to a year fraction.\"\"\"\n",
        "    year = date.year\n",
        "    start_of_year = pd.Timestamp(year=year, month=1, day=1)\n",
        "    end_of_year = pd.Timestamp(year=year+1, month=1, day=1)\n",
        "    year_length = (end_of_year - start_of_year).days\n",
        "    days_into_year = (date - start_of_year).days\n",
        "\n",
        "    return year + days_into_year/year_length\n",
        "\n",
        "# Apply the function to the date column\n",
        "filtered_df['year_fraction'] = filtered_df['date'].apply(date_to_year_fraction)\n",
        "\n",
        "# Check the first few rows\n",
        "filtered_df.head()\n",
        "\n",
        "filtered_df.to_csv('process_filtered_yen_data_set.csv')"
      ]
    },
    {
      "cell_type": "code",
      "execution_count": null,
      "metadata": {
        "colab": {
          "base_uri": "https://localhost:8080/"
        },
        "id": "LwpQpgCnF14z",
        "outputId": "bb349065-75ee-4672-9a75-7641dadd51c9"
      },
      "outputs": [
        {
          "name": "stdout",
          "output_type": "stream",
          "text": [
            "                      Constant Mean - ARCH Model Results                      \n",
            "==============================================================================\n",
            "Dep. Variable:                  value   R-squared:                       0.000\n",
            "Mean Model:             Constant Mean   Adj. R-squared:                  0.000\n",
            "Vol Model:                       ARCH   Log-Likelihood:                1292.54\n",
            "Distribution:                  Normal   AIC:                          -2579.07\n",
            "Method:            Maximum Likelihood   BIC:                          -2569.27\n",
            "                                        No. Observations:                  194\n",
            "Date:                Sun, Aug 20 2023   Df Residuals:                      193\n",
            "Time:                        16:24:46   Df Model:                            1\n",
            "                                 Mean Model                                 \n",
            "============================================================================\n",
            "                 coef    std err          t      P>|t|      95.0% Conf. Int.\n",
            "----------------------------------------------------------------------------\n",
            "mu         7.4387e-03  2.169e-08  3.430e+05      0.000 [7.439e-03,7.439e-03]\n",
            "                              Volatility Model                              \n",
            "============================================================================\n",
            "                 coef    std err          t      P>|t|      95.0% Conf. Int.\n",
            "----------------------------------------------------------------------------\n",
            "omega      5.8023e-08  1.068e-11   5430.383      0.000 [5.800e-08,5.804e-08]\n",
            "alpha[1]       0.2000  1.788e-02     11.188  4.673e-29     [  0.165,  0.235]\n",
            "============================================================================\n",
            "\n",
            "Covariance estimator: robust\n",
            "WARNING: The optimizer did not indicate successful convergence. The message was Inequality constraints incompatible.\n",
            "See convergence_flag.\n",
            "\n",
            "                      Constant Mean - ARCH Model Results                      \n",
            "==============================================================================\n",
            "Dep. Variable:                  value   R-squared:                       0.000\n",
            "Mean Model:             Constant Mean   Adj. R-squared:                  0.000\n",
            "Vol Model:                       ARCH   Log-Likelihood:                6606.42\n",
            "Distribution:                  Normal   AIC:                          -13206.8\n",
            "Method:            Maximum Likelihood   BIC:                          -13191.9\n",
            "                                        No. Observations:                 1080\n",
            "Date:                Sun, Aug 20 2023   Df Residuals:                     1079\n",
            "Time:                        16:24:46   Df Model:                            1\n",
            "                                 Mean Model                                 \n",
            "============================================================================\n",
            "                 coef    std err          t      P>|t|      95.0% Conf. Int.\n",
            "----------------------------------------------------------------------------\n",
            "mu         8.5763e-03  1.451e-09  5.910e+06      0.000 [8.576e-03,8.576e-03]\n",
            "                              Volatility Model                              \n",
            "============================================================================\n",
            "                 coef    std err          t      P>|t|      95.0% Conf. Int.\n",
            "----------------------------------------------------------------------------\n",
            "omega      1.7839e-07  1.407e-12  1.268e+05      0.000 [1.784e-07,1.784e-07]\n",
            "alpha[1]       0.2000  7.234e-03     27.649 2.881e-168     [  0.186,  0.214]\n",
            "============================================================================\n",
            "\n",
            "Covariance estimator: robust\n",
            "WARNING: The optimizer did not indicate successful convergence. The message was Inequality constraints incompatible.\n",
            "See convergence_flag.\n",
            "\n"
          ]
        },
        {
          "name": "stderr",
          "output_type": "stream",
          "text": [
            "/usr/local/lib/python3.10/dist-packages/arch/univariate/base.py:311: DataScaleWarning: y is poorly scaled, which may affect convergence of the optimizer when\n",
            "estimating the model parameters. The scale of y is 1.16e-07. Parameter\n",
            "estimation work better when this value is between 1 and 1000. The recommended\n",
            "rescaling is 1000 * y.\n",
            "\n",
            "This warning can be disabled by either rescaling y before initializing the\n",
            "model or by setting rescale=False.\n",
            "\n",
            "  warnings.warn(\n",
            "/usr/local/lib/python3.10/dist-packages/arch/univariate/base.py:766: ConvergenceWarning: The optimizer returned code 4. The message is:\n",
            "Inequality constraints incompatible\n",
            "See scipy.optimize.fmin_slsqp for code meaning.\n",
            "\n",
            "  warnings.warn(\n",
            "/usr/local/lib/python3.10/dist-packages/arch/univariate/base.py:311: DataScaleWarning: y is poorly scaled, which may affect convergence of the optimizer when\n",
            "estimating the model parameters. The scale of y is 3.568e-07. Parameter\n",
            "estimation work better when this value is between 1 and 1000. The recommended\n",
            "rescaling is 1000 * y.\n",
            "\n",
            "This warning can be disabled by either rescaling y before initializing the\n",
            "model or by setting rescale=False.\n",
            "\n",
            "  warnings.warn(\n",
            "/usr/local/lib/python3.10/dist-packages/arch/univariate/base.py:766: ConvergenceWarning: The optimizer returned code 4. The message is:\n",
            "Inequality constraints incompatible\n",
            "See scipy.optimize.fmin_slsqp for code meaning.\n",
            "\n",
            "  warnings.warn(\n"
          ]
        }
      ],
      "source": [
        "before_october_df = filtered_df[(filtered_df['date'] >= '1998-01-01') & (filtered_df['date'] <= '1998-10-07')]\n",
        "after_october_df = filtered_df[(filtered_df['date'] >= '1998-10-7')]\n",
        "res = arch_model(before_october_df['value'], p=1, o=0, q=0, dist=\"normal\").fit(disp=\"off\")\n",
        "print(res)\n",
        "res = arch_model(after_october_df['value'], p=1, o=0, q=0, dist=\"normal\").fit(disp=\"off\")\n",
        "print(res)"
      ]
    },
    {
      "cell_type": "code",
      "execution_count": null,
      "metadata": {
        "colab": {
          "base_uri": "https://localhost:8080/"
        },
        "id": "SI6BQnPqwV0c",
        "outputId": "d18c8810-fe88-4520-e0c3-6831336d8d24"
      },
      "outputs": [
        {
          "name": "stdout",
          "output_type": "stream",
          "text": [
            "                      Constant Mean - ARCH Model Results                      \n",
            "==============================================================================\n",
            "Dep. Variable:                  value   R-squared:                       0.000\n",
            "Mean Model:             Constant Mean   Adj. R-squared:                  0.000\n",
            "Vol Model:                       ARCH   Log-Likelihood:                1492.46\n",
            "Distribution:                  Normal   AIC:                          -2978.91\n",
            "Method:            Maximum Likelihood   BIC:                          -2968.53\n",
            "                                        No. Observations:                  235\n",
            "Date:                Sun, Aug 20 2023   Df Residuals:                      234\n",
            "Time:                        16:25:29   Df Model:                            1\n",
            "                                 Mean Model                                 \n",
            "============================================================================\n",
            "                 coef    std err          t      P>|t|      95.0% Conf. Int.\n",
            "----------------------------------------------------------------------------\n",
            "mu         7.6054e-03  7.489e-09  1.015e+06      0.000 [7.605e-03,7.605e-03]\n",
            "                              Volatility Model                              \n",
            "============================================================================\n",
            "                 coef    std err          t      P>|t|      95.0% Conf. Int.\n",
            "----------------------------------------------------------------------------\n",
            "omega      1.1606e-07  5.198e-12  2.233e+04      0.000 [1.160e-07,1.161e-07]\n",
            "alpha[1]       0.2000  1.655e-02     12.088  1.222e-33     [  0.168,  0.232]\n",
            "============================================================================\n",
            "\n",
            "Covariance estimator: robust\n",
            "WARNING: The optimizer did not indicate successful convergence. The message was Inequality constraints incompatible.\n",
            "See convergence_flag.\n",
            "\n",
            "                      Constant Mean - ARCH Model Results                      \n",
            "==============================================================================\n",
            "Dep. Variable:                  value   R-squared:                       0.000\n",
            "Mean Model:             Constant Mean   Adj. R-squared:                  0.000\n",
            "Vol Model:                       ARCH   Log-Likelihood:                6331.58\n",
            "Distribution:                  Normal   AIC:                          -12657.2\n",
            "Method:            Maximum Likelihood   BIC:                          -12642.3\n",
            "                                        No. Observations:                 1039\n",
            "Date:                Sun, Aug 20 2023   Df Residuals:                     1038\n",
            "Time:                        16:25:29   Df Model:                            1\n",
            "                                 Mean Model                                 \n",
            "============================================================================\n",
            "                 coef    std err          t      P>|t|      95.0% Conf. Int.\n",
            "----------------------------------------------------------------------------\n",
            "mu         8.5837e-03  1.688e-09  5.085e+06      0.000 [8.584e-03,8.584e-03]\n",
            "                              Volatility Model                              \n",
            "============================================================================\n",
            "                 coef    std err          t      P>|t|      95.0% Conf. Int.\n",
            "----------------------------------------------------------------------------\n",
            "omega      1.8411e-07  1.715e-12  1.074e+05      0.000 [1.841e-07,1.841e-07]\n",
            "alpha[1]       0.2000  7.321e-03     27.320 2.431e-164     [  0.186,  0.214]\n",
            "============================================================================\n",
            "\n",
            "Covariance estimator: robust\n",
            "WARNING: The optimizer did not indicate successful convergence. The message was Inequality constraints incompatible.\n",
            "See convergence_flag.\n",
            "\n"
          ]
        },
        {
          "name": "stderr",
          "output_type": "stream",
          "text": [
            "/usr/local/lib/python3.10/dist-packages/arch/univariate/base.py:311: DataScaleWarning: y is poorly scaled, which may affect convergence of the optimizer when\n",
            "estimating the model parameters. The scale of y is 2.321e-07. Parameter\n",
            "estimation work better when this value is between 1 and 1000. The recommended\n",
            "rescaling is 1000 * y.\n",
            "\n",
            "This warning can be disabled by either rescaling y before initializing the\n",
            "model or by setting rescale=False.\n",
            "\n",
            "  warnings.warn(\n",
            "/usr/local/lib/python3.10/dist-packages/arch/univariate/base.py:766: ConvergenceWarning: The optimizer returned code 4. The message is:\n",
            "Inequality constraints incompatible\n",
            "See scipy.optimize.fmin_slsqp for code meaning.\n",
            "\n",
            "  warnings.warn(\n",
            "/usr/local/lib/python3.10/dist-packages/arch/univariate/base.py:311: DataScaleWarning: y is poorly scaled, which may affect convergence of the optimizer when\n",
            "estimating the model parameters. The scale of y is 3.682e-07. Parameter\n",
            "estimation work better when this value is between 1 and 1000. The recommended\n",
            "rescaling is 1000 * y.\n",
            "\n",
            "This warning can be disabled by either rescaling y before initializing the\n",
            "model or by setting rescale=False.\n",
            "\n",
            "  warnings.warn(\n",
            "/usr/local/lib/python3.10/dist-packages/arch/univariate/base.py:766: ConvergenceWarning: The optimizer returned code 4. The message is:\n",
            "Inequality constraints incompatible\n",
            "See scipy.optimize.fmin_slsqp for code meaning.\n",
            "\n",
            "  warnings.warn(\n"
          ]
        }
      ],
      "source": [
        "before_december_df = filtered_df[ (filtered_df['date'] <= '1998-12-08')]\n",
        "after_december_df = filtered_df[(filtered_df['date'] >= '1998-12-08')]\n",
        "res = arch_model(before_december_df['value'], p=1, o=0, q=0, dist=\"normal\").fit(disp=\"off\")\n",
        "print(res)\n",
        "res = arch_model(after_december_df['value'], p=1, o=0, q=0, dist=\"normal\").fit(disp=\"off\")\n",
        "print(res)"
      ]
    },
    {
      "cell_type": "markdown",
      "metadata": {
        "id": "N_eS02yNIujS"
      },
      "source": [
        "### TEST"
      ]
    },
    {
      "cell_type": "code",
      "execution_count": null,
      "metadata": {
        "colab": {
          "base_uri": "https://localhost:8080/",
          "height": 826
        },
        "id": "uOO-5EzNItVA",
        "outputId": "9d983e1e-c32d-4a71-b812-0bd440e7f4b0"
      },
      "outputs": [
        {
          "name": "stderr",
          "output_type": "stream",
          "text": [
            "100%|██████████| 10000/10000 [00:59<00:00, 167.89it/s]\n",
            "100%|██████████| 10000/10000 [01:00<00:00, 164.91it/s]\n",
            "100%|██████████| 10000/10000 [00:58<00:00, 170.49it/s]\n",
            "100%|██████████| 10000/10000 [00:57<00:00, 174.55it/s]\n",
            "100%|██████████| 10000/10000 [00:58<00:00, 169.55it/s]\n"
          ]
        },
        {
          "data": {
            "image/png": "[encoded data removed]",
            "text/plain": [
              "<Figure size 1500x1000 with 1 Axes>"
            ]
          },
          "metadata": {},
          "output_type": "display_data"
        },
        {
          "data": {
            "text/plain": [
              "{0.1: {'90%': 1.8119801172990921,\n",
              "  '95%': 2.0648988460266042,\n",
              "  '99%': 2.5814629204134047},\n",
              " 0.3: {'90%': 1.5322938437767373,\n",
              "  '95%': 1.7217369163995735,\n",
              "  '99%': 2.109915246400392},\n",
              " 0.5: {'90%': 1.3293630719470688,\n",
              "  '95%': 1.4678982814536787,\n",
              "  '99%': 1.7255923225059724},\n",
              " 0.7: {'90%': 1.226919534795186,\n",
              "  '95%': 1.362212400202899,\n",
              "  '99%': 1.6153581309332568},\n",
              " 0.9: {'90%': 1.2102630548301943,\n",
              "  '95%': 1.3580181985171578,\n",
              "  '99%': 1.6164067123273902}}"
            ]
          },
          "execution_count": 4,
          "metadata": {},
          "output_type": "execute_result"
        }
      ],
      "source": [
        "# List of p values\n",
        "p_values = [0.1, 0.3, 0.5, 0.7, 0.9]\n",
        "iterations = 10000\n",
        "# Dictionary to store results\n",
        "results = {}\n",
        "T = 10000\n",
        "lam =1\n",
        "for p in p_values:\n",
        "    cusum_stats_p = np.zeros(iterations)\n",
        "\n",
        "    for i in tqdm(range(iterations)):\n",
        "        # Simulate the time series\n",
        "        yt_sim = [lam if t <= p * T else 0 for t in range(T)] + np.random.normal(0, 1, T)\n",
        "\n",
        "        # Compute residuals\n",
        "        residuals_sim = yt_sim - [lam if t <= p * T else 0 for t in range(T)]\n",
        "\n",
        "        # Calculate partial sum of the residuals divided by T\n",
        "        Ut_s_sim = np.cumsum(residuals_sim) / T\n",
        "\n",
        "        # Compute CUSUM statistic\n",
        "        sigma_u_hat_sim = np.std(residuals_sim)\n",
        "        cusum_stats_p[i] = sigma_u_hat_sim**-1 * np.sqrt(T) * np.max(np.abs(Ut_s_sim - np.minimum(np.arange(1, T+1)/T, p) * Ut_s_sim[-1]))\n",
        "\n",
        "    # Store the results\n",
        "    results[p] = {\n",
        "        'cusum_stats': cusum_stats_p,\n",
        "        'quantiles_90': np.percentile(cusum_stats_p, 90),\n",
        "        'quantiles_95': np.percentile(cusum_stats_p, 95),\n",
        "        'quantiles_99': np.percentile(cusum_stats_p, 99)\n",
        "    }\n",
        "\n",
        "# Plot the distributions\n",
        "plt.figure(figsize=(15, 10))\n",
        "for p in p_values:\n",
        "    plt.hist(results[p]['cusum_stats'], bins=50, alpha=0.6, label=f'p = {p}')\n",
        "plt.title(\"Distribution of CUSUM Statistics for Different p Values\")\n",
        "plt.xlabel(\"CUSUM Statistic Value\")\n",
        "plt.ylabel(\"Frequency\")\n",
        "plt.legend()\n",
        "plt.grid(True)\n",
        "plt.show()\n",
        "\n",
        "# Return quantiles\n",
        "quantiles_results = {p: {'90%': results[p]['quantiles_90'], '95%': results[p]['quantiles_95'], '99%': results[p]['quantiles_99']} for p in p_values}\n",
        "quantiles_results\n"
      ]
    },
    {
      "cell_type": "code",
      "execution_count": null,
      "metadata": {
        "colab": {
          "base_uri": "https://localhost:8080/",
          "height": 1000
        },
        "id": "TdYAFNtt_9g6",
        "outputId": "c4154fdb-b18b-4d8a-dd91-286c9fa97e77"
      },
      "outputs": [
        {
          "name": "stderr",
          "output_type": "stream",
          "text": [
            "  0%|          | 2/1000 [00:00<01:19, 12.51it/s]"
          ]
        },
        {
          "name": "stdout",
          "output_type": "stream",
          "text": [
            "                          AR-X - ARCH Model Results                           \n",
            "==============================================================================\n",
            "Dep. Variable:                   data   R-squared:                       0.983\n",
            "Mean Model:                      AR-X   Adj. R-squared:                  0.983\n",
            "Vol Model:                       ARCH   Log-Likelihood:               -1079.16\n",
            "Distribution:                  Normal   AIC:                           2170.32\n",
            "Method:            Maximum Likelihood   BIC:                           2202.20\n",
            "                                        No. Observations:                 1500\n",
            "Date:                Thu, Aug 24 2023   Df Residuals:                     1496\n",
            "Time:                        17:07:21   Df Model:                            4\n",
            "                                  Mean Model                                 \n",
            "=============================================================================\n",
            "                 coef    std err          t      P>|t|       95.0% Conf. Int.\n",
            "-----------------------------------------------------------------------------\n",
            "Const         -0.0289  2.637e-02     -1.095      0.273 [-8.056e-02,2.280e-02]\n",
            "x1             1.0608  3.530e-02     30.054 1.962e-198      [  0.992,  1.130]\n",
            "x2             4.0356  3.480e-02    115.955      0.000      [  3.967,  4.104]\n",
            "x3             9.9951  3.556e-02    281.041      0.000      [  9.925, 10.065]\n",
            "                            Volatility Model                            \n",
            "========================================================================\n",
            "                 coef    std err          t      P>|t|  95.0% Conf. Int.\n",
            "------------------------------------------------------------------------\n",
            "omega          0.1951  9.960e-03     19.588  1.968e-85 [  0.176,  0.215]\n",
            "alpha[1]       0.2450  4.162e-02      5.888  3.905e-09 [  0.163,  0.327]\n",
            "========================================================================\n",
            "\n",
            "Covariance estimator: robust\n",
            "                          AR-X - ARCH Model Results                           \n",
            "==============================================================================\n",
            "Dep. Variable:                   data   R-squared:                       0.984\n",
            "Mean Model:                      AR-X   Adj. R-squared:                  0.984\n",
            "Vol Model:                       ARCH   Log-Likelihood:               -1054.59\n",
            "Distribution:                  Normal   AIC:                           2121.18\n",
            "Method:            Maximum Likelihood   BIC:                           2153.06\n",
            "                                        No. Observations:                 1500\n",
            "Date:                Thu, Aug 24 2023   Df Residuals:                     1496\n",
            "Time:                        17:07:21   Df Model:                            4\n",
            "                                  Mean Model                                  \n",
            "==============================================================================\n",
            "                  coef    std err          t      P>|t|       95.0% Conf. Int.\n",
            "------------------------------------------------------------------------------\n",
            "Const      -5.5720e-04  2.508e-02 -2.222e-02      0.982 [-4.971e-02,4.860e-02]\n",
            "x1              0.9839  3.437e-02     28.626 3.197e-180      [  0.917,  1.051]\n",
            "x2              4.0160  3.475e-02    115.584      0.000      [  3.948,  4.084]\n",
            "x3              9.9688  3.484e-02    286.110      0.000      [  9.901, 10.037]\n",
            "                            Volatility Model                            \n",
            "========================================================================\n",
            "                 coef    std err          t      P>|t|  95.0% Conf. Int.\n",
            "------------------------------------------------------------------------\n",
            "omega          0.1953  1.010e-02     19.327  3.185e-83 [  0.175,  0.215]\n",
            "alpha[1]       0.2102  4.369e-02      4.812  1.492e-06 [  0.125,  0.296]\n",
            "========================================================================\n",
            "\n",
            "Covariance estimator: robust\n",
            "                          AR-X - ARCH Model Results                           \n",
            "==============================================================================\n",
            "Dep. Variable:                   data   R-squared:                       0.983\n",
            "Mean Model:                      AR-X   Adj. R-squared:                  0.983\n",
            "Vol Model:                       ARCH   Log-Likelihood:               -1103.97\n",
            "Distribution:                  Normal   AIC:                           2219.95\n",
            "Method:            Maximum Likelihood   BIC:                           2251.83\n",
            "                                        No. Observations:                 1500\n",
            "Date:                Thu, Aug 24 2023   Df Residuals:                     1496\n",
            "Time:                        17:07:21   Df Model:                            4\n",
            "                                  Mean Model                                 \n",
            "=============================================================================\n",
            "                 coef    std err          t      P>|t|       95.0% Conf. Int.\n",
            "-----------------------------------------------------------------------------\n",
            "Const         -0.0326  2.380e-02     -1.371      0.170 [-7.929e-02,1.401e-02]\n",
            "x1             1.0144  3.536e-02     28.685 5.792e-181      [  0.945,  1.084]\n",
            "x2             4.0362  3.463e-02    116.549      0.000      [  3.968,  4.104]\n",
            "x3            10.0361  3.403e-02    294.938      0.000      [  9.969, 10.103]\n",
            "                            Volatility Model                            \n",
            "========================================================================\n",
            "                 coef    std err          t      P>|t|  95.0% Conf. Int.\n",
            "------------------------------------------------------------------------\n",
            "omega          0.2023  1.013e-02     19.978  8.618e-89 [  0.182,  0.222]\n",
            "alpha[1]       0.2392  3.548e-02      6.742  1.560e-11 [  0.170,  0.309]\n",
            "========================================================================\n",
            "\n",
            "Covariance estimator: robust\n"
          ]
        },
        {
          "name": "stderr",
          "output_type": "stream",
          "text": [
            "  1%|          | 6/1000 [00:00<01:29, 11.11it/s]"
          ]
        },
        {
          "name": "stdout",
          "output_type": "stream",
          "text": [
            "                          AR-X - ARCH Model Results                           \n",
            "==============================================================================\n",
            "Dep. Variable:                   data   R-squared:                       0.984\n",
            "Mean Model:                      AR-X   Adj. R-squared:                  0.984\n",
            "Vol Model:                       ARCH   Log-Likelihood:               -1064.88\n",
            "Distribution:                  Normal   AIC:                           2141.76\n",
            "Method:            Maximum Likelihood   BIC:                           2173.64\n",
            "                                        No. Observations:                 1500\n",
            "Date:                Thu, Aug 24 2023   Df Residuals:                     1496\n",
            "Time:                        17:07:21   Df Model:                            4\n",
            "                                  Mean Model                                 \n",
            "=============================================================================\n",
            "                 coef    std err          t      P>|t|       95.0% Conf. Int.\n",
            "-----------------------------------------------------------------------------\n",
            "Const          0.0235  2.356e-02      0.997      0.319 [-2.268e-02,6.968e-02]\n",
            "x1             0.9521  3.459e-02     27.521 9.788e-167      [  0.884,  1.020]\n",
            "x2             3.9707  3.485e-02    113.921      0.000      [  3.902,  4.039]\n",
            "x3             9.9773  3.436e-02    290.349      0.000      [  9.910, 10.045]\n",
            "                             Volatility Model                             \n",
            "==========================================================================\n",
            "                 coef    std err          t      P>|t|    95.0% Conf. Int.\n",
            "--------------------------------------------------------------------------\n",
            "omega          0.2103  1.022e-02     20.571  4.965e-94   [  0.190,  0.230]\n",
            "alpha[1]       0.1466  3.622e-02      4.048  5.173e-05 [7.561e-02,  0.218]\n",
            "==========================================================================\n",
            "\n",
            "Covariance estimator: robust\n",
            "                          AR-X - ARCH Model Results                           \n",
            "==============================================================================\n",
            "Dep. Variable:                   data   R-squared:                       0.984\n",
            "Mean Model:                      AR-X   Adj. R-squared:                  0.984\n",
            "Vol Model:                       ARCH   Log-Likelihood:               -1047.08\n",
            "Distribution:                  Normal   AIC:                           2106.16\n",
            "Method:            Maximum Likelihood   BIC:                           2138.04\n",
            "                                        No. Observations:                 1500\n",
            "Date:                Thu, Aug 24 2023   Df Residuals:                     1496\n",
            "Time:                        17:07:21   Df Model:                            4\n",
            "                                  Mean Model                                 \n",
            "=============================================================================\n",
            "                 coef    std err          t      P>|t|       95.0% Conf. Int.\n",
            "-----------------------------------------------------------------------------\n",
            "Const         -0.0231  2.436e-02     -0.950      0.342 [-7.087e-02,2.461e-02]\n",
            "x1             1.0037  3.476e-02     28.870 2.804e-183      [  0.936,  1.072]\n",
            "x2             4.0815  3.359e-02    121.504      0.000      [  4.016,  4.147]\n",
            "x3            10.0119  3.379e-02    296.313      0.000      [  9.946, 10.078]\n",
            "                            Volatility Model                            \n",
            "========================================================================\n",
            "                 coef    std err          t      P>|t|  95.0% Conf. Int.\n",
            "------------------------------------------------------------------------\n",
            "omega          0.1849  9.765e-03     18.935  5.858e-80 [  0.166,  0.204]\n",
            "alpha[1]       0.2561  4.127e-02      6.207  5.411e-10 [  0.175,  0.337]\n",
            "========================================================================\n",
            "\n",
            "Covariance estimator: robust\n",
            "                          AR-X - ARCH Model Results                           \n",
            "==============================================================================\n",
            "Dep. Variable:                   data   R-squared:                       0.982\n",
            "Mean Model:                      AR-X   Adj. R-squared:                  0.982\n",
            "Vol Model:                       ARCH   Log-Likelihood:               -1142.44\n",
            "Distribution:                  Normal   AIC:                           2296.88\n",
            "Method:            Maximum Likelihood   BIC:                           2328.76\n",
            "                                        No. Observations:                 1500\n",
            "Date:                Thu, Aug 24 2023   Df Residuals:                     1496\n",
            "Time:                        17:07:21   Df Model:                            4\n",
            "                                  Mean Model                                 \n",
            "=============================================================================\n",
            "                 coef    std err          t      P>|t|       95.0% Conf. Int.\n",
            "-----------------------------------------------------------------------------\n",
            "Const      8.4037e-03  2.554e-02      0.329      0.742 [-4.166e-02,5.846e-02]\n",
            "x1             0.9652  3.668e-02     26.313 1.372e-152      [  0.893,  1.037]\n",
            "x2             3.9647  3.621e-02    109.481      0.000      [  3.894,  4.036]\n",
            "x3             9.9434  3.681e-02    270.115      0.000      [  9.871, 10.016]\n",
            "                            Volatility Model                            \n",
            "========================================================================\n",
            "                 coef    std err          t      P>|t|  95.0% Conf. Int.\n",
            "------------------------------------------------------------------------\n",
            "omega          0.2241  1.076e-02     20.829  2.359e-96 [  0.203,  0.245]\n",
            "alpha[1]       0.1888  3.573e-02      5.282  1.275e-07 [  0.119,  0.259]\n",
            "========================================================================\n",
            "\n",
            "Covariance estimator: robust\n"
          ]
        },
        {
          "name": "stderr",
          "output_type": "stream",
          "text": [
            "\r  1%|          | 8/1000 [00:00<01:29, 11.03it/s]"
          ]
        },
        {
          "name": "stdout",
          "output_type": "stream",
          "text": [
            "                          AR-X - ARCH Model Results                           \n",
            "==============================================================================\n",
            "Dep. Variable:                   data   R-squared:                       0.985\n",
            "Mean Model:                      AR-X   Adj. R-squared:                  0.985\n",
            "Vol Model:                       ARCH   Log-Likelihood:               -1036.30\n",
            "Distribution:                  Normal   AIC:                           2084.59\n",
            "Method:            Maximum Likelihood   BIC:                           2116.47\n",
            "                                        No. Observations:                 1500\n",
            "Date:                Thu, Aug 24 2023   Df Residuals:                     1496\n",
            "Time:                        17:07:21   Df Model:                            4\n",
            "                                  Mean Model                                 \n",
            "=============================================================================\n",
            "                 coef    std err          t      P>|t|       95.0% Conf. Int.\n",
            "-----------------------------------------------------------------------------\n",
            "Const      4.6718e-03  2.412e-02      0.194      0.846 [-4.261e-02,5.195e-02]\n",
            "x1             0.9964  3.420e-02     29.138 1.203e-186      [  0.929,  1.063]\n",
            "x2             4.0016  3.425e-02    116.849      0.000      [  3.934,  4.069]\n",
            "x3             9.9806  3.375e-02    295.766      0.000      [  9.915, 10.047]\n",
            "                             Volatility Model                             \n",
            "==========================================================================\n",
            "                 coef    std err          t      P>|t|    95.0% Conf. Int.\n",
            "--------------------------------------------------------------------------\n",
            "omega          0.1969  9.863e-03     19.963  1.149e-88   [  0.178,  0.216]\n",
            "alpha[1]       0.1745  3.828e-02      4.558  5.166e-06 [9.945e-02,  0.249]\n",
            "==========================================================================\n",
            "\n",
            "Covariance estimator: robust\n",
            "                          AR-X - ARCH Model Results                           \n",
            "==============================================================================\n",
            "Dep. Variable:                   data   R-squared:                       0.983\n",
            "Mean Model:                      AR-X   Adj. R-squared:                  0.983\n",
            "Vol Model:                       ARCH   Log-Likelihood:               -1107.92\n",
            "Distribution:                  Normal   AIC:                           2227.85\n",
            "Method:            Maximum Likelihood   BIC:                           2259.73\n",
            "                                        No. Observations:                 1500\n",
            "Date:                Thu, Aug 24 2023   Df Residuals:                     1496\n",
            "Time:                        17:07:21   Df Model:                            4\n",
            "                                  Mean Model                                  \n",
            "==============================================================================\n",
            "                  coef    std err          t      P>|t|       95.0% Conf. Int.\n",
            "------------------------------------------------------------------------------\n",
            "Const      -5.8107e-03  2.534e-02     -0.229      0.819 [-5.548e-02,4.386e-02]\n",
            "x1              0.9978  3.602e-02     27.704 6.281e-169      [  0.927,  1.068]\n",
            "x2              3.9809  3.584e-02    111.070      0.000      [  3.911,  4.051]\n",
            "x3             10.0028  3.629e-02    275.630      0.000      [  9.932, 10.074]\n",
            "                            Volatility Model                            \n",
            "========================================================================\n",
            "                 coef    std err          t      P>|t|  95.0% Conf. Int.\n",
            "------------------------------------------------------------------------\n",
            "omega          0.2131  1.183e-02     18.005  1.767e-72 [  0.190,  0.236]\n",
            "alpha[1]       0.1957  4.682e-02      4.180  2.911e-05 [  0.104,  0.287]\n",
            "========================================================================\n",
            "\n",
            "Covariance estimator: robust\n",
            "                          AR-X - ARCH Model Results                           \n",
            "==============================================================================\n",
            "Dep. Variable:                   data   R-squared:                       0.984\n",
            "Mean Model:                      AR-X   Adj. R-squared:                  0.984\n",
            "Vol Model:                       ARCH   Log-Likelihood:               -1057.92\n",
            "Distribution:                  Normal   AIC:                           2127.84\n",
            "Method:            Maximum Likelihood   BIC:                           2159.72\n",
            "                                        No. Observations:                 1500\n",
            "Date:                Thu, Aug 24 2023   Df Residuals:                     1496\n",
            "Time:                        17:07:21   Df Model:                            4\n",
            "                                  Mean Model                                 \n",
            "=============================================================================\n",
            "                 coef    std err          t      P>|t|       95.0% Conf. Int.\n",
            "-----------------------------------------------------------------------------\n",
            "Const          0.0272  2.568e-02      1.058      0.290 [-2.316e-02,7.750e-02]\n",
            "x1             0.9676  3.572e-02     27.090 1.277e-161      [  0.898,  1.038]\n",
            "x2             3.9416  3.524e-02    111.843      0.000      [  3.873,  4.011]\n",
            "x3             9.9801  3.560e-02    280.326      0.000      [  9.910, 10.050]\n",
            "                            Volatility Model                            \n",
            "========================================================================\n",
            "                 coef    std err          t      P>|t|  95.0% Conf. Int.\n",
            "------------------------------------------------------------------------\n",
            "omega          0.1966  1.096e-02     17.944  5.357e-72 [  0.175,  0.218]\n",
            "alpha[1]       0.2101  4.099e-02      5.126  2.962e-07 [  0.130,  0.290]\n",
            "========================================================================\n",
            "\n",
            "Covariance estimator: robust\n"
          ]
        },
        {
          "name": "stderr",
          "output_type": "stream",
          "text": [
            "  1%|          | 12/1000 [00:01<01:31, 10.85it/s]"
          ]
        },
        {
          "name": "stdout",
          "output_type": "stream",
          "text": [
            "                          AR-X - ARCH Model Results                           \n",
            "==============================================================================\n",
            "Dep. Variable:                   data   R-squared:                       0.985\n",
            "Mean Model:                      AR-X   Adj. R-squared:                  0.985\n",
            "Vol Model:                       ARCH   Log-Likelihood:               -1006.12\n",
            "Distribution:                  Normal   AIC:                           2024.24\n",
            "Method:            Maximum Likelihood   BIC:                           2056.12\n",
            "                                        No. Observations:                 1500\n",
            "Date:                Thu, Aug 24 2023   Df Residuals:                     1496\n",
            "Time:                        17:07:21   Df Model:                            4\n",
            "                                  Mean Model                                  \n",
            "==============================================================================\n",
            "                  coef    std err          t      P>|t|       95.0% Conf. Int.\n",
            "------------------------------------------------------------------------------\n",
            "Const      -3.5299e-03  2.422e-02     -0.146      0.884 [-5.101e-02,4.395e-02]\n",
            "x1              1.0327  3.317e-02     31.133 8.589e-213      [  0.968,  1.098]\n",
            "x2              3.9858  3.373e-02    118.178      0.000      [  3.920,  4.052]\n",
            "x3             10.0015  3.527e-02    283.557      0.000      [  9.932, 10.071]\n",
            "                             Volatility Model                             \n",
            "==========================================================================\n",
            "                 coef    std err          t      P>|t|    95.0% Conf. Int.\n",
            "--------------------------------------------------------------------------\n",
            "omega          0.1991  9.241e-03     21.550 5.314e-103   [  0.181,  0.217]\n",
            "alpha[1]       0.1203  3.193e-02      3.768  1.647e-04 [5.773e-02,  0.183]\n",
            "==========================================================================\n",
            "\n",
            "Covariance estimator: robust\n",
            "                          AR-X - ARCH Model Results                           \n",
            "==============================================================================\n",
            "Dep. Variable:                   data   R-squared:                       0.985\n",
            "Mean Model:                      AR-X   Adj. R-squared:                  0.985\n",
            "Vol Model:                       ARCH   Log-Likelihood:               -1041.46\n",
            "Distribution:                  Normal   AIC:                           2094.92\n",
            "Method:            Maximum Likelihood   BIC:                           2126.80\n",
            "                                        No. Observations:                 1500\n",
            "Date:                Thu, Aug 24 2023   Df Residuals:                     1496\n",
            "Time:                        17:07:21   Df Model:                            4\n",
            "                                  Mean Model                                 \n",
            "=============================================================================\n",
            "                 coef    std err          t      P>|t|       95.0% Conf. Int.\n",
            "-----------------------------------------------------------------------------\n",
            "Const         -0.0411  2.530e-02     -1.626      0.104 [-9.072e-02,8.441e-03]\n",
            "x1             1.0232  3.512e-02     29.134 1.351e-186      [  0.954,  1.092]\n",
            "x2             4.0346  3.499e-02    115.297      0.000      [  3.966,  4.103]\n",
            "x3            10.0274  3.466e-02    289.344      0.000      [  9.959, 10.095]\n",
            "                             Volatility Model                             \n",
            "==========================================================================\n",
            "                 coef    std err          t      P>|t|    95.0% Conf. Int.\n",
            "--------------------------------------------------------------------------\n",
            "omega          0.2045  1.004e-02     20.377  2.656e-92   [  0.185,  0.224]\n",
            "alpha[1]       0.1425  3.076e-02      4.632  3.630e-06 [8.218e-02,  0.203]\n",
            "==========================================================================\n",
            "\n",
            "Covariance estimator: robust\n",
            "                          AR-X - ARCH Model Results                           \n",
            "==============================================================================\n",
            "Dep. Variable:                   data   R-squared:                       0.984\n",
            "Mean Model:                      AR-X   Adj. R-squared:                  0.984\n",
            "Vol Model:                       ARCH   Log-Likelihood:               -1054.87\n",
            "Distribution:                  Normal   AIC:                           2121.73\n",
            "Method:            Maximum Likelihood   BIC:                           2153.61\n",
            "                                        No. Observations:                 1500\n",
            "Date:                Thu, Aug 24 2023   Df Residuals:                     1496\n",
            "Time:                        17:07:22   Df Model:                            4\n",
            "                                  Mean Model                                 \n",
            "=============================================================================\n",
            "                 coef    std err          t      P>|t|       95.0% Conf. Int.\n",
            "-----------------------------------------------------------------------------\n",
            "Const      4.6215e-04  2.293e-02  2.016e-02      0.984 [-4.448e-02,4.540e-02]\n",
            "x1             0.9455  3.335e-02     28.351 8.231e-177      [  0.880,  1.011]\n",
            "x2             4.0204  3.363e-02    119.547      0.000      [  3.954,  4.086]\n",
            "x3            10.0260  3.455e-02    290.169      0.000      [  9.958, 10.094]\n",
            "                            Volatility Model                            \n",
            "========================================================================\n",
            "                 coef    std err          t      P>|t|  95.0% Conf. Int.\n",
            "------------------------------------------------------------------------\n",
            "omega          0.1943  1.011e-02     19.218  2.595e-82 [  0.175,  0.214]\n",
            "alpha[1]       0.2172  3.999e-02      5.430  5.625e-08 [  0.139,  0.296]\n",
            "========================================================================\n",
            "\n",
            "Covariance estimator: robust\n"
          ]
        },
        {
          "name": "stderr",
          "output_type": "stream",
          "text": [
            "\r  1%|▏         | 14/1000 [00:01<01:31, 10.75it/s]"
          ]
        },
        {
          "name": "stdout",
          "output_type": "stream",
          "text": [
            "                          AR-X - ARCH Model Results                           \n",
            "==============================================================================\n",
            "Dep. Variable:                   data   R-squared:                       0.984\n",
            "Mean Model:                      AR-X   Adj. R-squared:                  0.984\n",
            "Vol Model:                       ARCH   Log-Likelihood:               -1032.27\n",
            "Distribution:                  Normal   AIC:                           2076.55\n",
            "Method:            Maximum Likelihood   BIC:                           2108.43\n",
            "                                        No. Observations:                 1500\n",
            "Date:                Thu, Aug 24 2023   Df Residuals:                     1496\n",
            "Time:                        17:07:22   Df Model:                            4\n",
            "                                  Mean Model                                  \n",
            "==============================================================================\n",
            "                  coef    std err          t      P>|t|       95.0% Conf. Int.\n",
            "------------------------------------------------------------------------------\n",
            "Const      -9.3095e-03  2.351e-02     -0.396      0.692 [-5.538e-02,3.676e-02]\n",
            "x1              1.0446  3.318e-02     31.484 1.429e-217      [  0.980,  1.110]\n",
            "x2              3.9862  3.343e-02    119.239      0.000      [  3.921,  4.052]\n",
            "x3             10.0051  3.511e-02    284.996      0.000      [  9.936, 10.074]\n",
            "                            Volatility Model                            \n",
            "========================================================================\n",
            "                 coef    std err          t      P>|t|  95.0% Conf. Int.\n",
            "------------------------------------------------------------------------\n",
            "omega          0.1926  9.900e-03     19.452  2.792e-84 [  0.173,  0.212]\n",
            "alpha[1]       0.1966  4.037e-02      4.870  1.117e-06 [  0.117,  0.276]\n",
            "========================================================================\n",
            "\n",
            "Covariance estimator: robust\n",
            "                          AR-X - ARCH Model Results                           \n",
            "==============================================================================\n",
            "Dep. Variable:                   data   R-squared:                       0.984\n",
            "Mean Model:                      AR-X   Adj. R-squared:                  0.984\n",
            "Vol Model:                       ARCH   Log-Likelihood:               -1044.47\n",
            "Distribution:                  Normal   AIC:                           2100.94\n",
            "Method:            Maximum Likelihood   BIC:                           2132.81\n",
            "                                        No. Observations:                 1500\n",
            "Date:                Thu, Aug 24 2023   Df Residuals:                     1496\n",
            "Time:                        17:07:22   Df Model:                            4\n",
            "                                  Mean Model                                 \n",
            "=============================================================================\n",
            "                 coef    std err          t      P>|t|       95.0% Conf. Int.\n",
            "-----------------------------------------------------------------------------\n",
            "Const          0.0254  2.379e-02      1.068      0.286 [-2.123e-02,7.204e-02]\n",
            "x1             0.9777  3.472e-02     28.164 1.609e-174      [  0.910,  1.046]\n",
            "x2             3.9936  3.387e-02    117.913      0.000      [  3.927,  4.060]\n",
            "x3             9.9870  3.351e-02    298.022      0.000      [  9.921, 10.053]\n",
            "                            Volatility Model                            \n",
            "========================================================================\n",
            "                 coef    std err          t      P>|t|  95.0% Conf. Int.\n",
            "------------------------------------------------------------------------\n",
            "omega          0.1921  1.010e-02     19.020  1.163e-80 [  0.172,  0.212]\n",
            "alpha[1]       0.2139  3.968e-02      5.390  7.051e-08 [  0.136,  0.292]\n",
            "========================================================================\n",
            "\n",
            "Covariance estimator: robust\n",
            "                          AR-X - ARCH Model Results                           \n",
            "==============================================================================\n",
            "Dep. Variable:                   data   R-squared:                       0.984\n",
            "Mean Model:                      AR-X   Adj. R-squared:                  0.984\n",
            "Vol Model:                       ARCH   Log-Likelihood:               -1028.35\n",
            "Distribution:                  Normal   AIC:                           2068.69\n",
            "Method:            Maximum Likelihood   BIC:                           2100.57\n",
            "                                        No. Observations:                 1500\n",
            "Date:                Thu, Aug 24 2023   Df Residuals:                     1496\n",
            "Time:                        17:07:22   Df Model:                            4\n",
            "                                  Mean Model                                 \n",
            "=============================================================================\n",
            "                 coef    std err          t      P>|t|       95.0% Conf. Int.\n",
            "-----------------------------------------------------------------------------\n",
            "Const      7.2027e-03  2.431e-02      0.296      0.767 [-4.043e-02,5.484e-02]\n",
            "x1             0.9806  3.432e-02     28.576 1.322e-179      [  0.913,  1.048]\n",
            "x2             3.9806  3.386e-02    117.573      0.000      [  3.914,  4.047]\n",
            "x3             9.9913  3.514e-02    284.348      0.000      [  9.922, 10.060]\n",
            "                            Volatility Model                            \n",
            "========================================================================\n",
            "                 coef    std err          t      P>|t|  95.0% Conf. Int.\n",
            "------------------------------------------------------------------------\n",
            "omega          0.1898  9.732e-03     19.502  1.050e-84 [  0.171,  0.209]\n",
            "alpha[1]       0.2050  4.442e-02      4.616  3.913e-06 [  0.118,  0.292]\n",
            "========================================================================\n",
            "\n",
            "Covariance estimator: robust\n"
          ]
        },
        {
          "name": "stderr",
          "output_type": "stream",
          "text": [
            "  2%|▏         | 18/1000 [00:01<01:31, 10.74it/s]"
          ]
        },
        {
          "name": "stdout",
          "output_type": "stream",
          "text": [
            "                          AR-X - ARCH Model Results                           \n",
            "==============================================================================\n",
            "Dep. Variable:                   data   R-squared:                       0.984\n",
            "Mean Model:                      AR-X   Adj. R-squared:                  0.984\n",
            "Vol Model:                       ARCH   Log-Likelihood:               -1067.73\n",
            "Distribution:                  Normal   AIC:                           2147.45\n",
            "Method:            Maximum Likelihood   BIC:                           2179.33\n",
            "                                        No. Observations:                 1500\n",
            "Date:                Thu, Aug 24 2023   Df Residuals:                     1496\n",
            "Time:                        17:07:22   Df Model:                            4\n",
            "                                  Mean Model                                 \n",
            "=============================================================================\n",
            "                 coef    std err          t      P>|t|       95.0% Conf. Int.\n",
            "-----------------------------------------------------------------------------\n",
            "Const          0.0304  2.496e-02      1.218      0.223 [-1.852e-02,7.934e-02]\n",
            "x1             0.9675  3.496e-02     27.671 1.570e-168      [  0.899,  1.036]\n",
            "x2             3.9921  3.473e-02    114.954      0.000      [  3.924,  4.060]\n",
            "x3             9.9793  3.605e-02    276.851      0.000      [  9.909, 10.050]\n",
            "                             Volatility Model                             \n",
            "==========================================================================\n",
            "                 coef    std err          t      P>|t|    95.0% Conf. Int.\n",
            "--------------------------------------------------------------------------\n",
            "omega          0.2058  9.965e-03     20.649  1.002e-94   [  0.186,  0.225]\n",
            "alpha[1]       0.1729  3.882e-02      4.454  8.436e-06 [9.680e-02,  0.249]\n",
            "==========================================================================\n",
            "\n",
            "Covariance estimator: robust\n",
            "                          AR-X - ARCH Model Results                           \n",
            "==============================================================================\n",
            "Dep. Variable:                   data   R-squared:                       0.985\n",
            "Mean Model:                      AR-X   Adj. R-squared:                  0.985\n",
            "Vol Model:                       ARCH   Log-Likelihood:               -984.191\n",
            "Distribution:                  Normal   AIC:                           1980.38\n",
            "Method:            Maximum Likelihood   BIC:                           2012.26\n",
            "                                        No. Observations:                 1500\n",
            "Date:                Thu, Aug 24 2023   Df Residuals:                     1496\n",
            "Time:                        17:07:22   Df Model:                            4\n",
            "                                  Mean Model                                 \n",
            "=============================================================================\n",
            "                 coef    std err          t      P>|t|       95.0% Conf. Int.\n",
            "-----------------------------------------------------------------------------\n",
            "Const      4.7986e-03  2.295e-02      0.209      0.834 [-4.019e-02,4.978e-02]\n",
            "x1             1.0136  3.344e-02     30.307 9.178e-202      [  0.948,  1.079]\n",
            "x2             3.9808  3.268e-02    121.810      0.000      [  3.917,  4.045]\n",
            "x3            10.0106  3.200e-02    312.840      0.000      [  9.948, 10.073]\n",
            "                            Volatility Model                            \n",
            "========================================================================\n",
            "                 coef    std err          t      P>|t|  95.0% Conf. Int.\n",
            "------------------------------------------------------------------------\n",
            "omega          0.1773  9.373e-03     18.915  8.557e-80 [  0.159,  0.196]\n",
            "alpha[1]       0.2138  4.381e-02      4.881  1.055e-06 [  0.128,  0.300]\n",
            "========================================================================\n",
            "\n",
            "Covariance estimator: robust\n",
            "                          AR-X - ARCH Model Results                           \n",
            "==============================================================================\n",
            "Dep. Variable:                   data   R-squared:                       0.983\n",
            "Mean Model:                      AR-X   Adj. R-squared:                  0.983\n",
            "Vol Model:                       ARCH   Log-Likelihood:               -1076.54\n",
            "Distribution:                  Normal   AIC:                           2165.08\n",
            "Method:            Maximum Likelihood   BIC:                           2196.95\n",
            "                                        No. Observations:                 1500\n",
            "Date:                Thu, Aug 24 2023   Df Residuals:                     1496\n",
            "Time:                        17:07:22   Df Model:                            4\n",
            "                                  Mean Model                                 \n",
            "=============================================================================\n",
            "                 coef    std err          t      P>|t|       95.0% Conf. Int.\n",
            "-----------------------------------------------------------------------------\n",
            "Const      1.4570e-04  2.536e-02  5.746e-03      0.995 [-4.955e-02,4.985e-02]\n",
            "x1             0.9732  3.438e-02     28.308 2.749e-176      [  0.906,  1.041]\n",
            "x2             3.9807  3.414e-02    116.613      0.000      [  3.914,  4.048]\n",
            "x3             9.9500  3.467e-02    287.028      0.000      [  9.882, 10.018]\n",
            "                            Volatility Model                            \n",
            "========================================================================\n",
            "                 coef    std err          t      P>|t|  95.0% Conf. Int.\n",
            "------------------------------------------------------------------------\n",
            "omega          0.1879  1.015e-02     18.516  1.530e-76 [  0.168,  0.208]\n",
            "alpha[1]       0.2807  3.932e-02      7.138  9.462e-13 [  0.204,  0.358]\n",
            "========================================================================\n",
            "\n",
            "Covariance estimator: robust\n"
          ]
        },
        {
          "name": "stderr",
          "output_type": "stream",
          "text": [
            "\r  2%|▏         | 20/1000 [00:01<01:29, 10.90it/s]"
          ]
        },
        {
          "name": "stdout",
          "output_type": "stream",
          "text": [
            "                          AR-X - ARCH Model Results                           \n",
            "==============================================================================\n",
            "Dep. Variable:                   data   R-squared:                       0.984\n",
            "Mean Model:                      AR-X   Adj. R-squared:                  0.984\n",
            "Vol Model:                       ARCH   Log-Likelihood:               -1054.72\n",
            "Distribution:                  Normal   AIC:                           2121.43\n",
            "Method:            Maximum Likelihood   BIC:                           2153.31\n",
            "                                        No. Observations:                 1500\n",
            "Date:                Thu, Aug 24 2023   Df Residuals:                     1496\n",
            "Time:                        17:07:22   Df Model:                            4\n",
            "                                  Mean Model                                 \n",
            "=============================================================================\n",
            "                 coef    std err          t      P>|t|       95.0% Conf. Int.\n",
            "-----------------------------------------------------------------------------\n",
            "Const          0.0174  2.391e-02      0.726      0.468 [-2.950e-02,6.423e-02]\n",
            "x1             0.9442  3.441e-02     27.437 1.004e-165      [  0.877,  1.012]\n",
            "x2             3.9882  3.430e-02    116.262      0.000      [  3.921,  4.055]\n",
            "x3            10.0127  3.420e-02    292.766      0.000      [  9.946, 10.080]\n",
            "                            Volatility Model                            \n",
            "========================================================================\n",
            "                 coef    std err          t      P>|t|  95.0% Conf. Int.\n",
            "------------------------------------------------------------------------\n",
            "omega          0.1992  9.885e-03     20.154  2.476e-90 [  0.180,  0.219]\n",
            "alpha[1]       0.1891  3.660e-02      5.166  2.395e-07 [  0.117,  0.261]\n",
            "========================================================================\n",
            "\n",
            "Covariance estimator: robust\n",
            "                          AR-X - ARCH Model Results                           \n",
            "==============================================================================\n",
            "Dep. Variable:                   data   R-squared:                       0.983\n",
            "Mean Model:                      AR-X   Adj. R-squared:                  0.983\n",
            "Vol Model:                       ARCH   Log-Likelihood:               -1088.32\n",
            "Distribution:                  Normal   AIC:                           2188.65\n",
            "Method:            Maximum Likelihood   BIC:                           2220.53\n",
            "                                        No. Observations:                 1500\n",
            "Date:                Thu, Aug 24 2023   Df Residuals:                     1496\n",
            "Time:                        17:07:22   Df Model:                            4\n",
            "                                  Mean Model                                 \n",
            "=============================================================================\n",
            "                 coef    std err          t      P>|t|       95.0% Conf. Int.\n",
            "-----------------------------------------------------------------------------\n",
            "Const      4.1360e-03  2.402e-02      0.172      0.863 [-4.295e-02,5.122e-02]\n",
            "x1             0.9557  3.405e-02     28.069 2.333e-173      [  0.889,  1.022]\n",
            "x2             3.9506  3.419e-02    115.543      0.000      [  3.884,  4.018]\n",
            "x3            10.0046  3.485e-02    287.112      0.000      [  9.936, 10.073]\n",
            "                            Volatility Model                            \n",
            "========================================================================\n",
            "                 coef    std err          t      P>|t|  95.0% Conf. Int.\n",
            "------------------------------------------------------------------------\n",
            "omega          0.1994  1.012e-02     19.715  1.613e-86 [  0.180,  0.219]\n",
            "alpha[1]       0.2335  3.859e-02      6.050  1.445e-09 [  0.158,  0.309]\n",
            "========================================================================\n",
            "\n",
            "Covariance estimator: robust\n",
            "                          AR-X - ARCH Model Results                           \n",
            "==============================================================================\n",
            "Dep. Variable:                   data   R-squared:                       0.982\n",
            "Mean Model:                      AR-X   Adj. R-squared:                  0.982\n",
            "Vol Model:                       ARCH   Log-Likelihood:               -1122.02\n",
            "Distribution:                  Normal   AIC:                           2256.03\n",
            "Method:            Maximum Likelihood   BIC:                           2287.91\n",
            "                                        No. Observations:                 1500\n",
            "Date:                Thu, Aug 24 2023   Df Residuals:                     1496\n",
            "Time:                        17:07:22   Df Model:                            4\n",
            "                                  Mean Model                                  \n",
            "==============================================================================\n",
            "                  coef    std err          t      P>|t|       95.0% Conf. Int.\n",
            "------------------------------------------------------------------------------\n",
            "Const      -5.0448e-03  2.522e-02     -0.200      0.841 [-5.448e-02,4.439e-02]\n",
            "x1              0.9660  3.559e-02     27.145 2.922e-162      [  0.896,  1.036]\n",
            "x2              4.0126  3.457e-02    116.081      0.000      [  3.945,  4.080]\n",
            "x3             10.0338  3.648e-02    275.021      0.000      [  9.962, 10.105]\n",
            "                            Volatility Model                            \n",
            "========================================================================\n",
            "                 coef    std err          t      P>|t|  95.0% Conf. Int.\n",
            "------------------------------------------------------------------------\n",
            "omega          0.2025  1.091e-02     18.561  6.642e-77 [  0.181,  0.224]\n",
            "alpha[1]       0.2655  4.098e-02      6.478  9.295e-11 [  0.185,  0.346]\n",
            "========================================================================\n",
            "\n",
            "Covariance estimator: robust\n"
          ]
        },
        {
          "name": "stderr",
          "output_type": "stream",
          "text": [
            "\r  2%|▏         | 22/1000 [00:02<01:31, 10.65it/s]"
          ]
        },
        {
          "name": "stdout",
          "output_type": "stream",
          "text": [
            "                          AR-X - ARCH Model Results                           \n",
            "==============================================================================\n",
            "Dep. Variable:                   data   R-squared:                       0.984\n",
            "Mean Model:                      AR-X   Adj. R-squared:                  0.984\n",
            "Vol Model:                       ARCH   Log-Likelihood:               -1073.74\n",
            "Distribution:                  Normal   AIC:                           2159.47\n",
            "Method:            Maximum Likelihood   BIC:                           2191.35\n",
            "                                        No. Observations:                 1500\n",
            "Date:                Thu, Aug 24 2023   Df Residuals:                     1496\n",
            "Time:                        17:07:23   Df Model:                            4\n",
            "                                  Mean Model                                  \n",
            "==============================================================================\n",
            "                  coef    std err          t      P>|t|       95.0% Conf. Int.\n",
            "------------------------------------------------------------------------------\n",
            "Const      -6.9325e-03  2.490e-02     -0.278      0.781 [-5.574e-02,4.187e-02]\n",
            "x1              0.9833  3.352e-02     29.337 3.450e-189      [  0.918,  1.049]\n",
            "x2              4.0000  3.468e-02    115.355      0.000      [  3.932,  4.068]\n",
            "x3             10.0260  3.516e-02    285.179      0.000      [  9.957, 10.095]\n",
            "                            Volatility Model                            \n",
            "========================================================================\n",
            "                 coef    std err          t      P>|t|  95.0% Conf. Int.\n",
            "------------------------------------------------------------------------\n",
            "omega          0.1919  9.815e-03     19.550  4.105e-85 [  0.173,  0.211]\n",
            "alpha[1]       0.2538  4.275e-02      5.937  2.895e-09 [  0.170,  0.338]\n",
            "========================================================================\n",
            "\n",
            "Covariance estimator: robust\n",
            "                          AR-X - ARCH Model Results                           \n",
            "==============================================================================\n",
            "Dep. Variable:                   data   R-squared:                       0.985\n",
            "Mean Model:                      AR-X   Adj. R-squared:                  0.985\n",
            "Vol Model:                       ARCH   Log-Likelihood:               -1034.26\n",
            "Distribution:                  Normal   AIC:                           2080.51\n",
            "Method:            Maximum Likelihood   BIC:                           2112.39\n",
            "                                        No. Observations:                 1500\n",
            "Date:                Thu, Aug 24 2023   Df Residuals:                     1496\n",
            "Time:                        17:07:23   Df Model:                            4\n",
            "                                  Mean Model                                 \n",
            "=============================================================================\n",
            "                 coef    std err          t      P>|t|       95.0% Conf. Int.\n",
            "-----------------------------------------------------------------------------\n",
            "Const         -0.0199  2.407e-02     -0.829      0.407 [-6.712e-02,2.722e-02]\n",
            "x1             0.9727  3.459e-02     28.125 4.834e-174      [  0.905,  1.041]\n",
            "x2             3.9538  3.399e-02    116.326      0.000      [  3.887,  4.020]\n",
            "x3            10.0238  3.480e-02    288.035      0.000      [  9.956, 10.092]\n",
            "                            Volatility Model                            \n",
            "========================================================================\n",
            "                 coef    std err          t      P>|t|  95.0% Conf. Int.\n",
            "------------------------------------------------------------------------\n",
            "omega          0.1945  1.015e-02     19.162  7.668e-82 [  0.175,  0.214]\n",
            "alpha[1]       0.1853  4.099e-02      4.521  6.156e-06 [  0.105,  0.266]\n",
            "========================================================================\n",
            "\n",
            "Covariance estimator: robust\n"
          ]
        },
        {
          "name": "stderr",
          "output_type": "stream",
          "text": [
            "\r  2%|▏         | 24/1000 [00:02<01:37, 10.03it/s]"
          ]
        },
        {
          "name": "stdout",
          "output_type": "stream",
          "text": [
            "                          AR-X - ARCH Model Results                           \n",
            "==============================================================================\n",
            "Dep. Variable:                   data   R-squared:                       0.983\n",
            "Mean Model:                      AR-X   Adj. R-squared:                  0.983\n",
            "Vol Model:                       ARCH   Log-Likelihood:               -1116.39\n",
            "Distribution:                  Normal   AIC:                           2244.79\n",
            "Method:            Maximum Likelihood   BIC:                           2276.67\n",
            "                                        No. Observations:                 1500\n",
            "Date:                Thu, Aug 24 2023   Df Residuals:                     1496\n",
            "Time:                        17:07:23   Df Model:                            4\n",
            "                                  Mean Model                                 \n",
            "=============================================================================\n",
            "                 coef    std err          t      P>|t|       95.0% Conf. Int.\n",
            "-----------------------------------------------------------------------------\n",
            "Const         -0.0240  2.518e-02     -0.954      0.340 [-7.335e-02,2.534e-02]\n",
            "x1             1.0560  3.676e-02     28.724 1.905e-181      [  0.984,  1.128]\n",
            "x2             4.0485  3.578e-02    113.163      0.000      [  3.978,  4.119]\n",
            "x3             9.9879  3.460e-02    288.658      0.000      [  9.920, 10.056]\n",
            "                            Volatility Model                            \n",
            "========================================================================\n",
            "                 coef    std err          t      P>|t|  95.0% Conf. Int.\n",
            "------------------------------------------------------------------------\n",
            "omega          0.2138  1.065e-02     20.081  1.079e-89 [  0.193,  0.235]\n",
            "alpha[1]       0.2020  3.981e-02      5.075  3.868e-07 [  0.124,  0.280]\n",
            "========================================================================\n",
            "\n",
            "Covariance estimator: robust\n",
            "                          AR-X - ARCH Model Results                           \n",
            "==============================================================================\n",
            "Dep. Variable:                   data   R-squared:                       0.984\n",
            "Mean Model:                      AR-X   Adj. R-squared:                  0.984\n",
            "Vol Model:                       ARCH   Log-Likelihood:               -1048.03\n",
            "Distribution:                  Normal   AIC:                           2108.05\n",
            "Method:            Maximum Likelihood   BIC:                           2139.93\n",
            "                                        No. Observations:                 1500\n",
            "Date:                Thu, Aug 24 2023   Df Residuals:                     1496\n",
            "Time:                        17:07:23   Df Model:                            4\n",
            "                                  Mean Model                                 \n",
            "=============================================================================\n",
            "                 coef    std err          t      P>|t|       95.0% Conf. Int.\n",
            "-----------------------------------------------------------------------------\n",
            "Const          0.0243  2.571e-02      0.945      0.345 [-2.609e-02,7.468e-02]\n",
            "x1             0.9587  3.599e-02     26.639 2.416e-156      [  0.888,  1.029]\n",
            "x2             3.9955  3.529e-02    113.222      0.000      [  3.926,  4.065]\n",
            "x3             9.9472  3.498e-02    284.396      0.000      [  9.879, 10.016]\n",
            "                             Volatility Model                             \n",
            "==========================================================================\n",
            "                 coef    std err          t      P>|t|    95.0% Conf. Int.\n",
            "--------------------------------------------------------------------------\n",
            "omega          0.2024  9.801e-03     20.646  1.067e-94   [  0.183,  0.222]\n",
            "alpha[1]       0.1631  3.454e-02      4.721  2.348e-06 [9.538e-02,  0.231]\n",
            "==========================================================================\n",
            "\n",
            "Covariance estimator: robust\n"
          ]
        },
        {
          "name": "stderr",
          "output_type": "stream",
          "text": [
            "  3%|▎         | 27/1000 [00:02<01:49,  8.85it/s]"
          ]
        },
        {
          "name": "stdout",
          "output_type": "stream",
          "text": [
            "                          AR-X - ARCH Model Results                           \n",
            "==============================================================================\n",
            "Dep. Variable:                   data   R-squared:                       0.983\n",
            "Mean Model:                      AR-X   Adj. R-squared:                  0.983\n",
            "Vol Model:                       ARCH   Log-Likelihood:               -1095.54\n",
            "Distribution:                  Normal   AIC:                           2203.07\n",
            "Method:            Maximum Likelihood   BIC:                           2234.95\n",
            "                                        No. Observations:                 1500\n",
            "Date:                Thu, Aug 24 2023   Df Residuals:                     1496\n",
            "Time:                        17:07:23   Df Model:                            4\n",
            "                                  Mean Model                                 \n",
            "=============================================================================\n",
            "                 coef    std err          t      P>|t|       95.0% Conf. Int.\n",
            "-----------------------------------------------------------------------------\n",
            "Const         -0.0225  2.501e-02     -0.898      0.369 [-7.148e-02,2.656e-02]\n",
            "x1             1.0442  3.543e-02     29.475 6.014e-191      [  0.975,  1.114]\n",
            "x2             4.0698  3.543e-02    114.882      0.000      [  4.000,  4.139]\n",
            "x3             9.9721  3.621e-02    275.403      0.000      [  9.901, 10.043]\n",
            "                            Volatility Model                            \n",
            "========================================================================\n",
            "                 coef    std err          t      P>|t|  95.0% Conf. Int.\n",
            "------------------------------------------------------------------------\n",
            "omega          0.2114  1.097e-02     19.268  9.890e-83 [  0.190,  0.233]\n",
            "alpha[1]       0.1837  4.098e-02      4.482  7.409e-06 [  0.103,  0.264]\n",
            "========================================================================\n",
            "\n",
            "Covariance estimator: robust\n",
            "                          AR-X - ARCH Model Results                           \n",
            "==============================================================================\n",
            "Dep. Variable:                   data   R-squared:                       0.983\n",
            "Mean Model:                      AR-X   Adj. R-squared:                  0.983\n",
            "Vol Model:                       ARCH   Log-Likelihood:               -1080.38\n",
            "Distribution:                  Normal   AIC:                           2172.76\n",
            "Method:            Maximum Likelihood   BIC:                           2204.64\n",
            "                                        No. Observations:                 1500\n",
            "Date:                Thu, Aug 24 2023   Df Residuals:                     1496\n",
            "Time:                        17:07:23   Df Model:                            4\n",
            "                                  Mean Model                                  \n",
            "==============================================================================\n",
            "                  coef    std err          t      P>|t|       95.0% Conf. Int.\n",
            "------------------------------------------------------------------------------\n",
            "Const      -4.7753e-04  2.293e-02 -2.082e-02      0.983 [-4.543e-02,4.447e-02]\n",
            "x1              0.9555  3.296e-02     28.991 8.666e-185      [  0.891,  1.020]\n",
            "x2              3.9989  3.398e-02    117.694      0.000      [  3.932,  4.066]\n",
            "x3             10.0188  3.385e-02    296.001      0.000      [  9.952, 10.085]\n",
            "                            Volatility Model                            \n",
            "========================================================================\n",
            "                 coef    std err          t      P>|t|  95.0% Conf. Int.\n",
            "------------------------------------------------------------------------\n",
            "omega          0.1972  1.048e-02     18.815  5.641e-79 [  0.177,  0.218]\n",
            "alpha[1]       0.2383  4.308e-02      5.531  3.188e-08 [  0.154,  0.323]\n",
            "========================================================================\n",
            "\n",
            "Covariance estimator: robust\n"
          ]
        },
        {
          "name": "stderr",
          "output_type": "stream",
          "text": [
            "  3%|▎         | 29/1000 [00:02<02:05,  7.72it/s]"
          ]
        },
        {
          "name": "stdout",
          "output_type": "stream",
          "text": [
            "                          AR-X - ARCH Model Results                           \n",
            "==============================================================================\n",
            "Dep. Variable:                   data   R-squared:                       0.984\n",
            "Mean Model:                      AR-X   Adj. R-squared:                  0.984\n",
            "Vol Model:                       ARCH   Log-Likelihood:               -1047.57\n",
            "Distribution:                  Normal   AIC:                           2107.14\n",
            "Method:            Maximum Likelihood   BIC:                           2139.02\n",
            "                                        No. Observations:                 1500\n",
            "Date:                Thu, Aug 24 2023   Df Residuals:                     1496\n",
            "Time:                        17:07:23   Df Model:                            4\n",
            "                                  Mean Model                                 \n",
            "=============================================================================\n",
            "                 coef    std err          t      P>|t|       95.0% Conf. Int.\n",
            "-----------------------------------------------------------------------------\n",
            "Const         -0.0129  2.531e-02     -0.508      0.611 [-6.248e-02,3.674e-02]\n",
            "x1             1.0251  3.456e-02     29.665 2.149e-193      [  0.957,  1.093]\n",
            "x2             4.0137  3.479e-02    115.363      0.000      [  3.945,  4.082]\n",
            "x3             9.9863  3.575e-02    279.347      0.000      [  9.916, 10.056]\n",
            "                             Volatility Model                             \n",
            "==========================================================================\n",
            "                 coef    std err          t      P>|t|    95.0% Conf. Int.\n",
            "--------------------------------------------------------------------------\n",
            "omega          0.2015  1.010e-02     19.947  1.579e-88   [  0.182,  0.221]\n",
            "alpha[1]       0.1690  4.022e-02      4.202  2.643e-05 [9.019e-02,  0.248]\n",
            "==========================================================================\n",
            "\n",
            "Covariance estimator: robust\n",
            "                          AR-X - ARCH Model Results                           \n",
            "==============================================================================\n",
            "Dep. Variable:                   data   R-squared:                       0.984\n",
            "Mean Model:                      AR-X   Adj. R-squared:                  0.984\n",
            "Vol Model:                       ARCH   Log-Likelihood:               -1054.17\n",
            "Distribution:                  Normal   AIC:                           2120.33\n",
            "Method:            Maximum Likelihood   BIC:                           2152.21\n",
            "                                        No. Observations:                 1500\n",
            "Date:                Thu, Aug 24 2023   Df Residuals:                     1496\n",
            "Time:                        17:07:23   Df Model:                            4\n",
            "                                  Mean Model                                  \n",
            "==============================================================================\n",
            "                  coef    std err          t      P>|t|       95.0% Conf. Int.\n",
            "------------------------------------------------------------------------------\n",
            "Const      -6.5526e-03  2.440e-02     -0.269      0.788 [-5.438e-02,4.128e-02]\n",
            "x1              0.9750  3.479e-02     28.028 7.443e-173      [  0.907,  1.043]\n",
            "x2              3.9842  3.465e-02    114.970      0.000      [  3.916,  4.052]\n",
            "x3             10.0176  3.478e-02    288.061      0.000      [  9.949, 10.086]\n",
            "                            Volatility Model                            \n",
            "========================================================================\n",
            "                 coef    std err          t      P>|t|  95.0% Conf. Int.\n",
            "------------------------------------------------------------------------\n",
            "omega          0.1980  9.556e-03     20.723  2.132e-95 [  0.179,  0.217]\n",
            "alpha[1]       0.1934  3.713e-02      5.209  1.894e-07 [  0.121,  0.266]\n",
            "========================================================================\n",
            "\n",
            "Covariance estimator: robust\n"
          ]
        },
        {
          "name": "stderr",
          "output_type": "stream",
          "text": [
            "  3%|▎         | 31/1000 [00:03<02:15,  7.15it/s]"
          ]
        },
        {
          "name": "stdout",
          "output_type": "stream",
          "text": [
            "                          AR-X - ARCH Model Results                           \n",
            "==============================================================================\n",
            "Dep. Variable:                   data   R-squared:                       0.984\n",
            "Mean Model:                      AR-X   Adj. R-squared:                  0.984\n",
            "Vol Model:                       ARCH   Log-Likelihood:               -1085.11\n",
            "Distribution:                  Normal   AIC:                           2182.22\n",
            "Method:            Maximum Likelihood   BIC:                           2214.10\n",
            "                                        No. Observations:                 1500\n",
            "Date:                Thu, Aug 24 2023   Df Residuals:                     1496\n",
            "Time:                        17:07:24   Df Model:                            4\n",
            "                                  Mean Model                                 \n",
            "=============================================================================\n",
            "                 coef    std err          t      P>|t|       95.0% Conf. Int.\n",
            "-----------------------------------------------------------------------------\n",
            "Const      1.6225e-03  2.490e-02  6.517e-02      0.948 [-4.717e-02,5.042e-02]\n",
            "x1             0.9798  3.510e-02     27.918 1.619e-171      [  0.911,  1.049]\n",
            "x2             3.9799  3.601e-02    110.509      0.000      [  3.909,  4.050]\n",
            "x3            10.0207  3.555e-02    281.868      0.000      [  9.951, 10.090]\n",
            "                             Volatility Model                             \n",
            "==========================================================================\n",
            "                 coef    std err          t      P>|t|    95.0% Conf. Int.\n",
            "--------------------------------------------------------------------------\n",
            "omega          0.2150  1.102e-02     19.500  1.095e-84   [  0.193,  0.237]\n",
            "alpha[1]       0.1513  3.323e-02      4.555  5.250e-06 [8.622e-02,  0.216]\n",
            "==========================================================================\n",
            "\n",
            "Covariance estimator: robust\n",
            "                          AR-X - ARCH Model Results                           \n",
            "==============================================================================\n",
            "Dep. Variable:                   data   R-squared:                       0.983\n",
            "Mean Model:                      AR-X   Adj. R-squared:                  0.983\n",
            "Vol Model:                       ARCH   Log-Likelihood:               -1116.51\n",
            "Distribution:                  Normal   AIC:                           2245.02\n",
            "Method:            Maximum Likelihood   BIC:                           2276.90\n",
            "                                        No. Observations:                 1500\n",
            "Date:                Thu, Aug 24 2023   Df Residuals:                     1496\n",
            "Time:                        17:07:24   Df Model:                            4\n",
            "                                  Mean Model                                 \n",
            "=============================================================================\n",
            "                 coef    std err          t      P>|t|       95.0% Conf. Int.\n",
            "-----------------------------------------------------------------------------\n",
            "Const         -0.0216  2.585e-02     -0.836      0.403 [-7.228e-02,2.906e-02]\n",
            "x1             1.0303  3.643e-02     28.282 5.718e-176      [  0.959,  1.102]\n",
            "x2             4.0198  3.637e-02    110.520      0.000      [  3.948,  4.091]\n",
            "x3            10.0661  3.537e-02    284.572      0.000      [  9.997, 10.135]\n",
            "                            Volatility Model                            \n",
            "========================================================================\n",
            "                 coef    std err          t      P>|t|  95.0% Conf. Int.\n",
            "------------------------------------------------------------------------\n",
            "omega          0.2148  1.118e-02     19.210  3.071e-82 [  0.193,  0.237]\n",
            "alpha[1]       0.1983  4.408e-02      4.498  6.861e-06 [  0.112,  0.285]\n",
            "========================================================================\n",
            "\n",
            "Covariance estimator: robust\n"
          ]
        },
        {
          "name": "stderr",
          "output_type": "stream",
          "text": [
            "  3%|▎         | 33/1000 [00:03<02:22,  6.77it/s]"
          ]
        },
        {
          "name": "stdout",
          "output_type": "stream",
          "text": [
            "                          AR-X - ARCH Model Results                           \n",
            "==============================================================================\n",
            "Dep. Variable:                   data   R-squared:                       0.983\n",
            "Mean Model:                      AR-X   Adj. R-squared:                  0.983\n",
            "Vol Model:                       ARCH   Log-Likelihood:               -1098.38\n",
            "Distribution:                  Normal   AIC:                           2208.76\n",
            "Method:            Maximum Likelihood   BIC:                           2240.64\n",
            "                                        No. Observations:                 1500\n",
            "Date:                Thu, Aug 24 2023   Df Residuals:                     1496\n",
            "Time:                        17:07:24   Df Model:                            4\n",
            "                                  Mean Model                                 \n",
            "=============================================================================\n",
            "                 coef    std err          t      P>|t|       95.0% Conf. Int.\n",
            "-----------------------------------------------------------------------------\n",
            "Const          0.0204  2.525e-02      0.806      0.420 [-2.912e-02,6.984e-02]\n",
            "x1             0.9897  3.479e-02     28.449 4.987e-178      [  0.921,  1.058]\n",
            "x2             4.0107  3.438e-02    116.648      0.000      [  3.943,  4.078]\n",
            "x3             9.9888  3.606e-02    276.990      0.000      [  9.918, 10.059]\n",
            "                            Volatility Model                            \n",
            "========================================================================\n",
            "                 coef    std err          t      P>|t|  95.0% Conf. Int.\n",
            "------------------------------------------------------------------------\n",
            "omega          0.1948  1.010e-02     19.286  7.047e-83 [  0.175,  0.215]\n",
            "alpha[1]       0.2707  3.898e-02      6.946  3.758e-12 [  0.194,  0.347]\n",
            "========================================================================\n",
            "\n",
            "Covariance estimator: robust\n",
            "                          AR-X - ARCH Model Results                           \n",
            "==============================================================================\n",
            "Dep. Variable:                   data   R-squared:                       0.983\n",
            "Mean Model:                      AR-X   Adj. R-squared:                  0.983\n",
            "Vol Model:                       ARCH   Log-Likelihood:               -1133.50\n",
            "Distribution:                  Normal   AIC:                           2278.99\n",
            "Method:            Maximum Likelihood   BIC:                           2310.87\n",
            "                                        No. Observations:                 1500\n",
            "Date:                Thu, Aug 24 2023   Df Residuals:                     1496\n",
            "Time:                        17:07:24   Df Model:                            4\n",
            "                                  Mean Model                                 \n",
            "=============================================================================\n",
            "                 coef    std err          t      P>|t|       95.0% Conf. Int.\n",
            "-----------------------------------------------------------------------------\n",
            "Const      1.4639e-03  2.373e-02  6.168e-02      0.951 [-4.505e-02,4.798e-02]\n",
            "x1             1.0110  3.602e-02     28.065 2.590e-173      [  0.940,  1.082]\n",
            "x2             3.9845  3.670e-02    108.555      0.000      [  3.913,  4.056]\n",
            "x3            10.0096  3.511e-02    285.133      0.000      [  9.941, 10.078]\n",
            "                             Volatility Model                             \n",
            "==========================================================================\n",
            "                 coef    std err          t      P>|t|    95.0% Conf. Int.\n",
            "--------------------------------------------------------------------------\n",
            "omega          0.2321  1.198e-02     19.382  1.092e-83   [  0.209,  0.256]\n",
            "alpha[1]       0.1396  3.618e-02      3.859  1.139e-04 [6.870e-02,  0.211]\n",
            "==========================================================================\n",
            "\n",
            "Covariance estimator: robust\n"
          ]
        },
        {
          "name": "stderr",
          "output_type": "stream",
          "text": [
            "  4%|▎         | 35/1000 [00:03<02:27,  6.54it/s]"
          ]
        },
        {
          "name": "stdout",
          "output_type": "stream",
          "text": [
            "                          AR-X - ARCH Model Results                           \n",
            "==============================================================================\n",
            "Dep. Variable:                   data   R-squared:                       0.983\n",
            "Mean Model:                      AR-X   Adj. R-squared:                  0.983\n",
            "Vol Model:                       ARCH   Log-Likelihood:               -1062.40\n",
            "Distribution:                  Normal   AIC:                           2136.79\n",
            "Method:            Maximum Likelihood   BIC:                           2168.67\n",
            "                                        No. Observations:                 1500\n",
            "Date:                Thu, Aug 24 2023   Df Residuals:                     1496\n",
            "Time:                        17:07:24   Df Model:                            4\n",
            "                                  Mean Model                                 \n",
            "=============================================================================\n",
            "                 coef    std err          t      P>|t|       95.0% Conf. Int.\n",
            "-----------------------------------------------------------------------------\n",
            "Const          0.0228  2.489e-02      0.916      0.360 [-2.599e-02,7.158e-02]\n",
            "x1             1.0328  3.383e-02     30.524 1.251e-204      [  0.966,  1.099]\n",
            "x2             3.9662  3.423e-02    115.852      0.000      [  3.899,  4.033]\n",
            "x3             9.9506  3.425e-02    290.544      0.000      [  9.883, 10.018]\n",
            "                            Volatility Model                            \n",
            "========================================================================\n",
            "                 coef    std err          t      P>|t|  95.0% Conf. Int.\n",
            "------------------------------------------------------------------------\n",
            "omega          0.1833  9.625e-03     19.046  7.126e-81 [  0.164,  0.202]\n",
            "alpha[1]       0.2861  3.961e-02      7.222  5.123e-13 [  0.208,  0.364]\n",
            "========================================================================\n",
            "\n",
            "Covariance estimator: robust\n",
            "                          AR-X - ARCH Model Results                           \n",
            "==============================================================================\n",
            "Dep. Variable:                   data   R-squared:                       0.983\n",
            "Mean Model:                      AR-X   Adj. R-squared:                  0.983\n",
            "Vol Model:                       ARCH   Log-Likelihood:               -1073.41\n",
            "Distribution:                  Normal   AIC:                           2158.82\n",
            "Method:            Maximum Likelihood   BIC:                           2190.69\n",
            "                                        No. Observations:                 1500\n",
            "Date:                Thu, Aug 24 2023   Df Residuals:                     1496\n",
            "Time:                        17:07:24   Df Model:                            4\n",
            "                                  Mean Model                                  \n",
            "==============================================================================\n",
            "                  coef    std err          t      P>|t|       95.0% Conf. Int.\n",
            "------------------------------------------------------------------------------\n",
            "Const      -6.4090e-03  2.421e-02     -0.265      0.791 [-5.386e-02,4.104e-02]\n",
            "x1              0.9520  3.482e-02     27.341 1.395e-164      [  0.884,  1.020]\n",
            "x2              3.9867  3.448e-02    115.611      0.000      [  3.919,  4.054]\n",
            "x3              9.9793  3.363e-02    296.704      0.000      [  9.913, 10.045]\n",
            "                            Volatility Model                            \n",
            "========================================================================\n",
            "                 coef    std err          t      P>|t|  95.0% Conf. Int.\n",
            "------------------------------------------------------------------------\n",
            "omega          0.1965  9.788e-03     20.073  1.264e-89 [  0.177,  0.216]\n",
            "alpha[1]       0.2273  3.705e-02      6.136  8.441e-10 [  0.155,  0.300]\n",
            "========================================================================\n",
            "\n",
            "Covariance estimator: robust\n"
          ]
        },
        {
          "name": "stderr",
          "output_type": "stream",
          "text": [
            "  4%|▎         | 37/1000 [00:04<02:24,  6.67it/s]"
          ]
        },
        {
          "name": "stdout",
          "output_type": "stream",
          "text": [
            "                          AR-X - ARCH Model Results                           \n",
            "==============================================================================\n",
            "Dep. Variable:                   data   R-squared:                       0.985\n",
            "Mean Model:                      AR-X   Adj. R-squared:                  0.984\n",
            "Vol Model:                       ARCH   Log-Likelihood:               -1029.10\n",
            "Distribution:                  Normal   AIC:                           2070.21\n",
            "Method:            Maximum Likelihood   BIC:                           2102.09\n",
            "                                        No. Observations:                 1500\n",
            "Date:                Thu, Aug 24 2023   Df Residuals:                     1496\n",
            "Time:                        17:07:25   Df Model:                            4\n",
            "                                  Mean Model                                 \n",
            "=============================================================================\n",
            "                 coef    std err          t      P>|t|       95.0% Conf. Int.\n",
            "-----------------------------------------------------------------------------\n",
            "Const         -0.0248  2.420e-02     -1.023      0.306 [-7.220e-02,2.266e-02]\n",
            "x1             1.0513  3.493e-02     30.099 4.970e-199      [  0.983,  1.120]\n",
            "x2             4.0126  3.404e-02    117.876      0.000      [  3.946,  4.079]\n",
            "x3             9.9919  3.375e-02    296.045      0.000      [  9.926, 10.058]\n",
            "                            Volatility Model                            \n",
            "========================================================================\n",
            "                 coef    std err          t      P>|t|  95.0% Conf. Int.\n",
            "------------------------------------------------------------------------\n",
            "omega          0.1950  9.472e-03     20.585  3.760e-94 [  0.176,  0.214]\n",
            "alpha[1]       0.1768  3.528e-02      5.013  5.373e-07 [  0.108,  0.246]\n",
            "========================================================================\n",
            "\n",
            "Covariance estimator: robust\n",
            "                          AR-X - ARCH Model Results                           \n",
            "==============================================================================\n",
            "Dep. Variable:                   data   R-squared:                       0.983\n",
            "Mean Model:                      AR-X   Adj. R-squared:                  0.983\n",
            "Vol Model:                       ARCH   Log-Likelihood:               -1079.86\n",
            "Distribution:                  Normal   AIC:                           2171.73\n",
            "Method:            Maximum Likelihood   BIC:                           2203.61\n",
            "                                        No. Observations:                 1500\n",
            "Date:                Thu, Aug 24 2023   Df Residuals:                     1496\n",
            "Time:                        17:07:25   Df Model:                            4\n",
            "                                  Mean Model                                  \n",
            "==============================================================================\n",
            "                  coef    std err          t      P>|t|       95.0% Conf. Int.\n",
            "------------------------------------------------------------------------------\n",
            "Const      -2.1216e-03  2.450e-02 -8.660e-02      0.931 [-5.014e-02,4.589e-02]\n",
            "x1              1.0281  3.514e-02     29.261 3.213e-188      [  0.959,  1.097]\n",
            "x2              4.0324  3.478e-02    115.953      0.000      [  3.964,  4.101]\n",
            "x3             10.0133  3.566e-02    280.765      0.000      [  9.943, 10.083]\n",
            "                            Volatility Model                            \n",
            "========================================================================\n",
            "                 coef    std err          t      P>|t|  95.0% Conf. Int.\n",
            "------------------------------------------------------------------------\n",
            "omega          0.2033  1.005e-02     20.224  6.050e-91 [  0.184,  0.223]\n",
            "alpha[1]       0.2024  3.690e-02      5.486  4.119e-08 [  0.130,  0.275]\n",
            "========================================================================\n",
            "\n",
            "Covariance estimator: robust\n"
          ]
        },
        {
          "name": "stderr",
          "output_type": "stream",
          "text": [
            "  4%|▍         | 40/1000 [00:04<01:53,  8.45it/s]"
          ]
        },
        {
          "name": "stdout",
          "output_type": "stream",
          "text": [
            "                          AR-X - ARCH Model Results                           \n",
            "==============================================================================\n",
            "Dep. Variable:                   data   R-squared:                       0.984\n",
            "Mean Model:                      AR-X   Adj. R-squared:                  0.984\n",
            "Vol Model:                       ARCH   Log-Likelihood:               -1036.01\n",
            "Distribution:                  Normal   AIC:                           2084.02\n",
            "Method:            Maximum Likelihood   BIC:                           2115.90\n",
            "                                        No. Observations:                 1500\n",
            "Date:                Thu, Aug 24 2023   Df Residuals:                     1496\n",
            "Time:                        17:07:25   Df Model:                            4\n",
            "                                  Mean Model                                  \n",
            "==============================================================================\n",
            "                  coef    std err          t      P>|t|       95.0% Conf. Int.\n",
            "------------------------------------------------------------------------------\n",
            "Const      -5.1654e-03  2.480e-02     -0.208      0.835 [-5.377e-02,4.344e-02]\n",
            "x1              0.9564  3.534e-02     27.060 2.925e-161      [  0.887,  1.026]\n",
            "x2              3.9812  3.435e-02    115.889      0.000      [  3.914,  4.049]\n",
            "x3              9.9933  3.345e-02    298.722      0.000      [  9.928, 10.059]\n",
            "                            Volatility Model                            \n",
            "========================================================================\n",
            "                 coef    std err          t      P>|t|  95.0% Conf. Int.\n",
            "------------------------------------------------------------------------\n",
            "omega          0.1945  9.663e-03     20.128  4.236e-90 [  0.176,  0.213]\n",
            "alpha[1]       0.1874  3.435e-02      5.455  4.885e-08 [  0.120,  0.255]\n",
            "========================================================================\n",
            "\n",
            "Covariance estimator: robust\n",
            "                          AR-X - ARCH Model Results                           \n",
            "==============================================================================\n",
            "Dep. Variable:                   data   R-squared:                       0.983\n",
            "Mean Model:                      AR-X   Adj. R-squared:                  0.983\n",
            "Vol Model:                       ARCH   Log-Likelihood:               -1108.89\n",
            "Distribution:                  Normal   AIC:                           2229.78\n",
            "Method:            Maximum Likelihood   BIC:                           2261.66\n",
            "                                        No. Observations:                 1500\n",
            "Date:                Thu, Aug 24 2023   Df Residuals:                     1496\n",
            "Time:                        17:07:25   Df Model:                            4\n",
            "                                  Mean Model                                 \n",
            "=============================================================================\n",
            "                 coef    std err          t      P>|t|       95.0% Conf. Int.\n",
            "-----------------------------------------------------------------------------\n",
            "Const          0.0147  2.457e-02      0.599      0.549 [-3.343e-02,6.288e-02]\n",
            "x1             0.9642  3.463e-02     27.839 1.475e-170      [  0.896,  1.032]\n",
            "x2             3.9741  3.473e-02    114.417      0.000      [  3.906,  4.042]\n",
            "x3            10.0191  3.634e-02    275.666      0.000      [  9.948, 10.090]\n",
            "                            Volatility Model                            \n",
            "========================================================================\n",
            "                 coef    std err          t      P>|t|  95.0% Conf. Int.\n",
            "------------------------------------------------------------------------\n",
            "omega          0.1983  1.083e-02     18.307  7.264e-75 [  0.177,  0.220]\n",
            "alpha[1]       0.2664  4.048e-02      6.582  4.648e-11 [  0.187,  0.346]\n",
            "========================================================================\n",
            "\n",
            "Covariance estimator: robust\n",
            "                          AR-X - ARCH Model Results                           \n",
            "==============================================================================\n",
            "Dep. Variable:                   data   R-squared:                       0.985\n",
            "Mean Model:                      AR-X   Adj. R-squared:                  0.985\n",
            "Vol Model:                       ARCH   Log-Likelihood:               -1027.01\n",
            "Distribution:                  Normal   AIC:                           2066.01\n",
            "Method:            Maximum Likelihood   BIC:                           2097.89\n",
            "                                        No. Observations:                 1500\n",
            "Date:                Thu, Aug 24 2023   Df Residuals:                     1496\n",
            "Time:                        17:07:25   Df Model:                            4\n",
            "                                  Mean Model                                 \n",
            "=============================================================================\n",
            "                 coef    std err          t      P>|t|       95.0% Conf. Int.\n",
            "-----------------------------------------------------------------------------\n",
            "Const         -0.0105  2.467e-02     -0.424      0.672 [-5.882e-02,3.790e-02]\n",
            "x1             1.0115  3.433e-02     29.467 7.621e-191      [  0.944,  1.079]\n",
            "x2             3.9959  3.476e-02    114.966      0.000      [  3.928,  4.064]\n",
            "x3            10.0368  3.439e-02    291.878      0.000      [  9.969, 10.104]\n",
            "                             Volatility Model                             \n",
            "==========================================================================\n",
            "                 coef    std err          t      P>|t|    95.0% Conf. Int.\n",
            "--------------------------------------------------------------------------\n",
            "omega          0.2009  9.711e-03     20.693  4.003e-95   [  0.182,  0.220]\n",
            "alpha[1]       0.1406  3.433e-02      4.096  4.205e-05 [7.333e-02,  0.208]\n",
            "==========================================================================\n",
            "\n",
            "Covariance estimator: robust\n"
          ]
        },
        {
          "name": "stderr",
          "output_type": "stream",
          "text": [
            "\r  4%|▍         | 42/1000 [00:04<01:41,  9.44it/s]"
          ]
        },
        {
          "name": "stdout",
          "output_type": "stream",
          "text": [
            "                          AR-X - ARCH Model Results                           \n",
            "==============================================================================\n",
            "Dep. Variable:                   data   R-squared:                       0.984\n",
            "Mean Model:                      AR-X   Adj. R-squared:                  0.984\n",
            "Vol Model:                       ARCH   Log-Likelihood:               -1078.63\n",
            "Distribution:                  Normal   AIC:                           2169.25\n",
            "Method:            Maximum Likelihood   BIC:                           2201.13\n",
            "                                        No. Observations:                 1500\n",
            "Date:                Thu, Aug 24 2023   Df Residuals:                     1496\n",
            "Time:                        17:07:25   Df Model:                            4\n",
            "                                  Mean Model                                 \n",
            "=============================================================================\n",
            "                 coef    std err          t      P>|t|       95.0% Conf. Int.\n",
            "-----------------------------------------------------------------------------\n",
            "Const         -0.0271  2.508e-02     -1.079      0.281 [-7.622e-02,2.209e-02]\n",
            "x1             1.0471  3.487e-02     30.029 4.048e-198      [  0.979,  1.115]\n",
            "x2             4.0341  3.549e-02    113.671      0.000      [  3.965,  4.104]\n",
            "x3            10.0290  3.455e-02    290.249      0.000      [  9.961, 10.097]\n",
            "                            Volatility Model                            \n",
            "========================================================================\n",
            "                 coef    std err          t      P>|t|  95.0% Conf. Int.\n",
            "------------------------------------------------------------------------\n",
            "omega          0.2057  9.756e-03     21.084  1.121e-98 [  0.187,  0.225]\n",
            "alpha[1]       0.1890  3.935e-02      4.804  1.556e-06 [  0.112,  0.266]\n",
            "========================================================================\n",
            "\n",
            "Covariance estimator: robust\n",
            "                          AR-X - ARCH Model Results                           \n",
            "==============================================================================\n",
            "Dep. Variable:                   data   R-squared:                       0.984\n",
            "Mean Model:                      AR-X   Adj. R-squared:                  0.984\n",
            "Vol Model:                       ARCH   Log-Likelihood:               -1049.62\n",
            "Distribution:                  Normal   AIC:                           2111.24\n",
            "Method:            Maximum Likelihood   BIC:                           2143.12\n",
            "                                        No. Observations:                 1500\n",
            "Date:                Thu, Aug 24 2023   Df Residuals:                     1496\n",
            "Time:                        17:07:25   Df Model:                            4\n",
            "                                  Mean Model                                  \n",
            "==============================================================================\n",
            "                  coef    std err          t      P>|t|       95.0% Conf. Int.\n",
            "------------------------------------------------------------------------------\n",
            "Const      -4.5877e-03  2.454e-02     -0.187      0.852 [-5.268e-02,4.351e-02]\n",
            "x1              1.0376  3.466e-02     29.940 5.880e-197      [  0.970,  1.106]\n",
            "x2              4.0726  3.412e-02    119.364      0.000      [  4.006,  4.139]\n",
            "x3             10.0576  3.306e-02    304.183      0.000      [  9.993, 10.122]\n",
            "                            Volatility Model                            \n",
            "========================================================================\n",
            "                 coef    std err          t      P>|t|  95.0% Conf. Int.\n",
            "------------------------------------------------------------------------\n",
            "omega          0.1885  1.014e-02     18.594  3.578e-77 [  0.169,  0.208]\n",
            "alpha[1]       0.2430  4.326e-02      5.617  1.946e-08 [  0.158,  0.328]\n",
            "========================================================================\n",
            "\n",
            "Covariance estimator: robust\n",
            "                          AR-X - ARCH Model Results                           \n",
            "==============================================================================\n",
            "Dep. Variable:                   data   R-squared:                       0.984\n",
            "Mean Model:                      AR-X   Adj. R-squared:                  0.984\n",
            "Vol Model:                       ARCH   Log-Likelihood:               -1073.42\n",
            "Distribution:                  Normal   AIC:                           2158.85\n",
            "Method:            Maximum Likelihood   BIC:                           2190.73\n",
            "                                        No. Observations:                 1500\n",
            "Date:                Thu, Aug 24 2023   Df Residuals:                     1496\n",
            "Time:                        17:07:25   Df Model:                            4\n",
            "                                  Mean Model                                 \n",
            "=============================================================================\n",
            "                 coef    std err          t      P>|t|       95.0% Conf. Int.\n",
            "-----------------------------------------------------------------------------\n",
            "Const          0.0101  2.495e-02      0.405      0.685 [-3.879e-02,5.901e-02]\n",
            "x1             1.0158  3.526e-02     28.810 1.613e-182      [  0.947,  1.085]\n",
            "x2             3.9461  3.564e-02    110.713      0.000      [  3.876,  4.016]\n",
            "x3            10.0233  3.403e-02    294.586      0.000      [  9.957, 10.090]\n",
            "                            Volatility Model                            \n",
            "========================================================================\n",
            "                 coef    std err          t      P>|t|  95.0% Conf. Int.\n",
            "------------------------------------------------------------------------\n",
            "omega          0.2035  1.040e-02     19.559  3.489e-85 [  0.183,  0.224]\n",
            "alpha[1]       0.1937  4.454e-02      4.349  1.365e-05 [  0.106,  0.281]\n",
            "========================================================================\n",
            "\n",
            "Covariance estimator: robust\n"
          ]
        },
        {
          "name": "stderr",
          "output_type": "stream",
          "text": [
            "  5%|▍         | 46/1000 [00:05<01:32, 10.34it/s]"
          ]
        },
        {
          "name": "stdout",
          "output_type": "stream",
          "text": [
            "                          AR-X - ARCH Model Results                           \n",
            "==============================================================================\n",
            "Dep. Variable:                   data   R-squared:                       0.983\n",
            "Mean Model:                      AR-X   Adj. R-squared:                  0.983\n",
            "Vol Model:                       ARCH   Log-Likelihood:               -1100.71\n",
            "Distribution:                  Normal   AIC:                           2213.41\n",
            "Method:            Maximum Likelihood   BIC:                           2245.29\n",
            "                                        No. Observations:                 1500\n",
            "Date:                Thu, Aug 24 2023   Df Residuals:                     1496\n",
            "Time:                        17:07:25   Df Model:                            4\n",
            "                                  Mean Model                                 \n",
            "=============================================================================\n",
            "                 coef    std err          t      P>|t|       95.0% Conf. Int.\n",
            "-----------------------------------------------------------------------------\n",
            "Const          0.0243  2.526e-02      0.961      0.337 [-2.525e-02,7.378e-02]\n",
            "x1             1.0241  3.550e-02     28.845 5.784e-183      [  0.954,  1.094]\n",
            "x2             3.9774  3.587e-02    110.881      0.000      [  3.907,  4.048]\n",
            "x3             9.9959  3.638e-02    274.758      0.000      [  9.925, 10.067]\n",
            "                            Volatility Model                            \n",
            "========================================================================\n",
            "                 coef    std err          t      P>|t|  95.0% Conf. Int.\n",
            "------------------------------------------------------------------------\n",
            "omega          0.2135  1.104e-02     19.337  2.625e-83 [  0.192,  0.235]\n",
            "alpha[1]       0.1815  3.967e-02      4.576  4.746e-06 [  0.104,  0.259]\n",
            "========================================================================\n",
            "\n",
            "Covariance estimator: robust\n",
            "                          AR-X - ARCH Model Results                           \n",
            "==============================================================================\n",
            "Dep. Variable:                   data   R-squared:                       0.984\n",
            "Mean Model:                      AR-X   Adj. R-squared:                  0.984\n",
            "Vol Model:                       ARCH   Log-Likelihood:               -1049.21\n",
            "Distribution:                  Normal   AIC:                           2110.43\n",
            "Method:            Maximum Likelihood   BIC:                           2142.31\n",
            "                                        No. Observations:                 1500\n",
            "Date:                Thu, Aug 24 2023   Df Residuals:                     1496\n",
            "Time:                        17:07:25   Df Model:                            4\n",
            "                                  Mean Model                                 \n",
            "=============================================================================\n",
            "                 coef    std err          t      P>|t|       95.0% Conf. Int.\n",
            "-----------------------------------------------------------------------------\n",
            "Const      5.3914e-03  2.327e-02      0.232      0.817 [-4.022e-02,5.100e-02]\n",
            "x1             0.9923  3.186e-02     31.140 6.894e-213      [  0.930,  1.055]\n",
            "x2             4.0294  3.414e-02    118.009      0.000      [  3.962,  4.096]\n",
            "x3             9.9552  3.433e-02    290.011      0.000      [  9.888, 10.022]\n",
            "                            Volatility Model                            \n",
            "========================================================================\n",
            "                 coef    std err          t      P>|t|  95.0% Conf. Int.\n",
            "------------------------------------------------------------------------\n",
            "omega          0.1915  9.031e-03     21.208 7.995e-100 [  0.174,  0.209]\n",
            "alpha[1]       0.2194  3.470e-02      6.324  2.553e-10 [  0.151,  0.287]\n",
            "========================================================================\n",
            "\n",
            "Covariance estimator: robust\n",
            "                          AR-X - ARCH Model Results                           \n",
            "==============================================================================\n",
            "Dep. Variable:                   data   R-squared:                       0.984\n",
            "Mean Model:                      AR-X   Adj. R-squared:                  0.984\n",
            "Vol Model:                       ARCH   Log-Likelihood:               -1054.00\n",
            "Distribution:                  Normal   AIC:                           2120.00\n",
            "Method:            Maximum Likelihood   BIC:                           2151.88\n",
            "                                        No. Observations:                 1500\n",
            "Date:                Thu, Aug 24 2023   Df Residuals:                     1496\n",
            "Time:                        17:07:26   Df Model:                            4\n",
            "                                  Mean Model                                  \n",
            "==============================================================================\n",
            "                  coef    std err          t      P>|t|       95.0% Conf. Int.\n",
            "------------------------------------------------------------------------------\n",
            "Const      -1.2010e-03  2.320e-02 -5.177e-02      0.959 [-4.667e-02,4.427e-02]\n",
            "x1              1.0197  3.304e-02     30.865 3.571e-209      [  0.955,  1.084]\n",
            "x2              4.0519  3.384e-02    119.729      0.000      [  3.986,  4.118]\n",
            "x3              9.9598  3.365e-02    295.959      0.000      [  9.894, 10.026]\n",
            "                            Volatility Model                            \n",
            "========================================================================\n",
            "                 coef    std err          t      P>|t|  95.0% Conf. Int.\n",
            "------------------------------------------------------------------------\n",
            "omega          0.1861  9.399e-03     19.796  3.230e-87 [  0.168,  0.204]\n",
            "alpha[1]       0.2589  4.247e-02      6.096  1.088e-09 [  0.176,  0.342]\n",
            "========================================================================\n",
            "\n",
            "Covariance estimator: robust\n"
          ]
        },
        {
          "name": "stderr",
          "output_type": "stream",
          "text": [
            "\r  5%|▍         | 48/1000 [00:05<01:29, 10.64it/s]"
          ]
        },
        {
          "name": "stdout",
          "output_type": "stream",
          "text": [
            "                          AR-X - ARCH Model Results                           \n",
            "==============================================================================\n",
            "Dep. Variable:                   data   R-squared:                       0.984\n",
            "Mean Model:                      AR-X   Adj. R-squared:                  0.984\n",
            "Vol Model:                       ARCH   Log-Likelihood:               -1077.95\n",
            "Distribution:                  Normal   AIC:                           2167.90\n",
            "Method:            Maximum Likelihood   BIC:                           2199.78\n",
            "                                        No. Observations:                 1500\n",
            "Date:                Thu, Aug 24 2023   Df Residuals:                     1496\n",
            "Time:                        17:07:26   Df Model:                            4\n",
            "                                  Mean Model                                 \n",
            "=============================================================================\n",
            "                 coef    std err          t      P>|t|       95.0% Conf. Int.\n",
            "-----------------------------------------------------------------------------\n",
            "Const      9.2395e-03  2.494e-02      0.370      0.711 [-3.965e-02,5.813e-02]\n",
            "x1             0.9812  3.471e-02     28.267 8.689e-176      [  0.913,  1.049]\n",
            "x2             3.9848  3.504e-02    113.717      0.000      [  3.916,  4.053]\n",
            "x3            10.0025  3.567e-02    280.436      0.000      [  9.933, 10.072]\n",
            "                             Volatility Model                             \n",
            "==========================================================================\n",
            "                 coef    std err          t      P>|t|    95.0% Conf. Int.\n",
            "--------------------------------------------------------------------------\n",
            "omega          0.2141  1.098e-02     19.509  9.149e-85   [  0.193,  0.236]\n",
            "alpha[1]       0.1455  4.177e-02      3.484  4.941e-04 [6.366e-02,  0.227]\n",
            "==========================================================================\n",
            "\n",
            "Covariance estimator: robust\n",
            "                          AR-X - ARCH Model Results                           \n",
            "==============================================================================\n",
            "Dep. Variable:                   data   R-squared:                       0.984\n",
            "Mean Model:                      AR-X   Adj. R-squared:                  0.984\n",
            "Vol Model:                       ARCH   Log-Likelihood:               -1058.82\n",
            "Distribution:                  Normal   AIC:                           2129.65\n",
            "Method:            Maximum Likelihood   BIC:                           2161.53\n",
            "                                        No. Observations:                 1500\n",
            "Date:                Thu, Aug 24 2023   Df Residuals:                     1496\n",
            "Time:                        17:07:26   Df Model:                            4\n",
            "                                  Mean Model                                 \n",
            "=============================================================================\n",
            "                 coef    std err          t      P>|t|       95.0% Conf. Int.\n",
            "-----------------------------------------------------------------------------\n",
            "Const         -0.0195  2.454e-02     -0.795      0.427 [-6.760e-02,2.858e-02]\n",
            "x1             1.0077  3.367e-02     29.932 7.639e-197      [  0.942,  1.074]\n",
            "x2             3.9972  3.486e-02    114.651      0.000      [  3.929,  4.066]\n",
            "x3            10.0120  3.653e-02    274.060      0.000      [  9.940, 10.084]\n",
            "                            Volatility Model                            \n",
            "========================================================================\n",
            "                 coef    std err          t      P>|t|  95.0% Conf. Int.\n",
            "------------------------------------------------------------------------\n",
            "omega          0.2002  1.047e-02     19.114  1.941e-81 [  0.180,  0.221]\n",
            "alpha[1]       0.1893  4.160e-02      4.550  5.368e-06 [  0.108,  0.271]\n",
            "========================================================================\n",
            "\n",
            "Covariance estimator: robust\n",
            "                          AR-X - ARCH Model Results                           \n",
            "==============================================================================\n",
            "Dep. Variable:                   data   R-squared:                       0.984\n",
            "Mean Model:                      AR-X   Adj. R-squared:                  0.984\n",
            "Vol Model:                       ARCH   Log-Likelihood:               -1073.99\n",
            "Distribution:                  Normal   AIC:                           2159.98\n",
            "Method:            Maximum Likelihood   BIC:                           2191.86\n",
            "                                        No. Observations:                 1500\n",
            "Date:                Thu, Aug 24 2023   Df Residuals:                     1496\n",
            "Time:                        17:07:26   Df Model:                            4\n",
            "                                  Mean Model                                 \n",
            "=============================================================================\n",
            "                 coef    std err          t      P>|t|       95.0% Conf. Int.\n",
            "-----------------------------------------------------------------------------\n",
            "Const          0.0176  2.449e-02      0.721      0.471 [-3.035e-02,6.563e-02]\n",
            "x1             0.9773  3.523e-02     27.741 2.268e-169      [  0.908,  1.046]\n",
            "x2             3.9613  3.446e-02    114.953      0.000      [  3.894,  4.029]\n",
            "x3            10.0191  3.590e-02    279.046      0.000      [  9.949, 10.089]\n",
            "                             Volatility Model                             \n",
            "==========================================================================\n",
            "                 coef    std err          t      P>|t|    95.0% Conf. Int.\n",
            "--------------------------------------------------------------------------\n",
            "omega          0.2095  1.073e-02     19.529  6.275e-85   [  0.188,  0.231]\n",
            "alpha[1]       0.1624  3.556e-02      4.565  4.985e-06 [9.266e-02,  0.232]\n",
            "==========================================================================\n",
            "\n",
            "Covariance estimator: robust\n"
          ]
        },
        {
          "name": "stderr",
          "output_type": "stream",
          "text": [
            "  5%|▌         | 52/1000 [00:05<01:25, 11.13it/s]"
          ]
        },
        {
          "name": "stdout",
          "output_type": "stream",
          "text": [
            "                          AR-X - ARCH Model Results                           \n",
            "==============================================================================\n",
            "Dep. Variable:                   data   R-squared:                       0.983\n",
            "Mean Model:                      AR-X   Adj. R-squared:                  0.983\n",
            "Vol Model:                       ARCH   Log-Likelihood:               -1094.16\n",
            "Distribution:                  Normal   AIC:                           2200.33\n",
            "Method:            Maximum Likelihood   BIC:                           2232.21\n",
            "                                        No. Observations:                 1500\n",
            "Date:                Thu, Aug 24 2023   Df Residuals:                     1496\n",
            "Time:                        17:07:26   Df Model:                            4\n",
            "                                  Mean Model                                 \n",
            "=============================================================================\n",
            "                 coef    std err          t      P>|t|       95.0% Conf. Int.\n",
            "-----------------------------------------------------------------------------\n",
            "Const          0.0250  2.501e-02      1.001      0.317 [-2.397e-02,7.405e-02]\n",
            "x1             0.9663  3.592e-02     26.902 2.069e-159      [  0.896,  1.037]\n",
            "x2             3.9925  3.602e-02    110.837      0.000      [  3.922,  4.063]\n",
            "x3             9.9620  3.463e-02    287.664      0.000      [  9.894, 10.030]\n",
            "                             Volatility Model                             \n",
            "==========================================================================\n",
            "                 coef    std err          t      P>|t|    95.0% Conf. Int.\n",
            "--------------------------------------------------------------------------\n",
            "omega          0.2142  1.057e-02     20.272  2.273e-91   [  0.194,  0.235]\n",
            "alpha[1]       0.1676  3.729e-02      4.495  6.961e-06 [9.452e-02,  0.241]\n",
            "==========================================================================\n",
            "\n",
            "Covariance estimator: robust\n",
            "                          AR-X - ARCH Model Results                           \n",
            "==============================================================================\n",
            "Dep. Variable:                   data   R-squared:                       0.984\n",
            "Mean Model:                      AR-X   Adj. R-squared:                  0.984\n",
            "Vol Model:                       ARCH   Log-Likelihood:               -1039.85\n",
            "Distribution:                  Normal   AIC:                           2091.69\n",
            "Method:            Maximum Likelihood   BIC:                           2123.57\n",
            "                                        No. Observations:                 1500\n",
            "Date:                Thu, Aug 24 2023   Df Residuals:                     1496\n",
            "Time:                        17:07:26   Df Model:                            4\n",
            "                                  Mean Model                                 \n",
            "=============================================================================\n",
            "                 coef    std err          t      P>|t|       95.0% Conf. Int.\n",
            "-----------------------------------------------------------------------------\n",
            "Const         -0.0252  2.459e-02     -1.026      0.305 [-7.342e-02,2.298e-02]\n",
            "x1             1.0287  3.391e-02     30.340 3.357e-202      [  0.962,  1.095]\n",
            "x2             4.0241  3.564e-02    112.902      0.000      [  3.954,  4.094]\n",
            "x3            10.0264  3.451e-02    290.497      0.000      [  9.959, 10.094]\n",
            "                             Volatility Model                             \n",
            "==========================================================================\n",
            "                 coef    std err          t      P>|t|    95.0% Conf. Int.\n",
            "--------------------------------------------------------------------------\n",
            "omega          0.2033  1.038e-02     19.585  2.085e-85   [  0.183,  0.224]\n",
            "alpha[1]       0.1475  3.396e-02      4.342  1.409e-05 [8.091e-02,  0.214]\n",
            "==========================================================================\n",
            "\n",
            "Covariance estimator: robust\n",
            "                          AR-X - ARCH Model Results                           \n",
            "==============================================================================\n",
            "Dep. Variable:                   data   R-squared:                       0.985\n",
            "Mean Model:                      AR-X   Adj. R-squared:                  0.985\n",
            "Vol Model:                       ARCH   Log-Likelihood:               -1025.01\n",
            "Distribution:                  Normal   AIC:                           2062.02\n",
            "Method:            Maximum Likelihood   BIC:                           2093.90\n",
            "                                        No. Observations:                 1500\n",
            "Date:                Thu, Aug 24 2023   Df Residuals:                     1496\n",
            "Time:                        17:07:26   Df Model:                            4\n",
            "                                  Mean Model                                  \n",
            "==============================================================================\n",
            "                  coef    std err          t      P>|t|       95.0% Conf. Int.\n",
            "------------------------------------------------------------------------------\n",
            "Const      -2.6575e-03  2.365e-02     -0.112      0.911 [-4.901e-02,4.370e-02]\n",
            "x1              0.9605  3.455e-02     27.804 3.931e-170      [  0.893,  1.028]\n",
            "x2              4.0367  3.428e-02    117.754      0.000      [  3.970,  4.104]\n",
            "x3             10.0367  3.360e-02    298.672      0.000      [  9.971, 10.103]\n",
            "                             Volatility Model                             \n",
            "==========================================================================\n",
            "                 coef    std err          t      P>|t|    95.0% Conf. Int.\n",
            "--------------------------------------------------------------------------\n",
            "omega          0.1979  1.073e-02     18.435  6.932e-76   [  0.177,  0.219]\n",
            "alpha[1]       0.1559  3.917e-02      3.980  6.899e-05 [7.912e-02,  0.233]\n",
            "==========================================================================\n",
            "\n",
            "Covariance estimator: robust\n"
          ]
        },
        {
          "name": "stderr",
          "output_type": "stream",
          "text": [
            "\r  5%|▌         | 54/1000 [00:05<01:24, 11.18it/s]"
          ]
        },
        {
          "name": "stdout",
          "output_type": "stream",
          "text": [
            "                          AR-X - ARCH Model Results                           \n",
            "==============================================================================\n",
            "Dep. Variable:                   data   R-squared:                       0.983\n",
            "Mean Model:                      AR-X   Adj. R-squared:                  0.983\n",
            "Vol Model:                       ARCH   Log-Likelihood:               -1106.83\n",
            "Distribution:                  Normal   AIC:                           2225.67\n",
            "Method:            Maximum Likelihood   BIC:                           2257.55\n",
            "                                        No. Observations:                 1500\n",
            "Date:                Thu, Aug 24 2023   Df Residuals:                     1496\n",
            "Time:                        17:07:26   Df Model:                            4\n",
            "                                  Mean Model                                 \n",
            "=============================================================================\n",
            "                 coef    std err          t      P>|t|       95.0% Conf. Int.\n",
            "-----------------------------------------------------------------------------\n",
            "Const          0.0280  2.551e-02      1.097      0.273 [-2.203e-02,7.799e-02]\n",
            "x1             0.9790  3.630e-02     26.971 3.251e-160      [  0.908,  1.050]\n",
            "x2             3.9886  3.570e-02    111.723      0.000      [  3.919,  4.059]\n",
            "x3             9.9537  3.579e-02    278.085      0.000      [  9.884, 10.024]\n",
            "                            Volatility Model                            \n",
            "========================================================================\n",
            "                 coef    std err          t      P>|t|  95.0% Conf. Int.\n",
            "------------------------------------------------------------------------\n",
            "omega          0.2111  1.115e-02     18.922  7.462e-80 [  0.189,  0.233]\n",
            "alpha[1]       0.2025  3.778e-02      5.361  8.259e-08 [  0.128,  0.277]\n",
            "========================================================================\n",
            "\n",
            "Covariance estimator: robust\n",
            "                          AR-X - ARCH Model Results                           \n",
            "==============================================================================\n",
            "Dep. Variable:                   data   R-squared:                       0.983\n",
            "Mean Model:                      AR-X   Adj. R-squared:                  0.983\n",
            "Vol Model:                       ARCH   Log-Likelihood:               -1116.67\n",
            "Distribution:                  Normal   AIC:                           2245.34\n",
            "Method:            Maximum Likelihood   BIC:                           2277.22\n",
            "                                        No. Observations:                 1500\n",
            "Date:                Thu, Aug 24 2023   Df Residuals:                     1496\n",
            "Time:                        17:07:26   Df Model:                            4\n",
            "                                  Mean Model                                  \n",
            "==============================================================================\n",
            "                  coef    std err          t      P>|t|       95.0% Conf. Int.\n",
            "------------------------------------------------------------------------------\n",
            "Const      -8.9115e-03  2.624e-02     -0.340      0.734 [-6.033e-02,4.251e-02]\n",
            "x1              1.0185  3.665e-02     27.787 6.299e-170      [  0.947,  1.090]\n",
            "x2              4.0072  3.629e-02    110.424      0.000      [  3.936,  4.078]\n",
            "x3              9.9742  3.651e-02    273.159      0.000      [  9.903, 10.046]\n",
            "                             Volatility Model                             \n",
            "==========================================================================\n",
            "                 coef    std err          t      P>|t|    95.0% Conf. Int.\n",
            "--------------------------------------------------------------------------\n",
            "omega          0.2206  1.090e-02     20.243  4.090e-91   [  0.199,  0.242]\n",
            "alpha[1]       0.1681  3.737e-02      4.498  6.846e-06 [9.486e-02,  0.241]\n",
            "==========================================================================\n",
            "\n",
            "Covariance estimator: robust\n",
            "                          AR-X - ARCH Model Results                           \n",
            "==============================================================================\n",
            "Dep. Variable:                   data   R-squared:                       0.985\n",
            "Mean Model:                      AR-X   Adj. R-squared:                  0.985\n",
            "Vol Model:                       ARCH   Log-Likelihood:               -1013.91\n",
            "Distribution:                  Normal   AIC:                           2039.82\n",
            "Method:            Maximum Likelihood   BIC:                           2071.69\n",
            "                                        No. Observations:                 1500\n",
            "Date:                Thu, Aug 24 2023   Df Residuals:                     1496\n",
            "Time:                        17:07:26   Df Model:                            4\n",
            "                                  Mean Model                                 \n",
            "=============================================================================\n",
            "                 coef    std err          t      P>|t|       95.0% Conf. Int.\n",
            "-----------------------------------------------------------------------------\n",
            "Const      3.5339e-03  2.344e-02      0.151      0.880 [-4.241e-02,4.948e-02]\n",
            "x1             0.9431  3.228e-02     29.219 1.122e-187      [  0.880,  1.006]\n",
            "x2             3.9923  3.217e-02    124.117      0.000      [  3.929,  4.055]\n",
            "x3             9.9969  3.376e-02    296.149      0.000      [  9.931, 10.063]\n",
            "                            Volatility Model                            \n",
            "========================================================================\n",
            "                 coef    std err          t      P>|t|  95.0% Conf. Int.\n",
            "------------------------------------------------------------------------\n",
            "omega          0.1803  9.497e-03     18.981  2.452e-80 [  0.162,  0.199]\n",
            "alpha[1]       0.2369  4.114e-02      5.758  8.495e-09 [  0.156,  0.318]\n",
            "========================================================================\n",
            "\n",
            "Covariance estimator: robust\n"
          ]
        },
        {
          "name": "stderr",
          "output_type": "stream",
          "text": [
            "  6%|▌         | 58/1000 [00:06<01:23, 11.24it/s]"
          ]
        },
        {
          "name": "stdout",
          "output_type": "stream",
          "text": [
            "                          AR-X - ARCH Model Results                           \n",
            "==============================================================================\n",
            "Dep. Variable:                   data   R-squared:                       0.984\n",
            "Mean Model:                      AR-X   Adj. R-squared:                  0.984\n",
            "Vol Model:                       ARCH   Log-Likelihood:               -1034.91\n",
            "Distribution:                  Normal   AIC:                           2081.82\n",
            "Method:            Maximum Likelihood   BIC:                           2113.70\n",
            "                                        No. Observations:                 1500\n",
            "Date:                Thu, Aug 24 2023   Df Residuals:                     1496\n",
            "Time:                        17:07:26   Df Model:                            4\n",
            "                                  Mean Model                                 \n",
            "=============================================================================\n",
            "                 coef    std err          t      P>|t|       95.0% Conf. Int.\n",
            "-----------------------------------------------------------------------------\n",
            "Const          0.0241  2.335e-02      1.034      0.301 [-2.163e-02,6.990e-02]\n",
            "x1             0.9490  3.317e-02     28.613 4.693e-180      [  0.884,  1.014]\n",
            "x2             3.9775  3.331e-02    119.408      0.000      [  3.912,  4.043]\n",
            "x3             9.9651  3.299e-02    302.105      0.000      [  9.900, 10.030]\n",
            "                            Volatility Model                            \n",
            "========================================================================\n",
            "                 coef    std err          t      P>|t|  95.0% Conf. Int.\n",
            "------------------------------------------------------------------------\n",
            "omega          0.1788  9.496e-03     18.832  4.155e-79 [  0.160,  0.197]\n",
            "alpha[1]       0.2749  4.391e-02      6.260  3.849e-10 [  0.189,  0.361]\n",
            "========================================================================\n",
            "\n",
            "Covariance estimator: robust\n",
            "                          AR-X - ARCH Model Results                           \n",
            "==============================================================================\n",
            "Dep. Variable:                   data   R-squared:                       0.984\n",
            "Mean Model:                      AR-X   Adj. R-squared:                  0.984\n",
            "Vol Model:                       ARCH   Log-Likelihood:               -1080.80\n",
            "Distribution:                  Normal   AIC:                           2173.60\n",
            "Method:            Maximum Likelihood   BIC:                           2205.48\n",
            "                                        No. Observations:                 1500\n",
            "Date:                Thu, Aug 24 2023   Df Residuals:                     1496\n",
            "Time:                        17:07:26   Df Model:                            4\n",
            "                                  Mean Model                                 \n",
            "=============================================================================\n",
            "                 coef    std err          t      P>|t|       95.0% Conf. Int.\n",
            "-----------------------------------------------------------------------------\n",
            "Const          0.0490  2.563e-02      1.912  5.592e-02 [-1.238e-03,9.925e-02]\n",
            "x1             0.9498  3.580e-02     26.532 4.176e-155      [  0.880,  1.020]\n",
            "x2             3.9339  3.559e-02    110.545      0.000      [  3.864,  4.004]\n",
            "x3             9.9629  3.560e-02    279.839      0.000      [  9.893, 10.033]\n",
            "                             Volatility Model                             \n",
            "==========================================================================\n",
            "                 coef    std err          t      P>|t|    95.0% Conf. Int.\n",
            "--------------------------------------------------------------------------\n",
            "omega          0.2106  9.794e-03     21.506 1.361e-102   [  0.191,  0.230]\n",
            "alpha[1]       0.1667  3.914e-02      4.259  2.057e-05 [8.997e-02,  0.243]\n",
            "==========================================================================\n",
            "\n",
            "Covariance estimator: robust\n",
            "                          AR-X - ARCH Model Results                           \n",
            "==============================================================================\n",
            "Dep. Variable:                   data   R-squared:                       0.984\n",
            "Mean Model:                      AR-X   Adj. R-squared:                  0.984\n",
            "Vol Model:                       ARCH   Log-Likelihood:               -1038.27\n",
            "Distribution:                  Normal   AIC:                           2088.53\n",
            "Method:            Maximum Likelihood   BIC:                           2120.41\n",
            "                                        No. Observations:                 1500\n",
            "Date:                Thu, Aug 24 2023   Df Residuals:                     1496\n",
            "Time:                        17:07:27   Df Model:                            4\n",
            "                                  Mean Model                                 \n",
            "=============================================================================\n",
            "                 coef    std err          t      P>|t|       95.0% Conf. Int.\n",
            "-----------------------------------------------------------------------------\n",
            "Const         -0.0123  2.351e-02     -0.524      0.600 [-5.839e-02,3.377e-02]\n",
            "x1             1.0650  3.393e-02     31.390 2.746e-216      [  0.998,  1.131]\n",
            "x2             4.0660  3.385e-02    120.132      0.000      [  4.000,  4.132]\n",
            "x3            10.0247  3.370e-02    297.429      0.000      [  9.959, 10.091]\n",
            "                            Volatility Model                            \n",
            "========================================================================\n",
            "                 coef    std err          t      P>|t|  95.0% Conf. Int.\n",
            "------------------------------------------------------------------------\n",
            "omega          0.1870  9.570e-03     19.542  4.829e-85 [  0.168,  0.206]\n",
            "alpha[1]       0.2320  4.507e-02      5.148  2.629e-07 [  0.144,  0.320]\n",
            "========================================================================\n",
            "\n",
            "Covariance estimator: robust\n"
          ]
        },
        {
          "name": "stderr",
          "output_type": "stream",
          "text": [
            "\r  6%|▌         | 60/1000 [00:06<01:25, 11.02it/s]"
          ]
        },
        {
          "name": "stdout",
          "output_type": "stream",
          "text": [
            "                          AR-X - ARCH Model Results                           \n",
            "==============================================================================\n",
            "Dep. Variable:                   data   R-squared:                       0.983\n",
            "Mean Model:                      AR-X   Adj. R-squared:                  0.983\n",
            "Vol Model:                       ARCH   Log-Likelihood:               -1076.37\n",
            "Distribution:                  Normal   AIC:                           2164.75\n",
            "Method:            Maximum Likelihood   BIC:                           2196.63\n",
            "                                        No. Observations:                 1500\n",
            "Date:                Thu, Aug 24 2023   Df Residuals:                     1496\n",
            "Time:                        17:07:27   Df Model:                            4\n",
            "                                  Mean Model                                  \n",
            "==============================================================================\n",
            "                  coef    std err          t      P>|t|       95.0% Conf. Int.\n",
            "------------------------------------------------------------------------------\n",
            "Const      -7.5090e-03  2.370e-02     -0.317      0.751 [-5.397e-02,3.895e-02]\n",
            "x1              0.9692  3.379e-02     28.685 5.899e-181      [  0.903,  1.035]\n",
            "x2              3.9855  3.423e-02    116.434      0.000      [  3.918,  4.053]\n",
            "x3              9.9763  3.393e-02    294.019      0.000      [  9.910, 10.043]\n",
            "                            Volatility Model                            \n",
            "========================================================================\n",
            "                 coef    std err          t      P>|t|  95.0% Conf. Int.\n",
            "------------------------------------------------------------------------\n",
            "omega          0.1860  9.805e-03     18.974  2.816e-80 [  0.167,  0.205]\n",
            "alpha[1]       0.2916  4.551e-02      6.407  1.485e-10 [  0.202,  0.381]\n",
            "========================================================================\n",
            "\n",
            "Covariance estimator: robust\n",
            "                          AR-X - ARCH Model Results                           \n",
            "==============================================================================\n",
            "Dep. Variable:                   data   R-squared:                       0.983\n",
            "Mean Model:                      AR-X   Adj. R-squared:                  0.983\n",
            "Vol Model:                       ARCH   Log-Likelihood:               -1083.98\n",
            "Distribution:                  Normal   AIC:                           2179.96\n",
            "Method:            Maximum Likelihood   BIC:                           2211.84\n",
            "                                        No. Observations:                 1500\n",
            "Date:                Thu, Aug 24 2023   Df Residuals:                     1496\n",
            "Time:                        17:07:27   Df Model:                            4\n",
            "                                  Mean Model                                 \n",
            "=============================================================================\n",
            "                 coef    std err          t      P>|t|       95.0% Conf. Int.\n",
            "-----------------------------------------------------------------------------\n",
            "Const      5.0881e-03  2.396e-02      0.212      0.832 [-4.188e-02,5.205e-02]\n",
            "x1             0.9544  3.459e-02     27.595 1.293e-167      [  0.887,  1.022]\n",
            "x2             3.9776  3.517e-02    113.093      0.000      [  3.909,  4.046]\n",
            "x3            10.0358  3.330e-02    301.386      0.000      [  9.971, 10.101]\n",
            "                            Volatility Model                            \n",
            "========================================================================\n",
            "                 coef    std err          t      P>|t|  95.0% Conf. Int.\n",
            "------------------------------------------------------------------------\n",
            "omega          0.1950  1.040e-02     18.743  2.228e-78 [  0.175,  0.215]\n",
            "alpha[1]       0.2524  4.399e-02      5.739  9.538e-09 [  0.166,  0.339]\n",
            "========================================================================\n",
            "\n",
            "Covariance estimator: robust\n",
            "                          AR-X - ARCH Model Results                           \n",
            "==============================================================================\n",
            "Dep. Variable:                   data   R-squared:                       0.984\n",
            "Mean Model:                      AR-X   Adj. R-squared:                  0.984\n",
            "Vol Model:                       ARCH   Log-Likelihood:               -1028.96\n",
            "Distribution:                  Normal   AIC:                           2069.91\n",
            "Method:            Maximum Likelihood   BIC:                           2101.79\n",
            "                                        No. Observations:                 1500\n",
            "Date:                Thu, Aug 24 2023   Df Residuals:                     1496\n",
            "Time:                        17:07:27   Df Model:                            4\n",
            "                                  Mean Model                                 \n",
            "=============================================================================\n",
            "                 coef    std err          t      P>|t|       95.0% Conf. Int.\n",
            "-----------------------------------------------------------------------------\n",
            "Const          0.0218  2.513e-02      0.868      0.385 [-2.743e-02,7.107e-02]\n",
            "x1             0.9832  3.382e-02     29.074 7.706e-186      [  0.917,  1.049]\n",
            "x2             3.9691  3.445e-02    115.216      0.000      [  3.902,  4.037]\n",
            "x3             9.9730  3.436e-02    290.269      0.000      [  9.906, 10.040]\n",
            "                            Volatility Model                            \n",
            "========================================================================\n",
            "                 coef    std err          t      P>|t|  95.0% Conf. Int.\n",
            "------------------------------------------------------------------------\n",
            "omega          0.1928  9.196e-03     20.960  1.519e-97 [  0.175,  0.211]\n",
            "alpha[1]       0.1872  3.681e-02      5.086  3.664e-07 [  0.115,  0.259]\n",
            "========================================================================\n",
            "\n",
            "Covariance estimator: robust\n"
          ]
        },
        {
          "name": "stderr",
          "output_type": "stream",
          "text": [
            "  6%|▋         | 64/1000 [00:06<01:23, 11.17it/s]"
          ]
        },
        {
          "name": "stdout",
          "output_type": "stream",
          "text": [
            "                          AR-X - ARCH Model Results                           \n",
            "==============================================================================\n",
            "Dep. Variable:                   data   R-squared:                       0.984\n",
            "Mean Model:                      AR-X   Adj. R-squared:                  0.984\n",
            "Vol Model:                       ARCH   Log-Likelihood:               -1061.55\n",
            "Distribution:                  Normal   AIC:                           2135.10\n",
            "Method:            Maximum Likelihood   BIC:                           2166.98\n",
            "                                        No. Observations:                 1500\n",
            "Date:                Thu, Aug 24 2023   Df Residuals:                     1496\n",
            "Time:                        17:07:27   Df Model:                            4\n",
            "                                  Mean Model                                 \n",
            "=============================================================================\n",
            "                 coef    std err          t      P>|t|       95.0% Conf. Int.\n",
            "-----------------------------------------------------------------------------\n",
            "Const         -0.0340  2.322e-02     -1.463      0.143 [-7.947e-02,1.154e-02]\n",
            "x1             1.0551  3.271e-02     32.253 3.205e-228      [  0.991,  1.119]\n",
            "x2             4.0606  3.471e-02    116.989      0.000      [  3.993,  4.129]\n",
            "x3            10.0489  3.347e-02    300.231      0.000      [  9.983, 10.115]\n",
            "                            Volatility Model                            \n",
            "========================================================================\n",
            "                 coef    std err          t      P>|t|  95.0% Conf. Int.\n",
            "------------------------------------------------------------------------\n",
            "omega          0.1944  9.505e-03     20.453  5.593e-93 [  0.176,  0.213]\n",
            "alpha[1]       0.2222  3.663e-02      6.066  1.314e-09 [  0.150,  0.294]\n",
            "========================================================================\n",
            "\n",
            "Covariance estimator: robust\n",
            "                          AR-X - ARCH Model Results                           \n",
            "==============================================================================\n",
            "Dep. Variable:                   data   R-squared:                       0.983\n",
            "Mean Model:                      AR-X   Adj. R-squared:                  0.983\n",
            "Vol Model:                       ARCH   Log-Likelihood:               -1103.17\n",
            "Distribution:                  Normal   AIC:                           2218.35\n",
            "Method:            Maximum Likelihood   BIC:                           2250.23\n",
            "                                        No. Observations:                 1500\n",
            "Date:                Thu, Aug 24 2023   Df Residuals:                     1496\n",
            "Time:                        17:07:27   Df Model:                            4\n",
            "                                  Mean Model                                  \n",
            "==============================================================================\n",
            "                  coef    std err          t      P>|t|       95.0% Conf. Int.\n",
            "------------------------------------------------------------------------------\n",
            "Const      -2.4348e-03  2.522e-02 -9.654e-02      0.923 [-5.187e-02,4.700e-02]\n",
            "x1              1.0269  3.707e-02     27.705 6.061e-169      [  0.954,  1.100]\n",
            "x2              4.0381  3.486e-02    115.839      0.000      [  3.970,  4.106]\n",
            "x3              9.9396  3.553e-02    279.724      0.000      [  9.870, 10.009]\n",
            "                            Volatility Model                            \n",
            "========================================================================\n",
            "                 coef    std err          t      P>|t|  95.0% Conf. Int.\n",
            "------------------------------------------------------------------------\n",
            "omega          0.2141  1.041e-02     20.566  5.563e-94 [  0.194,  0.235]\n",
            "alpha[1]       0.1792  3.454e-02      5.186  2.144e-07 [  0.111,  0.247]\n",
            "========================================================================\n",
            "\n",
            "Covariance estimator: robust\n",
            "                          AR-X - ARCH Model Results                           \n",
            "==============================================================================\n",
            "Dep. Variable:                   data   R-squared:                       0.984\n",
            "Mean Model:                      AR-X   Adj. R-squared:                  0.984\n",
            "Vol Model:                       ARCH   Log-Likelihood:               -1070.47\n",
            "Distribution:                  Normal   AIC:                           2152.95\n",
            "Method:            Maximum Likelihood   BIC:                           2184.83\n",
            "                                        No. Observations:                 1500\n",
            "Date:                Thu, Aug 24 2023   Df Residuals:                     1496\n",
            "Time:                        17:07:27   Df Model:                            4\n",
            "                                  Mean Model                                 \n",
            "=============================================================================\n",
            "                 coef    std err          t      P>|t|       95.0% Conf. Int.\n",
            "-----------------------------------------------------------------------------\n",
            "Const          0.0116  2.435e-02      0.475      0.635 [-3.616e-02,5.929e-02]\n",
            "x1             1.0067  3.427e-02     29.379 1.019e-189      [  0.940,  1.074]\n",
            "x2             3.9911  3.499e-02    114.066      0.000      [  3.923,  4.060]\n",
            "x3             9.9395  3.548e-02    280.149      0.000      [  9.870, 10.009]\n",
            "                            Volatility Model                            \n",
            "========================================================================\n",
            "                 coef    std err          t      P>|t|  95.0% Conf. Int.\n",
            "------------------------------------------------------------------------\n",
            "omega          0.2030  1.015e-02     19.998  5.687e-89 [  0.183,  0.223]\n",
            "alpha[1]       0.1912  3.422e-02      5.587  2.312e-08 [  0.124,  0.258]\n",
            "========================================================================\n",
            "\n",
            "Covariance estimator: robust\n"
          ]
        },
        {
          "name": "stderr",
          "output_type": "stream",
          "text": [
            "\r  7%|▋         | 66/1000 [00:06<01:24, 11.06it/s]"
          ]
        },
        {
          "name": "stdout",
          "output_type": "stream",
          "text": [
            "                          AR-X - ARCH Model Results                           \n",
            "==============================================================================\n",
            "Dep. Variable:                   data   R-squared:                       0.984\n",
            "Mean Model:                      AR-X   Adj. R-squared:                  0.984\n",
            "Vol Model:                       ARCH   Log-Likelihood:               -1050.86\n",
            "Distribution:                  Normal   AIC:                           2113.72\n",
            "Method:            Maximum Likelihood   BIC:                           2145.60\n",
            "                                        No. Observations:                 1500\n",
            "Date:                Thu, Aug 24 2023   Df Residuals:                     1496\n",
            "Time:                        17:07:27   Df Model:                            4\n",
            "                                  Mean Model                                 \n",
            "=============================================================================\n",
            "                 coef    std err          t      P>|t|       95.0% Conf. Int.\n",
            "-----------------------------------------------------------------------------\n",
            "Const         -0.0110  2.491e-02     -0.440      0.660 [-5.979e-02,3.786e-02]\n",
            "x1             0.9838  3.425e-02     28.726 1.817e-181      [  0.917,  1.051]\n",
            "x2             3.9968  3.493e-02    114.410      0.000      [  3.928,  4.065]\n",
            "x3            10.0314  3.374e-02    297.340      0.000      [  9.965, 10.098]\n",
            "                            Volatility Model                            \n",
            "========================================================================\n",
            "                 coef    std err          t      P>|t|  95.0% Conf. Int.\n",
            "------------------------------------------------------------------------\n",
            "omega          0.1969  9.711e-03     20.274  2.202e-91 [  0.178,  0.216]\n",
            "alpha[1]       0.1946  3.356e-02      5.800  6.636e-09 [  0.129,  0.260]\n",
            "========================================================================\n",
            "\n",
            "Covariance estimator: robust\n",
            "                          AR-X - ARCH Model Results                           \n",
            "==============================================================================\n",
            "Dep. Variable:                   data   R-squared:                       0.985\n",
            "Mean Model:                      AR-X   Adj. R-squared:                  0.985\n",
            "Vol Model:                       ARCH   Log-Likelihood:               -1026.31\n",
            "Distribution:                  Normal   AIC:                           2064.62\n",
            "Method:            Maximum Likelihood   BIC:                           2096.50\n",
            "                                        No. Observations:                 1500\n",
            "Date:                Thu, Aug 24 2023   Df Residuals:                     1496\n",
            "Time:                        17:07:27   Df Model:                            4\n",
            "                                  Mean Model                                 \n",
            "=============================================================================\n",
            "                 coef    std err          t      P>|t|       95.0% Conf. Int.\n",
            "-----------------------------------------------------------------------------\n",
            "Const          0.0310  2.418e-02      1.283      0.199 [-1.636e-02,7.842e-02]\n",
            "x1             0.9605  3.391e-02     28.320 1.987e-176      [  0.894,  1.027]\n",
            "x2             3.9934  3.356e-02    119.009      0.000      [  3.928,  4.059]\n",
            "x3             9.9865  3.360e-02    297.261      0.000      [  9.921, 10.052]\n",
            "                            Volatility Model                            \n",
            "========================================================================\n",
            "                 coef    std err          t      P>|t|  95.0% Conf. Int.\n",
            "------------------------------------------------------------------------\n",
            "omega          0.1875  9.198e-03     20.384  2.296e-92 [  0.169,  0.206]\n",
            "alpha[1]       0.2146  3.762e-02      5.704  1.169e-08 [  0.141,  0.288]\n",
            "========================================================================\n",
            "\n",
            "Covariance estimator: robust\n",
            "                          AR-X - ARCH Model Results                           \n",
            "==============================================================================\n",
            "Dep. Variable:                   data   R-squared:                       0.983\n",
            "Mean Model:                      AR-X   Adj. R-squared:                  0.983\n",
            "Vol Model:                       ARCH   Log-Likelihood:               -1112.23\n",
            "Distribution:                  Normal   AIC:                           2236.46\n",
            "Method:            Maximum Likelihood   BIC:                           2268.34\n",
            "                                        No. Observations:                 1500\n",
            "Date:                Thu, Aug 24 2023   Df Residuals:                     1496\n",
            "Time:                        17:07:27   Df Model:                            4\n",
            "                                  Mean Model                                 \n",
            "=============================================================================\n",
            "                 coef    std err          t      P>|t|       95.0% Conf. Int.\n",
            "-----------------------------------------------------------------------------\n",
            "Const         -0.0116  2.822e-02     -0.411      0.681 [-6.690e-02,4.373e-02]\n",
            "x1             0.9654  3.865e-02     24.975 1.136e-137      [  0.890,  1.041]\n",
            "x2             4.0509  3.674e-02    110.256      0.000      [  3.979,  4.123]\n",
            "x3            10.0100  3.762e-02    266.077      0.000      [  9.936, 10.084]\n",
            "                             Volatility Model                             \n",
            "==========================================================================\n",
            "                 coef    std err          t      P>|t|    95.0% Conf. Int.\n",
            "--------------------------------------------------------------------------\n",
            "omega          0.2251  1.121e-02     20.075  1.231e-89   [  0.203,  0.247]\n",
            "alpha[1]       0.1423  3.683e-02      3.864  1.117e-04 [7.011e-02,  0.214]\n",
            "==========================================================================\n",
            "\n",
            "Covariance estimator: robust\n"
          ]
        },
        {
          "name": "stderr",
          "output_type": "stream",
          "text": [
            "  7%|▋         | 68/1000 [00:07<01:36,  9.70it/s]"
          ]
        },
        {
          "name": "stdout",
          "output_type": "stream",
          "text": [
            "                          AR-X - ARCH Model Results                           \n",
            "==============================================================================\n",
            "Dep. Variable:                   data   R-squared:                       0.983\n",
            "Mean Model:                      AR-X   Adj. R-squared:                  0.983\n",
            "Vol Model:                       ARCH   Log-Likelihood:               -1071.77\n",
            "Distribution:                  Normal   AIC:                           2155.54\n",
            "Method:            Maximum Likelihood   BIC:                           2187.42\n",
            "                                        No. Observations:                 1500\n",
            "Date:                Thu, Aug 24 2023   Df Residuals:                     1496\n",
            "Time:                        17:07:27   Df Model:                            4\n",
            "                                  Mean Model                                 \n",
            "=============================================================================\n",
            "                 coef    std err          t      P>|t|       95.0% Conf. Int.\n",
            "-----------------------------------------------------------------------------\n",
            "Const      3.9864e-05  2.355e-02  1.693e-03      0.999 [-4.611e-02,4.619e-02]\n",
            "x1             1.0015  3.426e-02     29.230 8.049e-188      [  0.934,  1.069]\n",
            "x2             4.0049  3.382e-02    118.417      0.000      [  3.939,  4.071]\n",
            "x3            10.0337  3.528e-02    284.430      0.000      [  9.965, 10.103]\n",
            "                            Volatility Model                            \n",
            "========================================================================\n",
            "                 coef    std err          t      P>|t|  95.0% Conf. Int.\n",
            "------------------------------------------------------------------------\n",
            "omega          0.1912  9.772e-03     19.565  3.088e-85 [  0.172,  0.210]\n",
            "alpha[1]       0.2564  4.119e-02      6.224  4.853e-10 [  0.176,  0.337]\n",
            "========================================================================\n",
            "\n",
            "Covariance estimator: robust\n"
          ]
        },
        {
          "name": "stderr",
          "output_type": "stream",
          "text": [
            "\n"
          ]
        },
        {
          "ename": "KeyboardInterrupt",
          "evalue": "ignored",
          "output_type": "error",
          "traceback": [
            "\u001b[0;31m---------------------------------------------------------------------------\u001b[0m",
            "\u001b[0;31mKeyboardInterrupt\u001b[0m                         Traceback (most recent call last)",
            "\u001b[0;32m<ipython-input-73-8ae5c92ebd6b>\u001b[0m in \u001b[0;36m<cell line: 14>\u001b[0;34m()\u001b[0m\n\u001b[1;32m     42\u001b[0m     \u001b[0;31m# plt.ylabel('Value')\u001b[0m\u001b[0;34m\u001b[0m\u001b[0;34m\u001b[0m\u001b[0m\n\u001b[1;32m     43\u001b[0m     \u001b[0;31m# plt.show()\u001b[0m\u001b[0;34m\u001b[0m\u001b[0;34m\u001b[0m\u001b[0m\n\u001b[0;32m---> 44\u001b[0;31m     \u001b[0mmodel\u001b[0m \u001b[0;34m=\u001b[0m \u001b[0march_model\u001b[0m\u001b[0;34m(\u001b[0m\u001b[0my\u001b[0m \u001b[0;34m=\u001b[0m \u001b[0msim_data\u001b[0m\u001b[0;34m[\u001b[0m\u001b[0;34m'data'\u001b[0m\u001b[0;34m]\u001b[0m\u001b[0;34m,\u001b[0m \u001b[0mx\u001b[0m \u001b[0;34m=\u001b[0m \u001b[0mexog\u001b[0m\u001b[0;34m,\u001b[0m \u001b[0mmean\u001b[0m\u001b[0;34m=\u001b[0m\u001b[0;34m'ARX'\u001b[0m\u001b[0;34m,\u001b[0m \u001b[0mlags\u001b[0m\u001b[0;34m=\u001b[0m\u001b[0;36m0\u001b[0m\u001b[0;34m,\u001b[0m \u001b[0mvol\u001b[0m\u001b[0;34m=\u001b[0m\u001b[0;34m'ARCH'\u001b[0m\u001b[0;34m,\u001b[0m \u001b[0mp\u001b[0m\u001b[0;34m=\u001b[0m\u001b[0;36m1\u001b[0m\u001b[0;34m)\u001b[0m\u001b[0;34m\u001b[0m\u001b[0;34m\u001b[0m\u001b[0m\n\u001b[0m\u001b[1;32m     45\u001b[0m     \u001b[0;31m#model = arch_model(sim_data['data'], lags=0, vol='ARCH', p=1)\u001b[0m\u001b[0;34m\u001b[0m\u001b[0;34m\u001b[0m\u001b[0m\n\u001b[1;32m     46\u001b[0m     \u001b[0mres\u001b[0m \u001b[0;34m=\u001b[0m \u001b[0mmodel\u001b[0m\u001b[0;34m.\u001b[0m\u001b[0mfit\u001b[0m\u001b[0;34m(\u001b[0m\u001b[0mdisp\u001b[0m\u001b[0;34m=\u001b[0m\u001b[0;34m\"off\"\u001b[0m\u001b[0;34m)\u001b[0m\u001b[0;34m\u001b[0m\u001b[0;34m\u001b[0m\u001b[0m\n",
            "\u001b[0;32m/usr/local/lib/python3.10/dist-packages/arch/univariate/mean.py\u001b[0m in \u001b[0;36march_model\u001b[0;34m(y, x, mean, lags, vol, p, o, q, power, dist, hold_back, rescale)\u001b[0m\n\u001b[1;32m   2017\u001b[0m         \u001b[0md\u001b[0m \u001b[0;34m=\u001b[0m \u001b[0mGeneralizedError\u001b[0m\u001b[0;34m(\u001b[0m\u001b[0;34m)\u001b[0m\u001b[0;34m\u001b[0m\u001b[0;34m\u001b[0m\u001b[0m\n\u001b[1;32m   2018\u001b[0m     \u001b[0;32melse\u001b[0m\u001b[0;34m:\u001b[0m  \u001b[0;31m# ('gaussian', 'normal')\u001b[0m\u001b[0;34m\u001b[0m\u001b[0;34m\u001b[0m\u001b[0m\n\u001b[0;32m-> 2019\u001b[0;31m         \u001b[0md\u001b[0m \u001b[0;34m=\u001b[0m \u001b[0mNormal\u001b[0m\u001b[0;34m(\u001b[0m\u001b[0;34m)\u001b[0m\u001b[0;34m\u001b[0m\u001b[0;34m\u001b[0m\u001b[0m\n\u001b[0m\u001b[1;32m   2020\u001b[0m \u001b[0;34m\u001b[0m\u001b[0m\n\u001b[1;32m   2021\u001b[0m     \u001b[0mam\u001b[0m\u001b[0;34m.\u001b[0m\u001b[0mvolatility\u001b[0m \u001b[0;34m=\u001b[0m \u001b[0mv\u001b[0m\u001b[0;34m\u001b[0m\u001b[0;34m\u001b[0m\u001b[0m\n",
            "\u001b[0;32m/usr/local/lib/python3.10/dist-packages/arch/univariate/distribution.py\u001b[0m in \u001b[0;36m__init__\u001b[0;34m(self, random_state, seed)\u001b[0m\n\u001b[1;32m    402\u001b[0m         \u001b[0mseed\u001b[0m\u001b[0;34m:\u001b[0m \u001b[0;32mNone\u001b[0m \u001b[0;34m|\u001b[0m \u001b[0mint\u001b[0m \u001b[0;34m|\u001b[0m \u001b[0mRandomState\u001b[0m \u001b[0;34m|\u001b[0m \u001b[0mGenerator\u001b[0m \u001b[0;34m=\u001b[0m \u001b[0;32mNone\u001b[0m\u001b[0;34m,\u001b[0m\u001b[0;34m\u001b[0m\u001b[0;34m\u001b[0m\u001b[0m\n\u001b[1;32m    403\u001b[0m     ) -> None:\n\u001b[0;32m--> 404\u001b[0;31m         \u001b[0msuper\u001b[0m\u001b[0;34m(\u001b[0m\u001b[0;34m)\u001b[0m\u001b[0;34m.\u001b[0m\u001b[0m__init__\u001b[0m\u001b[0;34m(\u001b[0m\u001b[0mrandom_state\u001b[0m\u001b[0;34m=\u001b[0m\u001b[0mrandom_state\u001b[0m\u001b[0;34m,\u001b[0m \u001b[0mseed\u001b[0m\u001b[0;34m=\u001b[0m\u001b[0mseed\u001b[0m\u001b[0;34m)\u001b[0m\u001b[0;34m\u001b[0m\u001b[0;34m\u001b[0m\u001b[0m\n\u001b[0m\u001b[1;32m    405\u001b[0m         \u001b[0mself\u001b[0m\u001b[0;34m.\u001b[0m\u001b[0m_name\u001b[0m \u001b[0;34m=\u001b[0m \u001b[0;34m\"Normal\"\u001b[0m\u001b[0;34m\u001b[0m\u001b[0;34m\u001b[0m\u001b[0m\n\u001b[1;32m    406\u001b[0m \u001b[0;34m\u001b[0m\u001b[0m\n",
            "\u001b[0;32m/usr/local/lib/python3.10/dist-packages/arch/univariate/distribution.py\u001b[0m in \u001b[0;36m__init__\u001b[0;34m(self, random_state, seed)\u001b[0m\n\u001b[1;32m     71\u001b[0m             \u001b[0m_seed\u001b[0m \u001b[0;34m=\u001b[0m \u001b[0mseed\u001b[0m\u001b[0;34m\u001b[0m\u001b[0;34m\u001b[0m\u001b[0m\n\u001b[1;32m     72\u001b[0m         \u001b[0;32mif\u001b[0m \u001b[0m_seed\u001b[0m \u001b[0;32mis\u001b[0m \u001b[0;32mNone\u001b[0m\u001b[0;34m:\u001b[0m\u001b[0;34m\u001b[0m\u001b[0;34m\u001b[0m\u001b[0m\n\u001b[0;32m---> 73\u001b[0;31m             \u001b[0mself\u001b[0m\u001b[0;34m.\u001b[0m\u001b[0m_generator\u001b[0m\u001b[0;34m:\u001b[0m \u001b[0mGenerator\u001b[0m \u001b[0;34m|\u001b[0m \u001b[0mRandomState\u001b[0m \u001b[0;34m=\u001b[0m \u001b[0mdefault_rng\u001b[0m\u001b[0;34m(\u001b[0m\u001b[0;34m)\u001b[0m\u001b[0;34m\u001b[0m\u001b[0;34m\u001b[0m\u001b[0m\n\u001b[0m\u001b[1;32m     74\u001b[0m         \u001b[0;32melif\u001b[0m \u001b[0misinstance\u001b[0m\u001b[0;34m(\u001b[0m\u001b[0m_seed\u001b[0m\u001b[0;34m,\u001b[0m \u001b[0;34m(\u001b[0m\u001b[0mint\u001b[0m\u001b[0;34m,\u001b[0m \u001b[0minteger\u001b[0m\u001b[0;34m)\u001b[0m\u001b[0;34m)\u001b[0m\u001b[0;34m:\u001b[0m\u001b[0;34m\u001b[0m\u001b[0;34m\u001b[0m\u001b[0m\n\u001b[1;32m     75\u001b[0m             \u001b[0mself\u001b[0m\u001b[0;34m.\u001b[0m\u001b[0m_generator\u001b[0m \u001b[0;34m=\u001b[0m \u001b[0mdefault_rng\u001b[0m\u001b[0;34m(\u001b[0m\u001b[0m_seed\u001b[0m\u001b[0;34m)\u001b[0m\u001b[0;34m\u001b[0m\u001b[0;34m\u001b[0m\u001b[0m\n",
            "\u001b[0;32m_generator.pyx\u001b[0m in \u001b[0;36mnumpy.random._generator.default_rng\u001b[0;34m()\u001b[0m\n",
            "\u001b[0;32m_pcg64.pyx\u001b[0m in \u001b[0;36mnumpy.random._pcg64.PCG64.__init__\u001b[0;34m()\u001b[0m\n",
            "\u001b[0;32mbit_generator.pyx\u001b[0m in \u001b[0;36mnumpy.random.bit_generator.BitGenerator.__init__\u001b[0;34m()\u001b[0m\n",
            "\u001b[0;32mbit_generator.pyx\u001b[0m in \u001b[0;36mnumpy.random.bit_generator.SeedSequence.__init__\u001b[0;34m()\u001b[0m\n",
            "\u001b[0;32mbit_generator.pyx\u001b[0m in \u001b[0;36mnumpy.random.bit_generator.SeedSequence.get_assembled_entropy\u001b[0;34m()\u001b[0m\n",
            "\u001b[0;32m/usr/local/lib/python3.10/dist-packages/numpy/core/overrides.py\u001b[0m in \u001b[0;36mconcatenate\u001b[0;34m(*args, **kwargs)\u001b[0m\n",
            "\u001b[0;31mKeyboardInterrupt\u001b[0m: "
          ]
        }
      ],
      "source": [
        "import numpy as np\n",
        "import matplotlib.pyplot as plt\n",
        "import statsmodels.api as sm\n",
        "\n",
        "import warnings\n",
        "warnings.filterwarnings('ignore')\n",
        "T = 1500\n",
        "params = np.array([0, 0.2, 0.2])\n",
        "# Monte Carlo setup\n",
        "n_simulations = 1000  # Number of Monte Carlo simulations\n",
        "\n",
        "\n",
        "sup_b_values = []\n",
        "for _ in tqdm(range(n_simulations)):\n",
        "    lambda_1 = 1\n",
        "    lambda_2 = 4\n",
        "    lambda_3 = 10\n",
        "    lambda_4 = 4\n",
        "    x1 = (np.arange(T)%4==0).astype(int)\n",
        "    #print(x1[0:10])\n",
        "    x2 = (np.arange(T)%4==1).astype(int)\n",
        "    x3 = (np.arange(T)%4==2).astype(int)\n",
        "    x4 = (np.arange(T)%4==3).astype(int)\n",
        "    exog = pd.DataFrame({\"x1\": x1,\"x2\": x2,\"x3\": x3})\n",
        "    # y = 3 + x1*lambda_1 + x2*lambda_2 + x3*lambda_3 + x4*lambda_4 + np.random.normal(0,1, T)\n",
        "    # model = LinearRegression()\n",
        "    # model.fit(exog,y)\n",
        "    # print(y)\n",
        "    # coef = model.coef_\n",
        "    # intercept = model.intercept_\n",
        "    # print(f\"Coefficients: {coef}\")\n",
        "    # print(f\"Intercept: {intercept}\")\n",
        "\n",
        "    sim_mod = arch_model(None, p=1, o=0, q=0, dist=\"normal\")\n",
        "    sim_data = sim_mod.simulate(params, nobs=T)\n",
        "    sim_data['data'] = sim_data['data']  + exog['x1']*lambda_1 +exog['x2']*lambda_2+ exog['x3']*lambda_3\n",
        "    #+ exog['x4']*lambda_4\n",
        "    # plt.figure(figsize=(15, 6))\n",
        "    # plt.plot(sim_data['data'])\n",
        "    # plt.title('Generated Time Series')\n",
        "    # plt.xlabel('Time')\n",
        "    # plt.ylabel('Value')\n",
        "    # plt.show()\n",
        "    model = arch_model(y = sim_data['data'], x = exog, mean='ARX', lags=0, vol='ARCH', p=1)\n",
        "    #model = arch_model(sim_data['data'], lags=0, vol='ARCH', p=1)\n",
        "    res = model.fit(disp=\"off\")\n",
        "    print(res)\n",
        "    residuals = np.array(res.resid)\n",
        "    mean_residual = np.mean(residuals)\n",
        "    average_corrected_residuals = residuals - mean_residual\n",
        "    average_corrected_residuals_cumsum = average_corrected_residuals.cumsum()\n",
        "    process = average_corrected_residuals_cumsum / np.std(residuals) / math.sqrt(T)\n",
        "    sup_b = np.abs(process).max()\n",
        "\n",
        "    sup_b_values.append(sup_b)\n",
        "\n",
        "supremums = np.array(sup_b_values)\n",
        "plt.hist(supremums, bins=50, density=True)\n",
        "plt.title(\"Distribution of Supremum of Brownian Bridge\")\n",
        "plt.xlabel(\"Supremum Value\")\n",
        "plt.ylabel(\"Density\")\n",
        "plt.show()\n",
        "sorted_supremums = np.sort(supremums)\n",
        "critical_95 = sorted_supremums[int(0.95 * len(sorted_supremums))]\n",
        "critical_99 = sorted_supremums[int(0.99 * len(sorted_supremums))]\n",
        "critical_90 = sorted_supremums[int(0.90 * len(sorted_supremums))]\n",
        "print(\"90 quantile:\", critical_90)\n",
        "print(\"95 quantile:\", critical_95)\n",
        "print(\"99 quantile:\", critical_99)\n",
        "\n",
        "\n",
        "\n",
        "\n",
        "# Generate lambda values for each period\n",
        "\n",
        "\n",
        "# Create seasonal dummies\n",
        "\n",
        "# Plotting the time series\n",
        "# plt.figure(figsize=(15, 6))\n",
        "# plt.plot(y)\n",
        "# plt.title('Generated Time Series')\n",
        "# plt.xlabel('Time')\n",
        "# plt.ylabel('Value')\n",
        "# plt.show()\n",
        "\n",
        "\n",
        "# X = np.column_stack((x1, x2, x3, x4))\n",
        "# #X = sm.add_constant(X)  # Adding a constant term to the model\n",
        "\n",
        "# # OLS regression\n",
        "# model = sm.OLS(y, X)\n",
        "# results = model.fit()\n",
        "\n",
        "# # Display the regression results\n",
        "# results.summary()"
      ]
    },
    {
      "cell_type": "markdown",
      "metadata": {
        "id": "kwsm2sBXJ2jU"
      },
      "source": []
    }
  ],
  "metadata": {
    "colab": {
      "provenance": [],
      "toc_visible": true
    },
    "kernelspec": {
      "display_name": "Python 3",
      "name": "python3"
    },
    "language_info": {
      "name": "python"
    }
  },
  "nbformat": 4,
  "nbformat_minor": 0
}